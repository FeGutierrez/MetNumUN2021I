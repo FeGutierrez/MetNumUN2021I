{
  "nbformat": 4,
  "nbformat_minor": 0,
  "metadata": {
    "colab": {
      "name": "Lab_9_pt1.ipynb",
      "provenance": [],
      "collapsed_sections": []
    },
    "kernelspec": {
      "name": "python3",
      "display_name": "Python 3"
    },
    "language_info": {
      "name": "python"
    }
  },
  "cells": [
    {
      "cell_type": "code",
      "metadata": {
        "id": "d_uXtbMnGUpa"
      },
      "source": [
        "import math\n",
        "import numpy as np\n",
        "\n",
        "def taylor_ln_x_plus_1(x, n):\n",
        "  res = 0\n",
        "  for i in range(n):\n",
        "    numerador = (-1)**i\n",
        "    denominador = i + 1\n",
        "    factor = x**(i+1)\n",
        "    expresion = (numerador*factor)/denominador\n",
        "    #print(expresion)    \n",
        "    res += expresion\n",
        "    #print(\"Valor en \", i ,\" \", expresion, \", Acumulado: \", res)\n",
        "  return res\n"
      ],
      "execution_count": null,
      "outputs": []
    },
    {
      "cell_type": "code",
      "metadata": {
        "colab": {
          "base_uri": "https://localhost:8080/"
        },
        "id": "e19TmRD1S3zb",
        "outputId": "1acb5c7b-e826-4b35-9274-06b339e146c3"
      },
      "source": [
        "for i in range(1,20):\n",
        "  aprox_taylor = taylor_ln_x_plus_1(-0.5, i)\n",
        "  func_ln = np.log(0.5)\n",
        "  error = func_ln - aprox_taylor\n",
        "  print(f'{i} terms: Taylor Series approx= {aprox_taylor}, Taylor calc= {func_ln}, error = {error}')"
      ],
      "execution_count": null,
      "outputs": [
        {
          "output_type": "stream",
          "text": [
            "1 terms: Taylor Series approx= -0.5, Taylor calc= -0.6931471805599453, error = -0.1931471805599453\n",
            "2 terms: Taylor Series approx= -0.625, Taylor calc= -0.6931471805599453, error = -0.06814718055994529\n",
            "3 terms: Taylor Series approx= -0.6666666666666666, Taylor calc= -0.6931471805599453, error = -0.026480513893278657\n",
            "4 terms: Taylor Series approx= -0.6822916666666666, Taylor calc= -0.6931471805599453, error = -0.010855513893278657\n",
            "5 terms: Taylor Series approx= -0.6885416666666666, Taylor calc= -0.6931471805599453, error = -0.004605513893278679\n",
            "6 terms: Taylor Series approx= -0.6911458333333332, Taylor calc= -0.6931471805599453, error = -0.002001347226612049\n",
            "7 terms: Taylor Series approx= -0.6922619047619046, Taylor calc= -0.6931471805599453, error = -0.0008852757980406523\n",
            "8 terms: Taylor Series approx= -0.6927501860119046, Taylor calc= -0.6931471805599453, error = -0.00039699454804065226\n",
            "9 terms: Taylor Series approx= -0.6929671999007935, Taylor calc= -0.6931471805599453, error = -0.00017998065915181272\n",
            "10 terms: Taylor Series approx= -0.6930648561507935, Taylor calc= -0.6931471805599453, error = -8.232440915179051e-05\n",
            "11 terms: Taylor Series approx= -0.6931092453553389, Taylor calc= -0.6931471805599453, error = -3.793520460637634e-05\n",
            "12 terms: Taylor Series approx= -0.6931295904074223, Taylor calc= -0.6931471805599453, error = -1.7590152523005997e-05\n",
            "13 terms: Taylor Series approx= -0.6931389804314607, Taylor calc= -0.6931471805599453, error = -8.20012848457008e-06\n",
            "14 terms: Taylor Series approx= -0.6931433400854786, Taylor calc= -0.6931471805599453, error = -3.840474466665356e-06\n",
            "15 terms: Taylor Series approx= -0.6931453745906869, Taylor calc= -0.6931471805599453, error = -1.8059692583616282e-06\n",
            "16 terms: Taylor Series approx= -0.6931463282650033, Taylor calc= -0.6931471805599453, error = -8.522949419553782e-07\n",
            "17 terms: Taylor Series approx= -0.6931467770529169, Taylor calc= -0.6931471805599453, error = -4.0350702834590635e-07\n",
            "18 terms: Taylor Series approx= -0.6931469889805428, Taylor calc= -0.6931471805599453, error = -1.9157940245317917e-07\n",
            "19 terms: Taylor Series approx= -0.693147089367313, Taylor calc= -0.6931471805599453, error = -9.119263233436925e-08\n"
          ],
          "name": "stdout"
        }
      ]
    },
    {
      "cell_type": "code",
      "metadata": {
        "id": "G2yQ6B_0b2wp"
      },
      "source": [
        "def taylor_sin_x(x, n):\n",
        "  res = 0;\n",
        "  \n",
        "  for i in range(n):\n",
        "    c = (2*i) + 1\n",
        "    numerador = (-1)**i\n",
        "    denominador = math.factorial( c ) \n",
        "    factor = x **( c )\n",
        "    expresion = (numerador*factor)/denominador\n",
        "    res += expresion\n",
        "  return res\n"
      ],
      "execution_count": null,
      "outputs": []
    },
    {
      "cell_type": "code",
      "metadata": {
        "colab": {
          "base_uri": "https://localhost:8080/"
        },
        "id": "A8n6CX0dhhR-",
        "outputId": "0ddafe4f-bc3e-4061-bdfe-315b12881d36"
      },
      "source": [
        "for i in range(1,50):\n",
        "  aprox_sin = taylor_sin_x(100, i)\n",
        "  func_sin = math.sin(100)\n",
        "  error = func_sin - aprox_sin\n",
        "  print(f'{i} terms: Sin Series approx= {aprox_sin}, Sin calc= {func_sin}, error = {error}')"
      ],
      "execution_count": null,
      "outputs": [
        {
          "output_type": "stream",
          "text": [
            "1 terms: Sin Series approx= 100.0, Sin calc= -0.5063656411097588, error = -100.50636564110975\n",
            "2 terms: Sin Series approx= -166566.66666666666, Sin calc= -0.5063656411097588, error = 166566.16030102555\n",
            "3 terms: Sin Series approx= 83166766.66666666, Sin calc= -0.5063656411097588, error = -83166767.1730323\n",
            "4 terms: Sin Series approx= -19758103074.603172, Sin calc= -0.5063656411097588, error = 19758103074.096806\n",
            "5 terms: Sin Series approx= 2735973819323.986, Sin calc= -0.5063656411097588, error = -2735973819324.492\n",
            "6 terms: Sin Series approx= -247785110035093.2, Sin calc= -0.5063656411097588, error = 247785110035092.7\n",
            "7 terms: Sin Series approx= 1.581125872678652e+16, Sin calc= -0.5063656411097588, error = -1.581125872678652e+16\n",
            "8 terms: Sin Series approx= -7.489051144551951e+17, Sin calc= -0.5063656411097588, error = 7.489051144551951e+17\n",
            "9 terms: Sin Series approx= 2.736566742900001e+19, Sin calc= -0.5063656411097588, error = -2.736566742900001e+19\n",
            "10 terms: Sin Series approx= -7.94697857233433e+20, Sin calc= -0.5063656411097588, error = 7.94697857233433e+20\n",
            "11 terms: Sin Series approx= 1.8778243206157827e+22, Sin calc= -0.5063656411097588, error = -1.8778243206157827e+22\n",
            "12 terms: Sin Series approx= -3.680387738569106e+23, Sin calc= -0.5063656411097588, error = 3.680387738569106e+23\n",
            "13 terms: Sin Series approx= 6.078911510527562e+24, Sin calc= -0.5063656411097588, error = -6.078911510527562e+24\n",
            "14 terms: Sin Series approx= -8.57579871274279e+25, Sin calc= -0.5063656411097588, error = 8.57579871274279e+25\n",
            "15 terms: Sin Series approx= 1.0452383015173438e+27, Sin calc= -0.5063656411097588, error = -1.0452383015173438e+27\n",
            "16 terms: Sin Series approx= -1.1116012114017837e+28, Sin calc= -0.5063656411097588, error = 1.1116012114017837e+28\n",
            "17 terms: Sin Series approx= 1.0404734409370167e+29, Sin calc= -0.5063656411097588, error = -1.0404734409370167e+29\n",
            "18 terms: Sin Series approx= -8.637119517694874e+29, Sin calc= -0.5063656411097588, error = 8.637119517694874e+29\n",
            "19 terms: Sin Series approx= 6.401748227383584e+30, Sin calc= -0.5063656411097588, error = -6.401748227383584e+30\n",
            "20 terms: Sin Series approx= -4.262294933775185e+31, Sin calc= -0.5063656411097588, error = 4.262294933775185e+31\n",
            "21 terms: Sin Series approx= 2.563081333764886e+32, Sin calc= -0.5063656411097588, error = -2.563081333764886e+32\n",
            "22 terms: Sin Series approx= -1.3989027343657065e+33, Sin calc= -0.5063656411097588, error = 1.3989027343657065e+33\n",
            "23 terms: Sin Series approx= 6.960748112817098e+33, Sin calc= -0.5063656411097588, error = -6.960748112817098e+33\n",
            "24 terms: Sin Series approx= -3.170553702678884e+34, Sin calc= -0.5063656411097588, error = 3.170553702678884e+34\n",
            "25 terms: Sin Series approx= 1.3269193380486906e+35, Sin calc= -0.5063656411097588, error = -1.3269193380486906e+35\n",
            "26 terms: Sin Series approx= -5.120040302408482e+35, Sin calc= -0.5063656411097588, error = 5.120040302408482e+35\n",
            "27 terms: Sin Series approx= 1.8272411223198095e+36, Sin calc= -0.5063656411097588, error = -1.8272411223198095e+36\n",
            "28 terms: Sin Series approx= -6.04900518259823e+36, Sin calc= -0.5063656411097588, error = 6.04900518259823e+36\n",
            "29 terms: Sin Series approx= 1.8625951913009663e+37, Sin calc= -0.5063656411097588, error = -1.8625951913009663e+37\n",
            "30 terms: Sin Series approx= -5.34808777059497e+37, Sin calc= -0.5063656411097588, error = 5.34808777059497e+37\n",
            "31 terms: Sin Series approx= 1.4353231797426712e+38, Sin calc= -0.5063656411097588, error = -1.4353231797426712e+38\n",
            "32 terms: Sin Series approx= -3.608537436750336e+38, Sin calc= -0.5063656411097588, error = 3.608537436750336e+38\n",
            "33 terms: Sin Series approx= 8.516127506742469e+38, Sin calc= -0.5063656411097588, error = -8.516127506742469e+38\n",
            "34 terms: Sin Series approx= -1.890283437361213e+39, Sin calc= -0.5063656411097588, error = 1.890283437361213e+39\n",
            "35 terms: Sin Series approx= 3.953485079338404e+39, Sin calc= -0.5063656411097588, error = -3.953485079338404e+39\n",
            "36 terms: Sin Series approx= -7.804600467340905e+39, Sin calc= -0.5063656411097588, error = 7.804600467340905e+39\n",
            "37 terms: Sin Series approx= 1.456618634140968e+40, Sin calc= -0.5063656411097588, error = -1.456618634140968e+40\n",
            "38 terms: Sin Series approx= -2.574153763832111e+40, Sin calc= -0.5063656411097588, error = 2.574153763832111e+40\n",
            "39 terms: Sin Series approx= 4.3137006414533964e+40, Sin calc= -0.5063656411097588, error = -4.3137006414533964e+40\n",
            "40 terms: Sin Series approx= -6.864251979912242e+40, Sin calc= -0.5063656411097588, error = 6.864251979912242e+40\n",
            "41 terms: Sin Series approx= 1.0385674904911276e+41, Sin calc= -0.5063656411097588, error = -1.0385674904911276e+41\n",
            "42 terms: Sin Series approx= -1.4959501240877025e+41, Sin calc= -0.5063656411097588, error = 1.4959501240877025e+41\n",
            "43 terms: Sin Series approx= 2.0537944341459535e+41, Sin calc= -0.5063656411097588, error = -2.0537944341459535e+41\n",
            "44 terms: Sin Series approx= -2.6905848203764414e+41, Sin calc= -0.5063656411097588, error = 2.6905848203764414e+41\n",
            "45 terms: Sin Series approx= 3.3671006424968918e+41, Sin calc= -0.5063656411097588, error = -3.3671006424968918e+41\n",
            "46 terms: Sin Series approx= -4.029340704112795e+41, Sin calc= -0.5063656411097588, error = 4.029340704112795e+41\n",
            "47 terms: Sin Series approx= 4.6154014027241454e+41, Sin calc= -0.5063656411097588, error = -4.6154014027241454e+41\n",
            "48 terms: Sin Series approx= -5.065160866970077e+41, Sin calc= -0.5063656411097588, error = 5.065160866970077e+41\n",
            "49 terms: Sin Series approx= 5.330631948423204e+41, Sin calc= -0.5063656411097588, error = -5.330631948423204e+41\n"
          ],
          "name": "stdout"
        }
      ]
    }
  ]
}