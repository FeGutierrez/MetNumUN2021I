{
  "nbformat": 4,
  "nbformat_minor": 0,
  "metadata": {
    "kernelspec": {
      "name": "python3",
      "display_name": "Python 3"
    },
    "colab": {
      "name": "fgutierrezflecture5.ipynb",
      "provenance": [],
      "collapsed_sections": []
    },
    "language_info": {
      "name": "python"
    }
  },
  "cells": [
    {
      "cell_type": "markdown",
      "metadata": {
        "id": "gfI-5SZeaCmz"
      },
      "source": [
        "# Graphical Representations of Data\n",
        "By Evgenia \"Jenny\" Nitishinskaya, Maxwell Margenot, and Delaney Granizo-Mackenzie.\n",
        "\n",
        "Part of the Quantopian Lecture Series:\n",
        "\n",
        "* [www.quantopian.com/lectures](https://www.quantopian.com/lectures)\n",
        "* [github.com/quantopian/research_public](https://github.com/quantopian/research_public)\n",
        "\n",
        "\n",
        "\n",
        "Representing data graphically can be incredibly useful for learning how the data behaves and seeing potential structure or flaws. Care should be taken, as humans are incredibly good at seeing only evidence that confirms our beliefs, and visual data lends itself well to that. Plots are good to use when formulating a hypothesis, but should not be used to test a hypothesis.\n",
        "\n",
        "We will go over some common plots here."
      ]
    },
    {
      "cell_type": "code",
      "metadata": {
        "collapsed": true,
        "id": "kfuJhiqCaCnD"
      },
      "source": [
        "# Import our libraries\n",
        "\n",
        "# This is for numerical processing\n",
        "import numpy as np\n",
        "import pandas_datareader as pdr\n",
        "import datetime \n",
        "# This is the library most commonly used for plotting in Python.\n",
        "# Notice how we import it 'as' plt, this enables us to type plt\n",
        "# rather than the full string every time.\n",
        "import matplotlib.pyplot as plt"
      ],
      "execution_count": 1,
      "outputs": []
    },
    {
      "cell_type": "markdown",
      "metadata": {
        "id": "6M2l5SwIaCnF"
      },
      "source": [
        "## Getting Some Data\n",
        "\n",
        "If we're going to plot data we need some data to plot. We'll get the pricing data of Apple (AAPL) and Microsoft (MSFT) to use in our examples.\n",
        "\n",
        "### Data Structure\n",
        "\n",
        "Knowing the structure of your data is very important. Normally you'll have to do a ton of work molding your data into the form you need for testing. Quantopian has done a lot of cleaning on the data, but you still need to put it into the right shapes and formats for your purposes.\n",
        "\n",
        "In this case the data will be returned as a pandas dataframe object. The rows are timestamps, and the columns are the two assets, AAPL and MSFT."
      ]
    },
    {
      "cell_type": "code",
      "metadata": {
        "colab": {
          "base_uri": "https://localhost:8080/",
          "height": 501
        },
        "id": "EOP0_dgxaCnG",
        "outputId": "abb8a262-5693-4456-d096-8628ceb6b820"
      },
      "source": [
        "prices = pdr.get_data_yahoo(['AAPL', 'MSFT'], start= datetime.datetime(2014,1,1), end= datetime.datetime(2015,1,1))\n",
        "prices"
      ],
      "execution_count": 2,
      "outputs": [
        {
          "output_type": "execute_result",
          "data": {
            "text/html": [
              "<div>\n",
              "<style scoped>\n",
              "    .dataframe tbody tr th:only-of-type {\n",
              "        vertical-align: middle;\n",
              "    }\n",
              "\n",
              "    .dataframe tbody tr th {\n",
              "        vertical-align: top;\n",
              "    }\n",
              "\n",
              "    .dataframe thead tr th {\n",
              "        text-align: left;\n",
              "    }\n",
              "\n",
              "    .dataframe thead tr:last-of-type th {\n",
              "        text-align: right;\n",
              "    }\n",
              "</style>\n",
              "<table border=\"1\" class=\"dataframe\">\n",
              "  <thead>\n",
              "    <tr>\n",
              "      <th>Attributes</th>\n",
              "      <th colspan=\"2\" halign=\"left\">Adj Close</th>\n",
              "      <th colspan=\"2\" halign=\"left\">Close</th>\n",
              "      <th colspan=\"2\" halign=\"left\">High</th>\n",
              "      <th colspan=\"2\" halign=\"left\">Low</th>\n",
              "      <th colspan=\"2\" halign=\"left\">Open</th>\n",
              "      <th colspan=\"2\" halign=\"left\">Volume</th>\n",
              "    </tr>\n",
              "    <tr>\n",
              "      <th>Symbols</th>\n",
              "      <th>AAPL</th>\n",
              "      <th>MSFT</th>\n",
              "      <th>AAPL</th>\n",
              "      <th>MSFT</th>\n",
              "      <th>AAPL</th>\n",
              "      <th>MSFT</th>\n",
              "      <th>AAPL</th>\n",
              "      <th>MSFT</th>\n",
              "      <th>AAPL</th>\n",
              "      <th>MSFT</th>\n",
              "      <th>AAPL</th>\n",
              "      <th>MSFT</th>\n",
              "    </tr>\n",
              "    <tr>\n",
              "      <th>Date</th>\n",
              "      <th></th>\n",
              "      <th></th>\n",
              "      <th></th>\n",
              "      <th></th>\n",
              "      <th></th>\n",
              "      <th></th>\n",
              "      <th></th>\n",
              "      <th></th>\n",
              "      <th></th>\n",
              "      <th></th>\n",
              "      <th></th>\n",
              "      <th></th>\n",
              "    </tr>\n",
              "  </thead>\n",
              "  <tbody>\n",
              "    <tr>\n",
              "      <th>2014-01-02</th>\n",
              "      <td>17.598297</td>\n",
              "      <td>32.057323</td>\n",
              "      <td>19.754642</td>\n",
              "      <td>37.160000</td>\n",
              "      <td>19.893929</td>\n",
              "      <td>37.400002</td>\n",
              "      <td>19.715000</td>\n",
              "      <td>37.099998</td>\n",
              "      <td>19.845715</td>\n",
              "      <td>37.349998</td>\n",
              "      <td>234684800.0</td>\n",
              "      <td>30632200.0</td>\n",
              "    </tr>\n",
              "    <tr>\n",
              "      <th>2014-01-03</th>\n",
              "      <td>17.211735</td>\n",
              "      <td>31.841665</td>\n",
              "      <td>19.320715</td>\n",
              "      <td>36.910000</td>\n",
              "      <td>19.775000</td>\n",
              "      <td>37.220001</td>\n",
              "      <td>19.301071</td>\n",
              "      <td>36.599998</td>\n",
              "      <td>19.745001</td>\n",
              "      <td>37.200001</td>\n",
              "      <td>392467600.0</td>\n",
              "      <td>31134800.0</td>\n",
              "    </tr>\n",
              "    <tr>\n",
              "      <th>2014-01-06</th>\n",
              "      <td>17.305593</td>\n",
              "      <td>31.168766</td>\n",
              "      <td>19.426071</td>\n",
              "      <td>36.130001</td>\n",
              "      <td>19.528570</td>\n",
              "      <td>36.889999</td>\n",
              "      <td>19.057142</td>\n",
              "      <td>36.110001</td>\n",
              "      <td>19.194643</td>\n",
              "      <td>36.849998</td>\n",
              "      <td>412610800.0</td>\n",
              "      <td>43603700.0</td>\n",
              "    </tr>\n",
              "    <tr>\n",
              "      <th>2014-01-07</th>\n",
              "      <td>17.181829</td>\n",
              "      <td>31.410315</td>\n",
              "      <td>19.287144</td>\n",
              "      <td>36.410000</td>\n",
              "      <td>19.498571</td>\n",
              "      <td>36.490002</td>\n",
              "      <td>19.211430</td>\n",
              "      <td>36.209999</td>\n",
              "      <td>19.440001</td>\n",
              "      <td>36.330002</td>\n",
              "      <td>317209200.0</td>\n",
              "      <td>35802800.0</td>\n",
              "    </tr>\n",
              "    <tr>\n",
              "      <th>2014-01-08</th>\n",
              "      <td>17.290642</td>\n",
              "      <td>30.849575</td>\n",
              "      <td>19.409286</td>\n",
              "      <td>35.759998</td>\n",
              "      <td>19.484285</td>\n",
              "      <td>36.139999</td>\n",
              "      <td>19.238930</td>\n",
              "      <td>35.580002</td>\n",
              "      <td>19.243214</td>\n",
              "      <td>36.000000</td>\n",
              "      <td>258529600.0</td>\n",
              "      <td>59971700.0</td>\n",
              "    </tr>\n",
              "    <tr>\n",
              "      <th>...</th>\n",
              "      <td>...</td>\n",
              "      <td>...</td>\n",
              "      <td>...</td>\n",
              "      <td>...</td>\n",
              "      <td>...</td>\n",
              "      <td>...</td>\n",
              "      <td>...</td>\n",
              "      <td>...</td>\n",
              "      <td>...</td>\n",
              "      <td>...</td>\n",
              "      <td>...</td>\n",
              "      <td>...</td>\n",
              "    </tr>\n",
              "    <tr>\n",
              "      <th>2014-12-24</th>\n",
              "      <td>25.470825</td>\n",
              "      <td>42.666790</td>\n",
              "      <td>28.002501</td>\n",
              "      <td>48.139999</td>\n",
              "      <td>28.177500</td>\n",
              "      <td>48.639999</td>\n",
              "      <td>28.002501</td>\n",
              "      <td>48.080002</td>\n",
              "      <td>28.145000</td>\n",
              "      <td>48.639999</td>\n",
              "      <td>57918400.0</td>\n",
              "      <td>11437800.0</td>\n",
              "    </tr>\n",
              "    <tr>\n",
              "      <th>2014-12-26</th>\n",
              "      <td>25.921066</td>\n",
              "      <td>42.436348</td>\n",
              "      <td>28.497499</td>\n",
              "      <td>47.880001</td>\n",
              "      <td>28.629999</td>\n",
              "      <td>48.410000</td>\n",
              "      <td>28.002501</td>\n",
              "      <td>47.820000</td>\n",
              "      <td>28.025000</td>\n",
              "      <td>48.410000</td>\n",
              "      <td>134884000.0</td>\n",
              "      <td>13197800.0</td>\n",
              "    </tr>\n",
              "    <tr>\n",
              "      <th>2014-12-29</th>\n",
              "      <td>25.902882</td>\n",
              "      <td>42.055241</td>\n",
              "      <td>28.477501</td>\n",
              "      <td>47.450001</td>\n",
              "      <td>28.692499</td>\n",
              "      <td>47.779999</td>\n",
              "      <td>28.424999</td>\n",
              "      <td>47.259998</td>\n",
              "      <td>28.447500</td>\n",
              "      <td>47.700001</td>\n",
              "      <td>110395600.0</td>\n",
              "      <td>14439500.0</td>\n",
              "    </tr>\n",
              "    <tr>\n",
              "      <th>2014-12-30</th>\n",
              "      <td>25.586800</td>\n",
              "      <td>41.674126</td>\n",
              "      <td>28.129999</td>\n",
              "      <td>47.020000</td>\n",
              "      <td>28.480000</td>\n",
              "      <td>47.619999</td>\n",
              "      <td>28.027500</td>\n",
              "      <td>46.840000</td>\n",
              "      <td>28.410000</td>\n",
              "      <td>47.439999</td>\n",
              "      <td>119526000.0</td>\n",
              "      <td>16384700.0</td>\n",
              "    </tr>\n",
              "    <tr>\n",
              "      <th>2014-12-31</th>\n",
              "      <td>25.100164</td>\n",
              "      <td>41.168922</td>\n",
              "      <td>27.594999</td>\n",
              "      <td>46.450001</td>\n",
              "      <td>28.282499</td>\n",
              "      <td>47.439999</td>\n",
              "      <td>27.552500</td>\n",
              "      <td>46.450001</td>\n",
              "      <td>28.205000</td>\n",
              "      <td>46.730000</td>\n",
              "      <td>165613600.0</td>\n",
              "      <td>21552500.0</td>\n",
              "    </tr>\n",
              "  </tbody>\n",
              "</table>\n",
              "<p>252 rows × 12 columns</p>\n",
              "</div>"
            ],
            "text/plain": [
              "Attributes  Adj Close                 Close  ...       Open       Volume            \n",
              "Symbols          AAPL       MSFT       AAPL  ...       MSFT         AAPL        MSFT\n",
              "Date                                         ...                                    \n",
              "2014-01-02  17.598297  32.057323  19.754642  ...  37.349998  234684800.0  30632200.0\n",
              "2014-01-03  17.211735  31.841665  19.320715  ...  37.200001  392467600.0  31134800.0\n",
              "2014-01-06  17.305593  31.168766  19.426071  ...  36.849998  412610800.0  43603700.0\n",
              "2014-01-07  17.181829  31.410315  19.287144  ...  36.330002  317209200.0  35802800.0\n",
              "2014-01-08  17.290642  30.849575  19.409286  ...  36.000000  258529600.0  59971700.0\n",
              "...               ...        ...        ...  ...        ...          ...         ...\n",
              "2014-12-24  25.470825  42.666790  28.002501  ...  48.639999   57918400.0  11437800.0\n",
              "2014-12-26  25.921066  42.436348  28.497499  ...  48.410000  134884000.0  13197800.0\n",
              "2014-12-29  25.902882  42.055241  28.477501  ...  47.700001  110395600.0  14439500.0\n",
              "2014-12-30  25.586800  41.674126  28.129999  ...  47.439999  119526000.0  16384700.0\n",
              "2014-12-31  25.100164  41.168922  27.594999  ...  46.730000  165613600.0  21552500.0\n",
              "\n",
              "[252 rows x 12 columns]"
            ]
          },
          "metadata": {
            "tags": []
          },
          "execution_count": 2
        }
      ]
    },
    {
      "cell_type": "code",
      "metadata": {
        "colab": {
          "base_uri": "https://localhost:8080/",
          "height": 569
        },
        "id": "AzCVl49TdKrK",
        "outputId": "93738bd9-a8bd-4189-cc2c-775e908691ad"
      },
      "source": [
        "prices2 = pdr.get_data_yahoo([\"CMG\", \"MCD\", \"SHAK\", \"WFM\"], start= datetime.datetime(2014,1,1), end= datetime.datetime(2015,1,1))\n",
        "prices2"
      ],
      "execution_count": 3,
      "outputs": [
        {
          "output_type": "stream",
          "text": [
            "/usr/local/lib/python3.7/dist-packages/pandas_datareader/base.py:272: SymbolWarning: Failed to read symbol: 'SHAK', replacing with NaN.\n",
            "  warnings.warn(msg.format(sym), SymbolWarning)\n",
            "/usr/local/lib/python3.7/dist-packages/pandas_datareader/base.py:272: SymbolWarning: Failed to read symbol: 'WFM', replacing with NaN.\n",
            "  warnings.warn(msg.format(sym), SymbolWarning)\n"
          ],
          "name": "stderr"
        },
        {
          "output_type": "execute_result",
          "data": {
            "text/html": [
              "<div>\n",
              "<style scoped>\n",
              "    .dataframe tbody tr th:only-of-type {\n",
              "        vertical-align: middle;\n",
              "    }\n",
              "\n",
              "    .dataframe tbody tr th {\n",
              "        vertical-align: top;\n",
              "    }\n",
              "\n",
              "    .dataframe thead tr th {\n",
              "        text-align: left;\n",
              "    }\n",
              "\n",
              "    .dataframe thead tr:last-of-type th {\n",
              "        text-align: right;\n",
              "    }\n",
              "</style>\n",
              "<table border=\"1\" class=\"dataframe\">\n",
              "  <thead>\n",
              "    <tr>\n",
              "      <th>Attributes</th>\n",
              "      <th colspan=\"4\" halign=\"left\">Adj Close</th>\n",
              "      <th colspan=\"4\" halign=\"left\">Close</th>\n",
              "      <th colspan=\"4\" halign=\"left\">High</th>\n",
              "      <th colspan=\"4\" halign=\"left\">Low</th>\n",
              "      <th colspan=\"4\" halign=\"left\">Open</th>\n",
              "      <th colspan=\"4\" halign=\"left\">Volume</th>\n",
              "    </tr>\n",
              "    <tr>\n",
              "      <th>Symbols</th>\n",
              "      <th>CMG</th>\n",
              "      <th>MCD</th>\n",
              "      <th>SHAK</th>\n",
              "      <th>WFM</th>\n",
              "      <th>CMG</th>\n",
              "      <th>MCD</th>\n",
              "      <th>SHAK</th>\n",
              "      <th>WFM</th>\n",
              "      <th>CMG</th>\n",
              "      <th>MCD</th>\n",
              "      <th>SHAK</th>\n",
              "      <th>WFM</th>\n",
              "      <th>CMG</th>\n",
              "      <th>MCD</th>\n",
              "      <th>SHAK</th>\n",
              "      <th>WFM</th>\n",
              "      <th>CMG</th>\n",
              "      <th>MCD</th>\n",
              "      <th>SHAK</th>\n",
              "      <th>WFM</th>\n",
              "      <th>CMG</th>\n",
              "      <th>MCD</th>\n",
              "      <th>SHAK</th>\n",
              "      <th>WFM</th>\n",
              "    </tr>\n",
              "    <tr>\n",
              "      <th>Date</th>\n",
              "      <th></th>\n",
              "      <th></th>\n",
              "      <th></th>\n",
              "      <th></th>\n",
              "      <th></th>\n",
              "      <th></th>\n",
              "      <th></th>\n",
              "      <th></th>\n",
              "      <th></th>\n",
              "      <th></th>\n",
              "      <th></th>\n",
              "      <th></th>\n",
              "      <th></th>\n",
              "      <th></th>\n",
              "      <th></th>\n",
              "      <th></th>\n",
              "      <th></th>\n",
              "      <th></th>\n",
              "      <th></th>\n",
              "      <th></th>\n",
              "      <th></th>\n",
              "      <th></th>\n",
              "      <th></th>\n",
              "      <th></th>\n",
              "    </tr>\n",
              "  </thead>\n",
              "  <tbody>\n",
              "    <tr>\n",
              "      <th>2014-01-02</th>\n",
              "      <td>523.429993</td>\n",
              "      <td>78.679359</td>\n",
              "      <td>NaN</td>\n",
              "      <td>NaN</td>\n",
              "      <td>523.429993</td>\n",
              "      <td>96.410004</td>\n",
              "      <td>NaN</td>\n",
              "      <td>NaN</td>\n",
              "      <td>532.960022</td>\n",
              "      <td>97.029999</td>\n",
              "      <td>NaN</td>\n",
              "      <td>NaN</td>\n",
              "      <td>521.530029</td>\n",
              "      <td>96.260002</td>\n",
              "      <td>NaN</td>\n",
              "      <td>NaN</td>\n",
              "      <td>530.000000</td>\n",
              "      <td>96.809998</td>\n",
              "      <td>NaN</td>\n",
              "      <td>NaN</td>\n",
              "      <td>456500.0</td>\n",
              "      <td>2925800.0</td>\n",
              "      <td>NaN</td>\n",
              "      <td>NaN</td>\n",
              "    </tr>\n",
              "    <tr>\n",
              "      <th>2014-01-03</th>\n",
              "      <td>531.309998</td>\n",
              "      <td>78.785431</td>\n",
              "      <td>NaN</td>\n",
              "      <td>NaN</td>\n",
              "      <td>531.309998</td>\n",
              "      <td>96.540001</td>\n",
              "      <td>NaN</td>\n",
              "      <td>NaN</td>\n",
              "      <td>534.010010</td>\n",
              "      <td>97.029999</td>\n",
              "      <td>NaN</td>\n",
              "      <td>NaN</td>\n",
              "      <td>523.479980</td>\n",
              "      <td>96.500000</td>\n",
              "      <td>NaN</td>\n",
              "      <td>NaN</td>\n",
              "      <td>524.000000</td>\n",
              "      <td>96.900002</td>\n",
              "      <td>NaN</td>\n",
              "      <td>NaN</td>\n",
              "      <td>409100.0</td>\n",
              "      <td>2965300.0</td>\n",
              "      <td>NaN</td>\n",
              "      <td>NaN</td>\n",
              "    </tr>\n",
              "    <tr>\n",
              "      <th>2014-01-06</th>\n",
              "      <td>527.320007</td>\n",
              "      <td>78.222336</td>\n",
              "      <td>NaN</td>\n",
              "      <td>NaN</td>\n",
              "      <td>527.320007</td>\n",
              "      <td>95.849998</td>\n",
              "      <td>NaN</td>\n",
              "      <td>NaN</td>\n",
              "      <td>534.719971</td>\n",
              "      <td>96.620003</td>\n",
              "      <td>NaN</td>\n",
              "      <td>NaN</td>\n",
              "      <td>523.080017</td>\n",
              "      <td>95.519997</td>\n",
              "      <td>NaN</td>\n",
              "      <td>NaN</td>\n",
              "      <td>534.719971</td>\n",
              "      <td>96.620003</td>\n",
              "      <td>NaN</td>\n",
              "      <td>NaN</td>\n",
              "      <td>415100.0</td>\n",
              "      <td>5022700.0</td>\n",
              "      <td>NaN</td>\n",
              "      <td>NaN</td>\n",
              "    </tr>\n",
              "    <tr>\n",
              "      <th>2014-01-07</th>\n",
              "      <td>533.059998</td>\n",
              "      <td>78.654839</td>\n",
              "      <td>NaN</td>\n",
              "      <td>NaN</td>\n",
              "      <td>533.059998</td>\n",
              "      <td>96.379997</td>\n",
              "      <td>NaN</td>\n",
              "      <td>NaN</td>\n",
              "      <td>535.700012</td>\n",
              "      <td>97.080002</td>\n",
              "      <td>NaN</td>\n",
              "      <td>NaN</td>\n",
              "      <td>526.369995</td>\n",
              "      <td>96.129997</td>\n",
              "      <td>NaN</td>\n",
              "      <td>NaN</td>\n",
              "      <td>528.799988</td>\n",
              "      <td>96.379997</td>\n",
              "      <td>NaN</td>\n",
              "      <td>NaN</td>\n",
              "      <td>308800.0</td>\n",
              "      <td>4881800.0</td>\n",
              "      <td>NaN</td>\n",
              "      <td>NaN</td>\n",
              "    </tr>\n",
              "    <tr>\n",
              "      <th>2014-01-08</th>\n",
              "      <td>535.849976</td>\n",
              "      <td>77.863258</td>\n",
              "      <td>NaN</td>\n",
              "      <td>NaN</td>\n",
              "      <td>535.849976</td>\n",
              "      <td>95.410004</td>\n",
              "      <td>NaN</td>\n",
              "      <td>NaN</td>\n",
              "      <td>536.190002</td>\n",
              "      <td>95.709999</td>\n",
              "      <td>NaN</td>\n",
              "      <td>NaN</td>\n",
              "      <td>528.090027</td>\n",
              "      <td>95.000000</td>\n",
              "      <td>NaN</td>\n",
              "      <td>NaN</td>\n",
              "      <td>529.500000</td>\n",
              "      <td>95.550003</td>\n",
              "      <td>NaN</td>\n",
              "      <td>NaN</td>\n",
              "      <td>411300.0</td>\n",
              "      <td>7669800.0</td>\n",
              "      <td>NaN</td>\n",
              "      <td>NaN</td>\n",
              "    </tr>\n",
              "    <tr>\n",
              "      <th>...</th>\n",
              "      <td>...</td>\n",
              "      <td>...</td>\n",
              "      <td>...</td>\n",
              "      <td>...</td>\n",
              "      <td>...</td>\n",
              "      <td>...</td>\n",
              "      <td>...</td>\n",
              "      <td>...</td>\n",
              "      <td>...</td>\n",
              "      <td>...</td>\n",
              "      <td>...</td>\n",
              "      <td>...</td>\n",
              "      <td>...</td>\n",
              "      <td>...</td>\n",
              "      <td>...</td>\n",
              "      <td>...</td>\n",
              "      <td>...</td>\n",
              "      <td>...</td>\n",
              "      <td>...</td>\n",
              "      <td>...</td>\n",
              "      <td>...</td>\n",
              "      <td>...</td>\n",
              "      <td>...</td>\n",
              "      <td>...</td>\n",
              "    </tr>\n",
              "    <tr>\n",
              "      <th>2014-12-24</th>\n",
              "      <td>672.789978</td>\n",
              "      <td>79.214790</td>\n",
              "      <td>NaN</td>\n",
              "      <td>NaN</td>\n",
              "      <td>672.789978</td>\n",
              "      <td>93.830002</td>\n",
              "      <td>NaN</td>\n",
              "      <td>NaN</td>\n",
              "      <td>676.679993</td>\n",
              "      <td>94.540001</td>\n",
              "      <td>NaN</td>\n",
              "      <td>NaN</td>\n",
              "      <td>667.799988</td>\n",
              "      <td>93.739998</td>\n",
              "      <td>NaN</td>\n",
              "      <td>NaN</td>\n",
              "      <td>668.530029</td>\n",
              "      <td>94.220001</td>\n",
              "      <td>NaN</td>\n",
              "      <td>NaN</td>\n",
              "      <td>136900.0</td>\n",
              "      <td>1729700.0</td>\n",
              "      <td>NaN</td>\n",
              "      <td>NaN</td>\n",
              "    </tr>\n",
              "    <tr>\n",
              "      <th>2014-12-26</th>\n",
              "      <td>678.059998</td>\n",
              "      <td>80.016808</td>\n",
              "      <td>NaN</td>\n",
              "      <td>NaN</td>\n",
              "      <td>678.059998</td>\n",
              "      <td>94.779999</td>\n",
              "      <td>NaN</td>\n",
              "      <td>NaN</td>\n",
              "      <td>679.750000</td>\n",
              "      <td>94.930000</td>\n",
              "      <td>NaN</td>\n",
              "      <td>NaN</td>\n",
              "      <td>672.320007</td>\n",
              "      <td>93.949997</td>\n",
              "      <td>NaN</td>\n",
              "      <td>NaN</td>\n",
              "      <td>672.760010</td>\n",
              "      <td>94.099998</td>\n",
              "      <td>NaN</td>\n",
              "      <td>NaN</td>\n",
              "      <td>212000.0</td>\n",
              "      <td>3884300.0</td>\n",
              "      <td>NaN</td>\n",
              "      <td>NaN</td>\n",
              "    </tr>\n",
              "    <tr>\n",
              "      <th>2014-12-29</th>\n",
              "      <td>692.690002</td>\n",
              "      <td>80.236298</td>\n",
              "      <td>NaN</td>\n",
              "      <td>NaN</td>\n",
              "      <td>692.690002</td>\n",
              "      <td>95.040001</td>\n",
              "      <td>NaN</td>\n",
              "      <td>NaN</td>\n",
              "      <td>696.559998</td>\n",
              "      <td>95.459999</td>\n",
              "      <td>NaN</td>\n",
              "      <td>NaN</td>\n",
              "      <td>675.500000</td>\n",
              "      <td>94.269997</td>\n",
              "      <td>NaN</td>\n",
              "      <td>NaN</td>\n",
              "      <td>675.750000</td>\n",
              "      <td>94.320000</td>\n",
              "      <td>NaN</td>\n",
              "      <td>NaN</td>\n",
              "      <td>504300.0</td>\n",
              "      <td>4183200.0</td>\n",
              "      <td>NaN</td>\n",
              "      <td>NaN</td>\n",
              "    </tr>\n",
              "    <tr>\n",
              "      <th>2014-12-30</th>\n",
              "      <td>684.909973</td>\n",
              "      <td>79.569344</td>\n",
              "      <td>NaN</td>\n",
              "      <td>NaN</td>\n",
              "      <td>684.909973</td>\n",
              "      <td>94.250000</td>\n",
              "      <td>NaN</td>\n",
              "      <td>NaN</td>\n",
              "      <td>693.000000</td>\n",
              "      <td>95.000000</td>\n",
              "      <td>NaN</td>\n",
              "      <td>NaN</td>\n",
              "      <td>680.419983</td>\n",
              "      <td>94.070000</td>\n",
              "      <td>NaN</td>\n",
              "      <td>NaN</td>\n",
              "      <td>691.349976</td>\n",
              "      <td>94.849998</td>\n",
              "      <td>NaN</td>\n",
              "      <td>NaN</td>\n",
              "      <td>268900.0</td>\n",
              "      <td>3257700.0</td>\n",
              "      <td>NaN</td>\n",
              "      <td>NaN</td>\n",
              "    </tr>\n",
              "    <tr>\n",
              "      <th>2014-12-31</th>\n",
              "      <td>684.510010</td>\n",
              "      <td>79.105019</td>\n",
              "      <td>NaN</td>\n",
              "      <td>NaN</td>\n",
              "      <td>684.510010</td>\n",
              "      <td>93.699997</td>\n",
              "      <td>NaN</td>\n",
              "      <td>NaN</td>\n",
              "      <td>693.960022</td>\n",
              "      <td>94.800003</td>\n",
              "      <td>NaN</td>\n",
              "      <td>NaN</td>\n",
              "      <td>683.429993</td>\n",
              "      <td>93.570000</td>\n",
              "      <td>NaN</td>\n",
              "      <td>NaN</td>\n",
              "      <td>685.549988</td>\n",
              "      <td>93.750000</td>\n",
              "      <td>NaN</td>\n",
              "      <td>NaN</td>\n",
              "      <td>302500.0</td>\n",
              "      <td>4589300.0</td>\n",
              "      <td>NaN</td>\n",
              "      <td>NaN</td>\n",
              "    </tr>\n",
              "  </tbody>\n",
              "</table>\n",
              "<p>252 rows × 24 columns</p>\n",
              "</div>"
            ],
            "text/plain": [
              "Attributes   Adj Close                      ...    Volume                    \n",
              "Symbols            CMG        MCD SHAK WFM  ...       CMG        MCD SHAK WFM\n",
              "Date                                        ...                              \n",
              "2014-01-02  523.429993  78.679359  NaN NaN  ...  456500.0  2925800.0  NaN NaN\n",
              "2014-01-03  531.309998  78.785431  NaN NaN  ...  409100.0  2965300.0  NaN NaN\n",
              "2014-01-06  527.320007  78.222336  NaN NaN  ...  415100.0  5022700.0  NaN NaN\n",
              "2014-01-07  533.059998  78.654839  NaN NaN  ...  308800.0  4881800.0  NaN NaN\n",
              "2014-01-08  535.849976  77.863258  NaN NaN  ...  411300.0  7669800.0  NaN NaN\n",
              "...                ...        ...  ...  ..  ...       ...        ...  ...  ..\n",
              "2014-12-24  672.789978  79.214790  NaN NaN  ...  136900.0  1729700.0  NaN NaN\n",
              "2014-12-26  678.059998  80.016808  NaN NaN  ...  212000.0  3884300.0  NaN NaN\n",
              "2014-12-29  692.690002  80.236298  NaN NaN  ...  504300.0  4183200.0  NaN NaN\n",
              "2014-12-30  684.909973  79.569344  NaN NaN  ...  268900.0  3257700.0  NaN NaN\n",
              "2014-12-31  684.510010  79.105019  NaN NaN  ...  302500.0  4589300.0  NaN NaN\n",
              "\n",
              "[252 rows x 24 columns]"
            ]
          },
          "metadata": {
            "tags": []
          },
          "execution_count": 3
        }
      ]
    },
    {
      "cell_type": "markdown",
      "metadata": {
        "id": "27npWSFBaCnI"
      },
      "source": [
        "Indexing into the data with `data['AAPL']` will yield an error because the type of the columns are equity objects and not simple strings. Let's change that using this little piece of Python code. Don't worry about understanding it right now, unless you do, in which case congratulations."
      ]
    },
    {
      "cell_type": "code",
      "metadata": {
        "colab": {
          "base_uri": "https://localhost:8080/",
          "height": 340
        },
        "id": "Qz7qkekJaCnK",
        "outputId": "56d48521-ff12-4815-e92f-fb87e1b90636"
      },
      "source": [
        "prices.columns = [e[1] for e in prices.columns]\n",
        "prices.head()\n",
        "#for e in prices.columns:\n",
        "#  print(e[0])"
      ],
      "execution_count": 4,
      "outputs": [
        {
          "output_type": "execute_result",
          "data": {
            "text/html": [
              "<div>\n",
              "<style scoped>\n",
              "    .dataframe tbody tr th:only-of-type {\n",
              "        vertical-align: middle;\n",
              "    }\n",
              "\n",
              "    .dataframe tbody tr th {\n",
              "        vertical-align: top;\n",
              "    }\n",
              "\n",
              "    .dataframe thead th {\n",
              "        text-align: right;\n",
              "    }\n",
              "</style>\n",
              "<table border=\"1\" class=\"dataframe\">\n",
              "  <thead>\n",
              "    <tr style=\"text-align: right;\">\n",
              "      <th></th>\n",
              "      <th>AAPL</th>\n",
              "      <th>MSFT</th>\n",
              "      <th>AAPL</th>\n",
              "      <th>MSFT</th>\n",
              "      <th>AAPL</th>\n",
              "      <th>MSFT</th>\n",
              "      <th>AAPL</th>\n",
              "      <th>MSFT</th>\n",
              "      <th>AAPL</th>\n",
              "      <th>MSFT</th>\n",
              "      <th>AAPL</th>\n",
              "      <th>MSFT</th>\n",
              "    </tr>\n",
              "    <tr>\n",
              "      <th>Date</th>\n",
              "      <th></th>\n",
              "      <th></th>\n",
              "      <th></th>\n",
              "      <th></th>\n",
              "      <th></th>\n",
              "      <th></th>\n",
              "      <th></th>\n",
              "      <th></th>\n",
              "      <th></th>\n",
              "      <th></th>\n",
              "      <th></th>\n",
              "      <th></th>\n",
              "    </tr>\n",
              "  </thead>\n",
              "  <tbody>\n",
              "    <tr>\n",
              "      <th>2014-01-02</th>\n",
              "      <td>17.598297</td>\n",
              "      <td>32.057323</td>\n",
              "      <td>19.754642</td>\n",
              "      <td>37.160000</td>\n",
              "      <td>19.893929</td>\n",
              "      <td>37.400002</td>\n",
              "      <td>19.715000</td>\n",
              "      <td>37.099998</td>\n",
              "      <td>19.845715</td>\n",
              "      <td>37.349998</td>\n",
              "      <td>234684800.0</td>\n",
              "      <td>30632200.0</td>\n",
              "    </tr>\n",
              "    <tr>\n",
              "      <th>2014-01-03</th>\n",
              "      <td>17.211735</td>\n",
              "      <td>31.841665</td>\n",
              "      <td>19.320715</td>\n",
              "      <td>36.910000</td>\n",
              "      <td>19.775000</td>\n",
              "      <td>37.220001</td>\n",
              "      <td>19.301071</td>\n",
              "      <td>36.599998</td>\n",
              "      <td>19.745001</td>\n",
              "      <td>37.200001</td>\n",
              "      <td>392467600.0</td>\n",
              "      <td>31134800.0</td>\n",
              "    </tr>\n",
              "    <tr>\n",
              "      <th>2014-01-06</th>\n",
              "      <td>17.305593</td>\n",
              "      <td>31.168766</td>\n",
              "      <td>19.426071</td>\n",
              "      <td>36.130001</td>\n",
              "      <td>19.528570</td>\n",
              "      <td>36.889999</td>\n",
              "      <td>19.057142</td>\n",
              "      <td>36.110001</td>\n",
              "      <td>19.194643</td>\n",
              "      <td>36.849998</td>\n",
              "      <td>412610800.0</td>\n",
              "      <td>43603700.0</td>\n",
              "    </tr>\n",
              "    <tr>\n",
              "      <th>2014-01-07</th>\n",
              "      <td>17.181829</td>\n",
              "      <td>31.410315</td>\n",
              "      <td>19.287144</td>\n",
              "      <td>36.410000</td>\n",
              "      <td>19.498571</td>\n",
              "      <td>36.490002</td>\n",
              "      <td>19.211430</td>\n",
              "      <td>36.209999</td>\n",
              "      <td>19.440001</td>\n",
              "      <td>36.330002</td>\n",
              "      <td>317209200.0</td>\n",
              "      <td>35802800.0</td>\n",
              "    </tr>\n",
              "    <tr>\n",
              "      <th>2014-01-08</th>\n",
              "      <td>17.290642</td>\n",
              "      <td>30.849575</td>\n",
              "      <td>19.409286</td>\n",
              "      <td>35.759998</td>\n",
              "      <td>19.484285</td>\n",
              "      <td>36.139999</td>\n",
              "      <td>19.238930</td>\n",
              "      <td>35.580002</td>\n",
              "      <td>19.243214</td>\n",
              "      <td>36.000000</td>\n",
              "      <td>258529600.0</td>\n",
              "      <td>59971700.0</td>\n",
              "    </tr>\n",
              "  </tbody>\n",
              "</table>\n",
              "</div>"
            ],
            "text/plain": [
              "                 AAPL       MSFT       AAPL  ...       MSFT         AAPL        MSFT\n",
              "Date                                         ...                                    \n",
              "2014-01-02  17.598297  32.057323  19.754642  ...  37.349998  234684800.0  30632200.0\n",
              "2014-01-03  17.211735  31.841665  19.320715  ...  37.200001  392467600.0  31134800.0\n",
              "2014-01-06  17.305593  31.168766  19.426071  ...  36.849998  412610800.0  43603700.0\n",
              "2014-01-07  17.181829  31.410315  19.287144  ...  36.330002  317209200.0  35802800.0\n",
              "2014-01-08  17.290642  30.849575  19.409286  ...  36.000000  258529600.0  59971700.0\n",
              "\n",
              "[5 rows x 12 columns]"
            ]
          },
          "metadata": {
            "tags": []
          },
          "execution_count": 4
        }
      ]
    },
    {
      "cell_type": "code",
      "metadata": {
        "colab": {
          "base_uri": "https://localhost:8080/",
          "height": 340
        },
        "id": "lI_IS0yzdTrH",
        "outputId": "826efd23-3f03-4563-bf88-f182a375f43b"
      },
      "source": [
        "prices2.columns = [e[1] for e in prices2.columns]\n",
        "prices2.head()"
      ],
      "execution_count": 5,
      "outputs": [
        {
          "output_type": "execute_result",
          "data": {
            "text/html": [
              "<div>\n",
              "<style scoped>\n",
              "    .dataframe tbody tr th:only-of-type {\n",
              "        vertical-align: middle;\n",
              "    }\n",
              "\n",
              "    .dataframe tbody tr th {\n",
              "        vertical-align: top;\n",
              "    }\n",
              "\n",
              "    .dataframe thead th {\n",
              "        text-align: right;\n",
              "    }\n",
              "</style>\n",
              "<table border=\"1\" class=\"dataframe\">\n",
              "  <thead>\n",
              "    <tr style=\"text-align: right;\">\n",
              "      <th></th>\n",
              "      <th>CMG</th>\n",
              "      <th>MCD</th>\n",
              "      <th>SHAK</th>\n",
              "      <th>WFM</th>\n",
              "      <th>CMG</th>\n",
              "      <th>MCD</th>\n",
              "      <th>SHAK</th>\n",
              "      <th>WFM</th>\n",
              "      <th>CMG</th>\n",
              "      <th>MCD</th>\n",
              "      <th>SHAK</th>\n",
              "      <th>WFM</th>\n",
              "      <th>CMG</th>\n",
              "      <th>MCD</th>\n",
              "      <th>SHAK</th>\n",
              "      <th>WFM</th>\n",
              "      <th>CMG</th>\n",
              "      <th>MCD</th>\n",
              "      <th>SHAK</th>\n",
              "      <th>WFM</th>\n",
              "      <th>CMG</th>\n",
              "      <th>MCD</th>\n",
              "      <th>SHAK</th>\n",
              "      <th>WFM</th>\n",
              "    </tr>\n",
              "    <tr>\n",
              "      <th>Date</th>\n",
              "      <th></th>\n",
              "      <th></th>\n",
              "      <th></th>\n",
              "      <th></th>\n",
              "      <th></th>\n",
              "      <th></th>\n",
              "      <th></th>\n",
              "      <th></th>\n",
              "      <th></th>\n",
              "      <th></th>\n",
              "      <th></th>\n",
              "      <th></th>\n",
              "      <th></th>\n",
              "      <th></th>\n",
              "      <th></th>\n",
              "      <th></th>\n",
              "      <th></th>\n",
              "      <th></th>\n",
              "      <th></th>\n",
              "      <th></th>\n",
              "      <th></th>\n",
              "      <th></th>\n",
              "      <th></th>\n",
              "      <th></th>\n",
              "    </tr>\n",
              "  </thead>\n",
              "  <tbody>\n",
              "    <tr>\n",
              "      <th>2014-01-02</th>\n",
              "      <td>523.429993</td>\n",
              "      <td>78.679359</td>\n",
              "      <td>NaN</td>\n",
              "      <td>NaN</td>\n",
              "      <td>523.429993</td>\n",
              "      <td>96.410004</td>\n",
              "      <td>NaN</td>\n",
              "      <td>NaN</td>\n",
              "      <td>532.960022</td>\n",
              "      <td>97.029999</td>\n",
              "      <td>NaN</td>\n",
              "      <td>NaN</td>\n",
              "      <td>521.530029</td>\n",
              "      <td>96.260002</td>\n",
              "      <td>NaN</td>\n",
              "      <td>NaN</td>\n",
              "      <td>530.000000</td>\n",
              "      <td>96.809998</td>\n",
              "      <td>NaN</td>\n",
              "      <td>NaN</td>\n",
              "      <td>456500.0</td>\n",
              "      <td>2925800.0</td>\n",
              "      <td>NaN</td>\n",
              "      <td>NaN</td>\n",
              "    </tr>\n",
              "    <tr>\n",
              "      <th>2014-01-03</th>\n",
              "      <td>531.309998</td>\n",
              "      <td>78.785431</td>\n",
              "      <td>NaN</td>\n",
              "      <td>NaN</td>\n",
              "      <td>531.309998</td>\n",
              "      <td>96.540001</td>\n",
              "      <td>NaN</td>\n",
              "      <td>NaN</td>\n",
              "      <td>534.010010</td>\n",
              "      <td>97.029999</td>\n",
              "      <td>NaN</td>\n",
              "      <td>NaN</td>\n",
              "      <td>523.479980</td>\n",
              "      <td>96.500000</td>\n",
              "      <td>NaN</td>\n",
              "      <td>NaN</td>\n",
              "      <td>524.000000</td>\n",
              "      <td>96.900002</td>\n",
              "      <td>NaN</td>\n",
              "      <td>NaN</td>\n",
              "      <td>409100.0</td>\n",
              "      <td>2965300.0</td>\n",
              "      <td>NaN</td>\n",
              "      <td>NaN</td>\n",
              "    </tr>\n",
              "    <tr>\n",
              "      <th>2014-01-06</th>\n",
              "      <td>527.320007</td>\n",
              "      <td>78.222336</td>\n",
              "      <td>NaN</td>\n",
              "      <td>NaN</td>\n",
              "      <td>527.320007</td>\n",
              "      <td>95.849998</td>\n",
              "      <td>NaN</td>\n",
              "      <td>NaN</td>\n",
              "      <td>534.719971</td>\n",
              "      <td>96.620003</td>\n",
              "      <td>NaN</td>\n",
              "      <td>NaN</td>\n",
              "      <td>523.080017</td>\n",
              "      <td>95.519997</td>\n",
              "      <td>NaN</td>\n",
              "      <td>NaN</td>\n",
              "      <td>534.719971</td>\n",
              "      <td>96.620003</td>\n",
              "      <td>NaN</td>\n",
              "      <td>NaN</td>\n",
              "      <td>415100.0</td>\n",
              "      <td>5022700.0</td>\n",
              "      <td>NaN</td>\n",
              "      <td>NaN</td>\n",
              "    </tr>\n",
              "    <tr>\n",
              "      <th>2014-01-07</th>\n",
              "      <td>533.059998</td>\n",
              "      <td>78.654839</td>\n",
              "      <td>NaN</td>\n",
              "      <td>NaN</td>\n",
              "      <td>533.059998</td>\n",
              "      <td>96.379997</td>\n",
              "      <td>NaN</td>\n",
              "      <td>NaN</td>\n",
              "      <td>535.700012</td>\n",
              "      <td>97.080002</td>\n",
              "      <td>NaN</td>\n",
              "      <td>NaN</td>\n",
              "      <td>526.369995</td>\n",
              "      <td>96.129997</td>\n",
              "      <td>NaN</td>\n",
              "      <td>NaN</td>\n",
              "      <td>528.799988</td>\n",
              "      <td>96.379997</td>\n",
              "      <td>NaN</td>\n",
              "      <td>NaN</td>\n",
              "      <td>308800.0</td>\n",
              "      <td>4881800.0</td>\n",
              "      <td>NaN</td>\n",
              "      <td>NaN</td>\n",
              "    </tr>\n",
              "    <tr>\n",
              "      <th>2014-01-08</th>\n",
              "      <td>535.849976</td>\n",
              "      <td>77.863258</td>\n",
              "      <td>NaN</td>\n",
              "      <td>NaN</td>\n",
              "      <td>535.849976</td>\n",
              "      <td>95.410004</td>\n",
              "      <td>NaN</td>\n",
              "      <td>NaN</td>\n",
              "      <td>536.190002</td>\n",
              "      <td>95.709999</td>\n",
              "      <td>NaN</td>\n",
              "      <td>NaN</td>\n",
              "      <td>528.090027</td>\n",
              "      <td>95.000000</td>\n",
              "      <td>NaN</td>\n",
              "      <td>NaN</td>\n",
              "      <td>529.500000</td>\n",
              "      <td>95.550003</td>\n",
              "      <td>NaN</td>\n",
              "      <td>NaN</td>\n",
              "      <td>411300.0</td>\n",
              "      <td>7669800.0</td>\n",
              "      <td>NaN</td>\n",
              "      <td>NaN</td>\n",
              "    </tr>\n",
              "  </tbody>\n",
              "</table>\n",
              "</div>"
            ],
            "text/plain": [
              "                   CMG        MCD  SHAK  WFM  ...       CMG        MCD  SHAK  WFM\n",
              "Date                                          ...                                \n",
              "2014-01-02  523.429993  78.679359   NaN  NaN  ...  456500.0  2925800.0   NaN  NaN\n",
              "2014-01-03  531.309998  78.785431   NaN  NaN  ...  409100.0  2965300.0   NaN  NaN\n",
              "2014-01-06  527.320007  78.222336   NaN  NaN  ...  415100.0  5022700.0   NaN  NaN\n",
              "2014-01-07  533.059998  78.654839   NaN  NaN  ...  308800.0  4881800.0   NaN  NaN\n",
              "2014-01-08  535.849976  77.863258   NaN  NaN  ...  411300.0  7669800.0   NaN  NaN\n",
              "\n",
              "[5 rows x 24 columns]"
            ]
          },
          "metadata": {
            "tags": []
          },
          "execution_count": 5
        }
      ]
    },
    {
      "cell_type": "markdown",
      "metadata": {
        "id": "UK7TvGxJaCnM"
      },
      "source": [
        "Much nicer, now we can index. Indexing into the 2D dataframe will give us a 1D series object. The index for the series is timestamps, the value upon index is a price. Similar to an array except instead of integer indecies it's times."
      ]
    },
    {
      "cell_type": "code",
      "metadata": {
        "colab": {
          "base_uri": "https://localhost:8080/",
          "height": 235
        },
        "id": "F6ELcpQgaCnM",
        "outputId": "64b7937a-a9ad-40a5-bc5d-e8e77577c53c"
      },
      "source": [
        "prices['MSFT'].head()"
      ],
      "execution_count": 6,
      "outputs": [
        {
          "output_type": "execute_result",
          "data": {
            "text/html": [
              "<div>\n",
              "<style scoped>\n",
              "    .dataframe tbody tr th:only-of-type {\n",
              "        vertical-align: middle;\n",
              "    }\n",
              "\n",
              "    .dataframe tbody tr th {\n",
              "        vertical-align: top;\n",
              "    }\n",
              "\n",
              "    .dataframe thead th {\n",
              "        text-align: right;\n",
              "    }\n",
              "</style>\n",
              "<table border=\"1\" class=\"dataframe\">\n",
              "  <thead>\n",
              "    <tr style=\"text-align: right;\">\n",
              "      <th></th>\n",
              "      <th>MSFT</th>\n",
              "      <th>MSFT</th>\n",
              "      <th>MSFT</th>\n",
              "      <th>MSFT</th>\n",
              "      <th>MSFT</th>\n",
              "      <th>MSFT</th>\n",
              "    </tr>\n",
              "    <tr>\n",
              "      <th>Date</th>\n",
              "      <th></th>\n",
              "      <th></th>\n",
              "      <th></th>\n",
              "      <th></th>\n",
              "      <th></th>\n",
              "      <th></th>\n",
              "    </tr>\n",
              "  </thead>\n",
              "  <tbody>\n",
              "    <tr>\n",
              "      <th>2014-01-02</th>\n",
              "      <td>32.057323</td>\n",
              "      <td>37.160000</td>\n",
              "      <td>37.400002</td>\n",
              "      <td>37.099998</td>\n",
              "      <td>37.349998</td>\n",
              "      <td>30632200.0</td>\n",
              "    </tr>\n",
              "    <tr>\n",
              "      <th>2014-01-03</th>\n",
              "      <td>31.841665</td>\n",
              "      <td>36.910000</td>\n",
              "      <td>37.220001</td>\n",
              "      <td>36.599998</td>\n",
              "      <td>37.200001</td>\n",
              "      <td>31134800.0</td>\n",
              "    </tr>\n",
              "    <tr>\n",
              "      <th>2014-01-06</th>\n",
              "      <td>31.168766</td>\n",
              "      <td>36.130001</td>\n",
              "      <td>36.889999</td>\n",
              "      <td>36.110001</td>\n",
              "      <td>36.849998</td>\n",
              "      <td>43603700.0</td>\n",
              "    </tr>\n",
              "    <tr>\n",
              "      <th>2014-01-07</th>\n",
              "      <td>31.410315</td>\n",
              "      <td>36.410000</td>\n",
              "      <td>36.490002</td>\n",
              "      <td>36.209999</td>\n",
              "      <td>36.330002</td>\n",
              "      <td>35802800.0</td>\n",
              "    </tr>\n",
              "    <tr>\n",
              "      <th>2014-01-08</th>\n",
              "      <td>30.849575</td>\n",
              "      <td>35.759998</td>\n",
              "      <td>36.139999</td>\n",
              "      <td>35.580002</td>\n",
              "      <td>36.000000</td>\n",
              "      <td>59971700.0</td>\n",
              "    </tr>\n",
              "  </tbody>\n",
              "</table>\n",
              "</div>"
            ],
            "text/plain": [
              "                 MSFT       MSFT       MSFT       MSFT       MSFT        MSFT\n",
              "Date                                                                         \n",
              "2014-01-02  32.057323  37.160000  37.400002  37.099998  37.349998  30632200.0\n",
              "2014-01-03  31.841665  36.910000  37.220001  36.599998  37.200001  31134800.0\n",
              "2014-01-06  31.168766  36.130001  36.889999  36.110001  36.849998  43603700.0\n",
              "2014-01-07  31.410315  36.410000  36.490002  36.209999  36.330002  35802800.0\n",
              "2014-01-08  30.849575  35.759998  36.139999  35.580002  36.000000  59971700.0"
            ]
          },
          "metadata": {
            "tags": []
          },
          "execution_count": 6
        }
      ]
    },
    {
      "cell_type": "code",
      "metadata": {
        "colab": {
          "base_uri": "https://localhost:8080/",
          "height": 235
        },
        "id": "SINPml5Bdazf",
        "outputId": "7de24b46-3721-4609-c17f-95f93fe0ec93"
      },
      "source": [
        "prices2['MCD'].head()"
      ],
      "execution_count": 7,
      "outputs": [
        {
          "output_type": "execute_result",
          "data": {
            "text/html": [
              "<div>\n",
              "<style scoped>\n",
              "    .dataframe tbody tr th:only-of-type {\n",
              "        vertical-align: middle;\n",
              "    }\n",
              "\n",
              "    .dataframe tbody tr th {\n",
              "        vertical-align: top;\n",
              "    }\n",
              "\n",
              "    .dataframe thead th {\n",
              "        text-align: right;\n",
              "    }\n",
              "</style>\n",
              "<table border=\"1\" class=\"dataframe\">\n",
              "  <thead>\n",
              "    <tr style=\"text-align: right;\">\n",
              "      <th></th>\n",
              "      <th>MCD</th>\n",
              "      <th>MCD</th>\n",
              "      <th>MCD</th>\n",
              "      <th>MCD</th>\n",
              "      <th>MCD</th>\n",
              "      <th>MCD</th>\n",
              "    </tr>\n",
              "    <tr>\n",
              "      <th>Date</th>\n",
              "      <th></th>\n",
              "      <th></th>\n",
              "      <th></th>\n",
              "      <th></th>\n",
              "      <th></th>\n",
              "      <th></th>\n",
              "    </tr>\n",
              "  </thead>\n",
              "  <tbody>\n",
              "    <tr>\n",
              "      <th>2014-01-02</th>\n",
              "      <td>78.679359</td>\n",
              "      <td>96.410004</td>\n",
              "      <td>97.029999</td>\n",
              "      <td>96.260002</td>\n",
              "      <td>96.809998</td>\n",
              "      <td>2925800.0</td>\n",
              "    </tr>\n",
              "    <tr>\n",
              "      <th>2014-01-03</th>\n",
              "      <td>78.785431</td>\n",
              "      <td>96.540001</td>\n",
              "      <td>97.029999</td>\n",
              "      <td>96.500000</td>\n",
              "      <td>96.900002</td>\n",
              "      <td>2965300.0</td>\n",
              "    </tr>\n",
              "    <tr>\n",
              "      <th>2014-01-06</th>\n",
              "      <td>78.222336</td>\n",
              "      <td>95.849998</td>\n",
              "      <td>96.620003</td>\n",
              "      <td>95.519997</td>\n",
              "      <td>96.620003</td>\n",
              "      <td>5022700.0</td>\n",
              "    </tr>\n",
              "    <tr>\n",
              "      <th>2014-01-07</th>\n",
              "      <td>78.654839</td>\n",
              "      <td>96.379997</td>\n",
              "      <td>97.080002</td>\n",
              "      <td>96.129997</td>\n",
              "      <td>96.379997</td>\n",
              "      <td>4881800.0</td>\n",
              "    </tr>\n",
              "    <tr>\n",
              "      <th>2014-01-08</th>\n",
              "      <td>77.863258</td>\n",
              "      <td>95.410004</td>\n",
              "      <td>95.709999</td>\n",
              "      <td>95.000000</td>\n",
              "      <td>95.550003</td>\n",
              "      <td>7669800.0</td>\n",
              "    </tr>\n",
              "  </tbody>\n",
              "</table>\n",
              "</div>"
            ],
            "text/plain": [
              "                  MCD        MCD        MCD        MCD        MCD        MCD\n",
              "Date                                                                        \n",
              "2014-01-02  78.679359  96.410004  97.029999  96.260002  96.809998  2925800.0\n",
              "2014-01-03  78.785431  96.540001  97.029999  96.500000  96.900002  2965300.0\n",
              "2014-01-06  78.222336  95.849998  96.620003  95.519997  96.620003  5022700.0\n",
              "2014-01-07  78.654839  96.379997  97.080002  96.129997  96.379997  4881800.0\n",
              "2014-01-08  77.863258  95.410004  95.709999  95.000000  95.550003  7669800.0"
            ]
          },
          "metadata": {
            "tags": []
          },
          "execution_count": 7
        }
      ]
    },
    {
      "cell_type": "markdown",
      "metadata": {
        "id": "G5MwlTE6aCnO"
      },
      "source": [
        "##Histogram\n",
        "\n",
        "A histogram is a visualization of how frequent different values of data are. By displaying a frequency distribution using bars, it lets us quickly see where most of the observations are clustered. The height of each bar represents the number of observations that lie in each interval. You can think of a histogram as an empirical and discrete Probability Density Function (PDF)."
      ]
    },
    {
      "cell_type": "code",
      "metadata": {
        "colab": {
          "base_uri": "https://localhost:8080/",
          "height": 295
        },
        "id": "ZJiIj1_TaCnP",
        "outputId": "eb6d965d-8719-41c2-d23e-8be4b75a2542"
      },
      "source": [
        "# Plot a histogram using 20 bins\n",
        "plt.hist(prices['MSFT'], bins=20)\n",
        "plt.xlabel('Price')\n",
        "plt.ylabel('Number of Days Observed')\n",
        "plt.title('Frequency Distribution of MSFT Prices, 2014');"
      ],
      "execution_count": 8,
      "outputs": [
        {
          "output_type": "display_data",
          "data": {
            "image/png": "[encoded data removed]",
            "text/plain": [
              "<Figure size 432x288 with 1 Axes>"
            ]
          },
          "metadata": {
            "tags": [],
            "needs_background": "light"
          }
        }
      ]
    },
    {
      "cell_type": "code",
      "metadata": {
        "colab": {
          "base_uri": "https://localhost:8080/",
          "height": 295
        },
        "id": "T8fdBEPgdtjO",
        "outputId": "30a3626f-612f-4985-fe9c-646bc3788253"
      },
      "source": [
        "# Plot a histogram using 20 bins\n",
        "plt.hist(prices2['MCD'], bins=20)\n",
        "plt.xlabel('Price')\n",
        "plt.ylabel('Number of Days Observed')\n",
        "plt.title('Frequency Distribution of MCD Prices, 2014');"
      ],
      "execution_count": 9,
      "outputs": [
        {
          "output_type": "display_data",
          "data": {
            "image/png": "[encoded data removed]",
            "text/plain": [
              "<Figure size 432x288 with 1 Axes>"
            ]
          },
          "metadata": {
            "tags": [],
            "needs_background": "light"
          }
        }
      ]
    },
    {
      "cell_type": "markdown",
      "metadata": {
        "id": "NA27rc38aCnP"
      },
      "source": [
        "### Returns Histogram\n",
        "\n",
        "In finance rarely will we look at the distribution of prices. The reason for this is that prices are non-stationary and move around a lot. For more info on non-stationarity please see [this lecture](https://www.quantopian.com/lectures/integration-cointegration-and-stationarity). Instead we will use daily returns. Let's try that now."
      ]
    },
    {
      "cell_type": "code",
      "metadata": {
        "colab": {
          "base_uri": "https://localhost:8080/",
          "height": 295
        },
        "id": "LaqIVqr_aCnQ",
        "outputId": "737402ef-8e3b-4f62-c20d-34839e57b67c"
      },
      "source": [
        "# Remove the first element because percent change from nothing to something is NaN\n",
        "R = prices['MSFT'].pct_change()[1:]\n",
        "\n",
        "# Plot a histogram using 20 bins\n",
        "plt.hist(R, bins=20)\n",
        "plt.xlabel('Return')\n",
        "plt.ylabel('Number of Days Observed')\n",
        "plt.title('Frequency Distribution of MSFT Returns, 2014');"
      ],
      "execution_count": 10,
      "outputs": [
        {
          "output_type": "display_data",
          "data": {
            "image/png": "[encoded data removed]",
            "text/plain": [
              "<Figure size 432x288 with 1 Axes>"
            ]
          },
          "metadata": {
            "tags": [],
            "needs_background": "light"
          }
        }
      ]
    },
    {
      "cell_type": "code",
      "metadata": {
        "colab": {
          "base_uri": "https://localhost:8080/",
          "height": 295
        },
        "id": "mlwqE2GWeM63",
        "outputId": "509fa8fc-922a-44bf-ff06-774daa1338da"
      },
      "source": [
        "# Remove the first element because percent change from nothing to something is NaN\n",
        "R = prices2['MCD'].pct_change()[1:]\n",
        "\n",
        "# Plot a histogram using 20 bins\n",
        "plt.hist(R, bins=20)\n",
        "plt.xlabel('Return')\n",
        "plt.ylabel('Number of Days Observed')\n",
        "plt.title('Frequency Distribution of MCD Returns, 2014');"
      ],
      "execution_count": 11,
      "outputs": [
        {
          "output_type": "display_data",
          "data": {
            "image/png": "[encoded data removed]",
            "text/plain": [
              "<Figure size 432x288 with 1 Axes>"
            ]
          },
          "metadata": {
            "tags": [],
            "needs_background": "light"
          }
        }
      ]
    },
    {
      "cell_type": "markdown",
      "metadata": {
        "id": "007AcsaUaCnR"
      },
      "source": [
        "The graph above shows, for example, that the daily returns of MSFT were above 0.03 on fewer than 5 days in 2014. Note that we are completely discarding the dates corresponding to these returns. \n",
        "\n",
        "#####IMPORTANT: Note also that this does not imply that future returns will have the same distribution."
      ]
    },
    {
      "cell_type": "markdown",
      "metadata": {
        "id": "83qEQ3bgaCnS"
      },
      "source": [
        "### Cumulative Histogram (Discrete Estimated CDF)\n",
        "\n",
        "An alternative way to display the data would be using a cumulative distribution function, in which the height of a bar represents the number of observations that lie in that bin or in one of the previous ones. This graph is always nondecreasing since you cannot have a negative number of observations. The choice of graph depends on the information you are interested in."
      ]
    },
    {
      "cell_type": "code",
      "metadata": {
        "colab": {
          "base_uri": "https://localhost:8080/",
          "height": 295
        },
        "id": "6sHS3PFTaCnV",
        "outputId": "85c0778a-6af4-45d5-c3cd-d704228662dc"
      },
      "source": [
        "# Remove the first element because percent change from nothing to something is NaN\n",
        "R = prices['MSFT'].pct_change()[1:]\n",
        "\n",
        "# Plot a histogram using 20 bins\n",
        "plt.hist(R, bins=20, cumulative=True)\n",
        "plt.xlabel('Return')\n",
        "plt.ylabel('Number of Days Observed')\n",
        "plt.title('Cumulative Distribution of MSFT Returns, 2014');"
      ],
      "execution_count": 12,
      "outputs": [
        {
          "output_type": "display_data",
          "data": {
            "image/png": "[encoded data removed]",
            "text/plain": [
              "<Figure size 432x288 with 1 Axes>"
            ]
          },
          "metadata": {
            "tags": [],
            "needs_background": "light"
          }
        }
      ]
    },
    {
      "cell_type": "code",
      "metadata": {
        "colab": {
          "base_uri": "https://localhost:8080/",
          "height": 295
        },
        "id": "X2GmHHQQeSS8",
        "outputId": "1a838d56-4dcc-483b-cedb-50d0ed34e848"
      },
      "source": [
        "# Remove the first element because percent change from nothing to something is NaN\n",
        "R = prices2['MCD'].pct_change()[1:]\n",
        "\n",
        "# Plot a histogram using 20 bins\n",
        "plt.hist(R, bins=20, cumulative=True)\n",
        "plt.xlabel('Return')\n",
        "plt.ylabel('Number of Days Observed')\n",
        "plt.title('Cumulative Distribution of MCD Returns, 2014');"
      ],
      "execution_count": 13,
      "outputs": [
        {
          "output_type": "display_data",
          "data": {
            "image/png": "[encoded data removed]",
            "text/plain": [
              "<Figure size 432x288 with 1 Axes>"
            ]
          },
          "metadata": {
            "tags": [],
            "needs_background": "light"
          }
        }
      ]
    },
    {
      "cell_type": "markdown",
      "metadata": {
        "id": "CNA9bzLnaCnX"
      },
      "source": [
        "## Scatter plot\n",
        "\n",
        "A scatter plot is useful for visualizing the relationship between two data sets. We use two data sets which have some sort of correspondence, such as the date on which the measurement was taken. Each point represents two corresponding values from the two data sets. However, we don't plot the date that the measurements were taken on."
      ]
    },
    {
      "cell_type": "code",
      "metadata": {
        "colab": {
          "base_uri": "https://localhost:8080/",
          "height": 295
        },
        "id": "7IzKBwgoaCnX",
        "outputId": "ad2404c6-cf74-4dee-a335-667dc0bde6a2"
      },
      "source": [
        "plt.scatter(prices['MSFT'], prices['AAPL'])\n",
        "plt.xlabel('MSFT')\n",
        "plt.ylabel('AAPL')\n",
        "plt.title('Daily Prices in 2014');"
      ],
      "execution_count": 18,
      "outputs": [
        {
          "output_type": "display_data",
          "data": {
            "image/png": "[encoded data removed]",
            "text/plain": [
              "<Figure size 432x288 with 1 Axes>"
            ]
          },
          "metadata": {
            "tags": [],
            "needs_background": "light"
          }
        }
      ]
    },
    {
      "cell_type": "code",
      "metadata": {
        "colab": {
          "base_uri": "https://localhost:8080/",
          "height": 295
        },
        "id": "7zqDitbkf-Ta",
        "outputId": "b7615e28-6bff-4e0b-89ce-926538fce55e"
      },
      "source": [
        "plt.scatter(prices2['CMG'], prices2['MCD'])\n",
        "plt.xlabel('CMG')\n",
        "plt.ylabel('AAPMCDL')\n",
        "plt.title('Daily Prices in 2014');"
      ],
      "execution_count": 19,
      "outputs": [
        {
          "output_type": "display_data",
          "data": {
            "image/png": "[encoded data removed]",
            "text/plain": [
              "<Figure size 432x288 with 1 Axes>"
            ]
          },
          "metadata": {
            "tags": [],
            "needs_background": "light"
          }
        }
      ]
    },
    {
      "cell_type": "code",
      "metadata": {
        "colab": {
          "base_uri": "https://localhost:8080/",
          "height": 295
        },
        "id": "3ZPPxN5IaCnY",
        "outputId": "18b12643-c861-411f-c49a-b632a51300b9"
      },
      "source": [
        "R_msft = prices['MSFT'].pct_change()[1:]\n",
        "R_aapl = prices['AAPL'].pct_change()[1:]\n",
        "\n",
        "plt.scatter(R_msft, R_aapl)\n",
        "plt.xlabel('MSFT')\n",
        "plt.ylabel('AAPL')\n",
        "plt.title('Daily Returns in 2014');"
      ],
      "execution_count": 15,
      "outputs": [
        {
          "output_type": "display_data",
          "data": {
            "image/png": "[encoded data removed]",
            "text/plain": [
              "<Figure size 432x288 with 1 Axes>"
            ]
          },
          "metadata": {
            "tags": [],
            "needs_background": "light"
          }
        }
      ]
    },
    {
      "cell_type": "code",
      "metadata": {
        "colab": {
          "base_uri": "https://localhost:8080/",
          "height": 295
        },
        "id": "8F4Ybm8ggLax",
        "outputId": "5c47e1d5-cbf4-4953-f85b-ef618bca302e"
      },
      "source": [
        "R_msft = prices2['CMG'].pct_change()[1:]\n",
        "R_aapl = prices2['MCD'].pct_change()[1:]\n",
        "\n",
        "plt.scatter(R_msft, R_aapl)\n",
        "plt.xlabel('CMG')\n",
        "plt.ylabel('MCD')\n",
        "plt.title('Daily Returns in 2014');"
      ],
      "execution_count": 20,
      "outputs": [
        {
          "output_type": "display_data",
          "data": {
            "image/png": "[encoded data removed]",
            "text/plain": [
              "<Figure size 432x288 with 1 Axes>"
            ]
          },
          "metadata": {
            "tags": [],
            "needs_background": "light"
          }
        }
      ]
    },
    {
      "cell_type": "markdown",
      "metadata": {
        "id": "aCKNhL8PaCnZ"
      },
      "source": [
        "# Line graph\n",
        "\n",
        "A line graph can be used when we want to track the development of the y value as the x value changes. For instance, when we are plotting the price of a stock, showing it as a line graph instead of just plotting the data points makes it easier to follow the price over time. This necessarily involves \"connecting the dots\" between the data points, which can mask out changes that happened between the time we took measurements."
      ]
    },
    {
      "cell_type": "code",
      "metadata": {
        "colab": {
          "base_uri": "https://localhost:8080/",
          "height": 276
        },
        "id": "ObVzoMGtaCnZ",
        "outputId": "95ac37a7-0d0a-4d8c-852c-d5a1bcd4aa67"
      },
      "source": [
        "plt.plot(prices['MSFT'])\n",
        "plt.plot(prices['AAPL'])\n",
        "plt.ylabel('Price')\n",
        "plt.legend(['MSFT', 'AAPL']);"
      ],
      "execution_count": 16,
      "outputs": [
        {
          "output_type": "display_data",
          "data": {
            "image/png": "[encoded data removed]",
            "text/plain": [
              "<Figure size 432x288 with 1 Axes>"
            ]
          },
          "metadata": {
            "tags": [],
            "needs_background": "light"
          }
        }
      ]
    },
    {
      "cell_type": "code",
      "metadata": {
        "colab": {
          "base_uri": "https://localhost:8080/",
          "height": 276
        },
        "id": "EzIwhfPugXjG",
        "outputId": "2bd133c5-96ba-4605-b25a-548fcbe2c49e"
      },
      "source": [
        "plt.plot(prices2['CMG'])\n",
        "plt.plot(prices2['MCD'])\n",
        "plt.ylabel('Price')\n",
        "plt.legend(['GCM', 'MCD']);"
      ],
      "execution_count": 24,
      "outputs": [
        {
          "output_type": "display_data",
          "data": {
            "image/png": "[encoded data removed]",
            "text/plain": [
              "<Figure size 432x288 with 1 Axes>"
            ]
          },
          "metadata": {
            "tags": [],
            "needs_background": "light"
          }
        }
      ]
    },
    {
      "cell_type": "code",
      "metadata": {
        "colab": {
          "base_uri": "https://localhost:8080/",
          "height": 281
        },
        "id": "GFiu6erbaCna",
        "outputId": "18d1d800-ecad-4356-f255-3e16e567b2ee"
      },
      "source": [
        "# Remove the first element because percent change from nothing to something is NaN\n",
        "R = prices['MSFT'].pct_change()[1:]\n",
        "\n",
        "plt.plot(R)\n",
        "plt.ylabel('Return')\n",
        "plt.title('MSFT Returns');"
      ],
      "execution_count": 17,
      "outputs": [
        {
          "output_type": "display_data",
          "data": {
            "image/png": "[encoded data removed]",
            "text/plain": [
              "<Figure size 432x288 with 1 Axes>"
            ]
          },
          "metadata": {
            "tags": [],
            "needs_background": "light"
          }
        }
      ]
    },
    {
      "cell_type": "code",
      "metadata": {
        "colab": {
          "base_uri": "https://localhost:8080/",
          "height": 281
        },
        "id": "uZgBiyHPg0Sg",
        "outputId": "29fdaf04-1d73-4962-bb83-5cc67a823c83"
      },
      "source": [
        "# Remove the first element because percent change from nothing to something is NaN\n",
        "R = prices2['MCD'].pct_change()[1:]\n",
        "\n",
        "plt.plot(R)\n",
        "plt.ylabel('Return')\n",
        "plt.title('MCD Returns');"
      ],
      "execution_count": 25,
      "outputs": [
        {
          "output_type": "display_data",
          "data": {
            "image/png": "[encoded data removed]",
            "text/plain": [
              "<Figure size 432x288 with 1 Axes>"
            ]
          },
          "metadata": {
            "tags": [],
            "needs_background": "light"
          }
        }
      ]
    },
    {
      "cell_type": "markdown",
      "metadata": {
        "id": "dkkS2VbAaCna"
      },
      "source": [
        "## Never Assume Conditions Hold\n",
        "\n",
        "Again, whenever using plots to visualize data, do not assume you can test a hypothesis by looking at a graph. Also do not assume that because a distribution or trend used to be true, it is still true. In general much more sophisticated and careful validation is required to test whether models hold. Plots are mainly useful when initially deciding how your models should work."
      ]
    },
    {
      "cell_type": "markdown",
      "metadata": {
        "id": "zOCm1Lr0aCnb"
      },
      "source": [
        "*This presentation is for informational purposes only and does not constitute an offer to sell, a solicitation to buy, or a recommendation for any security; nor does it constitute an offer to provide investment advisory or other services by Quantopian, Inc. (\"Quantopian\"). Nothing contained herein constitutes investment advice or offers any opinion with respect to the suitability of any security, and any views expressed herein should not be taken as advice to buy, sell, or hold any security or as an endorsement of any security or company.  In preparing the information contained herein, Quantopian, Inc. has not taken into account the investment needs, objectives, and financial circumstances of any particular investor. Any views expressed and data illustrated herein were prepared based upon information, believed to be reliable, available to Quantopian, Inc. at the time of publication. Quantopian makes no guarantees as to their accuracy or completeness. All information is subject to change and may quickly become unreliable for various reasons, including changes in market conditions or economic circumstances.*"
      ]
    }
  ]
}