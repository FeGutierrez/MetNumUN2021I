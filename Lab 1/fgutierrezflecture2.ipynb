{
  "nbformat": 4,
  "nbformat_minor": 0,
  "metadata": {
    "kernelspec": {
      "name": "python3",
      "display_name": "Python 3"
    },
    "colab": {
      "name": "fgutierrezflecture2.ipynb",
      "provenance": [],
      "collapsed_sections": [
        "MTFJ3uonR4Wv"
      ]
    },
    "language_info": {
      "name": "python"
    }
  },
  "cells": [
    {
      "cell_type": "markdown",
      "metadata": {
        "id": "zLFkR-PFR4WP"
      },
      "source": [
        "# Introduction to Python\n",
        "by Maxwell Margenot\n",
        "\n",
        "Part of the Quantopian Lecture Series:\n",
        "\n",
        "* [www.quantopian.com/lectures](https://www.quantopian.com/lectures)\n",
        "* [github.com/quantopian/research_public](https://github.com/quantopian/research_public)\n",
        "\n",
        "\n",
        "---\n",
        "\n",
        "All of the coding that you will do on the Quantopian platform will be in Python. It is also just a good, jack-of-all-trades language to know! Here we will provide you with the basics so that you can feel confident going through our other lectures and understanding what is happening."
      ]
    },
    {
      "cell_type": "markdown",
      "metadata": {
        "id": "FNzfr1EnR4Wb"
      },
      "source": [
        "## Code Comments\n",
        "\n",
        "A comment is a note made by a programmer in the source code of a program. Its purpose is to clarify the source code and make it easier for people to follow along with what is happening. Anything in a comment is generally ignored when the code is actually run, making comments useful for including explanations and reasoning as well as removing specific lines of code that you may be unsure about. Comments in Python are created by using the pound symbol (`# Insert Text Here`). Including a `#` in a line of code will comment out anything that follows it."
      ]
    },
    {
      "cell_type": "code",
      "metadata": {
        "id": "74RVqsybR4Wd"
      },
      "source": [
        "# This is a comment\n",
        "# These lines of code will not change any values\n",
        "# Anything following the first # is not run as code"
      ],
      "execution_count": 1,
      "outputs": []
    },
    {
      "cell_type": "code",
      "metadata": {
        "id": "wtyBuYRTR4We"
      },
      "source": [
        "# Esto es un comentario\n",
        "# Estas lineas de codigo no cambiaran ningún valor\n",
        "# Cualquier cosa que siga al primer # no se ejecutará como código"
      ],
      "execution_count": 2,
      "outputs": []
    },
    {
      "cell_type": "markdown",
      "metadata": {
        "id": "vidvDKmrR4We"
      },
      "source": [
        "You may hear text enclosed in triple quotes (`\"\"\" Insert Text Here \"\"\"`) referred to as multi-line comments, but this is not entirely accurate. This is a special type of `string` (a data type we will cover), called a `docstring`, used to explain the purpose of a function."
      ]
    },
    {
      "cell_type": "code",
      "metadata": {
        "id": "XqOQG5_hR4We",
        "colab": {
          "base_uri": "https://localhost:8080/",
          "height": 35
        },
        "outputId": "13e403df-9dc6-4942-9757-325170f492f1"
      },
      "source": [
        "\"\"\" This is a special string \"\"\""
      ],
      "execution_count": 3,
      "outputs": [
        {
          "output_type": "execute_result",
          "data": {
            "application/vnd.google.colaboratory.intrinsic+json": {
              "type": "string"
            },
            "text/plain": [
              "' This is a special string '"
            ]
          },
          "metadata": {
            "tags": []
          },
          "execution_count": 3
        }
      ]
    },
    {
      "cell_type": "code",
      "metadata": {
        "id": "ALaTYQLQR4Wg",
        "colab": {
          "base_uri": "https://localhost:8080/",
          "height": 35
        },
        "outputId": "1e21f653-3a6d-4cf7-8fad-9e2a3e980490"
      },
      "source": [
        "\"\"\" Esto es un docstring \"\"\""
      ],
      "execution_count": 4,
      "outputs": [
        {
          "output_type": "execute_result",
          "data": {
            "application/vnd.google.colaboratory.intrinsic+json": {
              "type": "string"
            },
            "text/plain": [
              "' Esto es un docstring '"
            ]
          },
          "metadata": {
            "tags": []
          },
          "execution_count": 4
        }
      ]
    },
    {
      "cell_type": "markdown",
      "metadata": {
        "id": "8VbZ0GmtR4Wi"
      },
      "source": [
        "Make sure you read the comments within each code cell (if they are there). They will provide more real-time explanations of what is going on as you look at each line of code."
      ]
    },
    {
      "cell_type": "markdown",
      "metadata": {
        "id": "oqeE7IuhR4Wj"
      },
      "source": [
        "## Variables\n",
        "\n",
        "Variables provide names for values in programming. If you want to save a value for later or repeated use, you give the value a name, storing the contents in a variable. Variables in programming work in a fundamentally similar way to variables in algebra, but in Python they can take on various different data types.\n",
        "\n",
        "The basic variable types that we will cover in this section are `integers`, `floating point numbers`, `booleans`, and `strings`. \n",
        "\n",
        "An `integer` in programming is the same as in mathematics, a round number with no values after the decimal point. We use the built-in `print` function here to display the values of our variables as well as their types!"
      ]
    },
    {
      "cell_type": "code",
      "metadata": {
        "id": "n_cHe1wxR4Wl",
        "colab": {
          "base_uri": "https://localhost:8080/"
        },
        "outputId": "f38d503b-faf0-4249-acf6-e0a994f0958d"
      },
      "source": [
        "my_integer = 50\n",
        "print(my_integer, type(my_integer))"
      ],
      "execution_count": 5,
      "outputs": [
        {
          "output_type": "stream",
          "text": [
            "50 <class 'int'>\n"
          ],
          "name": "stdout"
        }
      ]
    },
    {
      "cell_type": "code",
      "metadata": {
        "id": "ruvTcR5DR4Wl",
        "colab": {
          "base_uri": "https://localhost:8080/"
        },
        "outputId": "4a12eb5c-1ef6-4e83-8332-0e96238a529f"
      },
      "source": [
        "my_int = 1302\n",
        "print(my_int, type(my_int))"
      ],
      "execution_count": 6,
      "outputs": [
        {
          "output_type": "stream",
          "text": [
            "1302 <class 'int'>\n"
          ],
          "name": "stdout"
        }
      ]
    },
    {
      "cell_type": "markdown",
      "metadata": {
        "id": "V91sUWxFR4Wm"
      },
      "source": [
        "Variables, regardless of type, are assigned by using a single equals sign (`=`). Variables are case-sensitive so any changes in variation in the capitals of a variable name will reference a different variable entirely."
      ]
    },
    {
      "cell_type": "code",
      "metadata": {
        "colab": {
          "base_uri": "https://localhost:8080/",
          "height": 180
        },
        "id": "u0ennmnfR4Wm",
        "outputId": "a21f3e9a-7bd4-4cc3-c945-4170937aca80"
      },
      "source": [
        "one = 1\n",
        "print(One)"
      ],
      "execution_count": 7,
      "outputs": [
        {
          "output_type": "error",
          "ename": "NameError",
          "evalue": "ignored",
          "traceback": [
            "\u001b[0;31m---------------------------------------------------------------------------\u001b[0m",
            "\u001b[0;31mNameError\u001b[0m                                 Traceback (most recent call last)",
            "\u001b[0;32m<ipython-input-7-6b74af782f90>\u001b[0m in \u001b[0;36m<module>\u001b[0;34m()\u001b[0m\n\u001b[1;32m      1\u001b[0m \u001b[0mone\u001b[0m \u001b[0;34m=\u001b[0m \u001b[0;36m1\u001b[0m\u001b[0;34m\u001b[0m\u001b[0;34m\u001b[0m\u001b[0m\n\u001b[0;32m----> 2\u001b[0;31m \u001b[0mprint\u001b[0m\u001b[0;34m(\u001b[0m\u001b[0mOne\u001b[0m\u001b[0;34m)\u001b[0m\u001b[0;34m\u001b[0m\u001b[0;34m\u001b[0m\u001b[0m\n\u001b[0m",
            "\u001b[0;31mNameError\u001b[0m: name 'One' is not defined"
          ]
        }
      ]
    },
    {
      "cell_type": "code",
      "metadata": {
        "id": "OPPmNWwfR4Wn",
        "colab": {
          "base_uri": "https://localhost:8080/",
          "height": 180
        },
        "outputId": "b1092fc5-dfc5-4cde-d99c-117136ff0a6a"
      },
      "source": [
        "seven = 7\n",
        "print(Seven)"
      ],
      "execution_count": 9,
      "outputs": [
        {
          "output_type": "error",
          "ename": "NameError",
          "evalue": "ignored",
          "traceback": [
            "\u001b[0;31m---------------------------------------------------------------------------\u001b[0m",
            "\u001b[0;31mNameError\u001b[0m                                 Traceback (most recent call last)",
            "\u001b[0;32m<ipython-input-9-7054ebcb00ad>\u001b[0m in \u001b[0;36m<module>\u001b[0;34m()\u001b[0m\n\u001b[1;32m      1\u001b[0m \u001b[0mseven\u001b[0m \u001b[0;34m=\u001b[0m \u001b[0;36m7\u001b[0m\u001b[0;34m\u001b[0m\u001b[0;34m\u001b[0m\u001b[0m\n\u001b[0;32m----> 2\u001b[0;31m \u001b[0mprint\u001b[0m\u001b[0;34m(\u001b[0m\u001b[0mSeven\u001b[0m\u001b[0;34m)\u001b[0m\u001b[0;34m\u001b[0m\u001b[0;34m\u001b[0m\u001b[0m\n\u001b[0m",
            "\u001b[0;31mNameError\u001b[0m: name 'Seven' is not defined"
          ]
        }
      ]
    },
    {
      "cell_type": "markdown",
      "metadata": {
        "id": "zsTIdcqRR4Wo"
      },
      "source": [
        "A `floating point` number, or a `float` is a fancy name for a real number (again as in mathematics). To define a `float`, we need to either include a decimal point or specify that the value is a float."
      ]
    },
    {
      "cell_type": "code",
      "metadata": {
        "scrolled": true,
        "id": "ghziwpVPR4Wo",
        "colab": {
          "base_uri": "https://localhost:8080/"
        },
        "outputId": "0025ea18-3bad-4ce2-a0b5-f4b7bb4c12b7"
      },
      "source": [
        "my_float = 1.0\n",
        "print(my_float, type(my_float))\n",
        "my_float = float(1)\n",
        "print(my_float, type(my_float))"
      ],
      "execution_count": 10,
      "outputs": [
        {
          "output_type": "stream",
          "text": [
            "1.0 <class 'float'>\n",
            "1.0 <class 'float'>\n"
          ],
          "name": "stdout"
        }
      ]
    },
    {
      "cell_type": "code",
      "metadata": {
        "id": "KGYsngjAR4Wp",
        "colab": {
          "base_uri": "https://localhost:8080/"
        },
        "outputId": "fe85757a-7d36-44d8-e6c9-bc4299f0b4cc"
      },
      "source": [
        "my_floating = 4.0\n",
        "print(my_floating, type(my_floating))\n",
        "my_floating = float(1)\n",
        "print( my_floating, type(my_floating))"
      ],
      "execution_count": 11,
      "outputs": [
        {
          "output_type": "stream",
          "text": [
            "4.0 <class 'float'>\n",
            "1.0 <class 'float'>\n"
          ],
          "name": "stdout"
        }
      ]
    },
    {
      "cell_type": "markdown",
      "metadata": {
        "id": "SxGkSYSxR4Wp"
      },
      "source": [
        "A variable of type `float` will not round the number that you store in it, while a variable of type `integer` will. This makes `floats` more suitable for mathematical calculations where you want more than just integers.\n",
        "\n",
        "Note that as we used the `float()` function to force an number to be considered a `float`, we can use the `int()` function to force a number to be considered an `int`."
      ]
    },
    {
      "cell_type": "code",
      "metadata": {
        "id": "W6FOFdYqR4Wq",
        "colab": {
          "base_uri": "https://localhost:8080/"
        },
        "outputId": "8faab1b8-658b-4609-852c-e2b0b1e535da"
      },
      "source": [
        "my_int = int(3.14159)\n",
        "print(my_int, type(my_int))"
      ],
      "execution_count": 12,
      "outputs": [
        {
          "output_type": "stream",
          "text": [
            "3 <class 'int'>\n"
          ],
          "name": "stdout"
        }
      ]
    },
    {
      "cell_type": "code",
      "metadata": {
        "id": "Qn4P0PXmR4Wq",
        "colab": {
          "base_uri": "https://localhost:8080/"
        },
        "outputId": "33ec4013-799c-43d8-90b6-3f9ac324c82f"
      },
      "source": [
        "my_integer = int(2.71828)\n",
        "print(my_integer, type(my_integer))"
      ],
      "execution_count": 13,
      "outputs": [
        {
          "output_type": "stream",
          "text": [
            "2 <class 'int'>\n"
          ],
          "name": "stdout"
        }
      ]
    },
    {
      "cell_type": "markdown",
      "metadata": {
        "id": "Go0ljmToR4Wq"
      },
      "source": [
        "The `int()` function will also truncate any digits that a number may have after the decimal point!\n",
        "\n",
        "Strings allow you to include text as a variable to operate on. They are defined using either single quotes ('') or double quotes (\"\")."
      ]
    },
    {
      "cell_type": "code",
      "metadata": {
        "id": "bFuZWU52R4Wr",
        "colab": {
          "base_uri": "https://localhost:8080/"
        },
        "outputId": "99459471-d9a8-4924-c7f5-c6951c45f701"
      },
      "source": [
        "my_string = 'This is a string with single quotes'\n",
        "print(my_string)\n",
        "my_string = \"This is a string with double quotes\"\n",
        "print(my_string)"
      ],
      "execution_count": 14,
      "outputs": [
        {
          "output_type": "stream",
          "text": [
            "This is a string with single quotes\n",
            "This is a string with double quotes\n"
          ],
          "name": "stdout"
        }
      ]
    },
    {
      "cell_type": "code",
      "metadata": {
        "id": "hXERiD8dR4Wr",
        "colab": {
          "base_uri": "https://localhost:8080/"
        },
        "outputId": "e6dfb5cb-0949-4422-b328-1cb2982fcf1f"
      },
      "source": [
        "my_str = 'Esto es una cadena con comillas simples'\n",
        "print(my_str)\n",
        "my_str = \"Esto es una cadena con comillas dobles\"\n",
        "print(my_str)"
      ],
      "execution_count": 15,
      "outputs": [
        {
          "output_type": "stream",
          "text": [
            "Esto es una cadena con comillas simples\n",
            "Esto es una cadena con comillas dobles\n"
          ],
          "name": "stdout"
        }
      ]
    },
    {
      "cell_type": "markdown",
      "metadata": {
        "id": "vQwCfT_JR4Wr"
      },
      "source": [
        "Both are allowed so that we can include apostrophes or quotation marks in a string if we so choose."
      ]
    },
    {
      "cell_type": "code",
      "metadata": {
        "id": "VdoKNICYR4Ws",
        "colab": {
          "base_uri": "https://localhost:8080/"
        },
        "outputId": "f7bf0111-83a0-402c-974d-b99fca338a04"
      },
      "source": [
        "my_string = '\"Jabberwocky\", by Lewis Carroll'\n",
        "print(my_str)\n",
        "my_string = \"'Twas brillig, and the slithy toves / Did gyre and gimble in the wabe;\"\n",
        "print(my_str)"
      ],
      "execution_count": 16,
      "outputs": [
        {
          "output_type": "stream",
          "text": [
            "Esto es una cadena con comillas dobles\n",
            "Esto es una cadena con comillas dobles\n"
          ],
          "name": "stdout"
        }
      ]
    },
    {
      "cell_type": "code",
      "metadata": {
        "id": "Wi7WxvTuR4Wt",
        "colab": {
          "base_uri": "https://localhost:8080/"
        },
        "outputId": "2b901fb3-9f2f-4728-e5b0-a109049c95df"
      },
      "source": [
        "my_string = '\"Metamorfósis\", por Franz Kafka'\n",
        "print(my_str)\n",
        "my_string = \"'Vicent Vega, y la esposa de Marsellus Wallace;\"\n",
        "print(my_str)"
      ],
      "execution_count": 17,
      "outputs": [
        {
          "output_type": "stream",
          "text": [
            "Esto es una cadena con comillas dobles\n",
            "Esto es una cadena con comillas dobles\n"
          ],
          "name": "stdout"
        }
      ]
    },
    {
      "cell_type": "markdown",
      "metadata": {
        "id": "bNuG1gVuR4Wt"
      },
      "source": [
        "Booleans, or `bools` are binary variable types. A `bool` can only take on one of two values, these being `True` or `False`. There is much more to this idea of truth values when it comes to programming, which we cover later in the [Logical Operators](#id-section5) of this notebook."
      ]
    },
    {
      "cell_type": "code",
      "metadata": {
        "id": "NkSjhJ1iR4Wu",
        "colab": {
          "base_uri": "https://localhost:8080/"
        },
        "outputId": "5d272192-92ef-40c7-b6f6-e48cc992af3b"
      },
      "source": [
        "my_bool = True\n",
        "print(my_bool, type(my_bool))"
      ],
      "execution_count": 18,
      "outputs": [
        {
          "output_type": "stream",
          "text": [
            "True <class 'bool'>\n"
          ],
          "name": "stdout"
        }
      ]
    },
    {
      "cell_type": "code",
      "metadata": {
        "id": "gL8jyhq3R4Wu",
        "colab": {
          "base_uri": "https://localhost:8080/"
        },
        "outputId": "a3caf48f-0f80-4163-d546-456bb170bb94"
      },
      "source": [
        "my_boolean = True\n",
        "print(my_boolean, type(my_boolean))"
      ],
      "execution_count": 19,
      "outputs": [
        {
          "output_type": "stream",
          "text": [
            "True <class 'bool'>\n"
          ],
          "name": "stdout"
        }
      ]
    },
    {
      "cell_type": "markdown",
      "metadata": {
        "id": "qIH1cvwTR4Wu"
      },
      "source": [
        "There are many more data types that you can assign as variables in Python, but these are the basic ones! We will cover a few more later as we move through this tutorial."
      ]
    },
    {
      "cell_type": "markdown",
      "metadata": {
        "id": "MTFJ3uonR4Wv"
      },
      "source": [
        "## Basic Math\n",
        "\n",
        "Python has a number of built-in math functions. These can be extended even further by importing the **math** package or by including any number of other calculation-based packages.\n",
        "\n",
        "All of the basic arithmetic operations are supported: `+`, `-`, `/`, and `*`. You can create exponents by using `**` and modular arithmetic is introduced with the mod operator, `%`."
      ]
    },
    {
      "cell_type": "code",
      "metadata": {
        "id": "qrpHdNOKR4Wv",
        "colab": {
          "base_uri": "https://localhost:8080/"
        },
        "outputId": "8e2322b7-4be7-4dc4-d410-d12548e32b70"
      },
      "source": [
        "print('Addition: ', 2 + 2)\n",
        "print('Subtraction: ', 7 - 4)\n",
        "print('Multiplication: ', 2 * 5)\n",
        "print('Division: ', 10 / 2)\n",
        "print('Exponentiation: ', 3**2)"
      ],
      "execution_count": 20,
      "outputs": [
        {
          "output_type": "stream",
          "text": [
            "Addition:  4\n",
            "Subtraction:  3\n",
            "Multiplication:  10\n",
            "Division:  5.0\n",
            "Exponentiation:  9\n"
          ],
          "name": "stdout"
        }
      ]
    },
    {
      "cell_type": "code",
      "metadata": {
        "id": "S3j3nZZlR4Wv",
        "colab": {
          "base_uri": "https://localhost:8080/"
        },
        "outputId": "4ef2aaa1-2bb7-4273-b956-f6fd819d6be7"
      },
      "source": [
        "print('Suma: ', 36 + 21)\n",
        "print('Resta: ', 59 - 65)\n",
        "print('Multiplicacion: ', 4 * 7)\n",
        "print('Division: ', 99 / 5)\n",
        "print('Exponenciacion: ', 51**11)"
      ],
      "execution_count": 21,
      "outputs": [
        {
          "output_type": "stream",
          "text": [
            "Suma:  57\n",
            "Resta:  -6\n",
            "Multiplicacion:  28\n",
            "Division:  19.8\n",
            "Exponenciacion:  6071163615208263051\n"
          ],
          "name": "stdout"
        }
      ]
    },
    {
      "cell_type": "markdown",
      "metadata": {
        "id": "9HM7PaGOR4Ww"
      },
      "source": [
        "If you are not familiar with the the mod operator, it operates like a remainder function. If we type $15 \\ \\% \\ 4$, it will return the remainder after dividing $15$ by $4$."
      ]
    },
    {
      "cell_type": "code",
      "metadata": {
        "id": "u7ont4BNR4Ww",
        "colab": {
          "base_uri": "https://localhost:8080/"
        },
        "outputId": "724b0707-0b5c-45a9-af38-54f23eab7e5d"
      },
      "source": [
        "print('Modulo: ', 15 % 4)"
      ],
      "execution_count": 22,
      "outputs": [
        {
          "output_type": "stream",
          "text": [
            "Modulo:  3\n"
          ],
          "name": "stdout"
        }
      ]
    },
    {
      "cell_type": "code",
      "metadata": {
        "id": "mRh6f3ZsR4Ww",
        "colab": {
          "base_uri": "https://localhost:8080/"
        },
        "outputId": "99235f75-f0c6-4ddf-89d1-e38b1d4da9e3"
      },
      "source": [
        "print('Modulo: ', 1597 % 13)"
      ],
      "execution_count": 23,
      "outputs": [
        {
          "output_type": "stream",
          "text": [
            "Modulo:  11\n"
          ],
          "name": "stdout"
        }
      ]
    },
    {
      "cell_type": "markdown",
      "metadata": {
        "id": "W_cifl5oR4Wx"
      },
      "source": [
        "Mathematical functions also work on variables!"
      ]
    },
    {
      "cell_type": "code",
      "metadata": {
        "scrolled": true,
        "id": "14k2F9doR4Wx",
        "colab": {
          "base_uri": "https://localhost:8080/"
        },
        "outputId": "211be252-23ff-439d-ab57-7be3cf07dab6"
      },
      "source": [
        "first_integer = 4\n",
        "second_integer = 5\n",
        "print(first_integer * second_integer)"
      ],
      "execution_count": 24,
      "outputs": [
        {
          "output_type": "stream",
          "text": [
            "20\n"
          ],
          "name": "stdout"
        }
      ]
    },
    {
      "cell_type": "code",
      "metadata": {
        "id": "R9wg6A7sR4Wy",
        "colab": {
          "base_uri": "https://localhost:8080/"
        },
        "outputId": "bef10df2-d28f-4435-fc40-f5dc8623471c"
      },
      "source": [
        "primero = 6\n",
        "segundo = 9\n",
        "print(primero * segundo)"
      ],
      "execution_count": 25,
      "outputs": [
        {
          "output_type": "stream",
          "text": [
            "54\n"
          ],
          "name": "stdout"
        }
      ]
    },
    {
      "cell_type": "markdown",
      "metadata": {
        "id": "Hmuwm8ibR4Wy"
      },
      "source": [
        "Make sure that your variables are floats if you want to have decimal points in your answer. If you perform math exclusively with integers, you get an integer. Including any float in the calculation will make the result a float."
      ]
    },
    {
      "cell_type": "code",
      "metadata": {
        "id": "4J7fafN5R4Wy",
        "colab": {
          "base_uri": "https://localhost:8080/"
        },
        "outputId": "3009d39d-e4c1-443d-db55-aa6facb4f2d3"
      },
      "source": [
        "first_integer = 11\n",
        "second_integer = 3\n",
        "print(first_integer / second_integer)"
      ],
      "execution_count": 26,
      "outputs": [
        {
          "output_type": "stream",
          "text": [
            "3.6666666666666665\n"
          ],
          "name": "stdout"
        }
      ]
    },
    {
      "cell_type": "code",
      "metadata": {
        "id": "4m5FaGhrR4Wz",
        "colab": {
          "base_uri": "https://localhost:8080/"
        },
        "outputId": "b7516d16-92df-470e-9c18-a51b10873424"
      },
      "source": [
        "primero = 58\n",
        "segundo = 9\n",
        "print(primero / segundo)"
      ],
      "execution_count": 27,
      "outputs": [
        {
          "output_type": "stream",
          "text": [
            "6.444444444444445\n"
          ],
          "name": "stdout"
        }
      ]
    },
    {
      "cell_type": "code",
      "metadata": {
        "id": "o_3a1jhgR4Wz",
        "colab": {
          "base_uri": "https://localhost:8080/"
        },
        "outputId": "d4a5a11f-bf68-43fa-d484-6a5f9d764794"
      },
      "source": [
        "primero = 11.0\n",
        "segundo = 3.0\n",
        "print(primero / segundo)"
      ],
      "execution_count": 28,
      "outputs": [
        {
          "output_type": "stream",
          "text": [
            "3.6666666666666665\n"
          ],
          "name": "stdout"
        }
      ]
    },
    {
      "cell_type": "markdown",
      "metadata": {
        "id": "DXiWvAKLR4Wz"
      },
      "source": [
        "Python has a few built-in math functions. The most notable of these are:\n",
        "\n",
        "* `abs()`\n",
        "* `round()`\n",
        "* `max()`\n",
        "* `min()`\n",
        "* `sum()`\n",
        "\n",
        "These functions all act as you would expect, given their names. Calling `abs()` on a number will return its absolute value. The `round()` function will round a number to a specified number of the decimal points (the default is $0$). Calling `max()` or `min()` on a collection of numbers will return, respectively, the maximum or minimum value in the collection. Calling `sum()` on a collection of numbers will add them all up. If you're not familiar with how collections of values in Python work, don't worry! We will cover collections in-depth in the next section. \n",
        "\n",
        "Additional math functionality can be added in with the `math` package."
      ]
    },
    {
      "cell_type": "code",
      "metadata": {
        "id": "VroWPVJoR4W0"
      },
      "source": [
        "import math"
      ],
      "execution_count": 29,
      "outputs": []
    },
    {
      "cell_type": "code",
      "metadata": {
        "id": "VqOporg-R4W0"
      },
      "source": [
        "import math as m"
      ],
      "execution_count": 30,
      "outputs": []
    },
    {
      "cell_type": "markdown",
      "metadata": {
        "id": "N5Iq2-4eR4W0"
      },
      "source": [
        "The math library adds a long list of new mathematical functions to Python. Feel free to check out the [documentation](https://docs.python.org/2/library/math.html) for the full list and details. It concludes some mathematical constants"
      ]
    },
    {
      "cell_type": "code",
      "metadata": {
        "id": "wFJv8m09R4W0",
        "colab": {
          "base_uri": "https://localhost:8080/"
        },
        "outputId": "16b3f292-9b89-4aec-8f26-65bf8bbdf74a"
      },
      "source": [
        "print('Pi: ', math.pi)\n",
        "print(\"Euler's Constant: \", math.e)"
      ],
      "execution_count": 31,
      "outputs": [
        {
          "output_type": "stream",
          "text": [
            "Pi:  3.141592653589793\n",
            "Euler's Constant:  2.718281828459045\n"
          ],
          "name": "stdout"
        }
      ]
    },
    {
      "cell_type": "code",
      "metadata": {
        "id": "9Uw90NbFR4W1",
        "colab": {
          "base_uri": "https://localhost:8080/"
        },
        "outputId": "af95a0fd-789c-4de2-f3a0-da7fd4818e84"
      },
      "source": [
        "print('Pi: ', m.pi)\n",
        "print(\"Euler's Constant: \", m.e)"
      ],
      "execution_count": 32,
      "outputs": [
        {
          "output_type": "stream",
          "text": [
            "Pi:  3.141592653589793\n",
            "Euler's Constant:  2.718281828459045\n"
          ],
          "name": "stdout"
        }
      ]
    },
    {
      "cell_type": "markdown",
      "metadata": {
        "id": "xGPnRRUWR4W1"
      },
      "source": [
        "As well as some commonly used math functions"
      ]
    },
    {
      "cell_type": "code",
      "metadata": {
        "id": "HiYnbBf1R4W1",
        "colab": {
          "base_uri": "https://localhost:8080/"
        },
        "outputId": "2cef10e8-c7c9-4300-8ea7-5c51180323bd"
      },
      "source": [
        "print('Cosine of pi: ', math.cos(math.pi))"
      ],
      "execution_count": 33,
      "outputs": [
        {
          "output_type": "stream",
          "text": [
            "Cosine of pi:  -1.0\n"
          ],
          "name": "stdout"
        }
      ]
    },
    {
      "cell_type": "code",
      "metadata": {
        "id": "MmvM4lYgR4W1",
        "colab": {
          "base_uri": "https://localhost:8080/"
        },
        "outputId": "16f2b617-ec6a-44fd-ffdc-5259b8a1f6d8"
      },
      "source": [
        "print('Coseno de pi: ', m.cos(m.pi))"
      ],
      "execution_count": 34,
      "outputs": [
        {
          "output_type": "stream",
          "text": [
            "Coseno de pi:  -1.0\n"
          ],
          "name": "stdout"
        }
      ]
    },
    {
      "cell_type": "markdown",
      "metadata": {
        "id": "RFXDlMOLR4W2"
      },
      "source": [
        "## Collections\n",
        "### Lists\n",
        "\n",
        "A `list` in Python is an ordered collection of objects that can contain any data type. We define a `list` using brackets (`[]`)."
      ]
    },
    {
      "cell_type": "code",
      "metadata": {
        "id": "m8MWM1GpR4W2",
        "colab": {
          "base_uri": "https://localhost:8080/"
        },
        "outputId": "d270f59d-dfd5-4d99-935d-8e6dc2bf465d"
      },
      "source": [
        "my_list = [1, 2, 3]\n",
        "print(my_list)"
      ],
      "execution_count": 137,
      "outputs": [
        {
          "output_type": "stream",
          "text": [
            "[1, 2, 3]\n"
          ],
          "name": "stdout"
        }
      ]
    },
    {
      "cell_type": "code",
      "metadata": {
        "id": "p97UQe_RR4W2",
        "colab": {
          "base_uri": "https://localhost:8080/"
        },
        "outputId": "07cb744e-392d-458a-82e4-2c72eac36535"
      },
      "source": [
        "mi_lista = [56, 26, 333]\n",
        "print(mi_lista)"
      ],
      "execution_count": 145,
      "outputs": [
        {
          "output_type": "stream",
          "text": [
            "[56, 26, 333]\n"
          ],
          "name": "stdout"
        }
      ]
    },
    {
      "cell_type": "markdown",
      "metadata": {
        "id": "8ooKyCa4R4W3"
      },
      "source": [
        "We can access and index the list by using brackets as well. In order to select an individual element, simply type the list name followed by the index of the item you are looking for in braces."
      ]
    },
    {
      "cell_type": "code",
      "metadata": {
        "id": "kUyU5KzqR4W3",
        "colab": {
          "base_uri": "https://localhost:8080/"
        },
        "outputId": "e371a76b-92e7-48b7-de42-23c111bf249b"
      },
      "source": [
        "print(my_list[0])\n",
        "print(my_list[2])"
      ],
      "execution_count": 37,
      "outputs": [
        {
          "output_type": "stream",
          "text": [
            "1\n",
            "3\n"
          ],
          "name": "stdout"
        }
      ]
    },
    {
      "cell_type": "code",
      "metadata": {
        "id": "PTT4h9QqR4W3",
        "colab": {
          "base_uri": "https://localhost:8080/"
        },
        "outputId": "afc05efe-d669-4fec-d958-13030d86ad32"
      },
      "source": [
        "print(mi_lista[0])\n",
        "print(mi_lista[2])"
      ],
      "execution_count": 38,
      "outputs": [
        {
          "output_type": "stream",
          "text": [
            "56\n",
            "333\n"
          ],
          "name": "stdout"
        }
      ]
    },
    {
      "cell_type": "markdown",
      "metadata": {
        "id": "Ge0UHKqAR4W4"
      },
      "source": [
        "Indexing in Python starts from $0$. If you have a list of length $n$, the first element of the list is at index $0$, the second element is at index $1$, and so on and so forth. The final element of the list will be at index $n-1$. Be careful! Trying to access a non-existent index will cause an error."
      ]
    },
    {
      "cell_type": "code",
      "metadata": {
        "id": "msmJxGJqR4W4",
        "colab": {
          "base_uri": "https://localhost:8080/",
          "height": 197
        },
        "outputId": "5cd43292-1755-4577-8de0-9528ff5c8056"
      },
      "source": [
        "print('The first, second, and third list elements: ', my_list[0], my_list[1], my_list[2])\n",
        "print('Accessing outside the list bounds causes an error: ', my_list[3])"
      ],
      "execution_count": 39,
      "outputs": [
        {
          "output_type": "stream",
          "text": [
            "The first, second, and third list elements:  1 2 3\n"
          ],
          "name": "stdout"
        },
        {
          "output_type": "error",
          "ename": "IndexError",
          "evalue": "ignored",
          "traceback": [
            "\u001b[0;31m---------------------------------------------------------------------------\u001b[0m",
            "\u001b[0;31mIndexError\u001b[0m                                Traceback (most recent call last)",
            "\u001b[0;32m<ipython-input-39-a098d5dd42c3>\u001b[0m in \u001b[0;36m<module>\u001b[0;34m()\u001b[0m\n\u001b[1;32m      1\u001b[0m \u001b[0mprint\u001b[0m\u001b[0;34m(\u001b[0m\u001b[0;34m'The first, second, and third list elements: '\u001b[0m\u001b[0;34m,\u001b[0m \u001b[0mmy_list\u001b[0m\u001b[0;34m[\u001b[0m\u001b[0;36m0\u001b[0m\u001b[0;34m]\u001b[0m\u001b[0;34m,\u001b[0m \u001b[0mmy_list\u001b[0m\u001b[0;34m[\u001b[0m\u001b[0;36m1\u001b[0m\u001b[0;34m]\u001b[0m\u001b[0;34m,\u001b[0m \u001b[0mmy_list\u001b[0m\u001b[0;34m[\u001b[0m\u001b[0;36m2\u001b[0m\u001b[0;34m]\u001b[0m\u001b[0;34m)\u001b[0m\u001b[0;34m\u001b[0m\u001b[0;34m\u001b[0m\u001b[0m\n\u001b[0;32m----> 2\u001b[0;31m \u001b[0mprint\u001b[0m\u001b[0;34m(\u001b[0m\u001b[0;34m'Accessing outside the list bounds causes an error: '\u001b[0m\u001b[0;34m,\u001b[0m \u001b[0mmy_list\u001b[0m\u001b[0;34m[\u001b[0m\u001b[0;36m3\u001b[0m\u001b[0;34m]\u001b[0m\u001b[0;34m)\u001b[0m\u001b[0;34m\u001b[0m\u001b[0;34m\u001b[0m\u001b[0m\n\u001b[0m",
            "\u001b[0;31mIndexError\u001b[0m: list index out of range"
          ]
        }
      ]
    },
    {
      "cell_type": "code",
      "metadata": {
        "id": "niwH-zzCR4W5",
        "colab": {
          "base_uri": "https://localhost:8080/",
          "height": 197
        },
        "outputId": "3ca4a5a3-49e3-4d6a-b9d1-4a7560594a05"
      },
      "source": [
        "print('El primer, segundo y tercer elementos de la lista: ', mi_lista[0], mi_lista[1], mi_lista[2])\n",
        "print('Acceder fuera de los límites de la lista causa un error: ', mi_lista[3])"
      ],
      "execution_count": 40,
      "outputs": [
        {
          "output_type": "stream",
          "text": [
            "El primer, segundo y tercer elementos de la lista:  56 26 333\n"
          ],
          "name": "stdout"
        },
        {
          "output_type": "error",
          "ename": "IndexError",
          "evalue": "ignored",
          "traceback": [
            "\u001b[0;31m---------------------------------------------------------------------------\u001b[0m",
            "\u001b[0;31mIndexError\u001b[0m                                Traceback (most recent call last)",
            "\u001b[0;32m<ipython-input-40-f940b0b75f00>\u001b[0m in \u001b[0;36m<module>\u001b[0;34m()\u001b[0m\n\u001b[1;32m      1\u001b[0m \u001b[0mprint\u001b[0m\u001b[0;34m(\u001b[0m\u001b[0;34m'El primer, segundo y tercer elementos de la lista: '\u001b[0m\u001b[0;34m,\u001b[0m \u001b[0mmi_lista\u001b[0m\u001b[0;34m[\u001b[0m\u001b[0;36m0\u001b[0m\u001b[0;34m]\u001b[0m\u001b[0;34m,\u001b[0m \u001b[0mmi_lista\u001b[0m\u001b[0;34m[\u001b[0m\u001b[0;36m1\u001b[0m\u001b[0;34m]\u001b[0m\u001b[0;34m,\u001b[0m \u001b[0mmi_lista\u001b[0m\u001b[0;34m[\u001b[0m\u001b[0;36m2\u001b[0m\u001b[0;34m]\u001b[0m\u001b[0;34m)\u001b[0m\u001b[0;34m\u001b[0m\u001b[0;34m\u001b[0m\u001b[0m\n\u001b[0;32m----> 2\u001b[0;31m \u001b[0mprint\u001b[0m\u001b[0;34m(\u001b[0m\u001b[0;34m'Acceder fuera de los límites de la lista causa un error: '\u001b[0m\u001b[0;34m,\u001b[0m \u001b[0mmi_lista\u001b[0m\u001b[0;34m[\u001b[0m\u001b[0;36m3\u001b[0m\u001b[0;34m]\u001b[0m\u001b[0;34m)\u001b[0m\u001b[0;34m\u001b[0m\u001b[0;34m\u001b[0m\u001b[0m\n\u001b[0m",
            "\u001b[0;31mIndexError\u001b[0m: list index out of range"
          ]
        }
      ]
    },
    {
      "cell_type": "markdown",
      "metadata": {
        "id": "5pfDEpK1R4W5"
      },
      "source": [
        "We can see the number of elements in a list by calling the `len()` function."
      ]
    },
    {
      "cell_type": "code",
      "metadata": {
        "id": "SFzrUvLqR4W5",
        "colab": {
          "base_uri": "https://localhost:8080/"
        },
        "outputId": "e9ba48a8-73ec-4fa9-a1fc-6dc7adc42b19"
      },
      "source": [
        "print(len(my_list))"
      ],
      "execution_count": 41,
      "outputs": [
        {
          "output_type": "stream",
          "text": [
            "3\n"
          ],
          "name": "stdout"
        }
      ]
    },
    {
      "cell_type": "code",
      "metadata": {
        "id": "ousC6ffQR4W6",
        "colab": {
          "base_uri": "https://localhost:8080/"
        },
        "outputId": "05c99682-abc2-41fe-d91e-dd24c193580e"
      },
      "source": [
        "print(len(mi_lista))"
      ],
      "execution_count": 42,
      "outputs": [
        {
          "output_type": "stream",
          "text": [
            "3\n"
          ],
          "name": "stdout"
        }
      ]
    },
    {
      "cell_type": "markdown",
      "metadata": {
        "id": "nWxO6ZKjR4W6"
      },
      "source": [
        "We can update and change a list by accessing an index and assigning new value."
      ]
    },
    {
      "cell_type": "code",
      "metadata": {
        "id": "_rIAeN61R4W6",
        "colab": {
          "base_uri": "https://localhost:8080/"
        },
        "outputId": "f3ecd8c8-89a6-4e17-8ffa-22e5e1f66fc9"
      },
      "source": [
        "print(my_list)\n",
        "my_list[0] = 42\n",
        "print(my_list)"
      ],
      "execution_count": 97,
      "outputs": [
        {
          "output_type": "stream",
          "text": [
            "[1, 2, 3]\n",
            "[42, 2, 3]\n"
          ],
          "name": "stdout"
        }
      ]
    },
    {
      "cell_type": "code",
      "metadata": {
        "id": "JLwGFV-KR4W7",
        "colab": {
          "base_uri": "https://localhost:8080/"
        },
        "outputId": "f80cbb5f-64ba-4960-f768-cf2b094d7373"
      },
      "source": [
        "print(mi_lista)\n",
        "mi_lista[0] = 169\n",
        "print(mi_lista)"
      ],
      "execution_count": 44,
      "outputs": [
        {
          "output_type": "stream",
          "text": [
            "[56, 26, 333]\n",
            "[169, 26, 333]\n"
          ],
          "name": "stdout"
        }
      ]
    },
    {
      "cell_type": "markdown",
      "metadata": {
        "id": "1Szhs0KRR4W7"
      },
      "source": [
        "This is fundamentally different from how strings are handled. A `list` is mutable, meaning that you can change a `list`'s elements without changing the list itself. Some data types, like `strings`, are immutable, meaning you cannot change them at all. Once a `string` or other immutable data type has been created, it cannot be directly modified without creating an entirely new object."
      ]
    },
    {
      "cell_type": "code",
      "metadata": {
        "id": "rEdiMGUyR4W7",
        "colab": {
          "base_uri": "https://localhost:8080/",
          "height": 180
        },
        "outputId": "0f24e51f-cf6b-4cd1-95d7-73b6aea00a62"
      },
      "source": [
        "my_string = \"Strings never change\"\n",
        "my_string[0] = 'Z'"
      ],
      "execution_count": 45,
      "outputs": [
        {
          "output_type": "error",
          "ename": "TypeError",
          "evalue": "ignored",
          "traceback": [
            "\u001b[0;31m---------------------------------------------------------------------------\u001b[0m",
            "\u001b[0;31mTypeError\u001b[0m                                 Traceback (most recent call last)",
            "\u001b[0;32m<ipython-input-45-85065ecd61ab>\u001b[0m in \u001b[0;36m<module>\u001b[0;34m()\u001b[0m\n\u001b[1;32m      1\u001b[0m \u001b[0mmy_string\u001b[0m \u001b[0;34m=\u001b[0m \u001b[0;34m\"Strings never change\"\u001b[0m\u001b[0;34m\u001b[0m\u001b[0;34m\u001b[0m\u001b[0m\n\u001b[0;32m----> 2\u001b[0;31m \u001b[0mmy_string\u001b[0m\u001b[0;34m[\u001b[0m\u001b[0;36m0\u001b[0m\u001b[0;34m]\u001b[0m \u001b[0;34m=\u001b[0m \u001b[0;34m'Z'\u001b[0m\u001b[0;34m\u001b[0m\u001b[0;34m\u001b[0m\u001b[0m\n\u001b[0m",
            "\u001b[0;31mTypeError\u001b[0m: 'str' object does not support item assignment"
          ]
        }
      ]
    },
    {
      "cell_type": "code",
      "metadata": {
        "id": "vcTefD5PR4W7",
        "colab": {
          "base_uri": "https://localhost:8080/",
          "height": 180
        },
        "outputId": "fe93a63c-00c4-4d45-c26f-fae38dcd849d"
      },
      "source": [
        "my_str = \"Las cadenas nunca cambian\"\n",
        "my_str[0] = 'J'"
      ],
      "execution_count": 46,
      "outputs": [
        {
          "output_type": "error",
          "ename": "TypeError",
          "evalue": "ignored",
          "traceback": [
            "\u001b[0;31m---------------------------------------------------------------------------\u001b[0m",
            "\u001b[0;31mTypeError\u001b[0m                                 Traceback (most recent call last)",
            "\u001b[0;32m<ipython-input-46-eb55d12f03fb>\u001b[0m in \u001b[0;36m<module>\u001b[0;34m()\u001b[0m\n\u001b[1;32m      1\u001b[0m \u001b[0mmy_str\u001b[0m \u001b[0;34m=\u001b[0m \u001b[0;34m\"Las cadenas nunca cambian\"\u001b[0m\u001b[0;34m\u001b[0m\u001b[0;34m\u001b[0m\u001b[0m\n\u001b[0;32m----> 2\u001b[0;31m \u001b[0mmy_str\u001b[0m\u001b[0;34m[\u001b[0m\u001b[0;36m0\u001b[0m\u001b[0;34m]\u001b[0m \u001b[0;34m=\u001b[0m \u001b[0;34m'J'\u001b[0m\u001b[0;34m\u001b[0m\u001b[0;34m\u001b[0m\u001b[0m\n\u001b[0m",
            "\u001b[0;31mTypeError\u001b[0m: 'str' object does not support item assignment"
          ]
        }
      ]
    },
    {
      "cell_type": "markdown",
      "metadata": {
        "id": "HFFXCUd3R4W8"
      },
      "source": [
        "As we stated before, a list can contain any data type. Thus, lists can also contain strings."
      ]
    },
    {
      "cell_type": "code",
      "metadata": {
        "id": "LtIeArGZR4W8",
        "colab": {
          "base_uri": "https://localhost:8080/"
        },
        "outputId": "15b241b5-36b3-4fb1-f881-0a42816baec8"
      },
      "source": [
        "mi_lista_2 = ['perro', 'gato', 'vaca']\n",
        "print(mi_lista_2)"
      ],
      "execution_count": 55,
      "outputs": [
        {
          "output_type": "stream",
          "text": [
            "['perro', 'gato', 'vaca']\n"
          ],
          "name": "stdout"
        }
      ]
    },
    {
      "cell_type": "markdown",
      "metadata": {
        "id": "W36E9VwpR4W8"
      },
      "source": [
        "Lists can also contain multiple different data types at once!"
      ]
    },
    {
      "cell_type": "code",
      "metadata": {
        "id": "xa2RvKl1R4W8"
      },
      "source": [
        "my_list_3 = [True, 'False', 42]"
      ],
      "execution_count": 56,
      "outputs": []
    },
    {
      "cell_type": "code",
      "metadata": {
        "id": "14tyLhqkR4W9"
      },
      "source": [
        "mi_lista_3 = [True, 'False', 42]"
      ],
      "execution_count": 57,
      "outputs": []
    },
    {
      "cell_type": "markdown",
      "metadata": {
        "id": "8Kn-jH7_R4W9"
      },
      "source": [
        "If you want to put two lists together, they can be combined with a `+` symbol."
      ]
    },
    {
      "cell_type": "code",
      "metadata": {
        "id": "PyREwyf2R4W9",
        "colab": {
          "base_uri": "https://localhost:8080/"
        },
        "outputId": "c4228fe8-03da-4c37-fa4d-e6cc7baa9347"
      },
      "source": [
        "my_list_4 = my_list + mi_lista_2 + my_list_3\n",
        "print(my_list_4)"
      ],
      "execution_count": 141,
      "outputs": [
        {
          "output_type": "stream",
          "text": [
            "[1, 2, 3, 'perro', 'gato', 'vaca', True, 'False', 42]\n"
          ],
          "name": "stdout"
        }
      ]
    },
    {
      "cell_type": "code",
      "metadata": {
        "id": "TYPb-RxqR4W9",
        "colab": {
          "base_uri": "https://localhost:8080/"
        },
        "outputId": "e6516b5b-fb3b-4b32-9992-db52a08bf384"
      },
      "source": [
        "mi_lista_4 = mi_lista + mi_lista_2 + mi_lista_3\n",
        "print(mi_lista_4)"
      ],
      "execution_count": 149,
      "outputs": [
        {
          "output_type": "stream",
          "text": [
            "[56, 26, 333, 'perro', 'gato', 'vaca', True, 'False', 42]\n"
          ],
          "name": "stdout"
        }
      ]
    },
    {
      "cell_type": "markdown",
      "metadata": {
        "id": "YdLYu3euR4W-"
      },
      "source": [
        "In addition to accessing individual elements of a list, we can access groups of elements through slicing."
      ]
    },
    {
      "cell_type": "code",
      "metadata": {
        "id": "48REt2jAR4W-"
      },
      "source": [
        "my_list = ['friends', 'romans', 'countrymen', 'lend', 'me', 'your', 'ears']"
      ],
      "execution_count": 150,
      "outputs": []
    },
    {
      "cell_type": "code",
      "metadata": {
        "id": "37Ki32LeR4W-"
      },
      "source": [
        "nueva_lista = ['Has', 'escuchado', 'la', 'historia', 'del', 'hombre', 'que', 'cae', 'de', 'un', 'edificio', 'de', 'cincuenta', 'pisos']"
      ],
      "execution_count": 151,
      "outputs": []
    },
    {
      "cell_type": "markdown",
      "metadata": {
        "id": "EMTtpieaR4W-"
      },
      "source": [
        "#### Slicing\n",
        "\n",
        "We use the colon (`:`) to slice lists. "
      ]
    },
    {
      "cell_type": "code",
      "metadata": {
        "scrolled": true,
        "id": "ito8y0KXR4W-",
        "colab": {
          "base_uri": "https://localhost:8080/"
        },
        "outputId": "125ad227-6376-48d6-c036-cf4d943ebe32"
      },
      "source": [
        "print(my_list[2:4])"
      ],
      "execution_count": 152,
      "outputs": [
        {
          "output_type": "stream",
          "text": [
            "['countrymen', 'lend']\n"
          ],
          "name": "stdout"
        }
      ]
    },
    {
      "cell_type": "code",
      "metadata": {
        "id": "Z-okVrTFR4W_",
        "colab": {
          "base_uri": "https://localhost:8080/"
        },
        "outputId": "3d752ca3-b280-432d-846d-018db91545f9"
      },
      "source": [
        "print(nueva_lista[5:10])"
      ],
      "execution_count": 153,
      "outputs": [
        {
          "output_type": "stream",
          "text": [
            "['hombre', 'que', 'cae', 'de', 'un']\n"
          ],
          "name": "stdout"
        }
      ]
    },
    {
      "cell_type": "markdown",
      "metadata": {
        "id": "7M4trqABR4W_"
      },
      "source": [
        "Using `:` we can select a group of elements in the list starting from the first element indicated and going up to  (but not including) the last element indicated.\n",
        "\n",
        "We can also select everything after a certain point"
      ]
    },
    {
      "cell_type": "code",
      "metadata": {
        "scrolled": true,
        "id": "lQ5o68D0R4W_",
        "colab": {
          "base_uri": "https://localhost:8080/"
        },
        "outputId": "c2a94b4f-81fc-4389-ae44-cadc04559054"
      },
      "source": [
        "print(my_list[1:])"
      ],
      "execution_count": 154,
      "outputs": [
        {
          "output_type": "stream",
          "text": [
            "['romans', 'countrymen', 'lend', 'me', 'your', 'ears']\n"
          ],
          "name": "stdout"
        }
      ]
    },
    {
      "cell_type": "code",
      "metadata": {
        "id": "63fYp3vCR4W_",
        "colab": {
          "base_uri": "https://localhost:8080/"
        },
        "outputId": "dac3af1d-b72a-4293-c3f0-714b6b6a9dde"
      },
      "source": [
        "print(nueva_lista[5:])"
      ],
      "execution_count": 155,
      "outputs": [
        {
          "output_type": "stream",
          "text": [
            "['hombre', 'que', 'cae', 'de', 'un', 'edificio', 'de', 'cincuenta', 'pisos']\n"
          ],
          "name": "stdout"
        }
      ]
    },
    {
      "cell_type": "markdown",
      "metadata": {
        "id": "MH114nvNR4XA"
      },
      "source": [
        "And everything before a certain point"
      ]
    },
    {
      "cell_type": "code",
      "metadata": {
        "scrolled": true,
        "id": "3WlNrdvbR4XA",
        "colab": {
          "base_uri": "https://localhost:8080/"
        },
        "outputId": "b36a26e3-5b98-49a5-8da1-5290487fc44e"
      },
      "source": [
        "print(my_list[:4])"
      ],
      "execution_count": 156,
      "outputs": [
        {
          "output_type": "stream",
          "text": [
            "['friends', 'romans', 'countrymen', 'lend']\n"
          ],
          "name": "stdout"
        }
      ]
    },
    {
      "cell_type": "code",
      "metadata": {
        "id": "DZ3fJSXNR4XA",
        "colab": {
          "base_uri": "https://localhost:8080/"
        },
        "outputId": "9aa0e42f-0c64-4d80-ab16-47071f414849"
      },
      "source": [
        "print(nueva_lista[:5])"
      ],
      "execution_count": 157,
      "outputs": [
        {
          "output_type": "stream",
          "text": [
            "['Has', 'escuchado', 'la', 'historia', 'del']\n"
          ],
          "name": "stdout"
        }
      ]
    },
    {
      "cell_type": "markdown",
      "metadata": {
        "id": "sxaOouUsR4XA"
      },
      "source": [
        "Using negative numbers will count from the end of the indices instead of from the beginning. For example, an index of `-1` indicates the last element of the list."
      ]
    },
    {
      "cell_type": "code",
      "metadata": {
        "id": "Lnc9u4NIR4XB",
        "colab": {
          "base_uri": "https://localhost:8080/"
        },
        "outputId": "fb70ef3d-b4d4-4623-8ccb-eb4721165875"
      },
      "source": [
        "print(my_list[-1])"
      ],
      "execution_count": 158,
      "outputs": [
        {
          "output_type": "stream",
          "text": [
            "ears\n"
          ],
          "name": "stdout"
        }
      ]
    },
    {
      "cell_type": "code",
      "metadata": {
        "id": "MqMXhAtQR4XB",
        "colab": {
          "base_uri": "https://localhost:8080/"
        },
        "outputId": "e8f9d187-fd36-47cf-a90e-81077d785985"
      },
      "source": [
        "print(nueva_lista[-7])"
      ],
      "execution_count": 159,
      "outputs": [
        {
          "output_type": "stream",
          "text": [
            "cae\n"
          ],
          "name": "stdout"
        }
      ]
    },
    {
      "cell_type": "markdown",
      "metadata": {
        "id": "gEqTtVofR4XC"
      },
      "source": [
        "You can also add a third component to slicing. Instead of simply indicating the first and final parts of your slice, you can specify the step size that you want to take. So instead of taking every single element, you can take every other element."
      ]
    },
    {
      "cell_type": "code",
      "metadata": {
        "id": "dvF9YAi0R4XC",
        "colab": {
          "base_uri": "https://localhost:8080/"
        },
        "outputId": "b5d67192-b528-4dac-b577-c16c6c3dc917"
      },
      "source": [
        "print(my_list[0:7:2])"
      ],
      "execution_count": 160,
      "outputs": [
        {
          "output_type": "stream",
          "text": [
            "['friends', 'countrymen', 'me', 'ears']\n"
          ],
          "name": "stdout"
        }
      ]
    },
    {
      "cell_type": "code",
      "metadata": {
        "id": "yprydKMrR4XD",
        "colab": {
          "base_uri": "https://localhost:8080/"
        },
        "outputId": "33e9ca79-ea48-416a-d338-2546782ec96f"
      },
      "source": [
        "print(nueva_lista[3::2])"
      ],
      "execution_count": 161,
      "outputs": [
        {
          "output_type": "stream",
          "text": [
            "['historia', 'hombre', 'cae', 'un', 'de', 'pisos']\n"
          ],
          "name": "stdout"
        }
      ]
    },
    {
      "cell_type": "markdown",
      "metadata": {
        "id": "-xy0UQFXR4XD"
      },
      "source": [
        "Here we have selected the entire list (because `0:7` will yield elements `0` through `6`) and we have selected a step size of `2`. So this will spit out element `0` , element `2`, element `4`, and so on through the list element selected. We can skip indicated the beginning and end of our slice, only indicating the step, if we like."
      ]
    },
    {
      "cell_type": "code",
      "metadata": {
        "id": "wfz72D5SR4XE",
        "colab": {
          "base_uri": "https://localhost:8080/"
        },
        "outputId": "674825eb-8666-43e6-c970-61705223c36a"
      },
      "source": [
        "print(my_list[::2])"
      ],
      "execution_count": 162,
      "outputs": [
        {
          "output_type": "stream",
          "text": [
            "['friends', 'countrymen', 'me', 'ears']\n"
          ],
          "name": "stdout"
        }
      ]
    },
    {
      "cell_type": "code",
      "metadata": {
        "id": "lNE_yZXFR4XE",
        "colab": {
          "base_uri": "https://localhost:8080/"
        },
        "outputId": "af0c4212-35de-4ebe-c44e-ede37491d41c"
      },
      "source": [
        "print(nueva_lista[::2])"
      ],
      "execution_count": 163,
      "outputs": [
        {
          "output_type": "stream",
          "text": [
            "['Has', 'la', 'del', 'que', 'de', 'edificio', 'cincuenta']\n"
          ],
          "name": "stdout"
        }
      ]
    },
    {
      "cell_type": "markdown",
      "metadata": {
        "id": "RA1M3DssR4XE"
      },
      "source": [
        "Lists implictly select the beginning and end of the list when not otherwise specified."
      ]
    },
    {
      "cell_type": "code",
      "metadata": {
        "id": "9MNJFvuVR4XF",
        "colab": {
          "base_uri": "https://localhost:8080/"
        },
        "outputId": "168d6525-84dd-4440-879e-8e78de748ed6"
      },
      "source": [
        "print(my_list[:])"
      ],
      "execution_count": 164,
      "outputs": [
        {
          "output_type": "stream",
          "text": [
            "['friends', 'romans', 'countrymen', 'lend', 'me', 'your', 'ears']\n"
          ],
          "name": "stdout"
        }
      ]
    },
    {
      "cell_type": "code",
      "metadata": {
        "id": "Rwvi8KkpR4XF",
        "colab": {
          "base_uri": "https://localhost:8080/"
        },
        "outputId": "b1c05704-5f62-4dea-fed9-a46a4b3e52aa"
      },
      "source": [
        "print(nueva_lista[:])"
      ],
      "execution_count": 165,
      "outputs": [
        {
          "output_type": "stream",
          "text": [
            "['Has', 'escuchado', 'la', 'historia', 'del', 'hombre', 'que', 'cae', 'de', 'un', 'edificio', 'de', 'cincuenta', 'pisos']\n"
          ],
          "name": "stdout"
        }
      ]
    },
    {
      "cell_type": "markdown",
      "metadata": {
        "id": "XBuIuWduR4XG"
      },
      "source": [
        "With a negative step size we can even reverse the list!"
      ]
    },
    {
      "cell_type": "code",
      "metadata": {
        "id": "hSakrtU2R4XG",
        "colab": {
          "base_uri": "https://localhost:8080/"
        },
        "outputId": "b3df93de-d988-4d31-9382-24c0f010002c"
      },
      "source": [
        "print(my_list[::-1])"
      ],
      "execution_count": 166,
      "outputs": [
        {
          "output_type": "stream",
          "text": [
            "['ears', 'your', 'me', 'lend', 'countrymen', 'romans', 'friends']\n"
          ],
          "name": "stdout"
        }
      ]
    },
    {
      "cell_type": "code",
      "metadata": {
        "id": "LfuGSYwIR4XG",
        "colab": {
          "base_uri": "https://localhost:8080/"
        },
        "outputId": "368729e6-2e20-44c5-90e3-ba27a22fd32d"
      },
      "source": [
        "print(nueva_lista[::-1])"
      ],
      "execution_count": 167,
      "outputs": [
        {
          "output_type": "stream",
          "text": [
            "['pisos', 'cincuenta', 'de', 'edificio', 'un', 'de', 'cae', 'que', 'hombre', 'del', 'historia', 'la', 'escuchado', 'Has']\n"
          ],
          "name": "stdout"
        }
      ]
    },
    {
      "cell_type": "markdown",
      "metadata": {
        "id": "go6BPjwAR4XG"
      },
      "source": [
        "Python does not have native matrices, but with lists we can produce a working fascimile. Other packages, such as `numpy`, add matrices as a separate data type, but in base Python the best way to create a matrix is to use a list of lists."
      ]
    },
    {
      "cell_type": "markdown",
      "metadata": {
        "id": "0MUcMTV7R4XH"
      },
      "source": [
        "We can also use built-in functions to generate lists. In particular we will look at `range()` (because we will be using it later!). Range can take several different inputs and will return a list."
      ]
    },
    {
      "cell_type": "code",
      "metadata": {
        "id": "eTC2Z0I6R4XH",
        "colab": {
          "base_uri": "https://localhost:8080/"
        },
        "outputId": "c5edf44a-40a4-44a9-d50b-7d667b4843c6"
      },
      "source": [
        "b = 10\n",
        "my_list = range(b)\n",
        "print(my_list)"
      ],
      "execution_count": 168,
      "outputs": [
        {
          "output_type": "stream",
          "text": [
            "range(0, 10)\n"
          ],
          "name": "stdout"
        }
      ]
    },
    {
      "cell_type": "code",
      "metadata": {
        "id": "egEFm7EkR4XH",
        "colab": {
          "base_uri": "https://localhost:8080/"
        },
        "outputId": "c1b82e2a-735e-417d-eb7c-73aff2bf218e"
      },
      "source": [
        "final = 15\n",
        "mi_lista = range(final)\n",
        "print(mi_lista)"
      ],
      "execution_count": 169,
      "outputs": [
        {
          "output_type": "stream",
          "text": [
            "range(0, 15)\n"
          ],
          "name": "stdout"
        }
      ]
    },
    {
      "cell_type": "markdown",
      "metadata": {
        "id": "M3_KUp1cR4XH"
      },
      "source": [
        "Similar to our list-slicing methods from before, we can define both a start and an end for our range. This will return a list that is includes the start and excludes the end, just like a slice."
      ]
    },
    {
      "cell_type": "code",
      "metadata": {
        "id": "3c7UD7q6R4XI",
        "colab": {
          "base_uri": "https://localhost:8080/"
        },
        "outputId": "8c95ba10-7e17-4b1e-d893-6d1b58262ee9"
      },
      "source": [
        "a = 0\n",
        "b = 10\n",
        "my_list = range(a, b)\n",
        "print(my_list)"
      ],
      "execution_count": 170,
      "outputs": [
        {
          "output_type": "stream",
          "text": [
            "range(0, 10)\n"
          ],
          "name": "stdout"
        }
      ]
    },
    {
      "cell_type": "code",
      "metadata": {
        "id": "yqbjrhQnR4XI",
        "colab": {
          "base_uri": "https://localhost:8080/"
        },
        "outputId": "53a4d049-70da-4756-9b13-34aa8cd45909"
      },
      "source": [
        "a = 6\n",
        "b = 31\n",
        "mi_lista = range(a, b)\n",
        "print(mi_lista)"
      ],
      "execution_count": 171,
      "outputs": [
        {
          "output_type": "stream",
          "text": [
            "range(6, 31)\n"
          ],
          "name": "stdout"
        }
      ]
    },
    {
      "cell_type": "markdown",
      "metadata": {
        "id": "rd2_4e-QR4XI"
      },
      "source": [
        "We can also specify a step size. This again has the same behavior as a slice."
      ]
    },
    {
      "cell_type": "code",
      "metadata": {
        "scrolled": true,
        "id": "874V1qRER4XI",
        "colab": {
          "base_uri": "https://localhost:8080/"
        },
        "outputId": "55875f7f-f11e-4b1e-982a-0281f6b6cd65"
      },
      "source": [
        "a = 0\n",
        "b = 10\n",
        "step = 2\n",
        "my_list = range(a, b, step)\n",
        "print(my_list)"
      ],
      "execution_count": 172,
      "outputs": [
        {
          "output_type": "stream",
          "text": [
            "range(0, 10, 2)\n"
          ],
          "name": "stdout"
        }
      ]
    },
    {
      "cell_type": "code",
      "metadata": {
        "id": "HZciqVDVR4XJ",
        "colab": {
          "base_uri": "https://localhost:8080/"
        },
        "outputId": "ce23b49c-505c-4e0e-d50a-72919cb11dc2"
      },
      "source": [
        "a = 6\n",
        "b = 31\n",
        "step = 2\n",
        "mi_lista = range(a, b, step)\n",
        "print(mi_lista)"
      ],
      "execution_count": 173,
      "outputs": [
        {
          "output_type": "stream",
          "text": [
            "range(6, 31, 2)\n"
          ],
          "name": "stdout"
        }
      ]
    },
    {
      "cell_type": "markdown",
      "metadata": {
        "id": "bFB0KaPeR4XJ"
      },
      "source": [
        "### Tuples\n",
        "\n",
        "A `tuple` is a data type similar to a list in that it can hold different kinds of data types. The key difference here is that a `tuple` is immutable. We define a `tuple` by separating the elements we want to include by commas. It is conventional to surround a `tuple` with parentheses."
      ]
    },
    {
      "cell_type": "code",
      "metadata": {
        "id": "rqrDj9yHR4XJ",
        "colab": {
          "base_uri": "https://localhost:8080/"
        },
        "outputId": "69d15026-d3e7-4060-9392-fa2969e01d40"
      },
      "source": [
        "my_tuple = 'I', 'have', 30, 'cats'\n",
        "print(my_tuple)"
      ],
      "execution_count": 174,
      "outputs": [
        {
          "output_type": "stream",
          "text": [
            "('I', 'have', 30, 'cats')\n"
          ],
          "name": "stdout"
        }
      ]
    },
    {
      "cell_type": "code",
      "metadata": {
        "id": "RZljsWSFR4XJ",
        "colab": {
          "base_uri": "https://localhost:8080/"
        },
        "outputId": "d801e763-c81f-4d81-ef03-707985abb552"
      },
      "source": [
        "mi_tupla = 'Tengo', 'un', 'total', 'de', 157, 'relojes'\n",
        "print(mi_tupla)"
      ],
      "execution_count": 175,
      "outputs": [
        {
          "output_type": "stream",
          "text": [
            "('Tengo', 'un', 'total', 'de', 157, 'relojes')\n"
          ],
          "name": "stdout"
        }
      ]
    },
    {
      "cell_type": "code",
      "metadata": {
        "id": "208jZAbdR4XK",
        "colab": {
          "base_uri": "https://localhost:8080/"
        },
        "outputId": "dfeddc73-1eba-4364-bf57-0468ed9113fa"
      },
      "source": [
        "my_tuple = ('I', 'have', 30, 'cats')\n",
        "print(my_tuple)"
      ],
      "execution_count": 176,
      "outputs": [
        {
          "output_type": "stream",
          "text": [
            "('I', 'have', 30, 'cats')\n"
          ],
          "name": "stdout"
        }
      ]
    },
    {
      "cell_type": "code",
      "metadata": {
        "id": "K8gJK0kLR4XK",
        "colab": {
          "base_uri": "https://localhost:8080/"
        },
        "outputId": "fbed6f6e-4b96-4bb2-b1eb-af736d8c8586"
      },
      "source": [
        "mi_tupla = ('Tengo', 'un', 'total', 'de', 157, 'relojes')\n",
        "print(mi_tupla)"
      ],
      "execution_count": 177,
      "outputs": [
        {
          "output_type": "stream",
          "text": [
            "('Tengo', 'un', 'total', 'de', 157, 'relojes')\n"
          ],
          "name": "stdout"
        }
      ]
    },
    {
      "cell_type": "markdown",
      "metadata": {
        "id": "8S2ZDU0sR4XL"
      },
      "source": [
        "As mentioned before, tuples are immutable. You can't change any part of them without defining a new tuple."
      ]
    },
    {
      "cell_type": "code",
      "metadata": {
        "id": "YIcMretJR4XL",
        "colab": {
          "base_uri": "https://localhost:8080/",
          "height": 163
        },
        "outputId": "b34581bb-0ebd-4950-b64f-9491561fa937"
      },
      "source": [
        "my_tuple[3] = 'dogs' # Attempts to change the 'cats' value stored in the the tuple to 'dogs'"
      ],
      "execution_count": 178,
      "outputs": [
        {
          "output_type": "error",
          "ename": "TypeError",
          "evalue": "ignored",
          "traceback": [
            "\u001b[0;31m---------------------------------------------------------------------------\u001b[0m",
            "\u001b[0;31mTypeError\u001b[0m                                 Traceback (most recent call last)",
            "\u001b[0;32m<ipython-input-178-c821a6bdb1a6>\u001b[0m in \u001b[0;36m<module>\u001b[0;34m()\u001b[0m\n\u001b[0;32m----> 1\u001b[0;31m \u001b[0mmy_tuple\u001b[0m\u001b[0;34m[\u001b[0m\u001b[0;36m3\u001b[0m\u001b[0;34m]\u001b[0m \u001b[0;34m=\u001b[0m \u001b[0;34m'dogs'\u001b[0m \u001b[0;31m# Attempts to change the 'cats' value stored in the the tuple to 'dogs'\u001b[0m\u001b[0;34m\u001b[0m\u001b[0;34m\u001b[0m\u001b[0m\n\u001b[0m",
            "\u001b[0;31mTypeError\u001b[0m: 'tuple' object does not support item assignment"
          ]
        }
      ]
    },
    {
      "cell_type": "code",
      "metadata": {
        "id": "PShidscBR4XM",
        "colab": {
          "base_uri": "https://localhost:8080/",
          "height": 163
        },
        "outputId": "c9c4560b-ea95-44f1-fdeb-fea2f6da04e5"
      },
      "source": [
        "mi_tupla[5] = 'monitores'"
      ],
      "execution_count": 179,
      "outputs": [
        {
          "output_type": "error",
          "ename": "TypeError",
          "evalue": "ignored",
          "traceback": [
            "\u001b[0;31m---------------------------------------------------------------------------\u001b[0m",
            "\u001b[0;31mTypeError\u001b[0m                                 Traceback (most recent call last)",
            "\u001b[0;32m<ipython-input-179-0030b4a58702>\u001b[0m in \u001b[0;36m<module>\u001b[0;34m()\u001b[0m\n\u001b[0;32m----> 1\u001b[0;31m \u001b[0mmi_tupla\u001b[0m\u001b[0;34m[\u001b[0m\u001b[0;36m5\u001b[0m\u001b[0;34m]\u001b[0m \u001b[0;34m=\u001b[0m \u001b[0;34m'monitores'\u001b[0m\u001b[0;34m\u001b[0m\u001b[0;34m\u001b[0m\u001b[0m\n\u001b[0m",
            "\u001b[0;31mTypeError\u001b[0m: 'tuple' object does not support item assignment"
          ]
        }
      ]
    },
    {
      "cell_type": "markdown",
      "metadata": {
        "id": "ujNB30rgR4XM"
      },
      "source": [
        "You can slice tuples the same way that you slice lists!"
      ]
    },
    {
      "cell_type": "code",
      "metadata": {
        "id": "_lm50KPPR4XM",
        "colab": {
          "base_uri": "https://localhost:8080/"
        },
        "outputId": "ba06782f-6760-4f5f-f3ce-736985d6cec3"
      },
      "source": [
        "print(my_tuple[1:3])"
      ],
      "execution_count": 180,
      "outputs": [
        {
          "output_type": "stream",
          "text": [
            "('have', 30)\n"
          ],
          "name": "stdout"
        }
      ]
    },
    {
      "cell_type": "code",
      "metadata": {
        "id": "-IDdvQmhR4XM",
        "colab": {
          "base_uri": "https://localhost:8080/"
        },
        "outputId": "7d860bff-2d49-4e54-9a26-8c8056774a3d"
      },
      "source": [
        "print(mi_tupla[-2:])"
      ],
      "execution_count": 181,
      "outputs": [
        {
          "output_type": "stream",
          "text": [
            "(157, 'relojes')\n"
          ],
          "name": "stdout"
        }
      ]
    },
    {
      "cell_type": "markdown",
      "metadata": {
        "id": "URCEIlBrR4XN"
      },
      "source": [
        "And concatenate them the way that you would with strings!"
      ]
    },
    {
      "cell_type": "code",
      "metadata": {
        "id": "iIXpT57nR4XN",
        "colab": {
          "base_uri": "https://localhost:8080/"
        },
        "outputId": "6c645231-3e50-4107-8d6d-d60785fad527"
      },
      "source": [
        "my_other_tuple = ('make', 'that', 50)\n",
        "print(my_tuple + my_other_tuple)"
      ],
      "execution_count": 182,
      "outputs": [
        {
          "output_type": "stream",
          "text": [
            "('I', 'have', 30, 'cats', 'make', 'that', 50)\n"
          ],
          "name": "stdout"
        }
      ]
    },
    {
      "cell_type": "code",
      "metadata": {
        "id": "xv4_JADMR4XN",
        "colab": {
          "base_uri": "https://localhost:8080/"
        },
        "outputId": "612f7f8c-dbe8-46ec-fce0-838badafd7e7"
      },
      "source": [
        "mi_otra_tupla = ('de', 'oro', 'de', 24, 'kilates')\n",
        "print(mi_tupla + mi_otra_tupla)"
      ],
      "execution_count": 183,
      "outputs": [
        {
          "output_type": "stream",
          "text": [
            "('Tengo', 'un', 'total', 'de', 157, 'relojes', 'de', 'oro', 'de', 24, 'kilates')\n"
          ],
          "name": "stdout"
        }
      ]
    },
    {
      "cell_type": "markdown",
      "metadata": {
        "id": "3SmTaL5tR4XO"
      },
      "source": [
        "We can 'pack' values together, creating a tuple (as above), or we can 'unpack' values from a tuple, taking them out."
      ]
    },
    {
      "cell_type": "code",
      "metadata": {
        "id": "b8EQ0bUsR4XO",
        "colab": {
          "base_uri": "https://localhost:8080/"
        },
        "outputId": "58eb0fe1-c7d7-4b43-af88-e392322d16ad"
      },
      "source": [
        "str_1, str_2, int_1 = my_other_tuple\n",
        "print(str_1, str_2, int_1)"
      ],
      "execution_count": 184,
      "outputs": [
        {
          "output_type": "stream",
          "text": [
            "make that 50\n"
          ],
          "name": "stdout"
        }
      ]
    },
    {
      "cell_type": "code",
      "metadata": {
        "id": "tAl0cxVOR4XO",
        "colab": {
          "base_uri": "https://localhost:8080/"
        },
        "outputId": "34413959-03b2-4485-8869-9952c9059bba"
      },
      "source": [
        "str_1, str_2, str_3, int_1, str_4 = mi_otra_tupla\n",
        "print(str_1, str_2, str_3, int_1, str_4)"
      ],
      "execution_count": 185,
      "outputs": [
        {
          "output_type": "stream",
          "text": [
            "de oro de 24 kilates\n"
          ],
          "name": "stdout"
        }
      ]
    },
    {
      "cell_type": "markdown",
      "metadata": {
        "id": "FBZaFBvCR4XO"
      },
      "source": [
        "Unpacking assigns each value of the tuple in order to each variable on the left hand side of the equals sign. Some functions, including user-defined functions, may return tuples, so we can use this to directly unpack them and access the values that we want."
      ]
    },
    {
      "cell_type": "markdown",
      "metadata": {
        "id": "StkJ2Lx_R4XO"
      },
      "source": [
        "### Sets\n",
        "\n",
        "A `set` is a collection of unordered, unique elements. It works almost exactly as you would expect a normal set of things in mathematics to work and is defined using braces (`{}`)."
      ]
    },
    {
      "cell_type": "code",
      "metadata": {
        "id": "rSScHKZOR4XP",
        "colab": {
          "base_uri": "https://localhost:8080/"
        },
        "outputId": "ece8b505-e046-41cd-c9d6-ec8ed1f432db"
      },
      "source": [
        "things_i_like = {'dogs', 7, 'the number 4', 4, 4, 4, 42, 'lizards', 'man I just LOVE the number 4'}\n",
        "print(things_i_like, type(things_i_like))"
      ],
      "execution_count": 186,
      "outputs": [
        {
          "output_type": "stream",
          "text": [
            "{4, 7, 42, 'lizards', 'man I just LOVE the number 4', 'dogs', 'the number 4'} <class 'set'>\n"
          ],
          "name": "stdout"
        }
      ]
    },
    {
      "cell_type": "code",
      "metadata": {
        "id": "39HEh0wrR4XP",
        "colab": {
          "base_uri": "https://localhost:8080/"
        },
        "outputId": "d3318ca3-bf4e-4d87-c835-b109e809157c"
      },
      "source": [
        "me_gustan = {'peliculas', 39, 'el olor del pasto', 'Casino', 15, 15, 26, 84, 'perros', 'ella'}\n",
        "print(me_gustan, type(me_gustan))"
      ],
      "execution_count": 187,
      "outputs": [
        {
          "output_type": "stream",
          "text": [
            "{'Casino', 39, 'el olor del pasto', 15, 'ella', 'peliculas', 84, 'perros', 26} <class 'set'>\n"
          ],
          "name": "stdout"
        }
      ]
    },
    {
      "cell_type": "markdown",
      "metadata": {
        "id": "U6BnMvGRR4XP"
      },
      "source": [
        "Note how any extra instances of the same item are removed in the final set. We can also create a `set` from a list, using the `set()` function."
      ]
    },
    {
      "cell_type": "code",
      "metadata": {
        "id": "CggTjZeZR4XP",
        "colab": {
          "base_uri": "https://localhost:8080/"
        },
        "outputId": "530556d7-025c-4bbf-9288-b4f64bd2c03f"
      },
      "source": [
        "animal_list = ['cats', 'dogs', 'dogs', 'dogs', 'lizards', 'sponges', 'cows', 'bats', 'sponges']\n",
        "animal_set = set(animal_list)\n",
        "print(animal_set) # Removes all extra instances from the list"
      ],
      "execution_count": 188,
      "outputs": [
        {
          "output_type": "stream",
          "text": [
            "{'cows', 'lizards', 'bats', 'dogs', 'sponges', 'cats'}\n"
          ],
          "name": "stdout"
        }
      ]
    },
    {
      "cell_type": "code",
      "metadata": {
        "id": "fR43oWopR4XQ",
        "colab": {
          "base_uri": "https://localhost:8080/"
        },
        "outputId": "d0cced0d-8ed7-4199-dd71-465e4b48542f"
      },
      "source": [
        "lista_de_peliculas = ['Casino', 'Misery', 'Scarface', 'Seven', 'Paranoia', 'Casino', 'Casino']\n",
        "conjunto_de_peliculas = set(lista_de_peliculas)\n",
        "print(conjunto_de_peliculas)"
      ],
      "execution_count": 189,
      "outputs": [
        {
          "output_type": "stream",
          "text": [
            "{'Scarface', 'Casino', 'Seven', 'Misery', 'Paranoia'}\n"
          ],
          "name": "stdout"
        }
      ]
    },
    {
      "cell_type": "markdown",
      "metadata": {
        "id": "9IJxuvbeR4XQ"
      },
      "source": [
        "Calling `len()` on a set will tell you how many elements are in it."
      ]
    },
    {
      "cell_type": "code",
      "metadata": {
        "id": "pJ8SxY0NR4XQ",
        "colab": {
          "base_uri": "https://localhost:8080/"
        },
        "outputId": "e261e8fc-e293-4ef4-bcdf-f801a47cd67c"
      },
      "source": [
        "print(len(animal_set))"
      ],
      "execution_count": 190,
      "outputs": [
        {
          "output_type": "stream",
          "text": [
            "6\n"
          ],
          "name": "stdout"
        }
      ]
    },
    {
      "cell_type": "code",
      "metadata": {
        "id": "R_Kt3ClzR4XR",
        "colab": {
          "base_uri": "https://localhost:8080/"
        },
        "outputId": "1c12ecd9-3a49-4d20-b245-5de3552c9f70"
      },
      "source": [
        "print(len(conjunto_de_peliculas))"
      ],
      "execution_count": 191,
      "outputs": [
        {
          "output_type": "stream",
          "text": [
            "5\n"
          ],
          "name": "stdout"
        }
      ]
    },
    {
      "cell_type": "markdown",
      "metadata": {
        "id": "8Az6ed9vR4XR"
      },
      "source": [
        "Because a `set` is unordered, we can't access individual elements using an index. We can, however, easily check for membership (to see if something is contained in a set) and take the unions and intersections of sets by using the built-in set functions."
      ]
    },
    {
      "cell_type": "code",
      "metadata": {
        "id": "0H5fSTUDR4XR",
        "colab": {
          "base_uri": "https://localhost:8080/"
        },
        "outputId": "977e4a65-3cce-42be-ddb1-e568f00b8cf1"
      },
      "source": [
        "'cats' in animal_set # Here we check for membership using the `in` keyword."
      ],
      "execution_count": 192,
      "outputs": [
        {
          "output_type": "execute_result",
          "data": {
            "text/plain": [
              "True"
            ]
          },
          "metadata": {
            "tags": []
          },
          "execution_count": 192
        }
      ]
    },
    {
      "cell_type": "code",
      "metadata": {
        "id": "PYdO7qUHR4XR",
        "colab": {
          "base_uri": "https://localhost:8080/"
        },
        "outputId": "53e5fbdb-952f-4320-d593-ad1e0bc5d7d9"
      },
      "source": [
        "'Casino' in conjunto_de_peliculas"
      ],
      "execution_count": 193,
      "outputs": [
        {
          "output_type": "execute_result",
          "data": {
            "text/plain": [
              "True"
            ]
          },
          "metadata": {
            "tags": []
          },
          "execution_count": 193
        }
      ]
    },
    {
      "cell_type": "markdown",
      "metadata": {
        "id": "EbJVBgurR4XS"
      },
      "source": [
        "Here we checked to see whether the string 'cats' was contained within our `animal_set` and it returned `True`, telling us that it is indeed in our set.\n",
        "\n",
        "We can connect sets by using typical mathematical set operators, namely `|`, for union, and `&`, for intersection. Using `|` or `&` will return exactly what you would expect if you are familiar with sets in mathematics."
      ]
    },
    {
      "cell_type": "code",
      "metadata": {
        "id": "t9AT4FX2R4XS",
        "colab": {
          "base_uri": "https://localhost:8080/"
        },
        "outputId": "5be3c264-e2fe-47bf-9b0e-e7fb5be8c249"
      },
      "source": [
        "print(animal_set | things_i_like) # You can also write things_i_like | animal_set with no difference"
      ],
      "execution_count": 194,
      "outputs": [
        {
          "output_type": "stream",
          "text": [
            "{'cows', 4, 7, 42, 'lizards', 'bats', 'dogs', 'sponges', 'man I just LOVE the number 4', 'cats', 'the number 4'}\n"
          ],
          "name": "stdout"
        }
      ]
    },
    {
      "cell_type": "code",
      "metadata": {
        "id": "dFAxICdCR4XX",
        "colab": {
          "base_uri": "https://localhost:8080/"
        },
        "outputId": "c44097b2-5dab-4b31-89dd-e40fc3374fb0"
      },
      "source": [
        "print(me_gustan | conjunto_de_peliculas)"
      ],
      "execution_count": 195,
      "outputs": [
        {
          "output_type": "stream",
          "text": [
            "{'Scarface', 'Casino', 'Seven', 39, 'el olor del pasto', 15, 'ella', 'Misery', 'peliculas', 84, 'perros', 'Paranoia', 26}\n"
          ],
          "name": "stdout"
        }
      ]
    },
    {
      "cell_type": "markdown",
      "metadata": {
        "id": "GsW8YW2uR4XX"
      },
      "source": [
        "Pairing two sets together with `|` combines the sets, removing any repetitions to make every set element unique."
      ]
    },
    {
      "cell_type": "code",
      "metadata": {
        "id": "0KYPyWCqR4XX",
        "colab": {
          "base_uri": "https://localhost:8080/"
        },
        "outputId": "c9df7299-8e91-4a90-bbbb-17e976ce1bc4"
      },
      "source": [
        "print(animal_set & things_i_like) # You can also write things_i_like & animal_set with no difference"
      ],
      "execution_count": 196,
      "outputs": [
        {
          "output_type": "stream",
          "text": [
            "{'dogs', 'lizards'}\n"
          ],
          "name": "stdout"
        }
      ]
    },
    {
      "cell_type": "code",
      "metadata": {
        "id": "PSB6z_AuR4XY",
        "colab": {
          "base_uri": "https://localhost:8080/"
        },
        "outputId": "74ea8032-5ce0-4100-cce2-b1d95833358d"
      },
      "source": [
        "print(me_gustan & conjunto_de_peliculas)"
      ],
      "execution_count": 197,
      "outputs": [
        {
          "output_type": "stream",
          "text": [
            "{'Casino'}\n"
          ],
          "name": "stdout"
        }
      ]
    },
    {
      "cell_type": "markdown",
      "metadata": {
        "id": "LGsGkUOCR4XY"
      },
      "source": [
        "Pairing two sets together with `&` will calculate the intersection of both sets, returning a set that only contains what they have in common.\n",
        "\n",
        "If you are interested in learning more about the built-in functions for sets, feel free to check out the [documentation](https://docs.python.org/2/library/sets.html)."
      ]
    },
    {
      "cell_type": "markdown",
      "metadata": {
        "id": "RdFSsfEVR4XY"
      },
      "source": [
        "### Dictionaries\n",
        "\n",
        "Another essential data structure in Python is the dictionary. Dictionaries are defined with a combination of curly braces (`{}`) and colons (`:`). The braces define the beginning and end of a dictionary and the colons indicate key-value pairs. A dictionary is essentially a set of key-value pairs. The key of any entry must be an immutable data type. This makes both strings and tuples candidates. Keys can be both added and deleted.\n",
        "\n",
        "In the following example, we have a dictionary composed of key-value pairs where the key is a genre of fiction (`string`) and the value is a list of books (`list`) within that genre. Since a collection is still considered a single entity, we can use one to collect multiple variables or values into one key-value pair."
      ]
    },
    {
      "cell_type": "code",
      "metadata": {
        "id": "IKHudQ3FR4XY"
      },
      "source": [
        "my_dict = {\"High Fantasy\": [\"Wheel of Time\", \"Lord of the Rings\"], \n",
        "           \"Sci-fi\": [\"Book of the New Sun\", \"Neuromancer\", \"Snow Crash\"],\n",
        "           \"Weird Fiction\": [\"At the Mountains of Madness\", \"The House on the Borderland\"]}"
      ],
      "execution_count": 198,
      "outputs": []
    },
    {
      "cell_type": "code",
      "metadata": {
        "id": "ZDPNcLl3R4XZ"
      },
      "source": [
        "mi_diccionario = { \"Suspenso\": [\"La Cosa\", \"Alien\"],\n",
        "    \"Accion\" : [\"Rapidos y Furiosos\", \"X-Men\"],\n",
        "    \"Comedia\" : [\"El Grinch\", \"Kung Fu Panda\"]\n",
        "}"
      ],
      "execution_count": 199,
      "outputs": []
    },
    {
      "cell_type": "markdown",
      "metadata": {
        "id": "6_2YoSLCR4XZ"
      },
      "source": [
        "After defining a dictionary, we can access any individual value by indicating its key in brackets."
      ]
    },
    {
      "cell_type": "code",
      "metadata": {
        "id": "rbRdj6gMR4XZ",
        "colab": {
          "base_uri": "https://localhost:8080/"
        },
        "outputId": "01e394be-8f56-4a0b-d769-7e0d3f19b310"
      },
      "source": [
        "print(my_dict[\"Sci-fi\"])"
      ],
      "execution_count": 200,
      "outputs": [
        {
          "output_type": "stream",
          "text": [
            "['Book of the New Sun', 'Neuromancer', 'Snow Crash']\n"
          ],
          "name": "stdout"
        }
      ]
    },
    {
      "cell_type": "code",
      "metadata": {
        "id": "RKnOLLyxR4XZ",
        "colab": {
          "base_uri": "https://localhost:8080/"
        },
        "outputId": "f7a3f228-a040-4fab-ca18-fad3f3e47fac"
      },
      "source": [
        "print(mi_diccionario[\"Suspenso\"])"
      ],
      "execution_count": 201,
      "outputs": [
        {
          "output_type": "stream",
          "text": [
            "['La Cosa', 'Alien']\n"
          ],
          "name": "stdout"
        }
      ]
    },
    {
      "cell_type": "markdown",
      "metadata": {
        "id": "QX0qKs1NR4Xa"
      },
      "source": [
        "We can also change the value associated with a given key"
      ]
    },
    {
      "cell_type": "code",
      "metadata": {
        "id": "LXLrevpAR4Xa",
        "colab": {
          "base_uri": "https://localhost:8080/"
        },
        "outputId": "06f0348c-c8d2-44a6-9529-049a76ea7f7b"
      },
      "source": [
        "my_dict[\"Sci-fi\"] = \"I can't read\"\n",
        "print(my_dict[\"Sci-fi\"])"
      ],
      "execution_count": 202,
      "outputs": [
        {
          "output_type": "stream",
          "text": [
            "I can't read\n"
          ],
          "name": "stdout"
        }
      ]
    },
    {
      "cell_type": "code",
      "metadata": {
        "id": "vKZgqnzeR4Xa",
        "colab": {
          "base_uri": "https://localhost:8080/"
        },
        "outputId": "90ca8bc7-33dd-4456-b67f-0127a53bd903"
      },
      "source": [
        "mi_diccionario[\"Suspenso\"] = [\"La Cosa\", \"Alien\", \"Anon\"]\n",
        "print(mi_diccionario[\"Suspenso\"])"
      ],
      "execution_count": 203,
      "outputs": [
        {
          "output_type": "stream",
          "text": [
            "['La Cosa', 'Alien', 'Anon']\n"
          ],
          "name": "stdout"
        }
      ]
    },
    {
      "cell_type": "markdown",
      "metadata": {
        "id": "3Ht0Tm6hR4Xb"
      },
      "source": [
        "Adding a new key-value pair is as simple as defining it."
      ]
    },
    {
      "cell_type": "code",
      "metadata": {
        "id": "iPQeRu9-R4Xb",
        "colab": {
          "base_uri": "https://localhost:8080/"
        },
        "outputId": "2d3d6acf-3539-4b59-9881-a31f614bc619"
      },
      "source": [
        "my_dict[\"Historical Fiction\"] = [\"Pillars of the Earth\"]\n",
        "print(my_dict[\"Historical Fiction\"])"
      ],
      "execution_count": 204,
      "outputs": [
        {
          "output_type": "stream",
          "text": [
            "['Pillars of the Earth']\n"
          ],
          "name": "stdout"
        }
      ]
    },
    {
      "cell_type": "code",
      "metadata": {
        "id": "dXTl6laER4Xb",
        "colab": {
          "base_uri": "https://localhost:8080/"
        },
        "outputId": "0b852f2b-05ef-4c62-a9c0-2b90f5ed05d5"
      },
      "source": [
        "print(my_dict)"
      ],
      "execution_count": 205,
      "outputs": [
        {
          "output_type": "stream",
          "text": [
            "{'High Fantasy': ['Wheel of Time', 'Lord of the Rings'], 'Sci-fi': \"I can't read\", 'Weird Fiction': ['At the Mountains of Madness', 'The House on the Borderland'], 'Historical Fiction': ['Pillars of the Earth']}\n"
          ],
          "name": "stdout"
        }
      ]
    },
    {
      "cell_type": "code",
      "metadata": {
        "id": "nrZVfqUCR4Xc",
        "colab": {
          "base_uri": "https://localhost:8080/"
        },
        "outputId": "67016543-682d-4cb5-8de8-8550b13012b9"
      },
      "source": [
        "mi_diccionario[\"Fantasia\"] = [\"El señor de los anillos\"]\n",
        "print(mi_diccionario[\"Fantasia\"])"
      ],
      "execution_count": 206,
      "outputs": [
        {
          "output_type": "stream",
          "text": [
            "['El señor de los anillos']\n"
          ],
          "name": "stdout"
        }
      ]
    },
    {
      "cell_type": "code",
      "metadata": {
        "id": "iWKjjdlOR4Xc",
        "colab": {
          "base_uri": "https://localhost:8080/"
        },
        "outputId": "aeb1d82e-461c-4d7d-85c4-91793ed731b2"
      },
      "source": [
        "print(mi_diccionario)"
      ],
      "execution_count": 207,
      "outputs": [
        {
          "output_type": "stream",
          "text": [
            "{'Suspenso': ['La Cosa', 'Alien', 'Anon'], 'Accion': ['Rapidos y Furiosos', 'X-Men'], 'Comedia': ['El Grinch', 'Kung Fu Panda'], 'Fantasia': ['El señor de los anillos']}\n"
          ],
          "name": "stdout"
        }
      ]
    },
    {
      "cell_type": "markdown",
      "metadata": {
        "id": "wN6VZsnvR4Xc"
      },
      "source": [
        "## String Shenanigans\n",
        "\n",
        "We already know that strings are generally used for text. We can used built-in operations to combine, split, and format strings easily, depending on our needs.\n",
        "\n",
        "The `+` symbol indicates concatenation in string language. It will combine two strings into a longer string."
      ]
    },
    {
      "cell_type": "code",
      "metadata": {
        "id": "-UA3G1-kR4Xc",
        "colab": {
          "base_uri": "https://localhost:8080/"
        },
        "outputId": "482fc31b-d4ad-4d4f-967a-c2f2aa929909"
      },
      "source": [
        "first_string = '\"Beware the Jabberwock, my son! /The jaws that bite, the claws that catch! /'\n",
        "second_string = 'Beware the Jubjub bird, and shun /The frumious Bandersnatch!\"/'\n",
        "third_string = first_string + second_string\n",
        "print(third_string)"
      ],
      "execution_count": 208,
      "outputs": [
        {
          "output_type": "stream",
          "text": [
            "\"Beware the Jabberwock, my son! /The jaws that bite, the claws that catch! /Beware the Jubjub bird, and shun /The frumious Bandersnatch!\"/\n"
          ],
          "name": "stdout"
        }
      ]
    },
    {
      "cell_type": "code",
      "metadata": {
        "id": "2PNFSJJCR4Xd",
        "colab": {
          "base_uri": "https://localhost:8080/"
        },
        "outputId": "30b7eaf4-3bf5-4f43-bb18-3847cb2949db"
      },
      "source": [
        "primera = \"Athelstan la acompañó a un escabel \"\n",
        "segunda = \"y se sentó a su lado\"\n",
        "tercera = primera + segunda\n",
        "print(tercera)"
      ],
      "execution_count": 209,
      "outputs": [
        {
          "output_type": "stream",
          "text": [
            "Athelstan la acompañó a un escabel y se sentó a su lado\n"
          ],
          "name": "stdout"
        }
      ]
    },
    {
      "cell_type": "markdown",
      "metadata": {
        "id": "nyTAdWzbR4Xd"
      },
      "source": [
        "Strings are also indexed much in the same way that lists are."
      ]
    },
    {
      "cell_type": "code",
      "metadata": {
        "id": "8cwm19XdR4Xd",
        "colab": {
          "base_uri": "https://localhost:8080/"
        },
        "outputId": "d6035829-09d0-4385-8aa0-e673e96ba4cd"
      },
      "source": [
        "my_string = 'Supercalifragilisticexpialidocious'\n",
        "print('The first letter is: ', my_string[0]) # Uppercase S\n",
        "print('The last letter is: ', my_string[-1]) # lowercase s\n",
        "print('The second to last letter is: ', my_string[-2]) # lowercase u\n",
        "print('The first five characters are: ', my_string[0:5]) # Remember: slicing doesn't include the final element!\n",
        "print('Reverse it!: ', my_string[::-1])"
      ],
      "execution_count": 210,
      "outputs": [
        {
          "output_type": "stream",
          "text": [
            "The first letter is:  S\n",
            "The last letter is:  s\n",
            "The second to last letter is:  u\n",
            "The first five characters are:  Super\n",
            "Reverse it!:  suoicodilaipxecitsiligarfilacrepuS\n"
          ],
          "name": "stdout"
        }
      ]
    },
    {
      "cell_type": "code",
      "metadata": {
        "id": "FdHrG4QGR4Xd",
        "colab": {
          "base_uri": "https://localhost:8080/"
        },
        "outputId": "9a0607bf-23d1-4de4-a8b6-6abd6279ea0c"
      },
      "source": [
        "my_string = 'Esternocleidomastoideo'\n",
        "print('La primera letra es: ', my_string[0]) # Uppercase S\n",
        "print('La última letra es: ', my_string[-1]) # lowercase s\n",
        "print('La antepenúltima letra es: ', my_string[-3]) # lowercase u\n",
        "print('Los primeros nueve caracteres son: ', my_string[0:9]) # Remember: slicing doesn't include the final element!\n",
        "print('La cadena al revés: ', my_string[::-1])"
      ],
      "execution_count": 211,
      "outputs": [
        {
          "output_type": "stream",
          "text": [
            "La primera letra es:  E\n",
            "La última letra es:  o\n",
            "La antepenúltima letra es:  d\n",
            "Los primeros nueve caracteres son:  Esternocl\n",
            "La cadena al revés:  oediotsamodielconretsE\n"
          ],
          "name": "stdout"
        }
      ]
    },
    {
      "cell_type": "markdown",
      "metadata": {
        "id": "0GzpIhPPR4Xe"
      },
      "source": [
        "Built-in objects and classes often have special functions associated with them that are called methods. We access these methods by using a period ('.'). We will cover objects and their associated methods more in another lecture!\n",
        "\n",
        "Using string methods we can count instances of a character or group of characters."
      ]
    },
    {
      "cell_type": "code",
      "metadata": {
        "scrolled": true,
        "id": "Ays3bF_GR4Xe",
        "colab": {
          "base_uri": "https://localhost:8080/"
        },
        "outputId": "8acc3b5b-3403-4a7d-c41d-3254840cc807"
      },
      "source": [
        "print('Count of the letter i in Supercalifragilisticexpialidocious: ', my_string.count('i'))\n",
        "print('Count of \"li\" in the same word: ', my_string.count('li'))"
      ],
      "execution_count": 212,
      "outputs": [
        {
          "output_type": "stream",
          "text": [
            "Count of the letter i in Supercalifragilisticexpialidocious:  2\n",
            "Count of \"li\" in the same word:  0\n"
          ],
          "name": "stdout"
        }
      ]
    },
    {
      "cell_type": "code",
      "metadata": {
        "id": "pxEE9AIjR4Xe",
        "colab": {
          "base_uri": "https://localhost:8080/"
        },
        "outputId": "639ae590-dfd0-475e-fb40-5c4a797e64cd"
      },
      "source": [
        "print('Conteo de la letra \"e\" en esternocleidomastoideo: ', my_string.count('e'))\n",
        "print('Conteo de \"o\" en la misma palabra: ', my_string.count('o'))"
      ],
      "execution_count": 213,
      "outputs": [
        {
          "output_type": "stream",
          "text": [
            "Conteo de la letra \"e\" en esternocleidomastoideo:  3\n",
            "Conteo de \"o\" en la misma palabra:  4\n"
          ],
          "name": "stdout"
        }
      ]
    },
    {
      "cell_type": "markdown",
      "metadata": {
        "id": "vAB37dznR4Xf"
      },
      "source": [
        "We can also find the first instance of a character or group of characters in a string."
      ]
    },
    {
      "cell_type": "code",
      "metadata": {
        "id": "5J2A7OQ6R4Xf",
        "colab": {
          "base_uri": "https://localhost:8080/"
        },
        "outputId": "439b417f-bb04-46e5-90a4-07384a21a481"
      },
      "source": [
        "print ('The first time i appears is at index: ', my_string.find('i'))"
      ],
      "execution_count": 214,
      "outputs": [
        {
          "output_type": "stream",
          "text": [
            "The first time i appears is at index:  10\n"
          ],
          "name": "stdout"
        }
      ]
    },
    {
      "cell_type": "code",
      "metadata": {
        "id": "FUJLySbjR4Xf",
        "colab": {
          "base_uri": "https://localhost:8080/"
        },
        "outputId": "05bba1aa-68fd-4238-cd8e-8db2f33f24c4"
      },
      "source": [
        "print ('La primera vez que aparece la o es en el índice: ', my_string.find('o'))"
      ],
      "execution_count": 215,
      "outputs": [
        {
          "output_type": "stream",
          "text": [
            "La primera vez que aparece la o es en el índice:  6\n"
          ],
          "name": "stdout"
        }
      ]
    },
    {
      "cell_type": "markdown",
      "metadata": {
        "id": "UOwb-4VaR4Xg"
      },
      "source": [
        "As well as replace characters in a string."
      ]
    },
    {
      "cell_type": "code",
      "metadata": {
        "id": "oRwlgc90R4Xg",
        "colab": {
          "base_uri": "https://localhost:8080/"
        },
        "outputId": "afd66c69-bbb8-4d5e-dd1c-2e4246d889fa"
      },
      "source": [
        "print (\"All i's are now a's: \", my_string.replace('i', 'a'))"
      ],
      "execution_count": 216,
      "outputs": [
        {
          "output_type": "stream",
          "text": [
            "All i's are now a's:  Esternocleadomastoadeo\n"
          ],
          "name": "stdout"
        }
      ]
    },
    {
      "cell_type": "code",
      "metadata": {
        "id": "DmKhSDNgR4Xg",
        "colab": {
          "base_uri": "https://localhost:8080/"
        },
        "outputId": "3c93ef96-be6a-48ce-8983-1506f15406cb"
      },
      "source": [
        "print (\"Todas las e's son ahora o's: \", my_string.replace('e', 'o')) #Case sensitive"
      ],
      "execution_count": 217,
      "outputs": [
        {
          "output_type": "stream",
          "text": [
            "Todas las e's son ahora o's:  Estornocloidomastoidoo\n"
          ],
          "name": "stdout"
        }
      ]
    },
    {
      "cell_type": "code",
      "metadata": {
        "id": "MucIxNosR4Xg",
        "colab": {
          "base_uri": "https://localhost:8080/"
        },
        "outputId": "f1788b15-1f2c-4b1f-8712-a01342e205a6"
      },
      "source": [
        "print (\"It's raining cats and dogs\".replace('dogs', 'more cats'))"
      ],
      "execution_count": 218,
      "outputs": [
        {
          "output_type": "stream",
          "text": [
            "It's raining cats and more cats\n"
          ],
          "name": "stdout"
        }
      ]
    },
    {
      "cell_type": "code",
      "metadata": {
        "id": "vXVbrss_R4Xh",
        "colab": {
          "base_uri": "https://localhost:8080/"
        },
        "outputId": "e66462e0-6fd9-4de0-c0bf-9c0c2e812460"
      },
      "source": [
        "print (\"Siempre que hayan dos, habrá conflicto\".replace('conflicto', 'oportunidades'))"
      ],
      "execution_count": 219,
      "outputs": [
        {
          "output_type": "stream",
          "text": [
            "Siempre que hayan dos, habrá oportunidades\n"
          ],
          "name": "stdout"
        }
      ]
    },
    {
      "cell_type": "markdown",
      "metadata": {
        "id": "rl58aXYdR4Xh"
      },
      "source": [
        "There are also some methods that are unique to strings. The function `upper()` will convert all characters in a string to uppercase, while `lower()` will convert all characters in a string to lowercase!"
      ]
    },
    {
      "cell_type": "code",
      "metadata": {
        "id": "o1rg0-77R4Xh",
        "colab": {
          "base_uri": "https://localhost:8080/"
        },
        "outputId": "e07c9658-f72f-415f-b12e-dbc84360dc26"
      },
      "source": [
        "my_string = \"I can't hear you\"\n",
        "print (my_string.upper())\n",
        "my_string = \"I said HELLO\"\n",
        "print (my_string.lower())"
      ],
      "execution_count": 220,
      "outputs": [
        {
          "output_type": "stream",
          "text": [
            "I CAN'T HEAR YOU\n",
            "i said hello\n"
          ],
          "name": "stdout"
        }
      ]
    },
    {
      "cell_type": "code",
      "metadata": {
        "id": "vV14KAoaR4Xi",
        "colab": {
          "base_uri": "https://localhost:8080/"
        },
        "outputId": "2d6ec65d-2f3d-416f-8c2d-8c5ed9e7db8f"
      },
      "source": [
        "my_string = \"¿Cuándo retornará el viajero?\"\n",
        "print (my_string.upper())\n",
        "my_string = \"NO LO SÉ, ¡QUERIDA!\"\n",
        "print (my_string.lower())"
      ],
      "execution_count": 221,
      "outputs": [
        {
          "output_type": "stream",
          "text": [
            "¿CUÁNDO RETORNARÁ EL VIAJERO?\n",
            "no lo sé, ¡querida!\n"
          ],
          "name": "stdout"
        }
      ]
    },
    {
      "cell_type": "markdown",
      "metadata": {
        "id": "_6rHCg6tR4Xi"
      },
      "source": [
        "### String Formatting\n",
        "\n",
        "Using the `format()` method we can add in variable values and generally format our strings."
      ]
    },
    {
      "cell_type": "code",
      "metadata": {
        "id": "RbgGUUvfR4Xi",
        "colab": {
          "base_uri": "https://localhost:8080/"
        },
        "outputId": "17ab8895-4b5f-404f-af62-14443861a1be"
      },
      "source": [
        "my_string = \"{0} {1}\".format('Marco', 'Polo')\n",
        "print (my_string)"
      ],
      "execution_count": 222,
      "outputs": [
        {
          "output_type": "stream",
          "text": [
            "Marco Polo\n"
          ],
          "name": "stdout"
        }
      ]
    },
    {
      "cell_type": "code",
      "metadata": {
        "id": "yeO5gwVNR4Xj",
        "colab": {
          "base_uri": "https://localhost:8080/"
        },
        "outputId": "19810df6-4db3-43fa-f4d2-554cfddf1a3b"
      },
      "source": [
        "my_string = \"{0} {1}\".format('No es un', 'simulacro')\n",
        "print (my_string)"
      ],
      "execution_count": 223,
      "outputs": [
        {
          "output_type": "stream",
          "text": [
            "No es un simulacro\n"
          ],
          "name": "stdout"
        }
      ]
    },
    {
      "cell_type": "code",
      "metadata": {
        "id": "5MsRsCgOR4Xj",
        "colab": {
          "base_uri": "https://localhost:8080/"
        },
        "outputId": "bead69ea-8109-44e2-c724-33f6372b29e3"
      },
      "source": [
        "my_string = \"{1} {0}\".format('Marco', 'Polo')\n",
        "print (my_string)"
      ],
      "execution_count": 224,
      "outputs": [
        {
          "output_type": "stream",
          "text": [
            "Polo Marco\n"
          ],
          "name": "stdout"
        }
      ]
    },
    {
      "cell_type": "code",
      "metadata": {
        "id": "fIPzm-fwR4Xk",
        "colab": {
          "base_uri": "https://localhost:8080/"
        },
        "outputId": "6f064bc7-87bc-43ad-d128-0ab398b4d32d"
      },
      "source": [
        "my_string = \"{1} {0}\".format('No es un', 'simulacro')\n",
        "print (my_string)"
      ],
      "execution_count": 225,
      "outputs": [
        {
          "output_type": "stream",
          "text": [
            "simulacro No es un\n"
          ],
          "name": "stdout"
        }
      ]
    },
    {
      "cell_type": "markdown",
      "metadata": {
        "id": "2-J1kIplR4Xk"
      },
      "source": [
        "We use braces (`{}`) to indicate parts of the string that will be filled in later and we use the arguments of the `format()` function to provide the values to substitute. The numbers within the braces indicate the index of the value in the `format()` arguments."
      ]
    },
    {
      "cell_type": "markdown",
      "metadata": {
        "id": "BZUM1ysBR4Xl"
      },
      "source": [
        "See the `format()` [documentation](https://docs.python.org/2/library/string.html#format-examples) for additional examples."
      ]
    },
    {
      "cell_type": "markdown",
      "metadata": {
        "id": "4aR9g4WkR4Xl"
      },
      "source": [
        "If you need some quick and dirty formatting, you can instead use the `%` symbol, called the string formatting operator. "
      ]
    },
    {
      "cell_type": "code",
      "metadata": {
        "id": "ZfAeYXxdR4Xl",
        "colab": {
          "base_uri": "https://localhost:8080/"
        },
        "outputId": "371c11b6-6ad3-43a2-b7a9-1658546d638e"
      },
      "source": [
        "print('insert %s here' % 'value')"
      ],
      "execution_count": 226,
      "outputs": [
        {
          "output_type": "stream",
          "text": [
            "insert value here\n"
          ],
          "name": "stdout"
        }
      ]
    },
    {
      "cell_type": "code",
      "metadata": {
        "id": "c6AhwoKpR4Xm",
        "colab": {
          "base_uri": "https://localhost:8080/"
        },
        "outputId": "f16e73b3-edd0-4d04-8c43-2778daea7e13"
      },
      "source": [
        "print('Inserte su %s aquí' % 'billete')"
      ],
      "execution_count": 227,
      "outputs": [
        {
          "output_type": "stream",
          "text": [
            "Inserte su billete aquí\n"
          ],
          "name": "stdout"
        }
      ]
    },
    {
      "cell_type": "markdown",
      "metadata": {
        "id": "9pM-435tR4Xm"
      },
      "source": [
        "The `%` symbol basically cues Python to create a placeholder. Whatever character follows the `%` (in the string) indicates what sort of type the value put into the placeholder will have. This character is called a *conversion type*. Once the string has been closed, we need another `%` that will be followed by the values to insert. In the case of one value, you can just put it there. If you are inserting more than one value, they must be enclosed in a tuple."
      ]
    },
    {
      "cell_type": "code",
      "metadata": {
        "id": "nBE0ztirR4Xm",
        "colab": {
          "base_uri": "https://localhost:8080/"
        },
        "outputId": "aa1cb4a6-15a9-45e4-f749-a66899598e55"
      },
      "source": [
        "print('There are %s cats in my %s' % (13, 'apartment'))"
      ],
      "execution_count": 228,
      "outputs": [
        {
          "output_type": "stream",
          "text": [
            "There are 13 cats in my apartment\n"
          ],
          "name": "stdout"
        }
      ]
    },
    {
      "cell_type": "code",
      "metadata": {
        "id": "ANlNyf7yR4Xn",
        "colab": {
          "base_uri": "https://localhost:8080/"
        },
        "outputId": "beefee84-fcc9-43d8-d68b-fb2e167f0f66"
      },
      "source": [
        "print('Hay %s unicornios en mi %s' % (99, 'yate'))"
      ],
      "execution_count": 229,
      "outputs": [
        {
          "output_type": "stream",
          "text": [
            "Hay 99 unicornios en mi yate\n"
          ],
          "name": "stdout"
        }
      ]
    },
    {
      "cell_type": "markdown",
      "metadata": {
        "id": "0iCUqNfyR4Xn"
      },
      "source": [
        "In these examples, the `%s` indicates that Python should convert the values into strings. There are multiple conversion types that you can use to get more specific with the the formatting. See the string formatting [documentation](https://docs.python.org/2/library/stdtypes.html#string-formatting) for additional examples and more complete details on use."
      ]
    },
    {
      "cell_type": "markdown",
      "metadata": {
        "id": "a2ouppWxR4Xo"
      },
      "source": [
        "## Logical Operators\n",
        "### Basic Logic\n",
        "\n",
        "Logical operators deal with `boolean` values, as we briefly covered before. If you recall, a `bool` takes on one of two values, `True` or `False` (or $1$ or $0$). The basic logical statements that we can make are defined using the built-in comparators. These are `==` (equal), `!=` (not equal), `<` (less than), `>` (greater than), `<=` (less than or equal to), and `>=` (greater than or equal to)."
      ]
    },
    {
      "cell_type": "code",
      "metadata": {
        "id": "jZk8Ol0iR4Xo",
        "colab": {
          "base_uri": "https://localhost:8080/"
        },
        "outputId": "0bdb31cc-435f-4aed-b180-873110f271ae"
      },
      "source": [
        "print(5 == 5)"
      ],
      "execution_count": 230,
      "outputs": [
        {
          "output_type": "stream",
          "text": [
            "True\n"
          ],
          "name": "stdout"
        }
      ]
    },
    {
      "cell_type": "code",
      "metadata": {
        "id": "SQd5w7E5R4Xo",
        "colab": {
          "base_uri": "https://localhost:8080/"
        },
        "outputId": "84d73df3-8860-435d-ed66-8a585d186e62"
      },
      "source": [
        "print(7 == 12)"
      ],
      "execution_count": 231,
      "outputs": [
        {
          "output_type": "stream",
          "text": [
            "False\n"
          ],
          "name": "stdout"
        }
      ]
    },
    {
      "cell_type": "code",
      "metadata": {
        "id": "zY1truYUR4Xo",
        "colab": {
          "base_uri": "https://localhost:8080/"
        },
        "outputId": "aea74b52-af75-4e68-e7ef-c44bdc1da739"
      },
      "source": [
        "print(5 > 5)"
      ],
      "execution_count": 232,
      "outputs": [
        {
          "output_type": "stream",
          "text": [
            "False\n"
          ],
          "name": "stdout"
        }
      ]
    },
    {
      "cell_type": "code",
      "metadata": {
        "id": "jmkrp4lzR4Xp",
        "colab": {
          "base_uri": "https://localhost:8080/"
        },
        "outputId": "dbe991ac-966a-41c0-db77-214173d07548"
      },
      "source": [
        "print(45 > 999)"
      ],
      "execution_count": 233,
      "outputs": [
        {
          "output_type": "stream",
          "text": [
            "False\n"
          ],
          "name": "stdout"
        }
      ]
    },
    {
      "cell_type": "markdown",
      "metadata": {
        "id": "K0XVrRE8R4Xp"
      },
      "source": [
        "These comparators also work in conjunction with variables."
      ]
    },
    {
      "cell_type": "code",
      "metadata": {
        "id": "_cLpQaFaR4Xp",
        "colab": {
          "base_uri": "https://localhost:8080/"
        },
        "outputId": "ad7cf5af-a381-4c74-c866-91a4ff6d9758"
      },
      "source": [
        "m = 2\n",
        "n = 23\n",
        "print(m < n)"
      ],
      "execution_count": 234,
      "outputs": [
        {
          "output_type": "stream",
          "text": [
            "True\n"
          ],
          "name": "stdout"
        }
      ]
    },
    {
      "cell_type": "code",
      "metadata": {
        "id": "XckpYqkIR4Xq",
        "colab": {
          "base_uri": "https://localhost:8080/"
        },
        "outputId": "7a0d3121-8d74-47f7-f414-91b3b7aa3e21"
      },
      "source": [
        "x = 49\n",
        "y = 12\n",
        "print(x < y)"
      ],
      "execution_count": 235,
      "outputs": [
        {
          "output_type": "stream",
          "text": [
            "False\n"
          ],
          "name": "stdout"
        }
      ]
    },
    {
      "cell_type": "markdown",
      "metadata": {
        "id": "XsGXuVxLR4Xr"
      },
      "source": [
        "We can string these comparators together to make more complex logical statements using the logical operators `or`, `and`, and `not`. "
      ]
    },
    {
      "cell_type": "code",
      "metadata": {
        "id": "dVBDJYITR4Xr",
        "colab": {
          "base_uri": "https://localhost:8080/"
        },
        "outputId": "0ff37ea7-1851-4fd5-9124-d1702ee61fd0"
      },
      "source": [
        "statement_1 = 10 > 2\n",
        "statement_2 = 4 <= 6\n",
        "print (\"Statement 1 truth value: {0}\".format(statement_1))\n",
        "print (\"Statement 2 truth value: {0}\".format(statement_2))\n",
        "print (\"Statement 1 and Statement 2: {0}\".format(statement_1 and statement_2))"
      ],
      "execution_count": 236,
      "outputs": [
        {
          "output_type": "stream",
          "text": [
            "Statement 1 truth value: True\n",
            "Statement 2 truth value: True\n",
            "Statement 1 and Statement 2: True\n"
          ],
          "name": "stdout"
        }
      ]
    },
    {
      "cell_type": "code",
      "metadata": {
        "id": "FdnkUXcGR4Xs",
        "colab": {
          "base_uri": "https://localhost:8080/"
        },
        "outputId": "13fa89d5-b7bd-4d1a-d539-4479250ce23b"
      },
      "source": [
        "afirmacion_1 = 50 > 45\n",
        "afirmacion_2 = 3 <= 16\n",
        "print (\"Valor de verdad de la afirmacion 1: {0}\".format(afirmacion_1))\n",
        "print (\"Valor de verdad de la afirmacion 2: {0}\".format(afirmacion_2))\n",
        "print (\"Afirmacion 1 y afirmacion 2: {0}\".format(afirmacion_1 and afirmacion_2))"
      ],
      "execution_count": 237,
      "outputs": [
        {
          "output_type": "stream",
          "text": [
            "Valor de verdad de la afirmacion 1: True\n",
            "Valor de verdad de la afirmacion 2: True\n",
            "Afirmacion 1 y afirmacion 2: True\n"
          ],
          "name": "stdout"
        }
      ]
    },
    {
      "cell_type": "markdown",
      "metadata": {
        "id": "8GelcDGBR4Xs"
      },
      "source": [
        "The `or` operator performs a logical `or` calculation. This is an inclusive `or`, so if either component paired together by `or` is `True`, the whole statement will be `True`. The `and` statement only outputs `True` if all components that are `and`ed together are True. Otherwise it will output `False`. The `not` statement simply inverts the truth value of whichever statement follows it. So a `True` statement will be evaluated as `False` when a `not` is placed in front of it. Similarly, a `False` statement will become `True` when a `not` is in front of it.\n",
        "\n",
        "Say that we have two logical statements, or assertions, $P$ and $Q$. The truth table for the basic logical operators is as follows:\n",
        "\n",
        "|  P  |  Q  | `not` P| P `and` Q | P `or` Q|\n",
        "|:-----:|:-----:|:---:|:---:|:---:|\n",
        "| `True` | `True` | `False` | `True` | `True` |\n",
        "| `False` | `True` | `True` | `False` | `True` |\n",
        "| `True` | `False` | `False` | `False` | `True` |\n",
        "| `False` | `False` | `True` | `False` | `False` |\n",
        "\n",
        "We can string multiple logical statements together using the logical operators."
      ]
    },
    {
      "cell_type": "code",
      "metadata": {
        "id": "30hAjM7hR4Xs",
        "colab": {
          "base_uri": "https://localhost:8080/"
        },
        "outputId": "c7213a87-ded8-4b24-b8f6-4982edef0eb6"
      },
      "source": [
        "print ((2 < 3) and (3 > 0)) or ((5 > 6) and not (4 < 2))"
      ],
      "execution_count": 238,
      "outputs": [
        {
          "output_type": "stream",
          "text": [
            "True\n"
          ],
          "name": "stdout"
        },
        {
          "output_type": "execute_result",
          "data": {
            "text/plain": [
              "False"
            ]
          },
          "metadata": {
            "tags": []
          },
          "execution_count": 238
        }
      ]
    },
    {
      "cell_type": "code",
      "metadata": {
        "id": "azdtRiaIR4Xs",
        "colab": {
          "base_uri": "https://localhost:8080/"
        },
        "outputId": "ee34056e-d6f7-4926-9173-b712ca3439d6"
      },
      "source": [
        "print (  ((59 == 60) or (15 > 5)) and ( (99 > 2) and not (4 < 0)) )"
      ],
      "execution_count": 239,
      "outputs": [
        {
          "output_type": "stream",
          "text": [
            "True\n"
          ],
          "name": "stdout"
        }
      ]
    },
    {
      "cell_type": "markdown",
      "metadata": {
        "id": "hZW_o1fqR4Xt"
      },
      "source": [
        "Logical statements can be as simple or complex as we like, depending on what we need to express. Evaluating the above logical statement step by step we see that we are evaluating (`True and True`) `or` (`False and not False`). This becomes `True or (False and True`), subsequently becoming `True or False`, ultimately being evaluated as `True`."
      ]
    },
    {
      "cell_type": "markdown",
      "metadata": {
        "id": "KMT8r_NNR4Xt"
      },
      "source": [
        "#### Truthiness\n",
        "\n",
        "Data types in Python have a fun characteristic called truthiness. What this means is that most built-in types will evaluate as either `True` or `False` when a boolean value is needed (such as with an if-statement). As a general rule, containers like strings, tuples, dictionaries, lists, and sets, will return `True` if they contain anything at all and `False` if they contain nothing."
      ]
    },
    {
      "cell_type": "code",
      "metadata": {
        "id": "MD5YR1FLR4Xt",
        "colab": {
          "base_uri": "https://localhost:8080/"
        },
        "outputId": "f0089c49-862c-45e7-b4df-acec9e34ab23"
      },
      "source": [
        "# Similar to how float() and int() work, bool() forces a value to be considered a boolean!\n",
        "print(bool(''))"
      ],
      "execution_count": 240,
      "outputs": [
        {
          "output_type": "stream",
          "text": [
            "False\n"
          ],
          "name": "stdout"
        }
      ]
    },
    {
      "cell_type": "code",
      "metadata": {
        "id": "HWKjNkXSR4Xu",
        "colab": {
          "base_uri": "https://localhost:8080/"
        },
        "outputId": "0e2c3530-ba5c-46d2-a4e6-6dee5409505c"
      },
      "source": [
        "print(bool('I have character!'))"
      ],
      "execution_count": 241,
      "outputs": [
        {
          "output_type": "stream",
          "text": [
            "True\n"
          ],
          "name": "stdout"
        }
      ]
    },
    {
      "cell_type": "code",
      "metadata": {
        "id": "yJPowul7R4Xu",
        "colab": {
          "base_uri": "https://localhost:8080/"
        },
        "outputId": "0e93d6f8-105d-4bfe-9846-62fc8dd97b9c"
      },
      "source": [
        "print(bool([]))"
      ],
      "execution_count": 242,
      "outputs": [
        {
          "output_type": "stream",
          "text": [
            "False\n"
          ],
          "name": "stdout"
        }
      ]
    },
    {
      "cell_type": "code",
      "metadata": {
        "id": "SstvP_3zR4Xu",
        "colab": {
          "base_uri": "https://localhost:8080/"
        },
        "outputId": "2a8ab1bf-b4df-4455-edc3-5139d9a2f78b"
      },
      "source": [
        "print(bool([1, 2, 3]))"
      ],
      "execution_count": 243,
      "outputs": [
        {
          "output_type": "stream",
          "text": [
            "True\n"
          ],
          "name": "stdout"
        }
      ]
    },
    {
      "cell_type": "code",
      "metadata": {
        "id": "eXhq8gclR4Xu",
        "colab": {
          "base_uri": "https://localhost:8080/"
        },
        "outputId": "218f2d79-21fd-4589-e853-46788ac85831"
      },
      "source": [
        "print(bool(''))"
      ],
      "execution_count": 244,
      "outputs": [
        {
          "output_type": "stream",
          "text": [
            "False\n"
          ],
          "name": "stdout"
        }
      ]
    },
    {
      "cell_type": "code",
      "metadata": {
        "id": "0vC4-AI2R4Xv",
        "colab": {
          "base_uri": "https://localhost:8080/"
        },
        "outputId": "eb2d1c84-e2cd-4b8f-ba45-3026c5a80b95"
      },
      "source": [
        "print(bool('¡No estoy vacía!'))"
      ],
      "execution_count": 245,
      "outputs": [
        {
          "output_type": "stream",
          "text": [
            "True\n"
          ],
          "name": "stdout"
        }
      ]
    },
    {
      "cell_type": "code",
      "metadata": {
        "id": "zdJ0dzMVR4Xv",
        "colab": {
          "base_uri": "https://localhost:8080/"
        },
        "outputId": "89d0cd99-f2a1-4d61-b631-691ddc67ab04"
      },
      "source": [
        "print(bool([]))"
      ],
      "execution_count": 246,
      "outputs": [
        {
          "output_type": "stream",
          "text": [
            "False\n"
          ],
          "name": "stdout"
        }
      ]
    },
    {
      "cell_type": "code",
      "metadata": {
        "id": "kKwN0YlXR4Xv",
        "colab": {
          "base_uri": "https://localhost:8080/"
        },
        "outputId": "dd1dabd4-fac0-49dd-a23c-38e7219d8740"
      },
      "source": [
        "print(bool([\"Lista \", \"de \", \"cadenas\"]))"
      ],
      "execution_count": 247,
      "outputs": [
        {
          "output_type": "stream",
          "text": [
            "True\n"
          ],
          "name": "stdout"
        }
      ]
    },
    {
      "cell_type": "markdown",
      "metadata": {
        "id": "GA01qDXIR4Xw"
      },
      "source": [
        "And so on, for the other collections and containers. `None` also evaluates as `False`. The number `1` is equivalent to `True` and the number `0` is equivalent to `False` as well, in a boolean context."
      ]
    },
    {
      "cell_type": "markdown",
      "metadata": {
        "id": "07mxDLFoR4Xw"
      },
      "source": [
        "### If-statements\n",
        "\n",
        "We can create segments of code that only execute if a set of conditions is met. We use if-statements in conjunction with logical statements in order to create branches in our code. \n",
        "\n",
        "An `if` block gets entered when the condition is considered to be `True`. If condition is evaluated as `False`, the `if` block will simply be skipped unless there is an `else` block to accompany it. Conditions are made using either logical operators or by using the truthiness of values in Python. An if-statement is defined with a colon and a block of indented text."
      ]
    },
    {
      "cell_type": "code",
      "metadata": {
        "id": "Hu-uXXNGR4Xw",
        "colab": {
          "base_uri": "https://localhost:8080/"
        },
        "outputId": "9626c831-cd27-490d-8cfa-aaa960d7a135"
      },
      "source": [
        "# This is the basic format of an if statement. This is a vacuous example. \n",
        "# The string \"Condition\" will always evaluated as True because it is a\n",
        "# non-empty string. he purpose of this code is to show the formatting of\n",
        "# an if-statement.\n",
        "if \"Condition\": \n",
        "    # This block of code will execute because the string is non-empty\n",
        "    # Everything on these indented lines\n",
        "    print(True)\n",
        "else:\n",
        "    # So if the condition that we examined with if is in fact False\n",
        "    # This block of code will execute INSTEAD of the first block of code\n",
        "    # Everything on these indented lines\n",
        "    print(False)\n",
        "# The else block here will never execute because \"Condition\" is a non-empty string."
      ],
      "execution_count": 248,
      "outputs": [
        {
          "output_type": "stream",
          "text": [
            "True\n"
          ],
          "name": "stdout"
        }
      ]
    },
    {
      "cell_type": "code",
      "metadata": {
        "id": "mC3HONzsR4Xx"
      },
      "source": [
        "i = 4\n",
        "if i == 5:\n",
        "    print ('The variable i has a value of 5')"
      ],
      "execution_count": 249,
      "outputs": []
    },
    {
      "cell_type": "code",
      "metadata": {
        "id": "oHMGmoXyR4Xx",
        "colab": {
          "base_uri": "https://localhost:8080/"
        },
        "outputId": "7cb03c4a-f8a2-4553-e4aa-c1e45251c1ba"
      },
      "source": [
        "if \"No vacío\":\n",
        "    print(True)\n",
        "else:\n",
        "    print(False)"
      ],
      "execution_count": 250,
      "outputs": [
        {
          "output_type": "stream",
          "text": [
            "True\n"
          ],
          "name": "stdout"
        }
      ]
    },
    {
      "cell_type": "code",
      "metadata": {
        "id": "m3OWIAb1R4Xy",
        "colab": {
          "base_uri": "https://localhost:8080/"
        },
        "outputId": "b02255d2-60a2-41af-ce01-3557d12ec2b5"
      },
      "source": [
        "i = 3325\n",
        "if i == 3325:\n",
        "    print('The variable i has a value of ', i)"
      ],
      "execution_count": 251,
      "outputs": [
        {
          "output_type": "stream",
          "text": [
            "The variable i has a value of  3325\n"
          ],
          "name": "stdout"
        }
      ]
    },
    {
      "cell_type": "markdown",
      "metadata": {
        "id": "52cdhqTbR4Xy"
      },
      "source": [
        "Because in this example `i = 4` and the if-statement is only looking for whether `i` is equal to `5`, the print statement will never be executed. We can add in an `else` statement to create a contingency block of code in case the condition in the if-statement is not evaluated as `True`."
      ]
    },
    {
      "cell_type": "code",
      "metadata": {
        "id": "kYR2EBXxR4Xy",
        "colab": {
          "base_uri": "https://localhost:8080/"
        },
        "outputId": "2cd5a5b5-d5c3-42cf-804f-e530589d29cc"
      },
      "source": [
        "i = 4\n",
        "if i == 5:\n",
        "    print (\"All lines in this indented block are part of this block\")\n",
        "    print ('The variable i has a value of 5')\n",
        "else:\n",
        "    print (\"All lines in this indented block are part of this block\")\n",
        "    print ('The variable i is not equal to 5')"
      ],
      "execution_count": 252,
      "outputs": [
        {
          "output_type": "stream",
          "text": [
            "All lines in this indented block are part of this block\n",
            "The variable i is not equal to 5\n"
          ],
          "name": "stdout"
        }
      ]
    },
    {
      "cell_type": "code",
      "metadata": {
        "id": "oNTMkEkUR4Xy",
        "colab": {
          "base_uri": "https://localhost:8080/"
        },
        "outputId": "e9f79936-b5a6-4d05-e5c7-4eaceb59410f"
      },
      "source": [
        "i = 567\n",
        "if i == 567:\n",
        "    print (\"Todas las líneas de este bloque indentado son parte de este bloque\")\n",
        "    print ('La variable i tiene valor 567')\n",
        "else:\n",
        "    print (\"Todas las líneas de este bloque indentado son parte de este bloque\")\n",
        "    print ('La variable i no tiene valor 567')"
      ],
      "execution_count": 253,
      "outputs": [
        {
          "output_type": "stream",
          "text": [
            "Todas las líneas de este bloque indentado son parte de este bloque\n",
            "La variable i tiene valor 567\n"
          ],
          "name": "stdout"
        }
      ]
    },
    {
      "cell_type": "markdown",
      "metadata": {
        "id": "Blal7y4hR4Xy"
      },
      "source": [
        "We can implement other branches off of the same if-statement by using `elif`, an abbreviation of \"else if\". We can include as many `elifs` as we like until we have exhausted all the logical branches of a condition."
      ]
    },
    {
      "cell_type": "code",
      "metadata": {
        "id": "RF9hUAZAR4Xz",
        "colab": {
          "base_uri": "https://localhost:8080/"
        },
        "outputId": "2470463e-0274-48b5-c22f-17ae949d5afd"
      },
      "source": [
        "i = 1\n",
        "if i == 1:\n",
        "    print ('The variable i has a value of 1')\n",
        "elif i == 2:\n",
        "    print ('The variable i has a value of 2')\n",
        "elif i == 3:\n",
        "    print ('The variable i has a value of 3')\n",
        "else:\n",
        "    print (\"I don't care what i is\")"
      ],
      "execution_count": 254,
      "outputs": [
        {
          "output_type": "stream",
          "text": [
            "The variable i has a value of 1\n"
          ],
          "name": "stdout"
        }
      ]
    },
    {
      "cell_type": "code",
      "metadata": {
        "id": "l6LjrKBTR4Xz",
        "colab": {
          "base_uri": "https://localhost:8080/"
        },
        "outputId": "d873c467-3f96-4785-bdc0-20656d92344a"
      },
      "source": [
        "i = 2323\n",
        "if i == 43:\n",
        "    print (' AAA ')\n",
        "elif i == 5423:\n",
        "    print (' BBB ')\n",
        "elif i == 654:\n",
        "    print (' XYZ')\n",
        "else:\n",
        "    print (\"¡Thundercats!\")"
      ],
      "execution_count": 255,
      "outputs": [
        {
          "output_type": "stream",
          "text": [
            "¡Thundercats!\n"
          ],
          "name": "stdout"
        }
      ]
    },
    {
      "cell_type": "markdown",
      "metadata": {
        "id": "-wdrGKWkR4X0"
      },
      "source": [
        "You can also nest if-statements within if-statements to check for further conditions."
      ]
    },
    {
      "cell_type": "code",
      "metadata": {
        "id": "BSUSuU8FR4X0",
        "colab": {
          "base_uri": "https://localhost:8080/"
        },
        "outputId": "69cc4e13-86fe-4d69-dbde-4cc4976de5a9"
      },
      "source": [
        "i = 10\n",
        "if i % 2 == 0:\n",
        "    if i % 3 == 0:\n",
        "        print ('i is divisible by both 2 and 3! Wow!')\n",
        "    elif i % 5 == 0:\n",
        "        print ('i is divisible by both 2 and 5! Wow!')\n",
        "    else:\n",
        "        print ('i is divisible by 2, but not 3 or 5. Meh.')\n",
        "else:\n",
        "    print ('I guess that i is an odd number. Boring.')"
      ],
      "execution_count": 256,
      "outputs": [
        {
          "output_type": "stream",
          "text": [
            "i is divisible by both 2 and 5! Wow!\n"
          ],
          "name": "stdout"
        }
      ]
    },
    {
      "cell_type": "code",
      "metadata": {
        "id": "DKfeU5-NR4X1",
        "colab": {
          "base_uri": "https://localhost:8080/"
        },
        "outputId": "275a0622-b565-4347-fd8f-5c0ebe7387c2"
      },
      "source": [
        "j = 45\n",
        "if j % 5 == 0:\n",
        "    if  j % 4 == 0:\n",
        "        print (' j es divisible por 4 y por 5')\n",
        "    elif i % 11 == 0:\n",
        "        print (' j es divisible por 5 y por 11')\n",
        "    else:\n",
        "        print (' j es divisible por 5, pero ')\n",
        "else:\n",
        "    print (' ¿Qué está pasando?')"
      ],
      "execution_count": 257,
      "outputs": [
        {
          "output_type": "stream",
          "text": [
            " j es divisible por 5, pero \n"
          ],
          "name": "stdout"
        }
      ]
    },
    {
      "cell_type": "markdown",
      "metadata": {
        "id": "9BtjmAgjR4X1"
      },
      "source": [
        "Remember that we can group multiple conditions together by using the logical operators!"
      ]
    },
    {
      "cell_type": "code",
      "metadata": {
        "id": "xhHZYKBgR4X2",
        "colab": {
          "base_uri": "https://localhost:8080/"
        },
        "outputId": "28278031-c1ec-4a8f-f328-1f8ac1943ec1"
      },
      "source": [
        "i = 5\n",
        "j = 12\n",
        "if i < 10 and j > 11:\n",
        "    print ('{0} is less than 10 and {1} is greater than 11! How novel and interesting!'.format(i, j))"
      ],
      "execution_count": 258,
      "outputs": [
        {
          "output_type": "stream",
          "text": [
            "5 is less than 10 and 12 is greater than 11! How novel and interesting!\n"
          ],
          "name": "stdout"
        }
      ]
    },
    {
      "cell_type": "code",
      "metadata": {
        "id": "xryNSXpuR4X2",
        "colab": {
          "base_uri": "https://localhost:8080/"
        },
        "outputId": "99bde21e-74e3-4200-8b0d-ea5a1a9bbf10"
      },
      "source": [
        "x = 213\n",
        "y = 456\n",
        "if x < 1000 and y > 0:\n",
        "    print ('{0} es menor que 1000 y {1} es positivo'.format(x, y))"
      ],
      "execution_count": 259,
      "outputs": [
        {
          "output_type": "stream",
          "text": [
            "213 es menor que 1000 y 456 es positivo\n"
          ],
          "name": "stdout"
        }
      ]
    },
    {
      "cell_type": "markdown",
      "metadata": {
        "id": "KtkdFvPVR4X2"
      },
      "source": [
        "You can use the logical comparators to compare strings!"
      ]
    },
    {
      "cell_type": "code",
      "metadata": {
        "id": "r1-R_-qNR4X2",
        "colab": {
          "base_uri": "https://localhost:8080/"
        },
        "outputId": "6ff4ff05-6803-43e6-e4b4-026adf839579"
      },
      "source": [
        "my_string = \"Carthago delenda est\"\n",
        "if my_string == \"Carthago delenda est\":\n",
        "    print ('And so it was! For the glory of Rome!')\n",
        "else:\n",
        "    print ('War elephants are TERRIFYING. I am staying home.')"
      ],
      "execution_count": 260,
      "outputs": [
        {
          "output_type": "stream",
          "text": [
            "And so it was! For the glory of Rome!\n"
          ],
          "name": "stdout"
        }
      ]
    },
    {
      "cell_type": "code",
      "metadata": {
        "id": "tVzktzWFR4X3",
        "colab": {
          "base_uri": "https://localhost:8080/"
        },
        "outputId": "4c5c5d05-526c-464b-87d9-5e109d74c186"
      },
      "source": [
        "my_string = \"Volveré\"\n",
        "if my_string == \"Volveré\":\n",
        "    print ('Es Terminator')\n",
        "else:\n",
        "    print ('Puede ser cualquier película')"
      ],
      "execution_count": 261,
      "outputs": [
        {
          "output_type": "stream",
          "text": [
            "Es Terminator\n"
          ],
          "name": "stdout"
        }
      ]
    },
    {
      "cell_type": "markdown",
      "metadata": {
        "id": "WQs82R5RR4X3"
      },
      "source": [
        "As with other data types, `==` will check for whether the two things on either side of it have the same value. In this case, we compare whether the value of the strings are the same. Using `>` or `<` or any of the other comparators is not quite so intuitive, however, so we will stay from using comparators with strings in this lecture. Comparators will examine the [lexicographical order](https://en.wikipedia.org/wiki/Lexicographical_order) of the strings, which might be a bit more in-depth than you might like."
      ]
    },
    {
      "cell_type": "markdown",
      "metadata": {
        "id": "dZsHqzcuR4X3"
      },
      "source": [
        "Some built-in functions return a boolean value, so they can be used as conditions in an if-statement. User-defined functions can also be constructed so that they return a boolean value. This will be covered later with function definition!\n",
        "\n",
        "The `in` keyword is generally used to check membership of a value within another value. We can check memebership in the context of an if-statement and use it to output a truth value."
      ]
    },
    {
      "cell_type": "code",
      "metadata": {
        "id": "aMhwu7X8R4X3",
        "colab": {
          "base_uri": "https://localhost:8080/"
        },
        "outputId": "9490eaf6-5212-47a5-a6b4-bddc417f319e"
      },
      "source": [
        "if 'a' in my_string or 'e' in my_string:\n",
        "    print ('Those are my favorite vowels!')"
      ],
      "execution_count": 262,
      "outputs": [
        {
          "output_type": "stream",
          "text": [
            "Those are my favorite vowels!\n"
          ],
          "name": "stdout"
        }
      ]
    },
    {
      "cell_type": "code",
      "metadata": {
        "id": "bjT2P-5rR4X4",
        "colab": {
          "base_uri": "https://localhost:8080/"
        },
        "outputId": "16d7878f-60f1-4f76-f762-2dcea5d28e9d"
      },
      "source": [
        "if 'o' in my_string or 'e' in my_string:\n",
        "    print ('Tiene secuela')"
      ],
      "execution_count": 263,
      "outputs": [
        {
          "output_type": "stream",
          "text": [
            "Tiene secuela\n"
          ],
          "name": "stdout"
        }
      ]
    },
    {
      "cell_type": "markdown",
      "metadata": {
        "id": "GLvBA_hoR4X4"
      },
      "source": [
        "Here we use `in` to check whether the variable `my_string` contains any particular letters. We will later use `in` to iterate through lists!"
      ]
    },
    {
      "cell_type": "markdown",
      "metadata": {
        "id": "e9_gJuVER4X4"
      },
      "source": [
        "## Loop Structures\n",
        "\n",
        "Loop structures are one of the most important parts of programming. The `for` loop and the `while` loop provide a way to repeatedly run a block of code repeatedly. A `while` loop will iterate until a certain condition has been met. If at any point after an iteration that condition is no longer satisfied, the loop terminates. A `for` loop will iterate over a sequence of values and terminate when the sequence has ended. You can instead include conditions within the `for` loop to decide whether it should terminate early or you could simply let it run its course."
      ]
    },
    {
      "cell_type": "code",
      "metadata": {
        "id": "j-3jIvkUR4X4",
        "colab": {
          "base_uri": "https://localhost:8080/"
        },
        "outputId": "321104e5-1428-451e-ff0f-c51e6240f4d9"
      },
      "source": [
        "i = 5\n",
        "while i > 0: # We can write this as 'while i:' because 0 is False!\n",
        "    i -= 1\n",
        "    print ('I am looping! {0} more to go!'.format(i))"
      ],
      "execution_count": 264,
      "outputs": [
        {
          "output_type": "stream",
          "text": [
            "I am looping! 4 more to go!\n",
            "I am looping! 3 more to go!\n",
            "I am looping! 2 more to go!\n",
            "I am looping! 1 more to go!\n",
            "I am looping! 0 more to go!\n"
          ],
          "name": "stdout"
        }
      ]
    },
    {
      "cell_type": "code",
      "metadata": {
        "id": "hDs7VUa8R4X5",
        "colab": {
          "base_uri": "https://localhost:8080/"
        },
        "outputId": "34862049-5113-4adc-b22d-a45d2dddd904"
      },
      "source": [
        "i  = 15\n",
        "while i > 0:\n",
        "    i -= 1\n",
        "    print ('{0} seg restantes'.format(i))"
      ],
      "execution_count": 265,
      "outputs": [
        {
          "output_type": "stream",
          "text": [
            "14 seg restantes\n",
            "13 seg restantes\n",
            "12 seg restantes\n",
            "11 seg restantes\n",
            "10 seg restantes\n",
            "9 seg restantes\n",
            "8 seg restantes\n",
            "7 seg restantes\n",
            "6 seg restantes\n",
            "5 seg restantes\n",
            "4 seg restantes\n",
            "3 seg restantes\n",
            "2 seg restantes\n",
            "1 seg restantes\n",
            "0 seg restantes\n"
          ],
          "name": "stdout"
        }
      ]
    },
    {
      "cell_type": "markdown",
      "metadata": {
        "id": "18zVkOzsR4X5"
      },
      "source": [
        "\n",
        "With `while` loops we need to make sure that something actually changes from iteration to iteration so that that the loop actually terminates. In this case, we use the shorthand `i -= 1` (short for `i = i - 1`) so that the value of `i` gets smaller with each iteration. Eventually `i` will be reduced to `0`, rendering the condition `False` and exiting the loop."
      ]
    },
    {
      "cell_type": "markdown",
      "metadata": {
        "id": "Wy2QdyTrR4X5"
      },
      "source": [
        "A `for` loop iterates a set number of times, determined when you state the entry into the loop. In this case we are iterating over the list returned from `range()`. The `for` loop selects a value from the list, in order, and temporarily assigns the value of `i` to it so that operations can be performed with the value."
      ]
    },
    {
      "cell_type": "code",
      "metadata": {
        "id": "8fKNmu99R4X5",
        "colab": {
          "base_uri": "https://localhost:8080/"
        },
        "outputId": "33b3fb2f-2bfe-4238-955e-d9ff0475c10e"
      },
      "source": [
        "for i in range(5):\n",
        "    print ('I am looping! I have looped {0} times!'.format(i + 1))"
      ],
      "execution_count": 266,
      "outputs": [
        {
          "output_type": "stream",
          "text": [
            "I am looping! I have looped 1 times!\n",
            "I am looping! I have looped 2 times!\n",
            "I am looping! I have looped 3 times!\n",
            "I am looping! I have looped 4 times!\n",
            "I am looping! I have looped 5 times!\n"
          ],
          "name": "stdout"
        }
      ]
    },
    {
      "cell_type": "code",
      "metadata": {
        "id": "nZpzDCfIR4X5",
        "colab": {
          "base_uri": "https://localhost:8080/"
        },
        "outputId": "821844c8-61c7-40af-e182-8772eef55a05"
      },
      "source": [
        "for k in range(4,8):\n",
        "    print ('Me estoy moviendo, ahora estoy en {0}'.format(k))"
      ],
      "execution_count": 267,
      "outputs": [
        {
          "output_type": "stream",
          "text": [
            "Me estoy moviendo, ahora estoy en 4\n",
            "Me estoy moviendo, ahora estoy en 5\n",
            "Me estoy moviendo, ahora estoy en 6\n",
            "Me estoy moviendo, ahora estoy en 7\n"
          ],
          "name": "stdout"
        }
      ]
    },
    {
      "cell_type": "markdown",
      "metadata": {
        "id": "SG1hq_mCR4X6"
      },
      "source": [
        "Note that in this `for` loop we use the `in` keyword. Use of the `in` keyword is not limited to checking for membership as in the if-statement example. You can iterate over any collection with a `for` loop by using the `in` keyword.\n",
        "\n",
        "In this next example, we will iterate over a `set` because we want to check for containment and add to a new set."
      ]
    },
    {
      "cell_type": "code",
      "metadata": {
        "id": "EUBt8EnnR4X6",
        "colab": {
          "base_uri": "https://localhost:8080/"
        },
        "outputId": "d2550bcb-fa1c-447a-d02e-96fbf6455a81"
      },
      "source": [
        "my_list = {'cats', 'dogs', 'lizards', 'cows', 'bats', 'sponges', 'humans'} # Lists all the animals in the world\n",
        "mammal_list = {'cats', 'dogs', 'cows', 'bats', 'humans'} # Lists all the mammals in the world\n",
        "my_new_list = set()\n",
        "for animal in my_list:\n",
        "    if animal in mammal_list:\n",
        "        # This adds any animal that is both in my_list and mammal_list to my_new_list\n",
        "        my_new_list.add(animal)\n",
        "        \n",
        "print (my_new_list)"
      ],
      "execution_count": 268,
      "outputs": [
        {
          "output_type": "stream",
          "text": [
            "{'cows', 'humans', 'bats', 'dogs', 'cats'}\n"
          ],
          "name": "stdout"
        }
      ]
    },
    {
      "cell_type": "code",
      "metadata": {
        "id": "pniGmYg6R4X6",
        "colab": {
          "base_uri": "https://localhost:8080/"
        },
        "outputId": "20be295d-f437-40e5-cc0c-b9fc1b126c4c"
      },
      "source": [
        "películas_del_95 = {'Se7en', 'Toy Story', 'Casino', 'Batman'}\n",
        "dramas = {'Casino', 'Rebecca', 'Blade Runner'}\n",
        "nueva_lista = set()\n",
        "for pelicula in películas_del_95:\n",
        "    if pelicula in dramas:\n",
        "        nueva_lista.add(pelicula)\n",
        "        \n",
        "print (nueva_lista)"
      ],
      "execution_count": 269,
      "outputs": [
        {
          "output_type": "stream",
          "text": [
            "{'Casino'}\n"
          ],
          "name": "stdout"
        }
      ]
    },
    {
      "cell_type": "markdown",
      "metadata": {
        "id": "Mtqp5ZLzR4X7"
      },
      "source": [
        "There are two statements that are very helpful in dealing with both `for` and `while` loops. These are `break` and `continue`. If `break` is encountered at any point while a loop is executing, the loop will immediately end."
      ]
    },
    {
      "cell_type": "code",
      "metadata": {
        "id": "Ee9BocFeR4X7",
        "colab": {
          "base_uri": "https://localhost:8080/"
        },
        "outputId": "042e79dd-399c-43d6-a701-d26a25979519"
      },
      "source": [
        "i = 10\n",
        "while True:\n",
        "    if i == 14:\n",
        "        break\n",
        "    i += 1 # This is shorthand for i = i + 1. It increments i with each iteration.\n",
        "    print (i)"
      ],
      "execution_count": 270,
      "outputs": [
        {
          "output_type": "stream",
          "text": [
            "11\n",
            "12\n",
            "13\n",
            "14\n"
          ],
          "name": "stdout"
        }
      ]
    },
    {
      "cell_type": "code",
      "metadata": {
        "id": "s5tdtdAqR4X7",
        "colab": {
          "base_uri": "https://localhost:8080/"
        },
        "outputId": "a8379cd4-4bdd-498b-b6fb-16e394bb3773"
      },
      "source": [
        "for i in range(5):\n",
        "    if i == 2:\n",
        "        break\n",
        "    print (i)"
      ],
      "execution_count": 271,
      "outputs": [
        {
          "output_type": "stream",
          "text": [
            "0\n",
            "1\n"
          ],
          "name": "stdout"
        }
      ]
    },
    {
      "cell_type": "code",
      "metadata": {
        "id": "boMut-oIR4X7",
        "colab": {
          "base_uri": "https://localhost:8080/"
        },
        "outputId": "5da30b73-d035-40ed-a16c-5af5bce5e091"
      },
      "source": [
        "j = 0\n",
        "while True:\n",
        "    if j > 25:\n",
        "        break\n",
        "    j += 3 \n",
        "    print (j)"
      ],
      "execution_count": 272,
      "outputs": [
        {
          "output_type": "stream",
          "text": [
            "3\n",
            "6\n",
            "9\n",
            "12\n",
            "15\n",
            "18\n",
            "21\n",
            "24\n",
            "27\n"
          ],
          "name": "stdout"
        }
      ]
    },
    {
      "cell_type": "code",
      "metadata": {
        "id": "wj2MFI-SR4X8",
        "colab": {
          "base_uri": "https://localhost:8080/"
        },
        "outputId": "79f3152e-73e6-4557-bf48-d808b6f0c018"
      },
      "source": [
        "for i in range(48,96):\n",
        "    if i > 70:\n",
        "        break\n",
        "    print (i)"
      ],
      "execution_count": 273,
      "outputs": [
        {
          "output_type": "stream",
          "text": [
            "48\n",
            "49\n",
            "50\n",
            "51\n",
            "52\n",
            "53\n",
            "54\n",
            "55\n",
            "56\n",
            "57\n",
            "58\n",
            "59\n",
            "60\n",
            "61\n",
            "62\n",
            "63\n",
            "64\n",
            "65\n",
            "66\n",
            "67\n",
            "68\n",
            "69\n",
            "70\n"
          ],
          "name": "stdout"
        }
      ]
    },
    {
      "cell_type": "markdown",
      "metadata": {
        "id": "-w-30DuIR4X8"
      },
      "source": [
        "The `continue` statement will tell the loop to immediately end this iteration and continue onto the next iteration of the loop."
      ]
    },
    {
      "cell_type": "code",
      "metadata": {
        "id": "75fiCfkpR4X8",
        "colab": {
          "base_uri": "https://localhost:8080/"
        },
        "outputId": "32113958-8f26-4900-ed16-73a45b1366b3"
      },
      "source": [
        "i = 0\n",
        "while i < 5:\n",
        "    i += 1\n",
        "    if i == 3:\n",
        "        continue\n",
        "    print (i)"
      ],
      "execution_count": 274,
      "outputs": [
        {
          "output_type": "stream",
          "text": [
            "1\n",
            "2\n",
            "4\n",
            "5\n"
          ],
          "name": "stdout"
        }
      ]
    },
    {
      "cell_type": "code",
      "metadata": {
        "id": "NfBsqaA8R4X8",
        "colab": {
          "base_uri": "https://localhost:8080/"
        },
        "outputId": "51657192-bcb8-4d7c-c270-a18ba07d9355"
      },
      "source": [
        "j = -1\n",
        "while j < 17:\n",
        "    j += 4\n",
        "    if j >7:\n",
        "        continue\n",
        "    print (j)"
      ],
      "execution_count": 275,
      "outputs": [
        {
          "output_type": "stream",
          "text": [
            "3\n",
            "7\n"
          ],
          "name": "stdout"
        }
      ]
    },
    {
      "cell_type": "markdown",
      "metadata": {
        "id": "Z70bj_uQR4X9"
      },
      "source": [
        "This loop skips printing the number $3$ because of the `continue` statement that executes when we enter the if-statement. The code never sees the command to print the number $3$ because it has already moved to the next iteration. The `break` and `continue` statements are further tools to help you control the flow of your loops and, as a result, your code."
      ]
    },
    {
      "cell_type": "markdown",
      "metadata": {
        "id": "LajVBpEkR4X9"
      },
      "source": [
        "The variable that we use to iterate over a loop will retain its value when the loop exits. Similarly, any variables defined within the context of the loop will continue to exist outside of it."
      ]
    },
    {
      "cell_type": "code",
      "metadata": {
        "id": "YQPYVZxBR4X9",
        "colab": {
          "base_uri": "https://localhost:8080/"
        },
        "outputId": "afc4b8f4-c400-4dda-b302-e1b471cdb30b"
      },
      "source": [
        "for i in range(5):\n",
        "    loop_string = 'I transcend the loop!'\n",
        "    print ('I am eternal! I am {0} and I exist everywhere!'.format(i))\n",
        "\n",
        "print ('I persist! My value is {0}'.format(i))\n",
        "print (loop_string)"
      ],
      "execution_count": 276,
      "outputs": [
        {
          "output_type": "stream",
          "text": [
            "I am eternal! I am 0 and I exist everywhere!\n",
            "I am eternal! I am 1 and I exist everywhere!\n",
            "I am eternal! I am 2 and I exist everywhere!\n",
            "I am eternal! I am 3 and I exist everywhere!\n",
            "I am eternal! I am 4 and I exist everywhere!\n",
            "I persist! My value is 4\n",
            "I transcend the loop!\n"
          ],
          "name": "stdout"
        }
      ]
    },
    {
      "cell_type": "code",
      "metadata": {
        "id": "W2AB7I4vR4X-",
        "colab": {
          "base_uri": "https://localhost:8080/"
        },
        "outputId": "999f9292-5c7c-4cbc-9b19-bd6ecd0ffd11"
      },
      "source": [
        "for i in range(5):\n",
        "    loop_string = 'Estoy más allá de la ley'\n",
        "    print('Hola, soy {0}'.format(i))\n",
        "\n",
        "print('Mi valor es persistente {0}'.format(i))\n",
        "i = 0\n",
        "print(i)\n",
        "print(loop_string)"
      ],
      "execution_count": 280,
      "outputs": [
        {
          "output_type": "stream",
          "text": [
            "Hola, soy 0\n",
            "Hola, soy 1\n",
            "Hola, soy 2\n",
            "Hola, soy 3\n",
            "Hola, soy 4\n",
            "Mi valor es persistente 4\n",
            "0\n",
            "Estoy más allá de la ley\n"
          ],
          "name": "stdout"
        }
      ]
    },
    {
      "cell_type": "markdown",
      "metadata": {
        "id": "R16y1et-R4X-"
      },
      "source": [
        "We can also iterate over a dictionary!"
      ]
    },
    {
      "cell_type": "code",
      "metadata": {
        "id": "VuYEOIQgR4X-"
      },
      "source": [
        "my_dict = {'firstname' : 'Inigo', 'lastname' : 'Montoya', 'nemesis' : 'Rugen'}"
      ],
      "execution_count": 281,
      "outputs": []
    },
    {
      "cell_type": "code",
      "metadata": {
        "id": "lWYiPZibR4X-",
        "colab": {
          "base_uri": "https://localhost:8080/"
        },
        "outputId": "9cdb052b-9645-45e4-cbe4-4b6c9f82d041"
      },
      "source": [
        "for key in my_dict:\n",
        "    print (key)"
      ],
      "execution_count": 282,
      "outputs": [
        {
          "output_type": "stream",
          "text": [
            "firstname\n",
            "lastname\n",
            "nemesis\n"
          ],
          "name": "stdout"
        }
      ]
    },
    {
      "cell_type": "code",
      "metadata": {
        "id": "TBZnzSoQR4X_"
      },
      "source": [
        "mi_diccionario = {'Titulo' : 'Quake 2', 'Desarrollado por' : 'ID Software', 'Año de lanzamiento' : '1997', \n",
        "                  'Titulo' : 'Quake', 'Desarrollado por' : 'ID Software', 'Año de lanzamiento' : '1996'}"
      ],
      "execution_count": 283,
      "outputs": []
    },
    {
      "cell_type": "code",
      "metadata": {
        "id": "m-LkWrVBR4X_",
        "colab": {
          "base_uri": "https://localhost:8080/"
        },
        "outputId": "540dd6ed-e4a3-4207-cd98-b54b1b5578c5"
      },
      "source": [
        "for juego in mi_diccionario:\n",
        "    print (juego)"
      ],
      "execution_count": 284,
      "outputs": [
        {
          "output_type": "stream",
          "text": [
            "Titulo\n",
            "Desarrollado por\n",
            "Año de lanzamiento\n"
          ],
          "name": "stdout"
        }
      ]
    },
    {
      "cell_type": "markdown",
      "metadata": {
        "id": "DZtNWD5nR4X_"
      },
      "source": [
        "If we just iterate over a dictionary without doing anything else, we will only get the keys. We can either use the keys to get the values, like so:"
      ]
    },
    {
      "cell_type": "code",
      "metadata": {
        "id": "t0fZfi2eR4X_",
        "colab": {
          "base_uri": "https://localhost:8080/"
        },
        "outputId": "a340cf73-a0f8-4154-fd18-2e505665b339"
      },
      "source": [
        "for key in my_dict:\n",
        "    print (my_dict[key])"
      ],
      "execution_count": 285,
      "outputs": [
        {
          "output_type": "stream",
          "text": [
            "Inigo\n",
            "Montoya\n",
            "Rugen\n"
          ],
          "name": "stdout"
        }
      ]
    },
    {
      "cell_type": "code",
      "metadata": {
        "id": "fVg6TFUbR4X_",
        "colab": {
          "base_uri": "https://localhost:8080/"
        },
        "outputId": "00bf033e-f0cd-422d-d06c-50886e28ad0d"
      },
      "source": [
        "for juego in mi_diccionario:\n",
        "    print (mi_diccionario[juego])"
      ],
      "execution_count": 286,
      "outputs": [
        {
          "output_type": "stream",
          "text": [
            "Quake\n",
            "ID Software\n",
            "1996\n"
          ],
          "name": "stdout"
        }
      ]
    },
    {
      "cell_type": "markdown",
      "metadata": {
        "id": "PelcvHBfR4YA"
      },
      "source": [
        "Or we can use the `items()` function to get both key and value at the same time."
      ]
    },
    {
      "cell_type": "code",
      "metadata": {
        "id": "JvQOLs4bR4YA",
        "colab": {
          "base_uri": "https://localhost:8080/"
        },
        "outputId": "1b58740e-e3dd-4147-ad7e-88d72379fcc1"
      },
      "source": [
        "for key, value in my_dict.items():\n",
        "    print (key, ':', value)"
      ],
      "execution_count": 287,
      "outputs": [
        {
          "output_type": "stream",
          "text": [
            "firstname : Inigo\n",
            "lastname : Montoya\n",
            "nemesis : Rugen\n"
          ],
          "name": "stdout"
        }
      ]
    },
    {
      "cell_type": "code",
      "metadata": {
        "id": "bZdpP_KfR4YA",
        "colab": {
          "base_uri": "https://localhost:8080/"
        },
        "outputId": "74350b28-2b3b-4797-d2f2-c3bfc1b25057"
      },
      "source": [
        "for key, value in mi_diccionario.items():\n",
        "    print (key, ':', value)"
      ],
      "execution_count": 288,
      "outputs": [
        {
          "output_type": "stream",
          "text": [
            "Titulo : Quake\n",
            "Desarrollado por : ID Software\n",
            "Año de lanzamiento : 1996\n"
          ],
          "name": "stdout"
        }
      ]
    },
    {
      "cell_type": "markdown",
      "metadata": {
        "id": "siefyGeYR4YA"
      },
      "source": [
        "The `items()` function creates a tuple of each key-value pair and the for loop unpacks that tuple into `key, value` on each separate execution of the loop!"
      ]
    },
    {
      "cell_type": "markdown",
      "metadata": {
        "id": "uRYchd3zR4YB"
      },
      "source": [
        "## Functions\n",
        "\n",
        "A function is a reusable block of code that you can call repeatedly to make calculations, output data, or really do anything that you want. This is one of the key aspects of using a programming language. To add to the built-in functions in Python, you can define your own!"
      ]
    },
    {
      "cell_type": "code",
      "metadata": {
        "id": "Km-BF4D5R4YB",
        "colab": {
          "base_uri": "https://localhost:8080/"
        },
        "outputId": "b0aefe5f-3a58-44e2-8116-deca04419375"
      },
      "source": [
        "def hello_world():\n",
        "    \"\"\" Prints Hello, world! \"\"\"\n",
        "    print ('Hello, world!')\n",
        "\n",
        "hello_world()"
      ],
      "execution_count": 289,
      "outputs": [
        {
          "output_type": "stream",
          "text": [
            "Hello, world!\n"
          ],
          "name": "stdout"
        }
      ]
    },
    {
      "cell_type": "code",
      "metadata": {
        "id": "9mPbpVLUR4YB",
        "colab": {
          "base_uri": "https://localhost:8080/"
        },
        "outputId": "8f7b2a03-7915-4c77-ba0d-8de24c0d8b5d"
      },
      "source": [
        "for i in range(5):\n",
        "    hello_world()"
      ],
      "execution_count": 290,
      "outputs": [
        {
          "output_type": "stream",
          "text": [
            "Hello, world!\n",
            "Hello, world!\n",
            "Hello, world!\n",
            "Hello, world!\n",
            "Hello, world!\n"
          ],
          "name": "stdout"
        }
      ]
    },
    {
      "cell_type": "code",
      "metadata": {
        "id": "nnBZcM9NR4YB",
        "colab": {
          "base_uri": "https://localhost:8080/"
        },
        "outputId": "5fe0fd7b-c5a7-4031-c8c2-2c3edf4fc0c7"
      },
      "source": [
        "def mi_funcion(a):\n",
        "    \"\"\" Soy una funcion personalizada \"\"\"\n",
        "    print ('{0} milimétros'.format(a))\n",
        "\n",
        "mi_funcion(0)"
      ],
      "execution_count": 291,
      "outputs": [
        {
          "output_type": "stream",
          "text": [
            "0 milimétros\n"
          ],
          "name": "stdout"
        }
      ]
    },
    {
      "cell_type": "code",
      "metadata": {
        "id": "uONyiZ2jR4YC",
        "colab": {
          "base_uri": "https://localhost:8080/"
        },
        "outputId": "050d8e8a-3fe3-490f-d27f-5b850a5b98da"
      },
      "source": [
        "for j in range (0,6):\n",
        "    mi_funcion(j)"
      ],
      "execution_count": 292,
      "outputs": [
        {
          "output_type": "stream",
          "text": [
            "0 milimétros\n",
            "1 milimétros\n",
            "2 milimétros\n",
            "3 milimétros\n",
            "4 milimétros\n",
            "5 milimétros\n"
          ],
          "name": "stdout"
        }
      ]
    },
    {
      "cell_type": "markdown",
      "metadata": {
        "id": "7CMIXKTGR4YC"
      },
      "source": [
        "Functions are defined with `def`, a function name, a list of parameters, and a colon. Everything indented below the colon will be included in the definition of the function.\n",
        "\n",
        "We can have our functions do anything that you can do with a normal block of code. For example, our `hello_world()` function prints a string every time it is called. If we want to keep a value that a function calculates, we can define the function so that it will `return` the value we want. This is a very important feature of functions, as any variable defined purely within a function will not exist outside of it."
      ]
    },
    {
      "cell_type": "code",
      "metadata": {
        "id": "9D2OIUyOR4YC",
        "colab": {
          "base_uri": "https://localhost:8080/",
          "height": 197
        },
        "outputId": "4bf60553-4164-4104-8c4c-5a69a6bbe200"
      },
      "source": [
        "def see_the_scope():\n",
        "    in_function_string = \"I'm stuck in here!\"\n",
        "\n",
        "see_the_scope()\n",
        "print (in_function_string)"
      ],
      "execution_count": 293,
      "outputs": [
        {
          "output_type": "error",
          "ename": "NameError",
          "evalue": "ignored",
          "traceback": [
            "\u001b[0;31m---------------------------------------------------------------------------\u001b[0m",
            "\u001b[0;31mNameError\u001b[0m                                 Traceback (most recent call last)",
            "\u001b[0;32m<ipython-input-293-a851cbb13893>\u001b[0m in \u001b[0;36m<module>\u001b[0;34m()\u001b[0m\n\u001b[1;32m      3\u001b[0m \u001b[0;34m\u001b[0m\u001b[0m\n\u001b[1;32m      4\u001b[0m \u001b[0msee_the_scope\u001b[0m\u001b[0;34m(\u001b[0m\u001b[0;34m)\u001b[0m\u001b[0;34m\u001b[0m\u001b[0;34m\u001b[0m\u001b[0m\n\u001b[0;32m----> 5\u001b[0;31m \u001b[0mprint\u001b[0m \u001b[0;34m(\u001b[0m\u001b[0min_function_string\u001b[0m\u001b[0;34m)\u001b[0m\u001b[0;34m\u001b[0m\u001b[0;34m\u001b[0m\u001b[0m\n\u001b[0m",
            "\u001b[0;31mNameError\u001b[0m: name 'in_function_string' is not defined"
          ]
        }
      ]
    },
    {
      "cell_type": "code",
      "metadata": {
        "id": "-7qsYH5BR4YC",
        "colab": {
          "base_uri": "https://localhost:8080/",
          "height": 197
        },
        "outputId": "40182a7c-e4ef-43b2-cf6b-c276fb138263"
      },
      "source": [
        "def el_contexto_importa():\n",
        "    cadena = \"¿Quién soy?\"\n",
        "    \n",
        "el_contexto_importa\n",
        "print (cadena)"
      ],
      "execution_count": 294,
      "outputs": [
        {
          "output_type": "error",
          "ename": "NameError",
          "evalue": "ignored",
          "traceback": [
            "\u001b[0;31m---------------------------------------------------------------------------\u001b[0m",
            "\u001b[0;31mNameError\u001b[0m                                 Traceback (most recent call last)",
            "\u001b[0;32m<ipython-input-294-8ad3906acf9a>\u001b[0m in \u001b[0;36m<module>\u001b[0;34m()\u001b[0m\n\u001b[1;32m      3\u001b[0m \u001b[0;34m\u001b[0m\u001b[0m\n\u001b[1;32m      4\u001b[0m \u001b[0mel_contexto_importa\u001b[0m\u001b[0;34m\u001b[0m\u001b[0;34m\u001b[0m\u001b[0m\n\u001b[0;32m----> 5\u001b[0;31m \u001b[0mprint\u001b[0m \u001b[0;34m(\u001b[0m\u001b[0mcadena\u001b[0m\u001b[0;34m)\u001b[0m\u001b[0;34m\u001b[0m\u001b[0;34m\u001b[0m\u001b[0m\n\u001b[0m",
            "\u001b[0;31mNameError\u001b[0m: name 'cadena' is not defined"
          ]
        }
      ]
    },
    {
      "cell_type": "markdown",
      "metadata": {
        "id": "ZHx-rRcYR4YD"
      },
      "source": [
        " The **scope** of a variable is the part of a block of code where that variable is tied to a particular value. Functions in Python have an enclosed scope, making it so that variables defined within them can only be accessed directly within them. If we pass those values to a return statement we can get them out of the function. This makes it so that the function call returns values so that you can store them in variables that have a greater scope.\n",
        " \n",
        "In this case specifically, including a return statement allows us to keep the string value that we define in the function."
      ]
    },
    {
      "cell_type": "code",
      "metadata": {
        "id": "C91TtWgdR4YD",
        "colab": {
          "base_uri": "https://localhost:8080/"
        },
        "outputId": "c8beb533-0eb0-4b63-f551-64c80214ccb6"
      },
      "source": [
        "def free_the_scope():\n",
        "    in_function_string = \"Anything you can do I can do better!\"\n",
        "    return in_function_string\n",
        "my_string = free_the_scope()\n",
        "print (my_string)"
      ],
      "execution_count": 295,
      "outputs": [
        {
          "output_type": "stream",
          "text": [
            "Anything you can do I can do better!\n"
          ],
          "name": "stdout"
        }
      ]
    },
    {
      "cell_type": "code",
      "metadata": {
        "id": "9LULUq-3R4YD",
        "colab": {
          "base_uri": "https://localhost:8080/"
        },
        "outputId": "1d688041-7005-4e0f-e654-1d9afd112812"
      },
      "source": [
        "def mas_contexto():\n",
        "    cadena = \"Ahora las cosas son diferentes\"\n",
        "    return cadena\n",
        "salida = mas_contexto()\n",
        "print (salida)"
      ],
      "execution_count": 296,
      "outputs": [
        {
          "output_type": "stream",
          "text": [
            "Ahora las cosas son diferentes\n"
          ],
          "name": "stdout"
        }
      ]
    },
    {
      "cell_type": "markdown",
      "metadata": {
        "id": "Tww77sXPR4YD"
      },
      "source": [
        "Just as we can get values out of a function, we can also put values into a function. We do this by defining our function with parameters."
      ]
    },
    {
      "cell_type": "code",
      "metadata": {
        "id": "ZZnLvfCDR4YE",
        "colab": {
          "base_uri": "https://localhost:8080/"
        },
        "outputId": "08e1a37c-5762-4520-adc1-958f7d35021b"
      },
      "source": [
        "def multiply_by_five(x):\n",
        "    \"\"\" Multiplies an input number by 5 \"\"\"\n",
        "    return x * 5\n",
        "\n",
        "n = 4\n",
        "print (n)\n",
        "print (multiply_by_five(n))"
      ],
      "execution_count": 297,
      "outputs": [
        {
          "output_type": "stream",
          "text": [
            "4\n",
            "20\n"
          ],
          "name": "stdout"
        }
      ]
    },
    {
      "cell_type": "code",
      "metadata": {
        "id": "EM1W22FhR4YE",
        "colab": {
          "base_uri": "https://localhost:8080/"
        },
        "outputId": "0218e928-9d4f-4a41-db43-868f279fd38b"
      },
      "source": [
        "def concatenar_y_sumar(x):\n",
        "        \"\"\" Multiplica un numero por 7 y concatena una palabra\"\"\"\n",
        "        y = x * 7\n",
        "        return \"{0} vaquitas\".format(y)\n",
        "n = 1759\n",
        "print (n, 'vaquitas')\n",
        "print (concatenar_y_sumar(n))"
      ],
      "execution_count": 298,
      "outputs": [
        {
          "output_type": "stream",
          "text": [
            "1759 vaquitas\n",
            "12313 vaquitas\n"
          ],
          "name": "stdout"
        }
      ]
    },
    {
      "cell_type": "markdown",
      "metadata": {
        "id": "rsAQiDBIR4YE"
      },
      "source": [
        "In this example we only had one parameter for our function, `x`. We can easily add more parameters, separating everything with a comma."
      ]
    },
    {
      "cell_type": "code",
      "metadata": {
        "id": "H9EzV8VJR4YF"
      },
      "source": [
        "def calculate_area(length, width):\n",
        "    \"\"\" Calculates the area of a rectangle \"\"\"\n",
        "    return length * width"
      ],
      "execution_count": 299,
      "outputs": []
    },
    {
      "cell_type": "code",
      "metadata": {
        "id": "_95eU6oRR4YF",
        "colab": {
          "base_uri": "https://localhost:8080/"
        },
        "outputId": "9b58e946-55a1-4249-c007-5d1886c172a2"
      },
      "source": [
        "l = 5\n",
        "w = 10\n",
        "print ('Area: ', calculate_area(l, w))\n",
        "print ('Length: ', l)\n",
        "print ('Width: ', w)"
      ],
      "execution_count": 300,
      "outputs": [
        {
          "output_type": "stream",
          "text": [
            "Area:  50\n",
            "Length:  5\n",
            "Width:  10\n"
          ],
          "name": "stdout"
        }
      ]
    },
    {
      "cell_type": "code",
      "metadata": {
        "id": "czrWoNLYR4YG"
      },
      "source": [
        "def calculate_volume(length, width, depth):\n",
        "    \"\"\" Calculates the volume of a rectangular prism \"\"\"\n",
        "    return length * width * depth"
      ],
      "execution_count": 301,
      "outputs": []
    },
    {
      "cell_type": "code",
      "metadata": {
        "id": "jNF-mkgSR4YG"
      },
      "source": [
        "def elevar_al_cuadrado(x):\n",
        "    \"\"\" Eleva un numero al cuadrado \"\"\"\n",
        "    return x**2"
      ],
      "execution_count": 302,
      "outputs": []
    },
    {
      "cell_type": "code",
      "metadata": {
        "id": "JRu4x4BRR4YG",
        "colab": {
          "base_uri": "https://localhost:8080/"
        },
        "outputId": "56c55650-5139-437e-d40c-5bb83a7d62f6"
      },
      "source": [
        "y = 4\n",
        "print ('Cuadrado: ', elevar_al_cuadrado(y))\n",
        "print ('valor original: ', y)"
      ],
      "execution_count": 303,
      "outputs": [
        {
          "output_type": "stream",
          "text": [
            "Cuadrado:  16\n",
            "valor original:  4\n"
          ],
          "name": "stdout"
        }
      ]
    },
    {
      "cell_type": "code",
      "metadata": {
        "id": "0HrfXXRqR4YH"
      },
      "source": [
        "def otra_funcion(a,b,c):\n",
        "    return (a*b) + c"
      ],
      "execution_count": 304,
      "outputs": []
    },
    {
      "cell_type": "markdown",
      "metadata": {
        "id": "jkRIEdeTR4YI"
      },
      "source": [
        "If we want to, we can define a function so that it takes an arbitrary number of parameters. We tell Python that we want this by using an asterisk (`*`)."
      ]
    },
    {
      "cell_type": "code",
      "metadata": {
        "id": "MOI0406iR4YJ"
      },
      "source": [
        "def sum_values(*args):\n",
        "    sum_val = 0\n",
        "    for i in args:\n",
        "        sum_val += i\n",
        "    return sum_val"
      ],
      "execution_count": 305,
      "outputs": []
    },
    {
      "cell_type": "code",
      "metadata": {
        "id": "we9VcarHR4YJ",
        "colab": {
          "base_uri": "https://localhost:8080/"
        },
        "outputId": "4d4fb9e2-1d34-4aec-f282-1bc4df940967"
      },
      "source": [
        "print (sum_values(1, 2, 3))\n",
        "print (sum_values(10, 20, 30, 40, 50))\n",
        "print (sum_values(4, 2, 5, 1, 10, 249, 25, 24, 13, 6, 4))"
      ],
      "execution_count": 306,
      "outputs": [
        {
          "output_type": "stream",
          "text": [
            "6\n",
            "150\n",
            "343\n"
          ],
          "name": "stdout"
        }
      ]
    },
    {
      "cell_type": "code",
      "metadata": {
        "id": "lhx96281R4YK"
      },
      "source": [
        "def sumar_modulos(*valores):\n",
        "    suma = 0;\n",
        "    for val in valores:\n",
        "        suma += (val % len(valores))\n",
        "    return suma"
      ],
      "execution_count": 307,
      "outputs": []
    },
    {
      "cell_type": "code",
      "metadata": {
        "id": "G-isPR5PR4YK",
        "colab": {
          "base_uri": "https://localhost:8080/"
        },
        "outputId": "2350728d-eac2-4716-ecbd-38dbf700990d"
      },
      "source": [
        "print (sumar_modulos(3, 6, 9))\n",
        "print (sumar_modulos(3, 7, 11))\n",
        "print (sumar_modulos(2, 6, 7, 8))"
      ],
      "execution_count": 308,
      "outputs": [
        {
          "output_type": "stream",
          "text": [
            "0\n",
            "3\n",
            "7\n"
          ],
          "name": "stdout"
        }
      ]
    },
    {
      "cell_type": "markdown",
      "metadata": {
        "id": "bliT5UgxR4YK"
      },
      "source": [
        "The time to use `*args` as a parameter for your function is when you do not know how many values may be passed to it, as in the case of our sum function. The asterisk in this case is the syntax that tells Python that you are going to pass an arbitrary number of parameters into your function. These parameters are stored in the form of a tuple."
      ]
    },
    {
      "cell_type": "code",
      "metadata": {
        "id": "JnaSY_HPR4YL",
        "colab": {
          "base_uri": "https://localhost:8080/"
        },
        "outputId": "4a3cb791-904c-45d0-b010-bdd40fd680e3"
      },
      "source": [
        "def test_args(*args):\n",
        "    print(type(args))\n",
        "\n",
        "test_args(1, 2, 3, 4, 5, 6)"
      ],
      "execution_count": 310,
      "outputs": [
        {
          "output_type": "stream",
          "text": [
            "<class 'tuple'>\n"
          ],
          "name": "stdout"
        }
      ]
    },
    {
      "cell_type": "code",
      "metadata": {
        "id": "Db1TRPLeR4YL",
        "colab": {
          "base_uri": "https://localhost:8080/"
        },
        "outputId": "618f0cb1-270d-4dd3-da31-cb9a4c497715"
      },
      "source": [
        "def argumentos(*args):\n",
        "    for argumento in args:\n",
        "        print(type(argumento))\n",
        "    \n",
        "argumentos(True, \"Cadena\", 4, 5)\n",
        "argumentos(6)"
      ],
      "execution_count": 311,
      "outputs": [
        {
          "output_type": "stream",
          "text": [
            "<class 'bool'>\n",
            "<class 'str'>\n",
            "<class 'int'>\n",
            "<class 'int'>\n",
            "<class 'int'>\n"
          ],
          "name": "stdout"
        }
      ]
    },
    {
      "cell_type": "markdown",
      "metadata": {
        "id": "r-AR0eBeR4YN"
      },
      "source": [
        "We can put as many elements into the `args` tuple as we want to when we call the function. However, because `args` is a tuple, we cannot modify it after it has been created.\n",
        "\n",
        "The `args` name of the variable is purely by convention. You could just as easily name your parameter `*vars` or `*things`. You can treat the `args` tuple like you would any other tuple, easily accessing `arg`'s values and iterating over it, as in the above `sum_values(*args)` function."
      ]
    },
    {
      "cell_type": "markdown",
      "metadata": {
        "id": "SYOmw2nZR4YN"
      },
      "source": [
        "Our functions can return any data type. This makes it easy for us to create functions that check for conditions that we might want to monitor.\n",
        "\n",
        "Here we define a function that returns a boolean value. We can easily use this in conjunction with if-statements and  other situations that require a boolean."
      ]
    },
    {
      "cell_type": "code",
      "metadata": {
        "id": "X3vKlNnrR4YO"
      },
      "source": [
        "def has_a_vowel(word):\n",
        "    \"\"\" \n",
        "    Checks to see whether a word contains a vowel \n",
        "    If it doesn't contain a conventional vowel, it\n",
        "    will check for the presence of 'y' or 'w'. Does\n",
        "    not check to see whether those are in the word\n",
        "    in a vowel context.\n",
        "    \"\"\"\n",
        "    vowel_list = ['a', 'e', 'i', 'o', 'u']\n",
        "    \n",
        "    for vowel in vowel_list:\n",
        "        if vowel in word:\n",
        "            return True\n",
        "    # If there is a vowel in the word, the function returns, preventing anything after this loop from running\n",
        "    return False"
      ],
      "execution_count": 312,
      "outputs": []
    },
    {
      "cell_type": "code",
      "metadata": {
        "id": "quc8_ZyRR4YO",
        "colab": {
          "base_uri": "https://localhost:8080/"
        },
        "outputId": "805db1ed-0469-47d8-9060-363ec3d1993b"
      },
      "source": [
        "my_word = 'catnapping'\n",
        "if has_a_vowel(my_word):\n",
        "    print('How surprising, an english word contains a vowel.')\n",
        "else:\n",
        "    print('This is actually surprising.')"
      ],
      "execution_count": 313,
      "outputs": [
        {
          "output_type": "stream",
          "text": [
            "How surprising, an english word contains a vowel.\n"
          ],
          "name": "stdout"
        }
      ]
    },
    {
      "cell_type": "code",
      "metadata": {
        "id": "iFEbKciNR4YO"
      },
      "source": [
        "def point_maker(x, y):\n",
        "    \"\"\" Groups x and y values into a point, technically a tuple \"\"\"\n",
        "    return x, y"
      ],
      "execution_count": 314,
      "outputs": []
    },
    {
      "cell_type": "code",
      "metadata": {
        "id": "rahD6mheR4YO"
      },
      "source": [
        "def contiene_un_par(number):\n",
        "    \"\"\" \n",
        "    Checks to see whether a word contains a vowel \n",
        "    If it doesn't contain a conventional vowel, it\n",
        "    will check for the presence of 'y' or 'w'. Does\n",
        "    not check to see whether those are in the word\n",
        "    in a vowel context.\n",
        "    \"\"\"\n",
        "    digitos_pares = ['2', '4', '6', '8', '0']\n",
        "    \n",
        "    for digito in digitos_pares:\n",
        "        if digito in number:\n",
        "            return True\n",
        "    # If there is a vowel in the word, the function returns, preventing anything after this loop from running\n",
        "    return False"
      ],
      "execution_count": 315,
      "outputs": []
    },
    {
      "cell_type": "code",
      "metadata": {
        "id": "wWD4dDsuR4YP",
        "colab": {
          "base_uri": "https://localhost:8080/"
        },
        "outputId": "ea30ecc3-bca1-45f4-c4a0-d7a60d5304f4"
      },
      "source": [
        "mi_numero = str(1598)\n",
        "if contiene_un_par(mi_numero):\n",
        "    print('Hay un par')\n",
        "else:\n",
        "    print('No hay pares')"
      ],
      "execution_count": 316,
      "outputs": [
        {
          "output_type": "stream",
          "text": [
            "Hay un par\n"
          ],
          "name": "stdout"
        }
      ]
    },
    {
      "cell_type": "code",
      "metadata": {
        "id": "sGNGXXj2R4YP"
      },
      "source": [
        "def f_de_x(x):\n",
        "    y = x**2\n",
        "    \"\"\" Groups x and y values into a point, technically a tuple \"\"\"\n",
        "    return x, y"
      ],
      "execution_count": 317,
      "outputs": []
    },
    {
      "cell_type": "markdown",
      "metadata": {
        "id": "U-mXNMD-R4YP"
      },
      "source": [
        "This above function returns an ordered pair of the input parameters, stored as a tuple."
      ]
    },
    {
      "cell_type": "code",
      "metadata": {
        "scrolled": true,
        "id": "duid8xUsR4YP",
        "colab": {
          "base_uri": "https://localhost:8080/"
        },
        "outputId": "32e4128e-d1ef-4acc-b2dd-b41ccd374f6b"
      },
      "source": [
        "a = point_maker(0, 10)\n",
        "b = point_maker(5, 3)\n",
        "def calculate_slope(point_a, point_b):\n",
        "    \"\"\" Calculates the linear slope between two points \"\"\"\n",
        "    return (point_b[1] - point_a[1])/(point_b[0] - point_a[0])\n",
        "print (\"The slope between a and b is {0}\".format(calculate_slope(a, b)))"
      ],
      "execution_count": 318,
      "outputs": [
        {
          "output_type": "stream",
          "text": [
            "The slope between a and b is -1.4\n"
          ],
          "name": "stdout"
        }
      ]
    },
    {
      "cell_type": "code",
      "metadata": {
        "id": "WMkXye66R4YQ",
        "colab": {
          "base_uri": "https://localhost:8080/"
        },
        "outputId": "17ea2c55-12e3-4d0a-8a20-b987834a6e5a"
      },
      "source": [
        "a = f_de_x(2)\n",
        "b = f_de_x(5)\n",
        "print(a)\n",
        "print(b)\n",
        "def calcular_pentiente(a, b):\n",
        "    return (b[1] - a[1])/(b[0]-a[0]) # y2 - y1 / x2 - x1\n",
        "\n",
        "print (\"La pentiente entre a y b es {0}\".format(calcular_pentiente(a,b)))\n",
        "    "
      ],
      "execution_count": 320,
      "outputs": [
        {
          "output_type": "stream",
          "text": [
            "(2, 4)\n",
            "(5, 25)\n",
            "La pentiente entre a y b es 7.0\n"
          ],
          "name": "stdout"
        }
      ]
    },
    {
      "cell_type": "markdown",
      "metadata": {
        "id": "jXV4zpOHR4YQ"
      },
      "source": [
        "And that one calculates the slope between two points!"
      ]
    },
    {
      "cell_type": "code",
      "metadata": {
        "id": "jYgaqA6ZR4YQ",
        "colab": {
          "base_uri": "https://localhost:8080/"
        },
        "outputId": "22138d69-e6b2-422a-e60b-e1279de3b092"
      },
      "source": [
        "print (\"The slope-intercept form of the line between a and b, using point a, is: y - {0} = {2}(x - {1})\".format(a[1], a[0], calculate_slope(a, b)))"
      ],
      "execution_count": 321,
      "outputs": [
        {
          "output_type": "stream",
          "text": [
            "The slope-intercept form of the line between a and b, using point a, is: y - 4 = 7.0(x - 2)\n"
          ],
          "name": "stdout"
        }
      ]
    },
    {
      "cell_type": "code",
      "metadata": {
        "id": "ogaEY63KR4YR",
        "colab": {
          "base_uri": "https://localhost:8080/"
        },
        "outputId": "d7c59ac1-a569-4bf3-8ab6-bbbd6fcf33de"
      },
      "source": [
        "print (\"La forma punto-pendiente de la linea entre a y b, usando el punto a es: y - {0} = {2}(x - {1})\".format(a[1], a[0], calcular_pentiente(a, b)))"
      ],
      "execution_count": 322,
      "outputs": [
        {
          "output_type": "stream",
          "text": [
            "La forma punto-pendiente de la linea entre a y b, usando el punto a es: y - 4 = 7.0(x - 2)\n"
          ],
          "name": "stdout"
        }
      ]
    },
    {
      "cell_type": "markdown",
      "metadata": {
        "id": "sTPGd5t8R4YR"
      },
      "source": [
        "With the proper syntax, you can define functions to do whatever calculations you want. This makes them an indispensible part of programming in any language."
      ]
    },
    {
      "cell_type": "markdown",
      "metadata": {
        "id": "6m5ksDWwR4YR"
      },
      "source": [
        "## Next Steps\n",
        "\n",
        "This was a lot of material and there is still even more to cover! Make sure you play around with the cells in each notebook to accustom yourself to the syntax featured here and to figure out any limitations. If you want to delve even deeper into the material, the [documentation for Python](https://docs.python.org/2/) is all available online. We are in the process of developing a second part to this Python tutorial, designed to provide you with even more programming knowledge, so keep an eye on the [Quantopian Lectures Page](quantopian.com/lectures) and the [forums](quantopian.com/posts) for any new lectures."
      ]
    },
    {
      "cell_type": "markdown",
      "metadata": {
        "id": "DesuX2BeR4YR"
      },
      "source": [
        "*This presentation is for informational purposes only and does not constitute an offer to sell, a solicitation to buy, or a recommendation for any security; nor does it constitute an offer to provide investment advisory or other services by Quantopian, Inc. (\"Quantopian\"). Nothing contained herein constitutes investment advice or offers any opinion with respect to the suitability of any security, and any views expressed herein should not be taken as advice to buy, sell, or hold any security or as an endorsement of any security or company.  In preparing the information contained herein, Quantopian, Inc. has not taken into account the investment needs, objectives, and financial circumstances of any particular investor. Any views expressed and data illustrated herein were prepared based upon information, believed to be reliable, available to Quantopian, Inc. at the time of publication. Quantopian makes no guarantees as to their accuracy or completeness. All information is subject to change and may quickly become unreliable for various reasons, including changes in market conditions or economic circumstances.*"
      ]
    }
  ]
}