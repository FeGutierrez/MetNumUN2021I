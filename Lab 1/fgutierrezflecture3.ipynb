{
  "nbformat": 4,
  "nbformat_minor": 0,
  "metadata": {
    "kernelspec": {
      "display_name": "Python 3.5",
      "language": "python",
      "name": "py35"
    },
    "language_info": {
      "codemirror_mode": {
        "name": "ipython",
        "version": 3
      },
      "file_extension": ".py",
      "mimetype": "text/x-python",
      "name": "python",
      "nbconvert_exporter": "python",
      "pygments_lexer": "ipython3",
      "version": "3.5.10"
    },
    "colab": {
      "name": "fgutierrezflecture3.ipynb",
      "provenance": [],
      "collapsed_sections": [
        "0DAiX4WtSU2F"
      ]
    }
  },
  "cells": [
    {
      "cell_type": "markdown",
      "metadata": {
        "id": "7d6TFEm2SU1K"
      },
      "source": [
        "# Introduction to NumPy\n",
        "by Maxwell Margenot\n",
        "\n",
        "Part of the Quantopian Lecture Series:\n",
        "\n",
        "* [www.quantopian.com/lectures](https://www.quantopian.com/lectures)\n",
        "* [github.com/quantopian/research_public](https://github.com/quantopian/research_public)\n",
        "\n",
        "Notebook released under the Creative Commons Attribution 4.0 License."
      ]
    },
    {
      "cell_type": "markdown",
      "metadata": {
        "id": "21zeW2bRSU1W"
      },
      "source": [
        "NumPy is an incredibly powerful package in Python that is ubiquitous throughout the Quantopian platform. It has strong integration with Pandas, another tool we will be covering in the lecture series. NumPy adds support for multi-dimensional arrays and mathematical functions that allow you to easily perform linear algebra calculations. This lecture will be a collection of linear algebra examples computed using NumPy."
      ]
    },
    {
      "cell_type": "code",
      "metadata": {
        "id": "PdhMGiSRSU1Y"
      },
      "source": [
        "import numpy as np\n",
        "import matplotlib.pyplot as plt"
      ],
      "execution_count": 1,
      "outputs": []
    },
    {
      "cell_type": "code",
      "metadata": {
        "id": "3lVLJNzeSU1Z"
      },
      "source": [
        "import numpy as num\n",
        "import matplotlib.pyplot as plot"
      ],
      "execution_count": 2,
      "outputs": []
    },
    {
      "cell_type": "markdown",
      "metadata": {
        "id": "oeoqB1wPSU1a"
      },
      "source": [
        "### Basic NumPy arrays"
      ]
    },
    {
      "cell_type": "markdown",
      "metadata": {
        "id": "wBOY-0QTSU1a"
      },
      "source": [
        "The most basic way that we could make use of NumPy in finance is calculating the mean return of a portfolio. Say that we have a list containing the historical return of several stocks."
      ]
    },
    {
      "cell_type": "code",
      "metadata": {
        "id": "S3cO_zC5SU1b"
      },
      "source": [
        "stock_list = [3.5, 5, 2, 8, 4.2]"
      ],
      "execution_count": 3,
      "outputs": []
    },
    {
      "cell_type": "code",
      "metadata": {
        "id": "9kGatQ8GSU1b"
      },
      "source": [
        "historial = [ 5.9, 10, 7, 1.9, 6, 4.5, 6.7]"
      ],
      "execution_count": 4,
      "outputs": []
    },
    {
      "cell_type": "markdown",
      "metadata": {
        "id": "9ts255bvSU1c"
      },
      "source": [
        "We can make an array by calling a function on the list:"
      ]
    },
    {
      "cell_type": "code",
      "metadata": {
        "id": "42FdFd5mSU1c",
        "colab": {
          "base_uri": "https://localhost:8080/"
        },
        "outputId": "878284f3-3487-420d-ec90-a4f7fb7fee28"
      },
      "source": [
        "returns = np.array(stock_list)\n",
        "print(returns, type(returns))"
      ],
      "execution_count": 5,
      "outputs": [
        {
          "output_type": "stream",
          "text": [
            "[3.5 5.  2.  8.  4.2] <class 'numpy.ndarray'>\n"
          ],
          "name": "stdout"
        }
      ]
    },
    {
      "cell_type": "code",
      "metadata": {
        "id": "YYf4ewR-SU1f",
        "colab": {
          "base_uri": "https://localhost:8080/"
        },
        "outputId": "bcdb27c5-0734-4ef3-e0a7-3abe1a971a48"
      },
      "source": [
        "ganancias = num.array(historial)\n",
        "print(ganancias, type(ganancias))"
      ],
      "execution_count": 6,
      "outputs": [
        {
          "output_type": "stream",
          "text": [
            "[ 5.9 10.   7.   1.9  6.   4.5  6.7] <class 'numpy.ndarray'>\n"
          ],
          "name": "stdout"
        }
      ]
    },
    {
      "cell_type": "markdown",
      "metadata": {
        "id": "9n7bRVNcSU1f"
      },
      "source": [
        "You'll notice that the type of our array is 'ndarray', not just 'array'. This is because NumPy arrays can be created with multiple dimensions. If we pass np.array() a list of lists, it will create a 2-dimensional array. If we pass a list of lists of lists, it will create a 3-dimensional array, and so on and so forth."
      ]
    },
    {
      "cell_type": "code",
      "metadata": {
        "id": "VuR6N6H9SU1g",
        "colab": {
          "base_uri": "https://localhost:8080/"
        },
        "outputId": "4b94eaf9-4143-483b-8b70-5c874fecfd60"
      },
      "source": [
        "A = np.array([[1, 2], [3, 4]])\n",
        "print(A, type(A))"
      ],
      "execution_count": 7,
      "outputs": [
        {
          "output_type": "stream",
          "text": [
            "[[1 2]\n",
            " [3 4]] <class 'numpy.ndarray'>\n"
          ],
          "name": "stdout"
        }
      ]
    },
    {
      "cell_type": "code",
      "metadata": {
        "id": "YOjTUjpdSU1g",
        "colab": {
          "base_uri": "https://localhost:8080/"
        },
        "outputId": "c90cd4d5-57d8-4c76-fc7b-c27304fef3d7"
      },
      "source": [
        "B = num.array([ [1 , 8 ,9 , 8],[ 4, 5.5, 6, 9.1] ])\n",
        "print(B, type(B))"
      ],
      "execution_count": 8,
      "outputs": [
        {
          "output_type": "stream",
          "text": [
            "[[1.  8.  9.  8. ]\n",
            " [4.  5.5 6.  9.1]] <class 'numpy.ndarray'>\n"
          ],
          "name": "stdout"
        }
      ]
    },
    {
      "cell_type": "markdown",
      "metadata": {
        "id": "j5UTYJdQSU1h"
      },
      "source": [
        "We can access the dimensions of an array by looking at its `shape` member variable."
      ]
    },
    {
      "cell_type": "code",
      "metadata": {
        "id": "jlTt23quSU1h",
        "colab": {
          "base_uri": "https://localhost:8080/"
        },
        "outputId": "a95f8540-f19e-4fdc-9215-3ec6059452b5"
      },
      "source": [
        "print(A.shape)"
      ],
      "execution_count": 9,
      "outputs": [
        {
          "output_type": "stream",
          "text": [
            "(2, 2)\n"
          ],
          "name": "stdout"
        }
      ]
    },
    {
      "cell_type": "code",
      "metadata": {
        "id": "sK72mq6oSU1i",
        "colab": {
          "base_uri": "https://localhost:8080/"
        },
        "outputId": "90331b55-b522-4582-8421-6cae0663cb7b"
      },
      "source": [
        "print(B.shape)"
      ],
      "execution_count": 10,
      "outputs": [
        {
          "output_type": "stream",
          "text": [
            "(2, 4)\n"
          ],
          "name": "stdout"
        }
      ]
    },
    {
      "cell_type": "markdown",
      "metadata": {
        "id": "6CHCd4W3SU1i"
      },
      "source": [
        "Arrays are indexed in much the same way as lists in Python. Elements of a list begin indexing from $0$ and end at $n - 1$, where $n$ is the length of the array."
      ]
    },
    {
      "cell_type": "code",
      "metadata": {
        "id": "cHaBa8i3SU1j",
        "colab": {
          "base_uri": "https://localhost:8080/"
        },
        "outputId": "954bb9fc-2fc2-4bb3-875e-08991d08519a"
      },
      "source": [
        "print(returns[0], returns[len(returns) - 1])"
      ],
      "execution_count": 11,
      "outputs": [
        {
          "output_type": "stream",
          "text": [
            "3.5 4.2\n"
          ],
          "name": "stdout"
        }
      ]
    },
    {
      "cell_type": "code",
      "metadata": {
        "id": "7-JSrtIBSU1j",
        "colab": {
          "base_uri": "https://localhost:8080/"
        },
        "outputId": "89acae97-abe9-448a-f36b-7fdb2765f442"
      },
      "source": [
        "print(ganancias[0], ganancias[len(ganancias) -1])"
      ],
      "execution_count": 12,
      "outputs": [
        {
          "output_type": "stream",
          "text": [
            "5.9 6.7\n"
          ],
          "name": "stdout"
        }
      ]
    },
    {
      "cell_type": "markdown",
      "metadata": {
        "id": "rrfCoVWNSU1k"
      },
      "source": [
        "We can take a slice of an array using a colon, just like in a list."
      ]
    },
    {
      "cell_type": "code",
      "metadata": {
        "id": "YsDEjgPJSU1k",
        "colab": {
          "base_uri": "https://localhost:8080/"
        },
        "outputId": "657a6520-c2e9-4b9f-d95e-c67add3dbf41"
      },
      "source": [
        "print(returns[1:3])"
      ],
      "execution_count": 13,
      "outputs": [
        {
          "output_type": "stream",
          "text": [
            "[5. 2.]\n"
          ],
          "name": "stdout"
        }
      ]
    },
    {
      "cell_type": "code",
      "metadata": {
        "id": "g5GBMCdASU1l",
        "colab": {
          "base_uri": "https://localhost:8080/"
        },
        "outputId": "ae04cd63-64a6-4501-d4dd-acbd7c661511"
      },
      "source": [
        "print(ganancias[::2])"
      ],
      "execution_count": 14,
      "outputs": [
        {
          "output_type": "stream",
          "text": [
            "[5.9 7.  6.  6.7]\n"
          ],
          "name": "stdout"
        }
      ]
    },
    {
      "cell_type": "markdown",
      "metadata": {
        "id": "2ihD2OF3SU1l"
      },
      "source": [
        "A slice of an array, like in a list, will select a group of elements in the array starting from the first element indicated and going up to (but not including) the last element indicated.\n",
        "\n",
        "In the case of multidimensional arrays, many of the same conventions with slicing and indexing hold. We can access the first column of a 2-dimensional array like so:"
      ]
    },
    {
      "cell_type": "code",
      "metadata": {
        "id": "ScayjTnjSU1m",
        "colab": {
          "base_uri": "https://localhost:8080/"
        },
        "outputId": "7e44ee49-417e-4af6-efb1-f7e73e7d786a"
      },
      "source": [
        "print(A[:, 0])"
      ],
      "execution_count": 15,
      "outputs": [
        {
          "output_type": "stream",
          "text": [
            "[1 3]\n"
          ],
          "name": "stdout"
        }
      ]
    },
    {
      "cell_type": "code",
      "metadata": {
        "id": "j3b9wCTLSU1m",
        "colab": {
          "base_uri": "https://localhost:8080/"
        },
        "outputId": "a9cb3290-c400-4a45-b831-65f864b172d3"
      },
      "source": [
        "print(B[:, 1])"
      ],
      "execution_count": 16,
      "outputs": [
        {
          "output_type": "stream",
          "text": [
            "[8.  5.5]\n"
          ],
          "name": "stdout"
        }
      ]
    },
    {
      "cell_type": "markdown",
      "metadata": {
        "id": "SNZKqxSoSU1n"
      },
      "source": [
        "And the first row of a 2-dimensional array like so:"
      ]
    },
    {
      "cell_type": "code",
      "metadata": {
        "id": "1UTrxa4JSU1n",
        "colab": {
          "base_uri": "https://localhost:8080/"
        },
        "outputId": "62e7135d-e52c-447e-e963-80eb28d98f75"
      },
      "source": [
        "print(A[0, :])"
      ],
      "execution_count": 17,
      "outputs": [
        {
          "output_type": "stream",
          "text": [
            "[1 2]\n"
          ],
          "name": "stdout"
        }
      ]
    },
    {
      "cell_type": "code",
      "metadata": {
        "id": "iqocnhP_SU1n",
        "colab": {
          "base_uri": "https://localhost:8080/"
        },
        "outputId": "4d4a938e-391c-45b9-950f-3bb05234d3ed"
      },
      "source": [
        "print(B[0, :])"
      ],
      "execution_count": 18,
      "outputs": [
        {
          "output_type": "stream",
          "text": [
            "[1. 8. 9. 8.]\n"
          ],
          "name": "stdout"
        }
      ]
    },
    {
      "cell_type": "markdown",
      "metadata": {
        "id": "dwyWgq8USU1o"
      },
      "source": [
        "Notice that each slice of the array returns yet another array!"
      ]
    },
    {
      "cell_type": "code",
      "metadata": {
        "id": "196jc5dVSU1o",
        "colab": {
          "base_uri": "https://localhost:8080/"
        },
        "outputId": "897bed47-4c6a-4824-e15b-9795c86cfdbe"
      },
      "source": [
        "print(type(A[0,:]))"
      ],
      "execution_count": 19,
      "outputs": [
        {
          "output_type": "stream",
          "text": [
            "<class 'numpy.ndarray'>\n"
          ],
          "name": "stdout"
        }
      ]
    },
    {
      "cell_type": "code",
      "metadata": {
        "id": "j3OrMxHtSU1p",
        "colab": {
          "base_uri": "https://localhost:8080/"
        },
        "outputId": "7c0d9c4f-574e-4f32-e123-213418832830"
      },
      "source": [
        "print(type(B[0, 1]))"
      ],
      "execution_count": 20,
      "outputs": [
        {
          "output_type": "stream",
          "text": [
            "<class 'numpy.float64'>\n"
          ],
          "name": "stdout"
        }
      ]
    },
    {
      "cell_type": "markdown",
      "metadata": {
        "id": "BAqw98cQSU1p"
      },
      "source": [
        "Passing only one index to a 2-dimensional array will result in returning the row with the given index as well, providing us with another way to access individual rows."
      ]
    },
    {
      "cell_type": "code",
      "metadata": {
        "id": "pQmuLblrSU1p",
        "colab": {
          "base_uri": "https://localhost:8080/"
        },
        "outputId": "2822ffa9-9839-4efd-9977-22f6b22013e2"
      },
      "source": [
        "print(A[0])"
      ],
      "execution_count": 21,
      "outputs": [
        {
          "output_type": "stream",
          "text": [
            "[1 2]\n"
          ],
          "name": "stdout"
        }
      ]
    },
    {
      "cell_type": "code",
      "metadata": {
        "id": "5otyYpVySU1q",
        "colab": {
          "base_uri": "https://localhost:8080/"
        },
        "outputId": "3e8c28c5-c470-4dc5-839f-ee3d861544ff"
      },
      "source": [
        "print(B[1])"
      ],
      "execution_count": 22,
      "outputs": [
        {
          "output_type": "stream",
          "text": [
            "[4.  5.5 6.  9.1]\n"
          ],
          "name": "stdout"
        }
      ]
    },
    {
      "cell_type": "markdown",
      "metadata": {
        "id": "ayijy-V9SU1q"
      },
      "source": [
        "Accessing the index of an individual element will return only the element."
      ]
    },
    {
      "cell_type": "code",
      "metadata": {
        "id": "mpZAI0d9SU1q",
        "colab": {
          "base_uri": "https://localhost:8080/"
        },
        "outputId": "9ecce5b9-0295-4183-dbb8-a749c9aadd6e"
      },
      "source": [
        "print(A[1, 1])"
      ],
      "execution_count": 23,
      "outputs": [
        {
          "output_type": "stream",
          "text": [
            "4\n"
          ],
          "name": "stdout"
        }
      ]
    },
    {
      "cell_type": "code",
      "metadata": {
        "id": "DWNa-22VSU1q",
        "colab": {
          "base_uri": "https://localhost:8080/"
        },
        "outputId": "77bc3089-eb09-4bc7-e8d7-0f9aee5cd04c"
      },
      "source": [
        "print(B[1,1])"
      ],
      "execution_count": 24,
      "outputs": [
        {
          "output_type": "stream",
          "text": [
            "5.5\n"
          ],
          "name": "stdout"
        }
      ]
    },
    {
      "cell_type": "markdown",
      "metadata": {
        "id": "gn_v9kn0SU1r"
      },
      "source": [
        "#### Array functions\n",
        "\n",
        "Functions built into NumPy can be easily called on arrays. Most functions are applied to an array element-wise (as scalar multiplication is). For example, if we call `log()` on an array, the logarithm will be taken of each element."
      ]
    },
    {
      "cell_type": "code",
      "metadata": {
        "id": "4uZtIhdHSU1s",
        "colab": {
          "base_uri": "https://localhost:8080/"
        },
        "outputId": "9cc2d0e7-9f99-464d-9bb3-eda0e4b4c8cb"
      },
      "source": [
        "print(np.log(returns))"
      ],
      "execution_count": 25,
      "outputs": [
        {
          "output_type": "stream",
          "text": [
            "[1.25276297 1.60943791 0.69314718 2.07944154 1.43508453]\n"
          ],
          "name": "stdout"
        }
      ]
    },
    {
      "cell_type": "code",
      "metadata": {
        "id": "uqY_XveUSU1s",
        "colab": {
          "base_uri": "https://localhost:8080/"
        },
        "outputId": "0ba28160-1bcb-4d30-a113-36eb63b7c4a8"
      },
      "source": [
        "print(num.log(ganancias))"
      ],
      "execution_count": 26,
      "outputs": [
        {
          "output_type": "stream",
          "text": [
            "[1.77495235 2.30258509 1.94591015 0.64185389 1.79175947 1.5040774\n",
            " 1.90210753]\n"
          ],
          "name": "stdout"
        }
      ]
    },
    {
      "cell_type": "markdown",
      "metadata": {
        "id": "lyPHxooUSU1t"
      },
      "source": [
        "Some functions return a single value. This is because they treat the array as a collection (similar to a list), performing the designated function. For example, the `mean()` function will do exactly what you expect, calculating the mean of an array."
      ]
    },
    {
      "cell_type": "code",
      "metadata": {
        "id": "JWd5PxoVSU1u",
        "colab": {
          "base_uri": "https://localhost:8080/"
        },
        "outputId": "dc77dced-5e4d-4ec5-fbb8-aba0907baf2f"
      },
      "source": [
        "print(np.mean(returns))"
      ],
      "execution_count": 27,
      "outputs": [
        {
          "output_type": "stream",
          "text": [
            "4.54\n"
          ],
          "name": "stdout"
        }
      ]
    },
    {
      "cell_type": "code",
      "metadata": {
        "id": "VDtaptRASU1u",
        "colab": {
          "base_uri": "https://localhost:8080/"
        },
        "outputId": "55e4932c-2113-40aa-cde7-3a39e3a59d1f"
      },
      "source": [
        "print(num.mean(ganancias))"
      ],
      "execution_count": 28,
      "outputs": [
        {
          "output_type": "stream",
          "text": [
            "6.0\n"
          ],
          "name": "stdout"
        }
      ]
    },
    {
      "cell_type": "markdown",
      "metadata": {
        "id": "87P9QosXSU1v"
      },
      "source": [
        "Or the `max()` function will return the maximum element of an array."
      ]
    },
    {
      "cell_type": "code",
      "metadata": {
        "id": "tVCkFTAGSU1v",
        "colab": {
          "base_uri": "https://localhost:8080/"
        },
        "outputId": "d6e5bc5b-4493-4a63-8864-c7d5c09b47ae"
      },
      "source": [
        "print(np.max(returns))"
      ],
      "execution_count": 29,
      "outputs": [
        {
          "output_type": "stream",
          "text": [
            "8.0\n"
          ],
          "name": "stdout"
        }
      ]
    },
    {
      "cell_type": "code",
      "metadata": {
        "id": "0tWVtwmgSU1w",
        "colab": {
          "base_uri": "https://localhost:8080/"
        },
        "outputId": "a8ef6213-6ddd-48b8-9f6d-9dbd74ac6ce8"
      },
      "source": [
        "print(num.max(ganancias))"
      ],
      "execution_count": 30,
      "outputs": [
        {
          "output_type": "stream",
          "text": [
            "10.0\n"
          ],
          "name": "stdout"
        }
      ]
    },
    {
      "cell_type": "markdown",
      "metadata": {
        "id": "CSM0A_orSU1w"
      },
      "source": [
        "For further reading on the universal functions in NumPy, check out the [documentation](https://docs.scipy.org/doc/numpy/user/quickstart.html#universal-functions)."
      ]
    },
    {
      "cell_type": "markdown",
      "metadata": {
        "id": "HBMYKGX1SU1w"
      },
      "source": [
        "### Return to the returns\n",
        "\n",
        "Now let's modify our returns array with scalar values. If we add a scalar value to an array it will be added to every element of the array. If we multiply an array by a scalar value it will be multiplied against every element of the array. If we do both, both will happen!"
      ]
    },
    {
      "cell_type": "code",
      "metadata": {
        "scrolled": false,
        "id": "aUITGMm7SU1x",
        "colab": {
          "base_uri": "https://localhost:8080/"
        },
        "outputId": "7ae4b871-8289-4e29-fba1-9220c480af5f"
      },
      "source": [
        "returns*2 + 5"
      ],
      "execution_count": 31,
      "outputs": [
        {
          "output_type": "execute_result",
          "data": {
            "text/plain": [
              "array([12. , 15. ,  9. , 21. , 13.4])"
            ]
          },
          "metadata": {
            "tags": []
          },
          "execution_count": 31
        }
      ]
    },
    {
      "cell_type": "code",
      "metadata": {
        "id": "nFOZlNnCSU1x",
        "colab": {
          "base_uri": "https://localhost:8080/"
        },
        "outputId": "77bbdbeb-25c8-46fa-d38b-5346acbeb16c"
      },
      "source": [
        "ganancias*11+3"
      ],
      "execution_count": 32,
      "outputs": [
        {
          "output_type": "execute_result",
          "data": {
            "text/plain": [
              "array([ 67.9, 113. ,  80. ,  23.9,  69. ,  52.5,  76.7])"
            ]
          },
          "metadata": {
            "tags": []
          },
          "execution_count": 32
        }
      ]
    },
    {
      "cell_type": "markdown",
      "metadata": {
        "id": "q_ctJSaLSU1y"
      },
      "source": [
        "NumPy also has functions specifically built to operate on arrays. Let's take the mean and standard deviation of this group of returns."
      ]
    },
    {
      "cell_type": "code",
      "metadata": {
        "id": "CweXN7atSU1y",
        "colab": {
          "base_uri": "https://localhost:8080/"
        },
        "outputId": "c0609f0a-1fc7-460a-eada-2cc1dccf31e8"
      },
      "source": [
        "print(\"Mean: \", np.mean(returns), \"Std Dev: \", np.std(returns))"
      ],
      "execution_count": 33,
      "outputs": [
        {
          "output_type": "stream",
          "text": [
            "Mean:  4.54 Std Dev:  1.9915822855207364\n"
          ],
          "name": "stdout"
        }
      ]
    },
    {
      "cell_type": "code",
      "metadata": {
        "id": "ITO32xWOSU1y",
        "colab": {
          "base_uri": "https://localhost:8080/"
        },
        "outputId": "1edacf22-076d-4758-a687-6703a7c6f1f6"
      },
      "source": [
        "print(\"Media: {0}, Desviación estándar {1}\".format(num.mean(ganancias), num.std(ganancias)))"
      ],
      "execution_count": 34,
      "outputs": [
        {
          "output_type": "stream",
          "text": [
            "Media: 6.0, Desviación estándar 2.2853571149509966\n"
          ],
          "name": "stdout"
        }
      ]
    },
    {
      "cell_type": "markdown",
      "metadata": {
        "id": "I5kI5YL3SU1z"
      },
      "source": [
        "Let's simulate a universe of stocks using NumPy's functions. First we need to create the arrays to hold the assets and returns that we will use to build a portfolio. This is because arrays are created with a fixed size. Their dimensions can't be changed without creating a new array."
      ]
    },
    {
      "cell_type": "code",
      "metadata": {
        "id": "kCVLM34kSU1z"
      },
      "source": [
        "N = 10\n",
        "assets = np.zeros((N, 100))\n",
        "returns = np.zeros((N, 100))"
      ],
      "execution_count": 35,
      "outputs": []
    },
    {
      "cell_type": "code",
      "metadata": {
        "id": "k0JvWFF7SU1z"
      },
      "source": [
        "M = 13\n",
        "activos = num.zeros((M, 100))\n",
        "ganancias = num.zeros((M, 100))\n"
      ],
      "execution_count": 36,
      "outputs": []
    },
    {
      "cell_type": "markdown",
      "metadata": {
        "id": "ICJ2h-VGSU10"
      },
      "source": [
        "This function, `zeroes()`, creates a NumPy array with the given dimensions that is entirely filled in with $0$. We can pass a single value or a tuple of as many dimensions as we like. Passing in the tuple `(N, 100)`, will return a two-dimensional array with $N$ rows and $100$ columns. Our result is a $N \\times 100$ array.\n",
        "\n",
        "Now we will simulate a base asset. We want the universe of stocks to be correlated with each other so we will use this initial value to generate the others."
      ]
    },
    {
      "cell_type": "code",
      "metadata": {
        "id": "TGyrzkDmSU10"
      },
      "source": [
        "R_1 = np.random.normal(1.01, 0.03, 100)\n",
        "returns[0] = R_1\n",
        "assets[0] = np.cumprod(R_1)"
      ],
      "execution_count": 37,
      "outputs": []
    },
    {
      "cell_type": "code",
      "metadata": {
        "id": "Ejji5KrKSU10"
      },
      "source": [
        "R_2 = num.random.normal(1.07, 0.025, 100) \n",
        "ganancias[0] = R_2 \n",
        "activos[0] = num.cumprod(R_2)"
      ],
      "execution_count": 38,
      "outputs": []
    },
    {
      "cell_type": "markdown",
      "metadata": {
        "id": "OAVVRMVRSU11"
      },
      "source": [
        "R_2 = num.random.normal(1.07, 0.025, 110)\n",
        "ganancias[0] = R_2\n",
        "activos[0] = num.cumprod(R_2)"
      ]
    },
    {
      "cell_type": "markdown",
      "metadata": {
        "id": "LKHBt75ISU12"
      },
      "source": [
        "The `random` module in NumPy is exceedingly useful. It contains methods for sampling from many different probability distributions, some of which are covered in the [random variables lecture](https://www.quantopian.com/lectures/random-variables) in the Quantopian lecture series. In this case we draw $N = 100$ random samples from a normal distribution with mean $1.01$ and standard deviation $0.03$. We treat these as the daily percentage returns of our asset and take the cumulative product of these samples to get the current price.\n",
        "\n",
        "The way we have generated our universe, the the individual $R_i$ vectors are each 1-dimensional arrays and the `returns` and `assets` variables contain 2-dimensional arrays. Above, we set the initial row of both `returns` and `assets` to be the first $R_i$ vector and the cumulative asset price based on those returns, respectively.\n",
        "\n",
        "We will now use this base asset to create a few other random assets that are correlated with it."
      ]
    },
    {
      "cell_type": "code",
      "metadata": {
        "id": "OD6f3a71SU13"
      },
      "source": [
        "# Generate assets that are correlated with R_1\n",
        "for i in range(1, N):\n",
        "    R_i = R_1 + np.random.normal(0.001, 0.02, 100)\n",
        "    returns[i] = R_i # Set each row of returns equal to the new R_i array\n",
        "    assets[i] = np.cumprod(R_i)\n",
        "    \n",
        "mean_returns = [(np.mean(R) - 1)*100 for R in returns]\n",
        "return_volatilities = [np.std(R) for R in returns]"
      ],
      "execution_count": 39,
      "outputs": []
    },
    {
      "cell_type": "code",
      "metadata": {
        "id": "8skhfx8aSU14"
      },
      "source": [
        "for k in range(1, M):\n",
        "    R_k = R_2 + num.random.normal(0.002, 0.03, 100)\n",
        "    ganancias[k] = R_k\n",
        "    activos[k] = num.cumprod(R_k)\n",
        "    \n",
        "ganancias_medias = [(num.mean(R) - 1) *100 for R in ganancias]\n",
        "volatilidad_de_las_ganancias = [num.std(R) for R in ganancias]"
      ],
      "execution_count": 40,
      "outputs": []
    },
    {
      "cell_type": "markdown",
      "metadata": {
        "id": "nLtdnfiQSU15"
      },
      "source": [
        "Here we generate the remaining $N - 1$ securities that we want in our universe by adding random noise to $R_1$. This ensures that our $N - 1$ other assets will be correlated with the base asset because they have some underlying information that is shared.\n",
        "\n",
        "Let's plot what the mean return of each asset looks like:"
      ]
    },
    {
      "cell_type": "code",
      "metadata": {
        "scrolled": false,
        "id": "SBlEiP3mSU15",
        "colab": {
          "base_uri": "https://localhost:8080/",
          "height": 295
        },
        "outputId": "da3e7d23-7896-4863-f449-6bdb85855daf"
      },
      "source": [
        "plt.bar(np.arange(len(mean_returns)), mean_returns)\n",
        "plt.xlabel('Stock')\n",
        "plt.ylabel('Returns')\n",
        "plt.title('Returns for {0} Random Assets'.format(N));"
      ],
      "execution_count": 41,
      "outputs": [
        {
          "output_type": "display_data",
          "data": {
            "image/png": "[encoded data removed]",
            "text/plain": [
              "<Figure size 432x288 with 1 Axes>"
            ]
          },
          "metadata": {
            "tags": [],
            "needs_background": "light"
          }
        }
      ]
    },
    {
      "cell_type": "code",
      "metadata": {
        "id": "5S6LRNgSSU16",
        "colab": {
          "base_uri": "https://localhost:8080/",
          "height": 312
        },
        "outputId": "f7ab4d84-f39f-43c1-a218-ff5ca3814344"
      },
      "source": [
        "plot.bar(num.arange(len(ganancias_medias)), ganancias_medias)\n",
        "plot.xlabel('Bolsa')\n",
        "plot.ylabel('Ganancias')\n",
        "plot.title('Ganancias para {0} activos aleatorios'.format(M))"
      ],
      "execution_count": 42,
      "outputs": [
        {
          "output_type": "execute_result",
          "data": {
            "text/plain": [
              "Text(0.5, 1.0, 'Ganancias para 13 activos aleatorios')"
            ]
          },
          "metadata": {
            "tags": []
          },
          "execution_count": 42
        },
        {
          "output_type": "display_data",
          "data": {
            "image/png": "[encoded data removed]",
            "text/plain": [
              "<Figure size 432x288 with 1 Axes>"
            ]
          },
          "metadata": {
            "tags": [],
            "needs_background": "light"
          }
        }
      ]
    },
    {
      "cell_type": "markdown",
      "metadata": {
        "id": "L7iKzttxSU17"
      },
      "source": [
        "### Calculating Expected Return\n",
        "\n",
        "So we have a universe of stocks. Great! Now let's put them together in a portfolio and calculate its expected return and risk.\n",
        "\n",
        "We will start off by generating $N$ random weights for each asset in our portfolio."
      ]
    },
    {
      "cell_type": "code",
      "metadata": {
        "id": "76aKNcKOSU17"
      },
      "source": [
        "weights = np.random.uniform(0, 1, N)\n",
        "weights = weights/np.sum(weights)"
      ],
      "execution_count": 43,
      "outputs": []
    },
    {
      "cell_type": "code",
      "metadata": {
        "id": "MCCILV51SU18"
      },
      "source": [
        "pesos = num.random.uniform(0, 1, M)\n",
        "pesos = pesos/num.sum(pesos)"
      ],
      "execution_count": 44,
      "outputs": []
    },
    {
      "cell_type": "markdown",
      "metadata": {
        "id": "_N29kuBQSU18"
      },
      "source": [
        "We have to rescale the weights so that they all add up to $1$. We do this by scaling the weights vector by the sum total of all the weights. This step ensures that we will be using $100\\%$ of the portfolio's cash.\n",
        "\n",
        "To calculate the mean return of the portfolio, we have to scale each asset's return by its designated weight. We can pull each element of each array and multiply them individually, but it's quicker to use NumPy's linear algebra methods. The function that we want is `dot()`. This will calculate the dot product between two arrays for us. So if $v = \\left[ 1, 2, 3 \\right]$ and $w = \\left[4, 5, 6 \\right]$, then:\n",
        "\n",
        "$$ v \\cdot w = 1 \\times 4 + 2 \\times 5 + 3 \\times 6 $$\n",
        "\n",
        "For a one-dimensional vector, the dot product will multiply each element pointwise and add all the products together! In our case, we have a vector of weights, $\\omega = \\left[ \\omega_1, \\omega_2, \\dots \\omega_N\\right]$ and a vector of returns, $\\mu = \\left[ \\mu_1, \\mu_2, \\dots, \\mu_N\\right]$. If we take the dot product of these two we will get:\n",
        "\n",
        "$$ \\omega \\cdot \\mu = \\omega_1\\mu_1 + \\omega_2\\mu_2 + \\dots + \\omega_N\\mu_N = \\mu_P $$\n",
        "\n",
        "This yields the sum of all the asset returns scaled by their respective weights. This the the portfolio's overall expected return!"
      ]
    },
    {
      "cell_type": "code",
      "metadata": {
        "id": "tkKTQpmoSU19",
        "colab": {
          "base_uri": "https://localhost:8080/"
        },
        "outputId": "f346faf4-01a3-4e4f-8a21-a604dcae80df"
      },
      "source": [
        "p_returns = np.dot(weights, mean_returns)\n",
        "print(\"Expected return of the portfolio: \", p_returns)"
      ],
      "execution_count": 45,
      "outputs": [
        {
          "output_type": "stream",
          "text": [
            "Expected return of the portfolio:  0.8239759024734302\n"
          ],
          "name": "stdout"
        }
      ]
    },
    {
      "cell_type": "code",
      "metadata": {
        "id": "FyP9fubiSU1-",
        "colab": {
          "base_uri": "https://localhost:8080/"
        },
        "outputId": "b6181b26-8522-460b-f907-a4b5e228a243"
      },
      "source": [
        "ganancias_esperadas = num.dot(pesos, ganancias_medias)\n",
        "print(\"Ganancia esperada de portafolio {0} millones de pesos\".format(ganancias_esperadas))"
      ],
      "execution_count": 46,
      "outputs": [
        {
          "output_type": "stream",
          "text": [
            "Ganancia esperada de portafolio 7.227071665923894 millones de pesos\n"
          ],
          "name": "stdout"
        }
      ]
    },
    {
      "cell_type": "markdown",
      "metadata": {
        "id": "psInNpCLSU1-"
      },
      "source": [
        "Calculating the mean return is fairly intuitive and does not require too much explanation of linear algebra. However, calculating the variance of our portfolio requires a bit more background."
      ]
    },
    {
      "cell_type": "markdown",
      "metadata": {
        "id": "dmg2g5eoSU1_"
      },
      "source": [
        "#### Beware of NaN values\n",
        "\n",
        "Most of the time, all of these calculations will work without an issue. However, when working with real data we run the risk of having `nan` values in our arrays. This is NumPy's way of saying that the data there is missing or doesn't exist. These `nan` values can lead to errors in mathematical calculations so it is important to be aware of whether your array contains `nan` values and to know how to drop them."
      ]
    },
    {
      "cell_type": "code",
      "metadata": {
        "id": "ZOMVwN--SU2A",
        "colab": {
          "base_uri": "https://localhost:8080/"
        },
        "outputId": "1606f61e-8953-4669-c9bc-d8b2355d6777"
      },
      "source": [
        "v = np.array([1, 2, np.nan, 4, 5])\n",
        "print(v)"
      ],
      "execution_count": 47,
      "outputs": [
        {
          "output_type": "stream",
          "text": [
            "[ 1.  2. nan  4.  5.]\n"
          ],
          "name": "stdout"
        }
      ]
    },
    {
      "cell_type": "code",
      "metadata": {
        "id": "PMZ76PdvSU2A",
        "colab": {
          "base_uri": "https://localhost:8080/"
        },
        "outputId": "89d07b7e-2b94-40d7-8b3c-fd4e004de745"
      },
      "source": [
        "b = num.array([1, 4.3, num.nan, 12, 7.7, 5.3])\n",
        "print(b)"
      ],
      "execution_count": 49,
      "outputs": [
        {
          "output_type": "stream",
          "text": [
            "[ 1.   4.3  nan 12.   7.7  5.3]\n"
          ],
          "name": "stdout"
        }
      ]
    },
    {
      "cell_type": "markdown",
      "metadata": {
        "id": "HLiFnODXSU2A"
      },
      "source": [
        "Let's see what happens when we try to take the mean of this array."
      ]
    },
    {
      "cell_type": "code",
      "metadata": {
        "id": "ghZhQQY5SU2B",
        "colab": {
          "base_uri": "https://localhost:8080/"
        },
        "outputId": "7d38383a-4384-4d07-e16c-c888d28243d5"
      },
      "source": [
        "print(np.mean(v))"
      ],
      "execution_count": 50,
      "outputs": [
        {
          "output_type": "stream",
          "text": [
            "nan\n"
          ],
          "name": "stdout"
        }
      ]
    },
    {
      "cell_type": "code",
      "metadata": {
        "id": "6sivt9u7SU2B",
        "colab": {
          "base_uri": "https://localhost:8080/"
        },
        "outputId": "680995d2-aa87-4f6c-b8f2-4134beb1a2e8"
      },
      "source": [
        "print(num.mean(b))"
      ],
      "execution_count": 51,
      "outputs": [
        {
          "output_type": "stream",
          "text": [
            "nan\n"
          ],
          "name": "stdout"
        }
      ]
    },
    {
      "cell_type": "markdown",
      "metadata": {
        "id": "m8IB-63wSU2B"
      },
      "source": [
        "Clearly, `nan` values can have a large impact on our calculations. Fortunately, we can check for `nan` values with the `isnan()` function."
      ]
    },
    {
      "cell_type": "code",
      "metadata": {
        "id": "T-FOFd2tSU2B",
        "colab": {
          "base_uri": "https://localhost:8080/"
        },
        "outputId": "c258907e-0d75-4de9-d6be-d67fd6aa4bf8"
      },
      "source": [
        "np.isnan(v)"
      ],
      "execution_count": 52,
      "outputs": [
        {
          "output_type": "execute_result",
          "data": {
            "text/plain": [
              "array([False, False,  True, False, False])"
            ]
          },
          "metadata": {
            "tags": []
          },
          "execution_count": 52
        }
      ]
    },
    {
      "cell_type": "code",
      "metadata": {
        "id": "w87y_1qqSU2C",
        "colab": {
          "base_uri": "https://localhost:8080/"
        },
        "outputId": "7a89ca9a-7e86-4156-cd31-988c4b881c72"
      },
      "source": [
        "num.isnan(b)"
      ],
      "execution_count": 53,
      "outputs": [
        {
          "output_type": "execute_result",
          "data": {
            "text/plain": [
              "array([False, False,  True, False, False, False])"
            ]
          },
          "metadata": {
            "tags": []
          },
          "execution_count": 53
        }
      ]
    },
    {
      "cell_type": "markdown",
      "metadata": {
        "id": "5e42HBJuSU2C"
      },
      "source": [
        "Calling `isnan()` on an array will call the function on each value of the array, returning a value of `True` if the element is `nan` and `False` if the element is valid. Now, knowing whether your array contains `nan` values is all well and good, but how do we remove `nan`s? Handily enough, NumPy arrays can be indexed by boolean values (`True` or `False`). If we use a boolean array to index an array, we will remove all values of the array that register as `False` under the condition. We use the `isnan()` function in create a boolean array, assigning a `True` value to everything that is *not* `nan` and a `False` to the `nan`s and we use that to index the same array."
      ]
    },
    {
      "cell_type": "code",
      "metadata": {
        "id": "XhevSarKSU2C",
        "colab": {
          "base_uri": "https://localhost:8080/"
        },
        "outputId": "843420b6-aff7-46a1-a35b-d8f8eb367b85"
      },
      "source": [
        "ix = ~np.isnan(v) # the ~ indicates a logical not, inverting the bools\n",
        "print (v[ix]) # We can also just write v = v[~np.isnan(v)]"
      ],
      "execution_count": 54,
      "outputs": [
        {
          "output_type": "stream",
          "text": [
            "[1. 2. 4. 5.]\n"
          ],
          "name": "stdout"
        }
      ]
    },
    {
      "cell_type": "code",
      "metadata": {
        "id": "odbOG1U1SU2D",
        "colab": {
          "base_uri": "https://localhost:8080/"
        },
        "outputId": "b989cf7c-9577-44e7-dc47-65f20444f01c"
      },
      "source": [
        "indexes = ~num.isnan(b)\n",
        "print (b[indexes])"
      ],
      "execution_count": 55,
      "outputs": [
        {
          "output_type": "stream",
          "text": [
            "[ 1.   4.3 12.   7.7  5.3]\n"
          ],
          "name": "stdout"
        }
      ]
    },
    {
      "cell_type": "code",
      "metadata": {
        "id": "8CFPUjmwSU2D",
        "colab": {
          "base_uri": "https://localhost:8080/"
        },
        "outputId": "d2e6039c-3e10-41cf-fed6-e51ac050df71"
      },
      "source": [
        "print (np.mean(v[ix]))"
      ],
      "execution_count": 56,
      "outputs": [
        {
          "output_type": "stream",
          "text": [
            "3.0\n"
          ],
          "name": "stdout"
        }
      ]
    },
    {
      "cell_type": "code",
      "metadata": {
        "id": "BZtvFq9MSU2D",
        "colab": {
          "base_uri": "https://localhost:8080/"
        },
        "outputId": "32053812-5dbd-4837-cc31-2e606307763f"
      },
      "source": [
        "print (num.mean(b[indexes]))"
      ],
      "execution_count": 57,
      "outputs": [
        {
          "output_type": "stream",
          "text": [
            "6.0600000000000005\n"
          ],
          "name": "stdout"
        }
      ]
    },
    {
      "cell_type": "markdown",
      "metadata": {
        "id": "tMUW0C16SU2E"
      },
      "source": [
        "There are a few shortcuts to this process in the form of NumPy functions specifically built to handle them, such as `nanmean()`."
      ]
    },
    {
      "cell_type": "code",
      "metadata": {
        "id": "Wg4YbeIUSU2E",
        "colab": {
          "base_uri": "https://localhost:8080/"
        },
        "outputId": "70a32c76-4515-4965-9547-875730d77286"
      },
      "source": [
        "print (np.nanmean(v))"
      ],
      "execution_count": 58,
      "outputs": [
        {
          "output_type": "stream",
          "text": [
            "3.0\n"
          ],
          "name": "stdout"
        }
      ]
    },
    {
      "cell_type": "code",
      "metadata": {
        "id": "6ypYv608SU2E",
        "colab": {
          "base_uri": "https://localhost:8080/"
        },
        "outputId": "cae6edb9-40cf-42ab-d840-46345e2c1d83"
      },
      "source": [
        "print (num.nanmean(b))"
      ],
      "execution_count": 59,
      "outputs": [
        {
          "output_type": "stream",
          "text": [
            "6.0600000000000005\n"
          ],
          "name": "stdout"
        }
      ]
    },
    {
      "cell_type": "markdown",
      "metadata": {
        "id": "Opd_0GV_SU2F"
      },
      "source": [
        "The `nanmean()` function simply calculates the mean of the array as if there were no `nan` values at all! There are a few more of these functions, so feel free to read more about them in the [documentation](https://docs.scipy.org/doc/numpy/user/index.html). These indeterminate values are more an issue with data than linear algebra itself so it is helpful that there are ways to handle them."
      ]
    },
    {
      "cell_type": "markdown",
      "metadata": {
        "id": "0DAiX4WtSU2F"
      },
      "source": [
        "### Conclusion\n",
        "\n",
        "Linear algebra is pervasive in finance and in general. For example, the calculation of *optimal* weights according to modern portfolio theory is done using linear algebra techniques. The arrays and functions in NumPy allow us to handle these calculations in an intuitive way. For a quick intro to linear algebra and how to use NumPy to do more significant matrix calculations, proceed to the next section."
      ]
    },
    {
      "cell_type": "markdown",
      "metadata": {
        "id": "vCW9VftQSU2F"
      },
      "source": [
        "## A brief foray into linear algebra\n",
        "\n",
        "Let's start with a basic overview of some linear algebra. Linear algebra comes down to the multiplication and composition of scalar and matrix values. A scalar value is just a real number that we multiply against an array. When we scale a matrix or array using a scalar, we multiply each individual element of that matrix or array by the scalar.\n",
        "\n",
        "A matrix is a collection of values, typically represented by an $m \\times n$ grid, where $m$ is the number of rows and $n$ is the number of columns. The edge lengths $m$ and $n$ do not necessarily have to be different. If we have $m = n$, we call this a square matrix. A particularly interesting case of a matrix is when $m = 1$ or $n = 1$. In this case we have a special case of a matrix that we call a vector. While there is a matrix object in NumPy we will be doing everything using NumPy arrays because they can have dimensions greater than $2$. For the purpose of this section, we will be using matrix and array interchangeably.\n",
        "\n",
        "We can express the matrix equation as:\n",
        "\n",
        "$$ y = A\\cdot x $$\n",
        "\n",
        "Where $A$ is an $m \\times n$ matrix, $y$ is a $m \\times 1$ vector, and $x$ is a $n \\times 1$ vector. On the right-hand side of the equation we are multiplying a matrix by a vector. This requires a little bit more clarification, lest we think that we can go about multiplying any matrices by any other matrices.\n",
        "\n",
        "#### Matrix multiplication\n",
        "\n",
        "With matrix multiplication, the order in which the matrices are multiplied matters. Multiplying a matrix on the left side by another matrix may be just fine, but multiplying on the right may be undefined."
      ]
    },
    {
      "cell_type": "code",
      "metadata": {
        "id": "9NQpebtdSU2G"
      },
      "source": [
        "A = np.array([\n",
        "        [1, 2, 3, 12, 6],\n",
        "        [4, 5, 6, 15, 20],\n",
        "        [7, 8, 9, 10, 10]        \n",
        "    ])\n",
        "B = np.array([\n",
        "        [4, 4, 2],\n",
        "        [2, 3, 1],\n",
        "        [6, 5, 8],\n",
        "        [9, 9, 9]\n",
        "    ])"
      ],
      "execution_count": 60,
      "outputs": []
    },
    {
      "cell_type": "code",
      "metadata": {
        "id": "D_iPNkCxSU2G"
      },
      "source": [
        "C = num.array([\n",
        "    [4 , 8, 1],\n",
        "    [2, 5, 9]\n",
        "])\n",
        "D = num.array([\n",
        "    [7, 4, 1],\n",
        "    [2, 5, 4],\n",
        "    [6, 5, 9]\n",
        "])"
      ],
      "execution_count": 61,
      "outputs": []
    },
    {
      "cell_type": "markdown",
      "metadata": {
        "id": "MX1yeR6ZSU2G"
      },
      "source": [
        "Notice that the above-defined matrices, $A$ and $B$, have different dimensions. $A$ is $3 \\times 5$ and $B$ is $4 \\times 3$. The general rule of what can and cannot be multiplied in which order is based on the dimensions of the matrices. Specifically, the number of columns in the matrix on the left must be equal to the number of rows in the matrix on the right. In super informal terms, let's say that we have an $m \\times n$ matrix and a $p \\times q$ matrix. If we multiply the first by the second on the right, we get the following:\n",
        "\n",
        "$$ (m \\times n) \\cdot (p \\times q) = (m \\times q) $$\n",
        "\n",
        "So the resultant product has the same number of rows as the left matrix and the same number of columns as the right matrix. This limitation of matrix multiplication with regards to dimensions is important to keep track of when writing code. To demonstrate this, we use the `dot()` function to multiply our matrices below:"
      ]
    },
    {
      "cell_type": "code",
      "metadata": {
        "id": "0nI6BmO3SU2H",
        "colab": {
          "base_uri": "https://localhost:8080/",
          "height": 197
        },
        "outputId": "8491740c-4e07-4001-bd16-5613612fe81d"
      },
      "source": [
        "print(np.dot(A, B))"
      ],
      "execution_count": 62,
      "outputs": [
        {
          "output_type": "error",
          "ename": "ValueError",
          "evalue": "ignored",
          "traceback": [
            "\u001b[0;31m---------------------------------------------------------------------------\u001b[0m",
            "\u001b[0;31mValueError\u001b[0m                                Traceback (most recent call last)",
            "\u001b[0;32m<ipython-input-62-c4010e250c2c>\u001b[0m in \u001b[0;36m<module>\u001b[0;34m()\u001b[0m\n\u001b[0;32m----> 1\u001b[0;31m \u001b[0mprint\u001b[0m\u001b[0;34m(\u001b[0m\u001b[0mnp\u001b[0m\u001b[0;34m.\u001b[0m\u001b[0mdot\u001b[0m\u001b[0;34m(\u001b[0m\u001b[0mA\u001b[0m\u001b[0;34m,\u001b[0m \u001b[0mB\u001b[0m\u001b[0;34m)\u001b[0m\u001b[0;34m)\u001b[0m\u001b[0;34m\u001b[0m\u001b[0;34m\u001b[0m\u001b[0m\n\u001b[0m",
            "\u001b[0;32m<__array_function__ internals>\u001b[0m in \u001b[0;36mdot\u001b[0;34m(*args, **kwargs)\u001b[0m\n",
            "\u001b[0;31mValueError\u001b[0m: shapes (3,5) and (4,3) not aligned: 5 (dim 1) != 4 (dim 0)"
          ]
        }
      ]
    },
    {
      "cell_type": "code",
      "metadata": {
        "id": "9z2EtQ6pSU2H",
        "colab": {
          "base_uri": "https://localhost:8080/",
          "height": 197
        },
        "outputId": "99ca71ed-1a34-4db2-d787-71df540ced25"
      },
      "source": [
        "print(num.dot(D, C))"
      ],
      "execution_count": 63,
      "outputs": [
        {
          "output_type": "error",
          "ename": "ValueError",
          "evalue": "ignored",
          "traceback": [
            "\u001b[0;31m---------------------------------------------------------------------------\u001b[0m",
            "\u001b[0;31mValueError\u001b[0m                                Traceback (most recent call last)",
            "\u001b[0;32m<ipython-input-63-c935a64e7b50>\u001b[0m in \u001b[0;36m<module>\u001b[0;34m()\u001b[0m\n\u001b[0;32m----> 1\u001b[0;31m \u001b[0mprint\u001b[0m\u001b[0;34m(\u001b[0m\u001b[0mnum\u001b[0m\u001b[0;34m.\u001b[0m\u001b[0mdot\u001b[0m\u001b[0;34m(\u001b[0m\u001b[0mD\u001b[0m\u001b[0;34m,\u001b[0m \u001b[0mC\u001b[0m\u001b[0;34m)\u001b[0m\u001b[0;34m)\u001b[0m\u001b[0;34m\u001b[0m\u001b[0;34m\u001b[0m\u001b[0m\n\u001b[0m",
            "\u001b[0;32m<__array_function__ internals>\u001b[0m in \u001b[0;36mdot\u001b[0;34m(*args, **kwargs)\u001b[0m\n",
            "\u001b[0;31mValueError\u001b[0m: shapes (3,3) and (2,3) not aligned: 3 (dim 1) != 2 (dim 0)"
          ]
        }
      ]
    },
    {
      "cell_type": "markdown",
      "metadata": {
        "id": "PTDpCNm0SU2H"
      },
      "source": [
        "These results make sense in accordance with our rule. Multiplying a $3 \\times 5$ matrix on the right by a $4 \\times 3$ matrix results in an error while multiplying a $4 \\times 3$ matrix on the right by a $3 \\times 5$ matrix results in a $4 \\times 5$ matrix."
      ]
    },
    {
      "cell_type": "code",
      "metadata": {
        "id": "48VCpJCtSU2H",
        "colab": {
          "base_uri": "https://localhost:8080/"
        },
        "outputId": "23bc7875-ac54-4f56-ba68-4a0f129bed6b"
      },
      "source": [
        "print(np.dot(B, A))"
      ],
      "execution_count": 64,
      "outputs": [
        {
          "output_type": "stream",
          "text": [
            "[[ 34  44  54 128 124]\n",
            " [ 21  27  33  79  82]\n",
            " [ 82 101 120 227 216]\n",
            " [108 135 162 333 324]]\n"
          ],
          "name": "stdout"
        }
      ]
    },
    {
      "cell_type": "code",
      "metadata": {
        "id": "5BPsCWbbSU2I",
        "colab": {
          "base_uri": "https://localhost:8080/"
        },
        "outputId": "4638cafa-fce8-4ddb-e83d-38c2ec71d21b"
      },
      "source": [
        "print(num.dot(C, D))"
      ],
      "execution_count": 65,
      "outputs": [
        {
          "output_type": "stream",
          "text": [
            "[[ 50  61  45]\n",
            " [ 78  78 103]]\n"
          ],
          "name": "stdout"
        }
      ]
    },
    {
      "cell_type": "markdown",
      "metadata": {
        "id": "IxrOtQx4SU2I"
      },
      "source": [
        "### Portfolio Variance\n",
        "\n",
        "Let's return to our portfolio example from before. We calculated the expected return of the portfolio, but how do we calculate the variance? We start by trying to evaluate the portfolio as a sum of each individual asset, scaled by it's weight.\n",
        "\n",
        "$$ VAR[P] = VAR[\\omega_1 S_1 + \\omega_2 S_2 + \\cdots + \\omega_N S_N] $$\n",
        "\n",
        "Where $S_0, \\cdots, S_N$ are the assets contained within our universe. If all of our assets were independent of each other, we could simply evaluate this as\n",
        "\n",
        "$$ VAR[P] = VAR[\\omega_1 S_1] + VAR[\\omega_2 S_2] + \\cdots + VAR[\\omega_N S_N] = \\omega_1^2\\sigma_1^2 + \\omega_2^2\\sigma_2^2 + \\cdots + \\omega_N^2\\sigma_N^2 $$\n",
        "\n",
        "However, all of our assets depend on each other by their construction. They are all in some way related to our base asset and therefore each other. We thus have to calculate the variance of the portfolio by including the individual pairwise covariances of each asset. Our formula for the variance of the portfolio:\n",
        "\n",
        "$$ VAR[P] = \\sigma_P^2 = \\sum_i \\omega_i^2\\sigma_i^2 + \\sum_i\\sum_{i\\neq j} \\omega_i\\omega_j\\sigma_i\\sigma_j\\rho_{i, j}, \\ i, j \\in \\lbrace 1, 2, \\cdots, N \\rbrace $$\n",
        "\n",
        "Where $\\rho_{i,j}$ is the correlation between $S_i$ and $S_j$, $\\rho_{i, j} = \\frac{COV[S_i, S_j]}{\\sigma_i\\sigma_j}$. This seems exceedingly complicated, but we can easily handle all of this using NumPy arrays. First, we calculate the covariance matrix that relates all the individual stocks in our universe."
      ]
    },
    {
      "cell_type": "code",
      "metadata": {
        "id": "FaIuVQr8SU2I",
        "colab": {
          "base_uri": "https://localhost:8080/"
        },
        "outputId": "3191db26-1098-4720-a044-cfbd8243c8e5"
      },
      "source": [
        "cov_mat = np.cov(returns)\n",
        "print(cov_mat)"
      ],
      "execution_count": 66,
      "outputs": [
        {
          "output_type": "stream",
          "text": [
            "[[0.00092825 0.00080845 0.00089117 0.00094069 0.00097722 0.0008997\n",
            "  0.00097327 0.00081389 0.0008685  0.00098294]\n",
            " [0.00080845 0.00109959 0.00080955 0.00085611 0.00086113 0.00072208\n",
            "  0.00080808 0.00067108 0.00070855 0.000847  ]\n",
            " [0.00089117 0.00080955 0.00126258 0.00089703 0.0009726  0.00077861\n",
            "  0.00090488 0.00074293 0.00090949 0.00092438]\n",
            " [0.00094069 0.00085611 0.00089703 0.00127743 0.00103614 0.00090321\n",
            "  0.00098488 0.00075728 0.00086734 0.00098568]\n",
            " [0.00097722 0.00086113 0.0009726  0.00103614 0.0013392  0.00098389\n",
            "  0.00097734 0.00080916 0.00091635 0.00100596]\n",
            " [0.0008997  0.00072208 0.00077861 0.00090321 0.00098389 0.00135266\n",
            "  0.00091834 0.00082795 0.00076298 0.00096154]\n",
            " [0.00097327 0.00080808 0.00090488 0.00098488 0.00097734 0.00091834\n",
            "  0.00136266 0.00086844 0.00097629 0.00101139]\n",
            " [0.00081389 0.00067108 0.00074293 0.00075728 0.00080916 0.00082795\n",
            "  0.00086844 0.00107167 0.00076131 0.00086728]\n",
            " [0.0008685  0.00070855 0.00090949 0.00086734 0.00091635 0.00076298\n",
            "  0.00097629 0.00076131 0.0012288  0.00086912]\n",
            " [0.00098294 0.000847   0.00092438 0.00098568 0.00100596 0.00096154\n",
            "  0.00101139 0.00086728 0.00086912 0.00143926]]\n"
          ],
          "name": "stdout"
        }
      ]
    },
    {
      "cell_type": "code",
      "metadata": {
        "id": "WEDdKqrpSU2I",
        "colab": {
          "base_uri": "https://localhost:8080/"
        },
        "outputId": "458a80da-7088-4185-85a5-52d14263c55f"
      },
      "source": [
        "matriz_covarianza = num.cov(ganancias)\n",
        "print(matriz_covarianza)"
      ],
      "execution_count": 67,
      "outputs": [
        {
          "output_type": "stream",
          "text": [
            "[[0.00073959 0.00072828 0.00083262 0.00071724 0.000656   0.00074788\n",
            "  0.000833   0.00068479 0.00080093 0.00063575 0.00069841 0.00083491\n",
            "  0.00062147]\n",
            " [0.00072828 0.00148488 0.00089293 0.00075886 0.00063837 0.00064609\n",
            "  0.00077176 0.00066122 0.00088216 0.00068887 0.00082931 0.00077943\n",
            "  0.00075875]\n",
            " [0.00083262 0.00089293 0.0016346  0.00073438 0.00066108 0.00081946\n",
            "  0.00104531 0.00068516 0.0008693  0.00064563 0.00082161 0.0010067\n",
            "  0.00075914]\n",
            " [0.00071724 0.00075886 0.00073438 0.0013817  0.00068092 0.00087819\n",
            "  0.00057762 0.0007149  0.00095849 0.00050325 0.00061033 0.00085629\n",
            "  0.00060279]\n",
            " [0.000656   0.00063837 0.00066108 0.00068092 0.00144425 0.00076335\n",
            "  0.00080903 0.00066956 0.0006573  0.00062785 0.00068356 0.00077139\n",
            "  0.00049219]\n",
            " [0.00074788 0.00064609 0.00081946 0.00087819 0.00076335 0.00161695\n",
            "  0.00069409 0.00080553 0.00077323 0.00058081 0.00075342 0.0008928\n",
            "  0.00064574]\n",
            " [0.000833   0.00077176 0.00104531 0.00057762 0.00080903 0.00069409\n",
            "  0.0021531  0.0008986  0.0010404  0.00074657 0.00080792 0.00085374\n",
            "  0.00067541]\n",
            " [0.00068479 0.00066122 0.00068516 0.0007149  0.00066956 0.00080553\n",
            "  0.0008986  0.00135562 0.00082642 0.00042495 0.00062241 0.00077686\n",
            "  0.00046676]\n",
            " [0.00080093 0.00088216 0.0008693  0.00095849 0.0006573  0.00077323\n",
            "  0.0010404  0.00082642 0.00167778 0.00073247 0.00076123 0.00098166\n",
            "  0.00060761]\n",
            " [0.00063575 0.00068887 0.00064563 0.00050325 0.00062785 0.00058081\n",
            "  0.00074657 0.00042495 0.00073247 0.00132125 0.00060837 0.00073184\n",
            "  0.0005629 ]\n",
            " [0.00069841 0.00082931 0.00082161 0.00061033 0.00068356 0.00075342\n",
            "  0.00080792 0.00062241 0.00076123 0.00060837 0.00157006 0.0008851\n",
            "  0.000555  ]\n",
            " [0.00083491 0.00077943 0.0010067  0.00085629 0.00077139 0.0008928\n",
            "  0.00085374 0.00077686 0.00098166 0.00073184 0.0008851  0.0015961\n",
            "  0.00068036]\n",
            " [0.00062147 0.00075875 0.00075914 0.00060279 0.00049219 0.00064574\n",
            "  0.00067541 0.00046676 0.00060761 0.0005629  0.000555   0.00068036\n",
            "  0.0012767 ]]\n"
          ],
          "name": "stdout"
        }
      ]
    },
    {
      "cell_type": "markdown",
      "metadata": {
        "id": "f0vGvS8iSU2J"
      },
      "source": [
        "This array is not formatted particularly nicely, but a covariance matrix is a very important concept. The covariance matrix is of the form:\n",
        "\n",
        "$$ \\left[\\begin{matrix}\n",
        "VAR[S_1] & COV[S_1, S_2] & \\cdots & COV[S_1, S_N] \\\\\n",
        "COV[S_2, S_1] & VAR[S_2] & \\cdots & COV[S_2, S_N] \\\\\n",
        "\\vdots & \\vdots & \\ddots & \\vdots \\\\\n",
        "COV[S_N, S_1] & COV[S_N, S_2] & \\cdots & VAR[S_N]\n",
        "\\end{matrix}\\right] $$\n",
        "\n",
        "So each diagonal entry is the variance of that asset at that index and each off-diagonal holds the covariance of two assets indexed by the column and row number. What is important is that once we have the covariance matrix we are able to do some very quick linear algebra to calculate the variance of the overall portfolio. We can represent the variance of the portfolio in array form as:\n",
        "\n",
        "$$ \\sigma_p^2 = \\omega \\ C \\ \\omega^\\intercal$$\n",
        "\n",
        "Where $C$ is the covariance matrix of all the assets and $\\omega$ is the array containing the weights of each individual asset. The superscript $\\intercal$ on the second $\\omega$ listed above denotes the **transpose** of $\\omega$. For a reference on the evaluation of the variance of a portfolio as a matrix equation, please see the Wikipedia article on [modern portfolio theory](https://en.wikipedia.org/wiki/Modern_portfolio_theory).\n",
        "\n",
        "The transpose of an array is what you get when you switch the rows and columns of an array. This has the effect of reflecting an array across what you might imagine as a diagonal. For example, take our array $A$ from before:"
      ]
    },
    {
      "cell_type": "code",
      "metadata": {
        "id": "jd7OmyDISU2J",
        "colab": {
          "base_uri": "https://localhost:8080/"
        },
        "outputId": "9a490990-843a-49f9-e8c0-ad208628c086"
      },
      "source": [
        "print(A)"
      ],
      "execution_count": 68,
      "outputs": [
        {
          "output_type": "stream",
          "text": [
            "[[ 1  2  3 12  6]\n",
            " [ 4  5  6 15 20]\n",
            " [ 7  8  9 10 10]]\n"
          ],
          "name": "stdout"
        }
      ]
    },
    {
      "cell_type": "code",
      "metadata": {
        "id": "u-T8AzUjSU2J",
        "colab": {
          "base_uri": "https://localhost:8080/"
        },
        "outputId": "20719fb7-4339-4944-b663-1f35f77bb0aa"
      },
      "source": [
        "print(C)"
      ],
      "execution_count": 69,
      "outputs": [
        {
          "output_type": "stream",
          "text": [
            "[[4 8 1]\n",
            " [2 5 9]]\n"
          ],
          "name": "stdout"
        }
      ]
    },
    {
      "cell_type": "markdown",
      "metadata": {
        "id": "02IyoqpDSU2J"
      },
      "source": [
        "The transpose looks like a mirror image of the same array."
      ]
    },
    {
      "cell_type": "code",
      "metadata": {
        "id": "Wa4VqO_oSU2J",
        "colab": {
          "base_uri": "https://localhost:8080/"
        },
        "outputId": "a812c0da-ad49-43d1-be59-fdbc2d313ec0"
      },
      "source": [
        "print (np.transpose(A))"
      ],
      "execution_count": 70,
      "outputs": [
        {
          "output_type": "stream",
          "text": [
            "[[ 1  4  7]\n",
            " [ 2  5  8]\n",
            " [ 3  6  9]\n",
            " [12 15 10]\n",
            " [ 6 20 10]]\n"
          ],
          "name": "stdout"
        }
      ]
    },
    {
      "cell_type": "code",
      "metadata": {
        "id": "RXZIIx4YSU2K",
        "colab": {
          "base_uri": "https://localhost:8080/"
        },
        "outputId": "60cb4f95-68e8-4d1f-8afa-7f9f31f2fcee"
      },
      "source": [
        "print (num.transpose(C))"
      ],
      "execution_count": 71,
      "outputs": [
        {
          "output_type": "stream",
          "text": [
            "[[4 2]\n",
            " [8 5]\n",
            " [1 9]]\n"
          ],
          "name": "stdout"
        }
      ]
    },
    {
      "cell_type": "markdown",
      "metadata": {
        "id": "zBO57mHbSU2K"
      },
      "source": [
        "But $\\omega$ here is a 1-dimensional array, a vector! It makes perfect to take the transpose of $A$, a $3 \\times 5$ array, as the output will be a $5 \\times 3$ array, but a 1-dimensional array is not quite as intuitive. A typical 1-dimensional array can be thought of as a $1 \\times n$ horizontal vector. Thus, taking the tranpose of this array essentially means changing it into a $n \\times 1$ vertical vector. This makes sense because 1-dimensional arrays are still arrays and any multiplication done between 1-dimensional and higher dimensional arrays must keep in line with our dimensionality issue of matrix multiplication.\n",
        "\n",
        "To make a long story short, we think of $\\omega$ as $1 \\times N$ since we have $N$ securities. This makes it so that $\\omega^\\intercal$ is $N \\times 1$. Again, our covariance matrix is $N \\times N$. So the overall multiplication works out like so, in informal terms:\n",
        "\n",
        "$$ \\text{Dimensions}(\\sigma_p^2) = \\text{Dimensions}(\\omega C \\omega^\\intercal) = (1 \\times N)\\cdot (N \\times N)\\cdot (N \\times 1) = (1 \\times 1)$$\n",
        "\n",
        "Multiplying the covariance matrix on the left by the plain horizontal vector and on the right by that vector's transpose results in the calculation of a single scalar ($1 \\times 1$) value, our portfolio's variance.\n",
        "\n",
        "So knowing this, let's proceed and calculate the portfolio variance! We can easily calculate the product of these arrays by using `dot()` for matrix multiplication, though this time we have to do it twice."
      ]
    },
    {
      "cell_type": "code",
      "metadata": {
        "scrolled": false,
        "id": "aAJ_guRsSU2K",
        "colab": {
          "base_uri": "https://localhost:8080/"
        },
        "outputId": "6b8f08a8-f617-4370-badc-51d8b30ca4d3"
      },
      "source": [
        "# Calculating the portfolio volatility\n",
        "var_p = np.dot(np.dot(weights, cov_mat), weights.T)\n",
        "vol_p = np.sqrt(var_p)\n",
        "print (\"Portfolio volatility: \", vol_p)"
      ],
      "execution_count": 72,
      "outputs": [
        {
          "output_type": "stream",
          "text": [
            "Portfolio volatility:  0.030468454420383033\n"
          ],
          "name": "stdout"
        }
      ]
    },
    {
      "cell_type": "code",
      "metadata": {
        "id": "OHX-nrL_SU2K",
        "colab": {
          "base_uri": "https://localhost:8080/"
        },
        "outputId": "4eb1f591-440d-4888-e218-152a9f1672ce"
      },
      "source": [
        "varianza_p = num.dot(num.dot(pesos, matriz_covarianza), pesos.T)\n",
        "volatilidad_p = num.sqrt(varianza_p)\n",
        "print (\"Portfolio volatilty: \", volatilidad_p)"
      ],
      "execution_count": 73,
      "outputs": [
        {
          "output_type": "stream",
          "text": [
            "Portfolio volatilty:  0.028751461178555152\n"
          ],
          "name": "stdout"
        }
      ]
    },
    {
      "cell_type": "markdown",
      "metadata": {
        "id": "zdNao_AmSU2L"
      },
      "source": [
        "To confirm this calculation, let's simply evaluate the volatility of the portfolio using only NumPy functions."
      ]
    },
    {
      "cell_type": "code",
      "metadata": {
        "id": "HvkW6-EPSU2L",
        "colab": {
          "base_uri": "https://localhost:8080/"
        },
        "outputId": "8f929f70-f25f-4542-ea1d-182f36f82d17"
      },
      "source": [
        "# Confirming calculation\n",
        "vol_p_alt = np.sqrt(np.var(np.dot(weights, returns), ddof=1))\n",
        "print (\"Portfolio volatility: \", vol_p_alt)"
      ],
      "execution_count": 74,
      "outputs": [
        {
          "output_type": "stream",
          "text": [
            "Portfolio volatility:  0.03046845442038303\n"
          ],
          "name": "stdout"
        }
      ]
    },
    {
      "cell_type": "code",
      "metadata": {
        "id": "rVNXMOgYSU2L",
        "colab": {
          "base_uri": "https://localhost:8080/"
        },
        "outputId": "088240c8-47b0-40e3-9253-cf51a5234436"
      },
      "source": [
        "volatilidad_p_alt = num.sqrt(num.var(num.dot(pesos, ganancias), ddof = 1))\n",
        "print (\"Portfolio volatility: \", volatilidad_p_alt)"
      ],
      "execution_count": 75,
      "outputs": [
        {
          "output_type": "stream",
          "text": [
            "Portfolio volatility:  0.02875146117855513\n"
          ],
          "name": "stdout"
        }
      ]
    },
    {
      "cell_type": "markdown",
      "metadata": {
        "id": "wk3LzR5RSU2L"
      },
      "source": [
        "The `ddof` parameter is a simple integer input that tells the function the number of degrees of freedom to take into account. This is a more statistical concept, but what this tells us that our matrix calculation is correct!\n",
        "\n",
        "A lot of this might not make sense at first glance. It helps to go back and forth between the theory and the code representations until you have a better grasp of the mathematics involved. It is definitely not necessary to be an expert on linear algebra and on matrix operations, but linear algebra can help to streamline the process of working with large amounts of data. For further reading on NumPy, check out the [documentation](https://docs.scipy.org/doc/numpy/user/index.html)."
      ]
    },
    {
      "cell_type": "markdown",
      "metadata": {
        "id": "MCt82fhgSU2L"
      },
      "source": [
        "*This presentation is for informational purposes only and does not constitute an offer to sell, a solicitation to buy, or a recommendation for any security; nor does it constitute an offer to provide investment advisory or other services by Quantopian, Inc. (\"Quantopian\"). Nothing contained herein constitutes investment advice or offers any opinion with respect to the suitability of any security, and any views expressed herein should not be taken as advice to buy, sell, or hold any security or as an endorsement of any security or company.  In preparing the information contained herein, Quantopian, Inc. has not taken into account the investment needs, objectives, and financial circumstances of any particular investor. Any views expressed and data illustrated herein were prepared based upon information, believed to be reliable, available to Quantopian, Inc. at the time of publication. Quantopian makes no guarantees as to their accuracy or completeness. All information is subject to change and may quickly become unreliable for various reasons, including changes in market conditions or economic circumstances.*"
      ]
    }
  ]
}