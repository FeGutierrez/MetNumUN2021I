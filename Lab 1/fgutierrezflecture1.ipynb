{
  "nbformat": 4,
  "nbformat_minor": 0,
  "metadata": {
    "kernelspec": {
      "display_name": "Python 3.5",
      "language": "python",
      "name": "py35"
    },
    "language_info": {
      "codemirror_mode": {
        "name": "ipython",
        "version": 3
      },
      "file_extension": ".py",
      "mimetype": "text/x-python",
      "name": "python",
      "nbconvert_exporter": "python",
      "pygments_lexer": "ipython3",
      "version": "3.5.10"
    },
    "colab": {
      "name": "fgutierrezflecture1.ipynb",
      "provenance": [],
      "collapsed_sections": []
    }
  },
  "cells": [
    {
      "cell_type": "code",
      "metadata": {
        "colab": {
          "base_uri": "https://localhost:8080/"
        },
        "id": "xd4Edm3LSV3s",
        "outputId": "be8a35fe-0301-40b9-dca3-71cd353b357d"
      },
      "source": [
        "for i in range(0, 4):\n",
        "    print (\"This is number %s\" % i)"
      ],
      "execution_count": 1,
      "outputs": [
        {
          "output_type": "stream",
          "text": [
            "This is number 0\n",
            "This is number 1\n",
            "This is number 2\n",
            "This is number 3\n"
          ],
          "name": "stdout"
        }
      ]
    },
    {
      "cell_type": "markdown",
      "metadata": {
        "id": "EwjNySLnSV3u"
      },
      "source": [
        "#Introduction to the Research Environment\n",
        "\n",
        "The research environment is powered by IPython notebooks, which allow one to perform a great deal of data analysis and statistical validation. We'll demonstrate a few simple techniques here."
      ]
    },
    {
      "cell_type": "markdown",
      "metadata": {
        "id": "MGp9BluXSV3u"
      },
      "source": [
        "##Code Cells vs. Text Cells\n",
        "\n",
        "As you can see, each cell can be either code or text. To select between them, choose from the 'Cell Type' dropdown menu on the top left."
      ]
    },
    {
      "cell_type": "markdown",
      "metadata": {
        "id": "UAf9-4GBSV3v"
      },
      "source": [
        "##Executing a Command\n",
        "\n",
        "A code cell will be evaluated when you press play, or when you press the shortcut, shift-enter. Evaluating a cell evaluates each line of code in sequence, and prints the results of the last line below the cell."
      ]
    },
    {
      "cell_type": "code",
      "metadata": {
        "colab": {
          "base_uri": "https://localhost:8080/"
        },
        "id": "uV4hVFdNSV3v",
        "outputId": "9bae6058-89d6-4663-b249-980a97fc6359"
      },
      "source": [
        "2 + 2"
      ],
      "execution_count": 2,
      "outputs": [
        {
          "output_type": "execute_result",
          "data": {
            "text/plain": [
              "4"
            ]
          },
          "metadata": {
            "tags": []
          },
          "execution_count": 2
        }
      ]
    },
    {
      "cell_type": "markdown",
      "metadata": {
        "id": "rrhSCN5pSV3w"
      },
      "source": [
        "Sometimes there is no result to be printed, as is the case with assignment."
      ]
    },
    {
      "cell_type": "code",
      "metadata": {
        "colab": {
          "base_uri": "https://localhost:8080/"
        },
        "id": "OALX8TaVSV3w",
        "outputId": "6fb0d1de-ec41-4c64-fba5-375ed4868804"
      },
      "source": [
        "5 + 9"
      ],
      "execution_count": 3,
      "outputs": [
        {
          "output_type": "execute_result",
          "data": {
            "text/plain": [
              "14"
            ]
          },
          "metadata": {
            "tags": []
          },
          "execution_count": 3
        }
      ]
    },
    {
      "cell_type": "code",
      "metadata": {
        "id": "RT4N0nqYSV3x"
      },
      "source": [
        "X = 2"
      ],
      "execution_count": 4,
      "outputs": []
    },
    {
      "cell_type": "code",
      "metadata": {
        "id": "UxJERLIsSV3x"
      },
      "source": [
        "Y = 6"
      ],
      "execution_count": 5,
      "outputs": []
    },
    {
      "cell_type": "markdown",
      "metadata": {
        "id": "aBAR64mISV3y"
      },
      "source": [
        "Remember that only the result from the last line is printed."
      ]
    },
    {
      "cell_type": "code",
      "metadata": {
        "colab": {
          "base_uri": "https://localhost:8080/"
        },
        "id": "2wUj-NSLSV3y",
        "outputId": "15d05431-be90-4e88-933b-a03f66ac70bf"
      },
      "source": [
        "2 + 2\n",
        "3 + 3"
      ],
      "execution_count": 6,
      "outputs": [
        {
          "output_type": "execute_result",
          "data": {
            "text/plain": [
              "6"
            ]
          },
          "metadata": {
            "tags": []
          },
          "execution_count": 6
        }
      ]
    },
    {
      "cell_type": "code",
      "metadata": {
        "colab": {
          "base_uri": "https://localhost:8080/"
        },
        "id": "_zMViaSpSV3z",
        "outputId": "5ca67889-02f9-4cb4-b07f-68b7f8e3a3bc"
      },
      "source": [
        "59 + 62\n",
        "26 + 167"
      ],
      "execution_count": 7,
      "outputs": [
        {
          "output_type": "execute_result",
          "data": {
            "text/plain": [
              "193"
            ]
          },
          "metadata": {
            "tags": []
          },
          "execution_count": 7
        }
      ]
    },
    {
      "cell_type": "markdown",
      "metadata": {
        "id": "Gx9CwCSNSV3z"
      },
      "source": [
        "However, you can print whichever lines you want using the `print` statement."
      ]
    },
    {
      "cell_type": "code",
      "metadata": {
        "colab": {
          "base_uri": "https://localhost:8080/"
        },
        "id": "__A8ULcWSV3z",
        "outputId": "eb945c4a-6b58-4f91-827a-b380af931c74"
      },
      "source": [
        "print(2 + 2)\n",
        "3 + 3"
      ],
      "execution_count": 8,
      "outputs": [
        {
          "output_type": "stream",
          "text": [
            "4\n"
          ],
          "name": "stdout"
        },
        {
          "output_type": "execute_result",
          "data": {
            "text/plain": [
              "6"
            ]
          },
          "metadata": {
            "tags": []
          },
          "execution_count": 8
        }
      ]
    },
    {
      "cell_type": "code",
      "metadata": {
        "colab": {
          "base_uri": "https://localhost:8080/"
        },
        "id": "JJwFvA7pSV30",
        "outputId": "091b6b43-7383-4f04-8140-1f12b7d20492"
      },
      "source": [
        "print(59 + 62)\n",
        "26 + 167"
      ],
      "execution_count": 9,
      "outputs": [
        {
          "output_type": "stream",
          "text": [
            "121\n"
          ],
          "name": "stdout"
        },
        {
          "output_type": "execute_result",
          "data": {
            "text/plain": [
              "193"
            ]
          },
          "metadata": {
            "tags": []
          },
          "execution_count": 9
        }
      ]
    },
    {
      "cell_type": "markdown",
      "metadata": {
        "id": "nuHNM60iSV30"
      },
      "source": [
        "##Knowing When a Cell is Running\n",
        "\n",
        "While a cell is running, a `[*]` will display on the left. When a cell has yet to be executed, `[ ]` will display. When it has been run, a number will display indicating the order in which it was run during the execution of the notebook `[5]`. Try on this cell and note it happening."
      ]
    },
    {
      "cell_type": "code",
      "metadata": {
        "colab": {
          "base_uri": "https://localhost:8080/"
        },
        "id": "-fgpUCFLSV30",
        "outputId": "95661bd3-af13-4845-967f-df575f328d0a"
      },
      "source": [
        "#Take some time to run something\n",
        "c = 0\n",
        "for i in range(10000000):\n",
        "    c = c + i\n",
        "c"
      ],
      "execution_count": 10,
      "outputs": [
        {
          "output_type": "execute_result",
          "data": {
            "text/plain": [
              "49999995000000"
            ]
          },
          "metadata": {
            "tags": []
          },
          "execution_count": 10
        }
      ]
    },
    {
      "cell_type": "code",
      "metadata": {
        "colab": {
          "base_uri": "https://localhost:8080/"
        },
        "id": "AY3aoLQySV31",
        "outputId": "01d4fce7-6238-43cd-ed2f-b81d68c68b8d"
      },
      "source": [
        "d = 0\n",
        "for i in range(12191713):\n",
        "    d = d + (i*2)\n",
        "d"
      ],
      "execution_count": 11,
      "outputs": [
        {
          "output_type": "execute_result",
          "data": {
            "text/plain": [
              "148637853682656"
            ]
          },
          "metadata": {
            "tags": []
          },
          "execution_count": 11
        }
      ]
    },
    {
      "cell_type": "markdown",
      "metadata": {
        "id": "0QotF_gmSV32"
      },
      "source": [
        "##Importing Libraries\n",
        "\n",
        "The vast majority of the time, you'll want to use functions from pre-built libraries. You can't import every library on Quantopian due to security issues, but you can import most of the common scientific ones. Here I import numpy and pandas, the two most common and useful libraries in quant finance. I recommend copying this import statement to every new notebook.\n",
        "\n",
        "Notice that you can rename libraries to whatever you want after importing. The `as` statement allows this. Here we use `np` and `pd` as aliases for `numpy` and `pandas`. This is a very common aliasing and will be found in most code snippets around the web. The point behind this is to allow you to type fewer characters when you are frequently accessing these libraries."
      ]
    },
    {
      "cell_type": "code",
      "metadata": {
        "collapsed": true,
        "id": "7uPrtTG2SV32"
      },
      "source": [
        "import numpy as np\n",
        "import pandas as pd\n",
        "\n",
        "# This is a plotting library for pretty pictures.\n",
        "import matplotlib.pyplot as plt"
      ],
      "execution_count": 12,
      "outputs": []
    },
    {
      "cell_type": "code",
      "metadata": {
        "id": "wZ8R4XMxSV32"
      },
      "source": [
        "import numpy as im1\n",
        "import pandas as im2\n",
        "\n",
        "import matplotlib.pyplot as sgraphics"
      ],
      "execution_count": 13,
      "outputs": []
    },
    {
      "cell_type": "markdown",
      "metadata": {
        "id": "TVsiYyJcSV33"
      },
      "source": [
        "##Tab Autocomplete\n",
        "\n",
        "Pressing tab will give you a list of IPython's best guesses for what you might want to type next. This is incredibly valuable and will save you a lot of time. If there is only one possible option for what you could type next, IPython will fill that in for you. Try pressing tab very frequently, it will seldom fill in anything you don't want, as if there is ambiguity a list will be shown. This is a great way to see what functions are available in a library.\n",
        "\n",
        "Try placing your cursor after the `.` and pressing tab."
      ]
    },
    {
      "cell_type": "code",
      "metadata": {
        "colab": {
          "base_uri": "https://localhost:8080/"
        },
        "id": "_5m9HJqWSV33",
        "outputId": "caeb6011-2c82-49b2-bbd2-5bb73a5fb60c"
      },
      "source": [
        "np.random.beta"
      ],
      "execution_count": 14,
      "outputs": [
        {
          "output_type": "execute_result",
          "data": {
            "text/plain": [
              "<function RandomState.beta>"
            ]
          },
          "metadata": {
            "tags": []
          },
          "execution_count": 14
        }
      ]
    },
    {
      "cell_type": "code",
      "metadata": {
        "colab": {
          "base_uri": "https://localhost:8080/"
        },
        "id": "eUk1xaJKSV33",
        "outputId": "8ee7b495-33bd-4672-8e9a-107424bbaa36"
      },
      "source": [
        "im1.absolute.types"
      ],
      "execution_count": 15,
      "outputs": [
        {
          "output_type": "execute_result",
          "data": {
            "text/plain": [
              "['?->?',\n",
              " 'b->b',\n",
              " 'B->B',\n",
              " 'h->h',\n",
              " 'H->H',\n",
              " 'i->i',\n",
              " 'I->I',\n",
              " 'l->l',\n",
              " 'L->L',\n",
              " 'q->q',\n",
              " 'Q->Q',\n",
              " 'e->e',\n",
              " 'f->f',\n",
              " 'd->d',\n",
              " 'g->g',\n",
              " 'm->m',\n",
              " 'F->f',\n",
              " 'D->d',\n",
              " 'G->g',\n",
              " 'O->O']"
            ]
          },
          "metadata": {
            "tags": []
          },
          "execution_count": 15
        }
      ]
    },
    {
      "cell_type": "markdown",
      "metadata": {
        "id": "2eWNuvuhSV34"
      },
      "source": [
        "##Getting Documentation Help\n",
        "\n",
        "Placing a question mark after a function and executing that line of code will give you the documentation IPython has for that function. It's often best to do this in a new cell, as you avoid re-executing other code and running into bugs."
      ]
    },
    {
      "cell_type": "code",
      "metadata": {
        "scrolled": true,
        "id": "SEsPpR-wSV34"
      },
      "source": [
        "np.random.normal?"
      ],
      "execution_count": 16,
      "outputs": []
    },
    {
      "cell_type": "code",
      "metadata": {
        "scrolled": true,
        "id": "9-F8XkxKSV34"
      },
      "source": [
        "im1.random.gamma?"
      ],
      "execution_count": 17,
      "outputs": []
    },
    {
      "cell_type": "code",
      "metadata": {
        "colab": {
          "base_uri": "https://localhost:8080/",
          "height": 35
        },
        "id": "jGqFqwmhSV35",
        "outputId": "0c2f1ad4-aa38-492f-e5af-d19d8b990e0e"
      },
      "source": [
        "##Sampling\n",
        "\n",
        "\"We'll sample some random data using a function from `numpy`.\""
      ],
      "execution_count": 18,
      "outputs": [
        {
          "output_type": "execute_result",
          "data": {
            "application/vnd.google.colaboratory.intrinsic+json": {
              "type": "string"
            },
            "text/plain": [
              "\"We'll sample some random data using a function from `numpy`.\""
            ]
          },
          "metadata": {
            "tags": []
          },
          "execution_count": 18
        }
      ]
    },
    {
      "cell_type": "code",
      "metadata": {
        "id": "-KcSOLtXSV35"
      },
      "source": [
        "# Sample 100 points with a mean of 0 and an std of 1. This is a standard normal distribution.\n",
        "X = np.random.normal(0, 1, 100)"
      ],
      "execution_count": 19,
      "outputs": []
    },
    {
      "cell_type": "code",
      "metadata": {
        "id": "1iscgjJQSV35"
      },
      "source": [
        "# Sample 300 points with a mean of 3 and an std of 2\n",
        "T = im1.random.normal(3, 2, 300)"
      ],
      "execution_count": 20,
      "outputs": []
    },
    {
      "cell_type": "markdown",
      "metadata": {
        "id": "CD2n1IFrSV35"
      },
      "source": [
        "##Plotting\n",
        "\n",
        "We can use the plotting library we imported as follows."
      ]
    },
    {
      "cell_type": "code",
      "metadata": {
        "colab": {
          "base_uri": "https://localhost:8080/",
          "height": 282
        },
        "id": "h-s_5nP3SV36",
        "outputId": "55d057d2-7385-482f-d2e9-257639ecba4c"
      },
      "source": [
        "plt.plot(X)"
      ],
      "execution_count": 21,
      "outputs": [
        {
          "output_type": "execute_result",
          "data": {
            "text/plain": [
              "[<matplotlib.lines.Line2D at 0x7fec7b5dc210>]"
            ]
          },
          "metadata": {
            "tags": []
          },
          "execution_count": 21
        },
        {
          "output_type": "display_data",
          "data": {
            "image/png": "[encoded data removed]",
            "text/plain": [
              "<Figure size 432x288 with 1 Axes>"
            ]
          },
          "metadata": {
            "tags": [],
            "needs_background": "light"
          }
        }
      ]
    },
    {
      "cell_type": "code",
      "metadata": {
        "colab": {
          "base_uri": "https://localhost:8080/",
          "height": 282
        },
        "id": "L0T_p9-TSV36",
        "outputId": "e3cd6d57-9b2a-4c9a-a98e-b8b82ce2d658"
      },
      "source": [
        "sgraphics.plot(T)"
      ],
      "execution_count": 22,
      "outputs": [
        {
          "output_type": "execute_result",
          "data": {
            "text/plain": [
              "[<matplotlib.lines.Line2D at 0x7fec7b6669d0>]"
            ]
          },
          "metadata": {
            "tags": []
          },
          "execution_count": 22
        },
        {
          "output_type": "display_data",
          "data": {
            "image/png": "[encoded data removed]",
            "text/plain": [
              "<Figure size 432x288 with 1 Axes>"
            ]
          },
          "metadata": {
            "tags": [],
            "needs_background": "light"
          }
        }
      ]
    },
    {
      "cell_type": "markdown",
      "metadata": {
        "id": "6lt1L4yiSV36"
      },
      "source": [
        "###Squelching Line Output\n",
        "\n",
        "You might have noticed the annoying line of the form `[<matplotlib.lines.Line2D at 0x7f72fdbc1710>]` before the plots. This is because the `.plot` function actually produces output. Sometimes we wish not to display output, we can accomplish this with the semi-colon as follows."
      ]
    },
    {
      "cell_type": "code",
      "metadata": {
        "colab": {
          "base_uri": "https://localhost:8080/",
          "height": 265
        },
        "id": "nO0xHWXySV37",
        "outputId": "3a34fb8e-5552-44f1-a903-894806251c7a"
      },
      "source": [
        "plt.plot(X);"
      ],
      "execution_count": 23,
      "outputs": [
        {
          "output_type": "display_data",
          "data": {
            "image/png": "[encoded data removed]",
            "text/plain": [
              "<Figure size 432x288 with 1 Axes>"
            ]
          },
          "metadata": {
            "tags": [],
            "needs_background": "light"
          }
        }
      ]
    },
    {
      "cell_type": "code",
      "metadata": {
        "colab": {
          "base_uri": "https://localhost:8080/",
          "height": 265
        },
        "id": "sORI-B48SV37",
        "outputId": "9d74ea47-d880-4d6d-b6e7-dc44f02053fd"
      },
      "source": [
        "sgraphics.plot(T);"
      ],
      "execution_count": 24,
      "outputs": [
        {
          "output_type": "display_data",
          "data": {
            "image/png": "[encoded data removed]",
            "text/plain": [
              "<Figure size 432x288 with 1 Axes>"
            ]
          },
          "metadata": {
            "tags": [],
            "needs_background": "light"
          }
        }
      ]
    },
    {
      "cell_type": "markdown",
      "metadata": {
        "id": "pGc2mrocSV37"
      },
      "source": [
        "###Adding Axis Labels\n",
        "\n",
        "No self-respecting quant leaves a graph without labeled axes. Here are some commands to help with that."
      ]
    },
    {
      "cell_type": "code",
      "metadata": {
        "colab": {
          "base_uri": "https://localhost:8080/",
          "height": 279
        },
        "id": "Ar-A4cxsSV38",
        "outputId": "3dcf00f9-e5cf-4bb4-c471-76a6e113877b"
      },
      "source": [
        "X = np.random.normal(0, 1, 100)\n",
        "X2 = np.random.normal(0, 1, 100)\n",
        "\n",
        "plt.plot(X);\n",
        "plt.plot(X2);\n",
        "plt.xlabel('Time') # The data we generated is unitless, but don't forget units in general.\n",
        "plt.ylabel('Returns')\n",
        "plt.legend(['X', 'X2']);"
      ],
      "execution_count": 25,
      "outputs": [
        {
          "output_type": "display_data",
          "data": {
            "image/png": "[encoded data removed]",
            "text/plain": [
              "<Figure size 432x288 with 1 Axes>"
            ]
          },
          "metadata": {
            "tags": [],
            "needs_background": "light"
          }
        }
      ]
    },
    {
      "cell_type": "code",
      "metadata": {
        "colab": {
          "base_uri": "https://localhost:8080/",
          "height": 279
        },
        "id": "40KpYHWzSV38",
        "outputId": "202a8c61-51e1-4f52-dd28-5c72b31437ec"
      },
      "source": [
        "T = im1.random.normal(3, 2, 300)\n",
        "T2 = im1.random.normal(3, 2, 300)\n",
        "\n",
        "sgraphics.plot(T);\n",
        "sgraphics.plot(T2);\n",
        "sgraphics.xlabel('Population')\n",
        "sgraphics.ylabel('Emissions')\n",
        "sgraphics.legend(['T','T2']);"
      ],
      "execution_count": 26,
      "outputs": [
        {
          "output_type": "display_data",
          "data": {
            "image/png": "[encoded data removed]",
            "text/plain": [
              "<Figure size 432x288 with 1 Axes>"
            ]
          },
          "metadata": {
            "tags": [],
            "needs_background": "light"
          }
        }
      ]
    },
    {
      "cell_type": "markdown",
      "metadata": {
        "id": "UcW8nrqYSV39"
      },
      "source": [
        "##Generating Statistics\n",
        "\n",
        "Let's use `numpy` to take some simple statistics."
      ]
    },
    {
      "cell_type": "code",
      "metadata": {
        "colab": {
          "base_uri": "https://localhost:8080/"
        },
        "id": "icP_uyQtSV3-",
        "outputId": "b56ecd8b-290c-48dd-aa42-5bf3e20591e6"
      },
      "source": [
        "np.mean(X)"
      ],
      "execution_count": 27,
      "outputs": [
        {
          "output_type": "execute_result",
          "data": {
            "text/plain": [
              "0.06036859893905021"
            ]
          },
          "metadata": {
            "tags": []
          },
          "execution_count": 27
        }
      ]
    },
    {
      "cell_type": "code",
      "metadata": {
        "colab": {
          "base_uri": "https://localhost:8080/"
        },
        "id": "cUAdX7awSV3-",
        "outputId": "dcd3e56e-4151-4685-f8d0-6843472df130"
      },
      "source": [
        "np.std(X)"
      ],
      "execution_count": 28,
      "outputs": [
        {
          "output_type": "execute_result",
          "data": {
            "text/plain": [
              "1.0196314174544479"
            ]
          },
          "metadata": {
            "tags": []
          },
          "execution_count": 28
        }
      ]
    },
    {
      "cell_type": "code",
      "metadata": {
        "colab": {
          "base_uri": "https://localhost:8080/"
        },
        "id": "VD4W_W9lSV3-",
        "outputId": "86c6889c-496f-4253-c709-4df34acaa896"
      },
      "source": [
        "im1.mean(T)"
      ],
      "execution_count": 29,
      "outputs": [
        {
          "output_type": "execute_result",
          "data": {
            "text/plain": [
              "2.9733751267428192"
            ]
          },
          "metadata": {
            "tags": []
          },
          "execution_count": 29
        }
      ]
    },
    {
      "cell_type": "code",
      "metadata": {
        "colab": {
          "base_uri": "https://localhost:8080/"
        },
        "id": "fIU-FEIASV3_",
        "outputId": "86761868-f9ce-43fd-ea18-0ccae1973a3d"
      },
      "source": [
        "im1.std(T)"
      ],
      "execution_count": 30,
      "outputs": [
        {
          "output_type": "execute_result",
          "data": {
            "text/plain": [
              "1.942953436354523"
            ]
          },
          "metadata": {
            "tags": []
          },
          "execution_count": 30
        }
      ]
    },
    {
      "cell_type": "code",
      "metadata": {
        "id": "fggkjpG2SV3_"
      },
      "source": [
        "im1.std?"
      ],
      "execution_count": 31,
      "outputs": []
    },
    {
      "cell_type": "markdown",
      "metadata": {
        "id": "59Pa-qyqSV3_"
      },
      "source": [
        "##Getting Real Pricing Data\n",
        "\n",
        "Randomly sampled data can be great for testing ideas, but let's get some real data. We can use `get_pricing` to do that. You can use the `?` syntax as discussed above to get more information on `get_pricing`'s arguments."
      ]
    },
    {
      "cell_type": "code",
      "metadata": {
        "id": "CzFPDAMUSV4A"
      },
      "source": [
        "#data = get_pricing('MSFT', start_date='2012-1-1', end_date='2015-6-1')"
      ],
      "execution_count": 32,
      "outputs": []
    },
    {
      "cell_type": "code",
      "metadata": {
        "id": "eEnMsNIZSV4A"
      },
      "source": [
        "#data2 = get_pricing?"
      ],
      "execution_count": 33,
      "outputs": []
    },
    {
      "cell_type": "code",
      "metadata": {
        "id": "fAmJvrBmSV4A"
      },
      "source": [
        "#data2 = get_pricing('MSFT', start_date='2014-08-09', end_date='2016-07-03')"
      ],
      "execution_count": 34,
      "outputs": []
    },
    {
      "cell_type": "code",
      "metadata": {
        "colab": {
          "base_uri": "https://localhost:8080/",
          "height": 450
        },
        "id": "0quaqE7VS4HE",
        "outputId": "5cce9aeb-7b06-4d7f-88dd-53680c1c0618"
      },
      "source": [
        "import pandas_datareader as pdr\n",
        "import datetime \n",
        "data = pdr.get_data_yahoo('MSFT', start= datetime.datetime(2012,1,1), end= datetime.datetime(2015,6,1))\n",
        "data"
      ],
      "execution_count": 35,
      "outputs": [
        {
          "output_type": "execute_result",
          "data": {
            "text/html": [
              "<div>\n",
              "<style scoped>\n",
              "    .dataframe tbody tr th:only-of-type {\n",
              "        vertical-align: middle;\n",
              "    }\n",
              "\n",
              "    .dataframe tbody tr th {\n",
              "        vertical-align: top;\n",
              "    }\n",
              "\n",
              "    .dataframe thead th {\n",
              "        text-align: right;\n",
              "    }\n",
              "</style>\n",
              "<table border=\"1\" class=\"dataframe\">\n",
              "  <thead>\n",
              "    <tr style=\"text-align: right;\">\n",
              "      <th></th>\n",
              "      <th>High</th>\n",
              "      <th>Low</th>\n",
              "      <th>Open</th>\n",
              "      <th>Close</th>\n",
              "      <th>Volume</th>\n",
              "      <th>Adj Close</th>\n",
              "    </tr>\n",
              "    <tr>\n",
              "      <th>Date</th>\n",
              "      <th></th>\n",
              "      <th></th>\n",
              "      <th></th>\n",
              "      <th></th>\n",
              "      <th></th>\n",
              "      <th></th>\n",
              "    </tr>\n",
              "  </thead>\n",
              "  <tbody>\n",
              "    <tr>\n",
              "      <th>2012-01-03</th>\n",
              "      <td>26.959999</td>\n",
              "      <td>26.389999</td>\n",
              "      <td>26.549999</td>\n",
              "      <td>26.770000</td>\n",
              "      <td>64731500.0</td>\n",
              "      <td>21.799267</td>\n",
              "    </tr>\n",
              "    <tr>\n",
              "      <th>2012-01-04</th>\n",
              "      <td>27.469999</td>\n",
              "      <td>26.780001</td>\n",
              "      <td>26.820000</td>\n",
              "      <td>27.400000</td>\n",
              "      <td>80516100.0</td>\n",
              "      <td>22.312283</td>\n",
              "    </tr>\n",
              "    <tr>\n",
              "      <th>2012-01-05</th>\n",
              "      <td>27.730000</td>\n",
              "      <td>27.290001</td>\n",
              "      <td>27.379999</td>\n",
              "      <td>27.680000</td>\n",
              "      <td>56081400.0</td>\n",
              "      <td>22.540291</td>\n",
              "    </tr>\n",
              "    <tr>\n",
              "      <th>2012-01-06</th>\n",
              "      <td>28.190001</td>\n",
              "      <td>27.530001</td>\n",
              "      <td>27.530001</td>\n",
              "      <td>28.110001</td>\n",
              "      <td>99455500.0</td>\n",
              "      <td>22.890448</td>\n",
              "    </tr>\n",
              "    <tr>\n",
              "      <th>2012-01-09</th>\n",
              "      <td>28.100000</td>\n",
              "      <td>27.719999</td>\n",
              "      <td>28.049999</td>\n",
              "      <td>27.740000</td>\n",
              "      <td>59706800.0</td>\n",
              "      <td>22.589146</td>\n",
              "    </tr>\n",
              "    <tr>\n",
              "      <th>...</th>\n",
              "      <td>...</td>\n",
              "      <td>...</td>\n",
              "      <td>...</td>\n",
              "      <td>...</td>\n",
              "      <td>...</td>\n",
              "      <td>...</td>\n",
              "    </tr>\n",
              "    <tr>\n",
              "      <th>2015-05-26</th>\n",
              "      <td>46.880001</td>\n",
              "      <td>46.189999</td>\n",
              "      <td>46.830002</td>\n",
              "      <td>46.590000</td>\n",
              "      <td>29581900.0</td>\n",
              "      <td>41.857151</td>\n",
              "    </tr>\n",
              "    <tr>\n",
              "      <th>2015-05-27</th>\n",
              "      <td>47.770000</td>\n",
              "      <td>46.619999</td>\n",
              "      <td>46.820000</td>\n",
              "      <td>47.610001</td>\n",
              "      <td>27335600.0</td>\n",
              "      <td>42.773540</td>\n",
              "    </tr>\n",
              "    <tr>\n",
              "      <th>2015-05-28</th>\n",
              "      <td>48.020000</td>\n",
              "      <td>47.389999</td>\n",
              "      <td>47.500000</td>\n",
              "      <td>47.450001</td>\n",
              "      <td>19283700.0</td>\n",
              "      <td>42.629795</td>\n",
              "    </tr>\n",
              "    <tr>\n",
              "      <th>2015-05-29</th>\n",
              "      <td>47.570000</td>\n",
              "      <td>46.590000</td>\n",
              "      <td>47.430000</td>\n",
              "      <td>46.860001</td>\n",
              "      <td>36519600.0</td>\n",
              "      <td>42.099728</td>\n",
              "    </tr>\n",
              "    <tr>\n",
              "      <th>2015-06-01</th>\n",
              "      <td>47.770000</td>\n",
              "      <td>46.619999</td>\n",
              "      <td>47.060001</td>\n",
              "      <td>47.230000</td>\n",
              "      <td>28837300.0</td>\n",
              "      <td>42.432125</td>\n",
              "    </tr>\n",
              "  </tbody>\n",
              "</table>\n",
              "<p>857 rows × 6 columns</p>\n",
              "</div>"
            ],
            "text/plain": [
              "                 High        Low       Open      Close      Volume  Adj Close\n",
              "Date                                                                         \n",
              "2012-01-03  26.959999  26.389999  26.549999  26.770000  64731500.0  21.799267\n",
              "2012-01-04  27.469999  26.780001  26.820000  27.400000  80516100.0  22.312283\n",
              "2012-01-05  27.730000  27.290001  27.379999  27.680000  56081400.0  22.540291\n",
              "2012-01-06  28.190001  27.530001  27.530001  28.110001  99455500.0  22.890448\n",
              "2012-01-09  28.100000  27.719999  28.049999  27.740000  59706800.0  22.589146\n",
              "...               ...        ...        ...        ...         ...        ...\n",
              "2015-05-26  46.880001  46.189999  46.830002  46.590000  29581900.0  41.857151\n",
              "2015-05-27  47.770000  46.619999  46.820000  47.610001  27335600.0  42.773540\n",
              "2015-05-28  48.020000  47.389999  47.500000  47.450001  19283700.0  42.629795\n",
              "2015-05-29  47.570000  46.590000  47.430000  46.860001  36519600.0  42.099728\n",
              "2015-06-01  47.770000  46.619999  47.060001  47.230000  28837300.0  42.432125\n",
              "\n",
              "[857 rows x 6 columns]"
            ]
          },
          "metadata": {
            "tags": []
          },
          "execution_count": 35
        }
      ]
    },
    {
      "cell_type": "code",
      "metadata": {
        "colab": {
          "base_uri": "https://localhost:8080/",
          "height": 450
        },
        "id": "BEftowonS_tp",
        "outputId": "c36e06e6-e008-45e9-e392-5663887d7934"
      },
      "source": [
        "data2 = pdr.get_data_yahoo('MSFT', start= datetime.datetime(2014,8,9), end= datetime.datetime(2016,7,3))\n",
        "data2"
      ],
      "execution_count": 36,
      "outputs": [
        {
          "output_type": "execute_result",
          "data": {
            "text/html": [
              "<div>\n",
              "<style scoped>\n",
              "    .dataframe tbody tr th:only-of-type {\n",
              "        vertical-align: middle;\n",
              "    }\n",
              "\n",
              "    .dataframe tbody tr th {\n",
              "        vertical-align: top;\n",
              "    }\n",
              "\n",
              "    .dataframe thead th {\n",
              "        text-align: right;\n",
              "    }\n",
              "</style>\n",
              "<table border=\"1\" class=\"dataframe\">\n",
              "  <thead>\n",
              "    <tr style=\"text-align: right;\">\n",
              "      <th></th>\n",
              "      <th>High</th>\n",
              "      <th>Low</th>\n",
              "      <th>Open</th>\n",
              "      <th>Close</th>\n",
              "      <th>Volume</th>\n",
              "      <th>Adj Close</th>\n",
              "    </tr>\n",
              "    <tr>\n",
              "      <th>Date</th>\n",
              "      <th></th>\n",
              "      <th></th>\n",
              "      <th></th>\n",
              "      <th></th>\n",
              "      <th></th>\n",
              "      <th></th>\n",
              "    </tr>\n",
              "  </thead>\n",
              "  <tbody>\n",
              "    <tr>\n",
              "      <th>2014-08-11</th>\n",
              "      <td>43.450001</td>\n",
              "      <td>43.020000</td>\n",
              "      <td>43.259998</td>\n",
              "      <td>43.200001</td>\n",
              "      <td>20351600.0</td>\n",
              "      <td>37.812294</td>\n",
              "    </tr>\n",
              "    <tr>\n",
              "      <th>2014-08-12</th>\n",
              "      <td>43.590000</td>\n",
              "      <td>43.000000</td>\n",
              "      <td>43.040001</td>\n",
              "      <td>43.520000</td>\n",
              "      <td>21431100.0</td>\n",
              "      <td>38.092373</td>\n",
              "    </tr>\n",
              "    <tr>\n",
              "      <th>2014-08-13</th>\n",
              "      <td>44.180000</td>\n",
              "      <td>43.520000</td>\n",
              "      <td>43.680000</td>\n",
              "      <td>44.080002</td>\n",
              "      <td>22889500.0</td>\n",
              "      <td>38.582542</td>\n",
              "    </tr>\n",
              "    <tr>\n",
              "      <th>2014-08-14</th>\n",
              "      <td>44.419998</td>\n",
              "      <td>44.009998</td>\n",
              "      <td>44.080002</td>\n",
              "      <td>44.270000</td>\n",
              "      <td>19313200.0</td>\n",
              "      <td>38.748840</td>\n",
              "    </tr>\n",
              "    <tr>\n",
              "      <th>2014-08-15</th>\n",
              "      <td>44.900002</td>\n",
              "      <td>44.400002</td>\n",
              "      <td>44.580002</td>\n",
              "      <td>44.790001</td>\n",
              "      <td>41611300.0</td>\n",
              "      <td>39.203995</td>\n",
              "    </tr>\n",
              "    <tr>\n",
              "      <th>...</th>\n",
              "      <td>...</td>\n",
              "      <td>...</td>\n",
              "      <td>...</td>\n",
              "      <td>...</td>\n",
              "      <td>...</td>\n",
              "      <td>...</td>\n",
              "    </tr>\n",
              "    <tr>\n",
              "      <th>2016-06-27</th>\n",
              "      <td>49.150002</td>\n",
              "      <td>48.040001</td>\n",
              "      <td>49.099998</td>\n",
              "      <td>48.430000</td>\n",
              "      <td>50216300.0</td>\n",
              "      <td>44.719547</td>\n",
              "    </tr>\n",
              "    <tr>\n",
              "      <th>2016-06-28</th>\n",
              "      <td>49.470001</td>\n",
              "      <td>48.669998</td>\n",
              "      <td>48.919998</td>\n",
              "      <td>49.439999</td>\n",
              "      <td>38140700.0</td>\n",
              "      <td>45.652176</td>\n",
              "    </tr>\n",
              "    <tr>\n",
              "      <th>2016-06-29</th>\n",
              "      <td>50.720001</td>\n",
              "      <td>49.799999</td>\n",
              "      <td>49.910000</td>\n",
              "      <td>50.540001</td>\n",
              "      <td>31304000.0</td>\n",
              "      <td>46.667892</td>\n",
              "    </tr>\n",
              "    <tr>\n",
              "      <th>2016-06-30</th>\n",
              "      <td>51.299999</td>\n",
              "      <td>50.500000</td>\n",
              "      <td>50.720001</td>\n",
              "      <td>51.169998</td>\n",
              "      <td>28527800.0</td>\n",
              "      <td>47.249630</td>\n",
              "    </tr>\n",
              "    <tr>\n",
              "      <th>2016-07-01</th>\n",
              "      <td>51.720001</td>\n",
              "      <td>51.070000</td>\n",
              "      <td>51.130001</td>\n",
              "      <td>51.160000</td>\n",
              "      <td>21400400.0</td>\n",
              "      <td>47.240398</td>\n",
              "    </tr>\n",
              "  </tbody>\n",
              "</table>\n",
              "<p>478 rows × 6 columns</p>\n",
              "</div>"
            ],
            "text/plain": [
              "                 High        Low       Open      Close      Volume  Adj Close\n",
              "Date                                                                         \n",
              "2014-08-11  43.450001  43.020000  43.259998  43.200001  20351600.0  37.812294\n",
              "2014-08-12  43.590000  43.000000  43.040001  43.520000  21431100.0  38.092373\n",
              "2014-08-13  44.180000  43.520000  43.680000  44.080002  22889500.0  38.582542\n",
              "2014-08-14  44.419998  44.009998  44.080002  44.270000  19313200.0  38.748840\n",
              "2014-08-15  44.900002  44.400002  44.580002  44.790001  41611300.0  39.203995\n",
              "...               ...        ...        ...        ...         ...        ...\n",
              "2016-06-27  49.150002  48.040001  49.099998  48.430000  50216300.0  44.719547\n",
              "2016-06-28  49.470001  48.669998  48.919998  49.439999  38140700.0  45.652176\n",
              "2016-06-29  50.720001  49.799999  49.910000  50.540001  31304000.0  46.667892\n",
              "2016-06-30  51.299999  50.500000  50.720001  51.169998  28527800.0  47.249630\n",
              "2016-07-01  51.720001  51.070000  51.130001  51.160000  21400400.0  47.240398\n",
              "\n",
              "[478 rows x 6 columns]"
            ]
          },
          "metadata": {
            "tags": []
          },
          "execution_count": 36
        }
      ]
    },
    {
      "cell_type": "markdown",
      "metadata": {
        "id": "jlcWKB9-SV4A"
      },
      "source": [
        "Our data is now a dataframe. You can see the datetime index and the colums with different pricing data."
      ]
    },
    {
      "cell_type": "code",
      "metadata": {
        "colab": {
          "base_uri": "https://localhost:8080/",
          "height": 450
        },
        "id": "vFpJOEZISV4A",
        "outputId": "6805f571-3fa7-4987-be03-402dfdb04caf"
      },
      "source": [
        "data"
      ],
      "execution_count": 37,
      "outputs": [
        {
          "output_type": "execute_result",
          "data": {
            "text/html": [
              "<div>\n",
              "<style scoped>\n",
              "    .dataframe tbody tr th:only-of-type {\n",
              "        vertical-align: middle;\n",
              "    }\n",
              "\n",
              "    .dataframe tbody tr th {\n",
              "        vertical-align: top;\n",
              "    }\n",
              "\n",
              "    .dataframe thead th {\n",
              "        text-align: right;\n",
              "    }\n",
              "</style>\n",
              "<table border=\"1\" class=\"dataframe\">\n",
              "  <thead>\n",
              "    <tr style=\"text-align: right;\">\n",
              "      <th></th>\n",
              "      <th>High</th>\n",
              "      <th>Low</th>\n",
              "      <th>Open</th>\n",
              "      <th>Close</th>\n",
              "      <th>Volume</th>\n",
              "      <th>Adj Close</th>\n",
              "    </tr>\n",
              "    <tr>\n",
              "      <th>Date</th>\n",
              "      <th></th>\n",
              "      <th></th>\n",
              "      <th></th>\n",
              "      <th></th>\n",
              "      <th></th>\n",
              "      <th></th>\n",
              "    </tr>\n",
              "  </thead>\n",
              "  <tbody>\n",
              "    <tr>\n",
              "      <th>2012-01-03</th>\n",
              "      <td>26.959999</td>\n",
              "      <td>26.389999</td>\n",
              "      <td>26.549999</td>\n",
              "      <td>26.770000</td>\n",
              "      <td>64731500.0</td>\n",
              "      <td>21.799267</td>\n",
              "    </tr>\n",
              "    <tr>\n",
              "      <th>2012-01-04</th>\n",
              "      <td>27.469999</td>\n",
              "      <td>26.780001</td>\n",
              "      <td>26.820000</td>\n",
              "      <td>27.400000</td>\n",
              "      <td>80516100.0</td>\n",
              "      <td>22.312283</td>\n",
              "    </tr>\n",
              "    <tr>\n",
              "      <th>2012-01-05</th>\n",
              "      <td>27.730000</td>\n",
              "      <td>27.290001</td>\n",
              "      <td>27.379999</td>\n",
              "      <td>27.680000</td>\n",
              "      <td>56081400.0</td>\n",
              "      <td>22.540291</td>\n",
              "    </tr>\n",
              "    <tr>\n",
              "      <th>2012-01-06</th>\n",
              "      <td>28.190001</td>\n",
              "      <td>27.530001</td>\n",
              "      <td>27.530001</td>\n",
              "      <td>28.110001</td>\n",
              "      <td>99455500.0</td>\n",
              "      <td>22.890448</td>\n",
              "    </tr>\n",
              "    <tr>\n",
              "      <th>2012-01-09</th>\n",
              "      <td>28.100000</td>\n",
              "      <td>27.719999</td>\n",
              "      <td>28.049999</td>\n",
              "      <td>27.740000</td>\n",
              "      <td>59706800.0</td>\n",
              "      <td>22.589146</td>\n",
              "    </tr>\n",
              "    <tr>\n",
              "      <th>...</th>\n",
              "      <td>...</td>\n",
              "      <td>...</td>\n",
              "      <td>...</td>\n",
              "      <td>...</td>\n",
              "      <td>...</td>\n",
              "      <td>...</td>\n",
              "    </tr>\n",
              "    <tr>\n",
              "      <th>2015-05-26</th>\n",
              "      <td>46.880001</td>\n",
              "      <td>46.189999</td>\n",
              "      <td>46.830002</td>\n",
              "      <td>46.590000</td>\n",
              "      <td>29581900.0</td>\n",
              "      <td>41.857151</td>\n",
              "    </tr>\n",
              "    <tr>\n",
              "      <th>2015-05-27</th>\n",
              "      <td>47.770000</td>\n",
              "      <td>46.619999</td>\n",
              "      <td>46.820000</td>\n",
              "      <td>47.610001</td>\n",
              "      <td>27335600.0</td>\n",
              "      <td>42.773540</td>\n",
              "    </tr>\n",
              "    <tr>\n",
              "      <th>2015-05-28</th>\n",
              "      <td>48.020000</td>\n",
              "      <td>47.389999</td>\n",
              "      <td>47.500000</td>\n",
              "      <td>47.450001</td>\n",
              "      <td>19283700.0</td>\n",
              "      <td>42.629795</td>\n",
              "    </tr>\n",
              "    <tr>\n",
              "      <th>2015-05-29</th>\n",
              "      <td>47.570000</td>\n",
              "      <td>46.590000</td>\n",
              "      <td>47.430000</td>\n",
              "      <td>46.860001</td>\n",
              "      <td>36519600.0</td>\n",
              "      <td>42.099728</td>\n",
              "    </tr>\n",
              "    <tr>\n",
              "      <th>2015-06-01</th>\n",
              "      <td>47.770000</td>\n",
              "      <td>46.619999</td>\n",
              "      <td>47.060001</td>\n",
              "      <td>47.230000</td>\n",
              "      <td>28837300.0</td>\n",
              "      <td>42.432125</td>\n",
              "    </tr>\n",
              "  </tbody>\n",
              "</table>\n",
              "<p>857 rows × 6 columns</p>\n",
              "</div>"
            ],
            "text/plain": [
              "                 High        Low       Open      Close      Volume  Adj Close\n",
              "Date                                                                         \n",
              "2012-01-03  26.959999  26.389999  26.549999  26.770000  64731500.0  21.799267\n",
              "2012-01-04  27.469999  26.780001  26.820000  27.400000  80516100.0  22.312283\n",
              "2012-01-05  27.730000  27.290001  27.379999  27.680000  56081400.0  22.540291\n",
              "2012-01-06  28.190001  27.530001  27.530001  28.110001  99455500.0  22.890448\n",
              "2012-01-09  28.100000  27.719999  28.049999  27.740000  59706800.0  22.589146\n",
              "...               ...        ...        ...        ...         ...        ...\n",
              "2015-05-26  46.880001  46.189999  46.830002  46.590000  29581900.0  41.857151\n",
              "2015-05-27  47.770000  46.619999  46.820000  47.610001  27335600.0  42.773540\n",
              "2015-05-28  48.020000  47.389999  47.500000  47.450001  19283700.0  42.629795\n",
              "2015-05-29  47.570000  46.590000  47.430000  46.860001  36519600.0  42.099728\n",
              "2015-06-01  47.770000  46.619999  47.060001  47.230000  28837300.0  42.432125\n",
              "\n",
              "[857 rows x 6 columns]"
            ]
          },
          "metadata": {
            "tags": []
          },
          "execution_count": 37
        }
      ]
    },
    {
      "cell_type": "code",
      "metadata": {
        "colab": {
          "base_uri": "https://localhost:8080/",
          "height": 450
        },
        "id": "X0t6ATvlSV4B",
        "outputId": "af7136ea-0926-49f0-c5c5-992435476e5b"
      },
      "source": [
        "data2"
      ],
      "execution_count": 38,
      "outputs": [
        {
          "output_type": "execute_result",
          "data": {
            "text/html": [
              "<div>\n",
              "<style scoped>\n",
              "    .dataframe tbody tr th:only-of-type {\n",
              "        vertical-align: middle;\n",
              "    }\n",
              "\n",
              "    .dataframe tbody tr th {\n",
              "        vertical-align: top;\n",
              "    }\n",
              "\n",
              "    .dataframe thead th {\n",
              "        text-align: right;\n",
              "    }\n",
              "</style>\n",
              "<table border=\"1\" class=\"dataframe\">\n",
              "  <thead>\n",
              "    <tr style=\"text-align: right;\">\n",
              "      <th></th>\n",
              "      <th>High</th>\n",
              "      <th>Low</th>\n",
              "      <th>Open</th>\n",
              "      <th>Close</th>\n",
              "      <th>Volume</th>\n",
              "      <th>Adj Close</th>\n",
              "    </tr>\n",
              "    <tr>\n",
              "      <th>Date</th>\n",
              "      <th></th>\n",
              "      <th></th>\n",
              "      <th></th>\n",
              "      <th></th>\n",
              "      <th></th>\n",
              "      <th></th>\n",
              "    </tr>\n",
              "  </thead>\n",
              "  <tbody>\n",
              "    <tr>\n",
              "      <th>2014-08-11</th>\n",
              "      <td>43.450001</td>\n",
              "      <td>43.020000</td>\n",
              "      <td>43.259998</td>\n",
              "      <td>43.200001</td>\n",
              "      <td>20351600.0</td>\n",
              "      <td>37.812294</td>\n",
              "    </tr>\n",
              "    <tr>\n",
              "      <th>2014-08-12</th>\n",
              "      <td>43.590000</td>\n",
              "      <td>43.000000</td>\n",
              "      <td>43.040001</td>\n",
              "      <td>43.520000</td>\n",
              "      <td>21431100.0</td>\n",
              "      <td>38.092373</td>\n",
              "    </tr>\n",
              "    <tr>\n",
              "      <th>2014-08-13</th>\n",
              "      <td>44.180000</td>\n",
              "      <td>43.520000</td>\n",
              "      <td>43.680000</td>\n",
              "      <td>44.080002</td>\n",
              "      <td>22889500.0</td>\n",
              "      <td>38.582542</td>\n",
              "    </tr>\n",
              "    <tr>\n",
              "      <th>2014-08-14</th>\n",
              "      <td>44.419998</td>\n",
              "      <td>44.009998</td>\n",
              "      <td>44.080002</td>\n",
              "      <td>44.270000</td>\n",
              "      <td>19313200.0</td>\n",
              "      <td>38.748840</td>\n",
              "    </tr>\n",
              "    <tr>\n",
              "      <th>2014-08-15</th>\n",
              "      <td>44.900002</td>\n",
              "      <td>44.400002</td>\n",
              "      <td>44.580002</td>\n",
              "      <td>44.790001</td>\n",
              "      <td>41611300.0</td>\n",
              "      <td>39.203995</td>\n",
              "    </tr>\n",
              "    <tr>\n",
              "      <th>...</th>\n",
              "      <td>...</td>\n",
              "      <td>...</td>\n",
              "      <td>...</td>\n",
              "      <td>...</td>\n",
              "      <td>...</td>\n",
              "      <td>...</td>\n",
              "    </tr>\n",
              "    <tr>\n",
              "      <th>2016-06-27</th>\n",
              "      <td>49.150002</td>\n",
              "      <td>48.040001</td>\n",
              "      <td>49.099998</td>\n",
              "      <td>48.430000</td>\n",
              "      <td>50216300.0</td>\n",
              "      <td>44.719547</td>\n",
              "    </tr>\n",
              "    <tr>\n",
              "      <th>2016-06-28</th>\n",
              "      <td>49.470001</td>\n",
              "      <td>48.669998</td>\n",
              "      <td>48.919998</td>\n",
              "      <td>49.439999</td>\n",
              "      <td>38140700.0</td>\n",
              "      <td>45.652176</td>\n",
              "    </tr>\n",
              "    <tr>\n",
              "      <th>2016-06-29</th>\n",
              "      <td>50.720001</td>\n",
              "      <td>49.799999</td>\n",
              "      <td>49.910000</td>\n",
              "      <td>50.540001</td>\n",
              "      <td>31304000.0</td>\n",
              "      <td>46.667892</td>\n",
              "    </tr>\n",
              "    <tr>\n",
              "      <th>2016-06-30</th>\n",
              "      <td>51.299999</td>\n",
              "      <td>50.500000</td>\n",
              "      <td>50.720001</td>\n",
              "      <td>51.169998</td>\n",
              "      <td>28527800.0</td>\n",
              "      <td>47.249630</td>\n",
              "    </tr>\n",
              "    <tr>\n",
              "      <th>2016-07-01</th>\n",
              "      <td>51.720001</td>\n",
              "      <td>51.070000</td>\n",
              "      <td>51.130001</td>\n",
              "      <td>51.160000</td>\n",
              "      <td>21400400.0</td>\n",
              "      <td>47.240398</td>\n",
              "    </tr>\n",
              "  </tbody>\n",
              "</table>\n",
              "<p>478 rows × 6 columns</p>\n",
              "</div>"
            ],
            "text/plain": [
              "                 High        Low       Open      Close      Volume  Adj Close\n",
              "Date                                                                         \n",
              "2014-08-11  43.450001  43.020000  43.259998  43.200001  20351600.0  37.812294\n",
              "2014-08-12  43.590000  43.000000  43.040001  43.520000  21431100.0  38.092373\n",
              "2014-08-13  44.180000  43.520000  43.680000  44.080002  22889500.0  38.582542\n",
              "2014-08-14  44.419998  44.009998  44.080002  44.270000  19313200.0  38.748840\n",
              "2014-08-15  44.900002  44.400002  44.580002  44.790001  41611300.0  39.203995\n",
              "...               ...        ...        ...        ...         ...        ...\n",
              "2016-06-27  49.150002  48.040001  49.099998  48.430000  50216300.0  44.719547\n",
              "2016-06-28  49.470001  48.669998  48.919998  49.439999  38140700.0  45.652176\n",
              "2016-06-29  50.720001  49.799999  49.910000  50.540001  31304000.0  46.667892\n",
              "2016-06-30  51.299999  50.500000  50.720001  51.169998  28527800.0  47.249630\n",
              "2016-07-01  51.720001  51.070000  51.130001  51.160000  21400400.0  47.240398\n",
              "\n",
              "[478 rows x 6 columns]"
            ]
          },
          "metadata": {
            "tags": []
          },
          "execution_count": 38
        }
      ]
    },
    {
      "cell_type": "markdown",
      "metadata": {
        "id": "Fq16Dy5MSV4B"
      },
      "source": [
        "This is a pandas dataframe, so we can index in to just get price like this. For more info on pandas, please [click here](http://pandas.pydata.org/pandas-docs/stable/10min.html)."
      ]
    },
    {
      "cell_type": "code",
      "metadata": {
        "id": "XRNPGd1KSV4C"
      },
      "source": [
        "X = data['Adj Close']"
      ],
      "execution_count": 40,
      "outputs": []
    },
    {
      "cell_type": "code",
      "metadata": {
        "id": "uvyvFq53SV4C"
      },
      "source": [
        "Y = data2['Adj Close']"
      ],
      "execution_count": 42,
      "outputs": []
    },
    {
      "cell_type": "markdown",
      "metadata": {
        "id": "qejJ2tgZSV4C"
      },
      "source": [
        "Because there is now also date information in our data, we provide two series to `.plot`. `X.index` gives us the datetime index, and `X.values` gives us the pricing values. These are used as the X and Y coordinates to make a graph."
      ]
    },
    {
      "cell_type": "code",
      "metadata": {
        "colab": {
          "base_uri": "https://localhost:8080/",
          "height": 265
        },
        "id": "dp4Zd11ASV4C",
        "outputId": "0a59e536-75e4-410a-f949-b4a224379cf5"
      },
      "source": [
        "plt.plot(X.index, X.values)\n",
        "plt.ylabel('Price')\n",
        "plt.legend(['MSFT']);"
      ],
      "execution_count": 43,
      "outputs": [
        {
          "output_type": "display_data",
          "data": {
            "image/png": "[encoded data removed]",
            "text/plain": [
              "<Figure size 432x288 with 1 Axes>"
            ]
          },
          "metadata": {
            "tags": [],
            "needs_background": "light"
          }
        }
      ]
    },
    {
      "cell_type": "code",
      "metadata": {
        "colab": {
          "base_uri": "https://localhost:8080/",
          "height": 265
        },
        "id": "KpUDjwTISV4D",
        "outputId": "ac761475-9339-4476-b9d6-5ac47617cea3"
      },
      "source": [
        "sgraphics.plot(Y.index, Y.values)\n",
        "sgraphics.ylabel('Price')\n",
        "sgraphics.legend(['MSFT']);"
      ],
      "execution_count": 44,
      "outputs": [
        {
          "output_type": "display_data",
          "data": {
            "image/png": "[encoded data removed]",
            "text/plain": [
              "<Figure size 432x288 with 1 Axes>"
            ]
          },
          "metadata": {
            "tags": [],
            "needs_background": "light"
          }
        }
      ]
    },
    {
      "cell_type": "markdown",
      "metadata": {
        "id": "9q7U1gZHSV4D"
      },
      "source": [
        "We can get statistics again on real data."
      ]
    },
    {
      "cell_type": "code",
      "metadata": {
        "colab": {
          "base_uri": "https://localhost:8080/"
        },
        "id": "xvmb0kpGSV4D",
        "outputId": "7e549628-253d-4556-b02a-0810e6b04648"
      },
      "source": [
        "np.mean(X)"
      ],
      "execution_count": 45,
      "outputs": [
        {
          "output_type": "execute_result",
          "data": {
            "text/plain": [
              "30.988593082583773"
            ]
          },
          "metadata": {
            "tags": []
          },
          "execution_count": 45
        }
      ]
    },
    {
      "cell_type": "code",
      "metadata": {
        "colab": {
          "base_uri": "https://localhost:8080/"
        },
        "id": "yqVQG376SV4D",
        "outputId": "d7e360e3-0daa-4ec0-a106-e0784e2e1c60"
      },
      "source": [
        "np.std(X)"
      ],
      "execution_count": 46,
      "outputs": [
        {
          "output_type": "execute_result",
          "data": {
            "text/plain": [
              "6.567469898316286"
            ]
          },
          "metadata": {
            "tags": []
          },
          "execution_count": 46
        }
      ]
    },
    {
      "cell_type": "code",
      "metadata": {
        "colab": {
          "base_uri": "https://localhost:8080/"
        },
        "id": "Df57JuhySV4E",
        "outputId": "ab7d5d1f-96f2-4609-b404-595e268cc63c"
      },
      "source": [
        "im1.mean(Y)"
      ],
      "execution_count": 47,
      "outputs": [
        {
          "output_type": "execute_result",
          "data": {
            "text/plain": [
              "43.33366072427279"
            ]
          },
          "metadata": {
            "tags": []
          },
          "execution_count": 47
        }
      ]
    },
    {
      "cell_type": "code",
      "metadata": {
        "colab": {
          "base_uri": "https://localhost:8080/"
        },
        "id": "wMRG9bAYSV4E",
        "outputId": "2b08b7cc-db46-4525-edfc-8202db58198e"
      },
      "source": [
        "im1.std(Y)"
      ],
      "execution_count": 48,
      "outputs": [
        {
          "output_type": "execute_result",
          "data": {
            "text/plain": [
              "4.194490379446927"
            ]
          },
          "metadata": {
            "tags": []
          },
          "execution_count": 48
        }
      ]
    },
    {
      "cell_type": "markdown",
      "metadata": {
        "id": "c6oXlGtxSV4E"
      },
      "source": [
        "##Getting Returns from Prices\n",
        "\n",
        "We can use the `pct_change` function to get returns. Notice how we drop the first element after doing this, as it will be `NaN` (nothing -> something results in a NaN percent change)."
      ]
    },
    {
      "cell_type": "code",
      "metadata": {
        "id": "3GZ-fW-oSV4F"
      },
      "source": [
        "R = X.pct_change()[1:]"
      ],
      "execution_count": 49,
      "outputs": []
    },
    {
      "cell_type": "code",
      "metadata": {
        "id": "QDpgz4XqSV4F"
      },
      "source": [
        "S = Y.pct_change()[1:]"
      ],
      "execution_count": 50,
      "outputs": []
    },
    {
      "cell_type": "markdown",
      "metadata": {
        "id": "-xn9FYzPSV4F"
      },
      "source": [
        "We can plot the returns distribution as a histogram."
      ]
    },
    {
      "cell_type": "code",
      "metadata": {
        "colab": {
          "base_uri": "https://localhost:8080/",
          "height": 279
        },
        "id": "PAB4A7veSV4F",
        "outputId": "dc80e08b-ac9f-48ac-ceba-edfba13c592b"
      },
      "source": [
        "plt.hist(R, bins=20)\n",
        "plt.xlabel('Return')\n",
        "plt.ylabel('Frequency')\n",
        "plt.legend(['MSFT Returns']);"
      ],
      "execution_count": 51,
      "outputs": [
        {
          "output_type": "display_data",
          "data": {
            "image/png": "[encoded data removed]",
            "text/plain": [
              "<Figure size 432x288 with 1 Axes>"
            ]
          },
          "metadata": {
            "tags": [],
            "needs_background": "light"
          }
        }
      ]
    },
    {
      "cell_type": "code",
      "metadata": {
        "colab": {
          "base_uri": "https://localhost:8080/",
          "height": 296
        },
        "id": "jAKunJ3gSV4G",
        "outputId": "f9c9d827-2366-4378-ad0a-b280f9d68179"
      },
      "source": [
        "sgraphics.hist(S, bins=20)\n",
        "sgraphics.xlabel('Return')\n",
        "sgraphics.ylabel('Frequency')\n",
        "sgraphics.legend(['MSFT Returns'])"
      ],
      "execution_count": 52,
      "outputs": [
        {
          "output_type": "execute_result",
          "data": {
            "text/plain": [
              "<matplotlib.legend.Legend at 0x7fec7a112690>"
            ]
          },
          "metadata": {
            "tags": []
          },
          "execution_count": 52
        },
        {
          "output_type": "display_data",
          "data": {
            "image/png": "[encoded data removed]",
            "text/plain": [
              "<Figure size 432x288 with 1 Axes>"
            ]
          },
          "metadata": {
            "tags": [],
            "needs_background": "light"
          }
        }
      ]
    },
    {
      "cell_type": "markdown",
      "metadata": {
        "id": "7U6W1aelSV4G"
      },
      "source": [
        "Get statistics again."
      ]
    },
    {
      "cell_type": "code",
      "metadata": {
        "colab": {
          "base_uri": "https://localhost:8080/"
        },
        "id": "OJ0EkoS2SV4G",
        "outputId": "4a8fcbcc-24ad-4ec7-94ac-ca740e28d2e6"
      },
      "source": [
        "np.mean(R)"
      ],
      "execution_count": 53,
      "outputs": [
        {
          "output_type": "execute_result",
          "data": {
            "text/plain": [
              "0.0008819333936509226"
            ]
          },
          "metadata": {
            "tags": []
          },
          "execution_count": 53
        }
      ]
    },
    {
      "cell_type": "code",
      "metadata": {
        "colab": {
          "base_uri": "https://localhost:8080/"
        },
        "id": "rmGyxFzpSV4H",
        "outputId": "fc3f83dd-a6e0-49c5-e021-f555b8cb0e98"
      },
      "source": [
        "np.std(R)"
      ],
      "execution_count": 54,
      "outputs": [
        {
          "output_type": "execute_result",
          "data": {
            "text/plain": [
              "0.014380264178318114"
            ]
          },
          "metadata": {
            "tags": []
          },
          "execution_count": 54
        }
      ]
    },
    {
      "cell_type": "code",
      "metadata": {
        "colab": {
          "base_uri": "https://localhost:8080/"
        },
        "id": "xsJs7_NYSV4H",
        "outputId": "6ef79569-f96f-49de-bc03-5f4e788f1b00"
      },
      "source": [
        "im1.mean(S)"
      ],
      "execution_count": 55,
      "outputs": [
        {
          "output_type": "execute_result",
          "data": {
            "text/plain": [
              "0.0006030552685077405"
            ]
          },
          "metadata": {
            "tags": []
          },
          "execution_count": 55
        }
      ]
    },
    {
      "cell_type": "code",
      "metadata": {
        "colab": {
          "base_uri": "https://localhost:8080/"
        },
        "id": "_vL5brofSV4I",
        "outputId": "32b03f50-3452-43d1-c4c6-3cd0d4a7e354"
      },
      "source": [
        "im1.std(S)"
      ],
      "execution_count": 56,
      "outputs": [
        {
          "output_type": "execute_result",
          "data": {
            "text/plain": [
              "0.016536513826800173"
            ]
          },
          "metadata": {
            "tags": []
          },
          "execution_count": 56
        }
      ]
    },
    {
      "cell_type": "markdown",
      "metadata": {
        "id": "oJpESoCASV4I"
      },
      "source": [
        "Now let's go backwards and generate data out of a normal distribution using the statistics we estimated from Microsoft's returns. We'll see that we have good reason to suspect Microsoft's returns may not be normal, as the resulting normal distribution looks far different."
      ]
    },
    {
      "cell_type": "code",
      "metadata": {
        "colab": {
          "base_uri": "https://localhost:8080/",
          "height": 279
        },
        "id": "WmqZ-bX-SV4J",
        "outputId": "859c9e82-e37b-4204-d4d6-7b88795c67cf"
      },
      "source": [
        "plt.hist(np.random.normal(np.mean(R), np.std(R), 10000), bins=20)\n",
        "plt.xlabel('Return')\n",
        "plt.ylabel('Frequency')\n",
        "plt.legend(['Normally Distributed Returns']);"
      ],
      "execution_count": 57,
      "outputs": [
        {
          "output_type": "display_data",
          "data": {
            "image/png": "[encoded data removed]",
            "text/plain": [
              "<Figure size 432x288 with 1 Axes>"
            ]
          },
          "metadata": {
            "tags": [],
            "needs_background": "light"
          }
        }
      ]
    },
    {
      "cell_type": "code",
      "metadata": {
        "colab": {
          "base_uri": "https://localhost:8080/",
          "height": 296
        },
        "id": "VQ-6D05xSV4J",
        "outputId": "659b0b0d-6092-4b02-b1cc-e161008a1de9"
      },
      "source": [
        "sgraphics.hist( im1.random.normal(im1.mean(S), im1.std(S), 10000), bins=20)\n",
        "sgraphics.xlabel('Return')\n",
        "sgraphics.ylabel('Frequency')\n",
        "sgraphics.legend(['Normally Distributed Returns'])"
      ],
      "execution_count": 58,
      "outputs": [
        {
          "output_type": "execute_result",
          "data": {
            "text/plain": [
              "<matplotlib.legend.Legend at 0x7fec7aee9050>"
            ]
          },
          "metadata": {
            "tags": []
          },
          "execution_count": 58
        },
        {
          "output_type": "display_data",
          "data": {
            "image/png": "[encoded data removed]",
            "text/plain": [
              "<Figure size 432x288 with 1 Axes>"
            ]
          },
          "metadata": {
            "tags": [],
            "needs_background": "light"
          }
        }
      ]
    },
    {
      "cell_type": "code",
      "metadata": {
        "colab": {
          "base_uri": "https://localhost:8080/",
          "height": 279
        },
        "id": "rR5sSKy6SV4J",
        "outputId": "16a848ad-d297-44d9-81ff-e9084941ee18"
      },
      "source": [
        "sgraphics.hist( im1.random.normal(im1.mean(S), im1.std(S), 10000), bins=20)\n",
        "sgraphics.xlabel('Return')\n",
        "sgraphics.ylabel('Frequency')\n",
        "sgraphics.legend(['Normally Distributed Returns']);"
      ],
      "execution_count": 59,
      "outputs": [
        {
          "output_type": "display_data",
          "data": {
            "image/png": "[encoded data removed]",
            "text/plain": [
              "<Figure size 432x288 with 1 Axes>"
            ]
          },
          "metadata": {
            "tags": [],
            "needs_background": "light"
          }
        }
      ]
    },
    {
      "cell_type": "markdown",
      "metadata": {
        "id": "SXsLHwGISV4K"
      },
      "source": [
        "##Generating a Moving Average\n",
        "\n",
        "`pandas` has some nice tools to allow us to generate rolling statistics. Here's an example. Notice how there's no moving average for the first 60 days, as we don't have 60 days of data on which to generate the statistic."
      ]
    },
    {
      "cell_type": "code",
      "metadata": {
        "colab": {
          "base_uri": "https://localhost:8080/",
          "height": 265
        },
        "id": "QBHF1hLESV4K",
        "outputId": "d7c2833e-2311-41e6-802a-998c647f1283"
      },
      "source": [
        "# Take the average of the last 60 days at each timepoint.\n",
        "MAVG = pd.DataFrame.rolling(X, window=60).mean()\n",
        "plt.plot(X.index, X.values)\n",
        "plt.plot(MAVG.index, MAVG.values)\n",
        "plt.ylabel('Price')\n",
        "plt.legend(['MSFT', '60-day MAVG']);"
      ],
      "execution_count": 62,
      "outputs": [
        {
          "output_type": "display_data",
          "data": {
            "image/png": "[encoded data removed]",
            "text/plain": [
              "<Figure size 432x288 with 1 Axes>"
            ]
          },
          "metadata": {
            "tags": [],
            "needs_background": "light"
          }
        }
      ]
    },
    {
      "cell_type": "code",
      "metadata": {
        "colab": {
          "base_uri": "https://localhost:8080/",
          "height": 282
        },
        "id": "Fc7RHC3rSV4K",
        "outputId": "57e97a8f-eea8-4203-ce22-4e193cd2d33f"
      },
      "source": [
        "KAVG = pd.DataFrame.rolling(X, window=26).mean()\n",
        "sgraphics.plot(Y.index, Y.values)\n",
        "sgraphics.plot(KAVG.index, KAVG.values)\n",
        "sgraphics.ylabel('Price')\n",
        "sgraphics.legend(['MSFT', '26 - day KAVG'])"
      ],
      "execution_count": 64,
      "outputs": [
        {
          "output_type": "execute_result",
          "data": {
            "text/plain": [
              "<matplotlib.legend.Legend at 0x7fec79e64f50>"
            ]
          },
          "metadata": {
            "tags": []
          },
          "execution_count": 64
        },
        {
          "output_type": "display_data",
          "data": {
            "image/png": "[encoded data removed]",
            "text/plain": [
              "<Figure size 432x288 with 1 Axes>"
            ]
          },
          "metadata": {
            "tags": [],
            "needs_background": "light"
          }
        }
      ]
    },
    {
      "cell_type": "markdown",
      "metadata": {
        "id": "T0htiPIbSV4L"
      },
      "source": [
        "This presentation is for informational purposes only and does not constitute an offer to sell, a solicitation to buy, or a recommendation for any security; nor does it constitute an offer to provide investment advisory or other services by Quantopian, Inc. (\"Quantopian\"). Nothing contained herein constitutes investment advice or offers any opinion with respect to the suitability of any security, and any views expressed herein should not be taken as advice to buy, sell, or hold any security or as an endorsement of any security or company. In preparing the information contained herein, Quantopian, Inc. has not taken into account the investment needs, objectives, and financial circumstances of any particular investor. Any views expressed and data illustrated herein were prepared based upon information, believed to be reliable, available to Quantopian, Inc. at the time of publication. Quantopian makes no guarantees as to their accuracy or completeness. All information is subject to change and may quickly become unreliable for various reasons, including changes in market conditions or economic circumstances."
      ]
    }
  ]
}